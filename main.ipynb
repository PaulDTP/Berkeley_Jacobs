{
 "cells": [
  {
   "cell_type": "code",
   "execution_count": 1,
   "metadata": {},
   "outputs": [],
   "source": [
    "import pandas as pd\n",
    "import numpy as np\n",
    "import seaborn as sns\n",
    "import matplotlib.pyplot as plt\n",
    "import glob\n",
    "from pandas.api.types import CategoricalDtype"
   ]
  },
  {
   "cell_type": "code",
   "execution_count": 2,
   "metadata": {},
   "outputs": [
    {
     "output_type": "stream",
     "name": "stdout",
     "text": [
      "Running on 2 cores\n"
     ]
    }
   ],
   "source": [
    "import multiprocessing as mproc\n",
    "NCPU = mproc.cpu_count()\n",
    "print(\"Running on {} cores\".format(NCPU))"
   ]
  },
  {
   "cell_type": "code",
   "execution_count": 3,
   "metadata": {},
   "outputs": [],
   "source": [
    "#if you upload a zip file to JupyterLab:\n",
    "#import zipfile as zf\n",
    "#files = zf.ZipFile(\"/home/jovyan/data.zip\", 'r')\n",
    "#files.extractall('/home/jovyan/')\n",
    "#files.close()"
   ]
  },
  {
   "cell_type": "code",
   "execution_count": 4,
   "metadata": {},
   "outputs": [],
   "source": [
    "# getting files from either Drive or locally\n",
    "df = pd.DataFrame()\n",
    "initial = \"/content/drive/MyDrive/Colab Notebooks/\" \n",
    "#initial = \"\"\n",
    "#all_files = glob.glob(initial + \"data/*\")\n",
    "\n",
    "# student data\n",
    "course_data = glob.glob(initial + \"data/uc.berkeley.student.course.data.*.txt\")\n",
    "majors = glob.glob(initial + \"data/uc.berkeley.student.majors.*.csv\")\n",
    "pathways = glob.glob(initial + \"data/uc.berkeley.stem.*.txt\")\n",
    "\n",
    "# jacobs data\n",
    "jacobs = glob.glob(initial + \"data/jacobs.participants.txt\")\n",
    "bcdi = glob.glob(initial + \"data/jacobs.participants.bcdi.*\")\n",
    "waivers = glob.glob(initial + \"data/jacobs.participants.waiver.*\")\n",
    "beeps = glob.glob(initial + \"data/jacobs.participants.makerspace.*\")"
   ]
  },
  {
   "cell_type": "code",
   "execution_count": 5,
   "metadata": {},
   "outputs": [
    {
     "output_type": "stream",
     "name": "stderr",
     "text": [
      "/usr/local/lib/python3.7/dist-packages/IPython/core/interactiveshell.py:2882: DtypeWarning: Columns (7) have mixed types.Specify dtype option on import or set low_memory=False.\n",
      "  exec(code_obj, self.user_global_ns, self.user_ns)\n",
      "/usr/local/lib/python3.7/dist-packages/IPython/core/interactiveshell.py:2882: DtypeWarning: Columns (8) have mixed types.Specify dtype option on import or set low_memory=False.\n",
      "  exec(code_obj, self.user_global_ns, self.user_ns)\n"
     ]
    }
   ],
   "source": [
    "# Be aware, this cell is very resource intensive and takes some time to run\n",
    "course_data.sort()\n",
    "student_courses = pd.DataFrame()\n",
    "#for f in course_data:\n",
    "    #student_courses = student_courses.append(pd.read_table(f))\n",
    "student_courses = pd.concat([pd.read_table(f) for f in course_data])\n",
    "# minor data cleaning\n",
    "student_courses = student_courses[~student_courses['ppsk'].isnull()]\n",
    "student_courses = student_courses[student_courses['ppsk'] != -1]\n",
    "for i in student_courses.columns:\n",
    "    if student_courses[i].isnull().all():\n",
    "        student_courses.drop(i,axis=1,inplace=True)\n",
    "student_courses['ppsk'] = student_courses['ppsk'].astype(int)"
   ]
  },
  {
   "cell_type": "code",
   "execution_count": 6,
   "metadata": {},
   "outputs": [
    {
     "output_type": "stream",
     "name": "stderr",
     "text": [
      "/usr/local/lib/python3.7/dist-packages/ipykernel_launcher.py:5: SettingWithCopyWarning: \n",
      "A value is trying to be set on a copy of a slice from a DataFrame.\n",
      "Try using .loc[row_indexer,col_indexer] = value instead\n",
      "\n",
      "See the caveats in the documentation: https://pandas.pydata.org/pandas-docs/stable/user_guide/indexing.html#returning-a-view-versus-a-copy\n",
      "  \"\"\"\n",
      "/usr/local/lib/python3.7/dist-packages/IPython/core/interactiveshell.py:2822: DtypeWarning: Columns (33,43,44,50,51,53,55,56,57,58,59,60,61,62,63,64,65,66,67,72,73,74,75,76,77,78,79,80,81,82,83,89,90,92,93,94,95,96,97,98,99,100,101,102,103) have mixed types.Specify dtype option on import or set low_memory=False.\n",
      "  if self.run_code(code, result):\n"
     ]
    }
   ],
   "source": [
    "# every student who may have a maker pass\n",
    "# may want to include missing ppsk's for full data fidelity later\n",
    "jacobs = pd.read_table(jacobs[0])\n",
    "cleaned_jacobs = jacobs.loc[jacobs['ppsk'] != 'MISSING']\n",
    "cleaned_jacobs['ppsk'] = cleaned_jacobs.loc[:, 'ppsk'].astype(int)\n",
    "\n",
    "# stem pathways/ethnicity data\n",
    "stem_paths = pd.read_table(pathways[0])\n",
    "# students with waivers\n",
    "waivers = pd.read_csv(waivers[0])\n",
    "# berkeley certificate in design innovation\n",
    "bcdi = pd.read_csv(bcdi[0])\n",
    "\n",
    "# student majors\n",
    "student_majors = pd.DataFrame()\n",
    "for i in majors:\n",
    "    student_majors = student_majors.append(pd.read_csv(i))\n",
    "student_majors.insert(2,'year.name', student_majors['year.majors'].astype(str) + \" \" + student_majors['term.majors'])\n",
    "student_majors.drop(['year.majors', 'term.majors'], axis=1,inplace=True)\n",
    "student_majors = student_majors.sort_values(by='year.name')"
   ]
  },
  {
   "cell_type": "code",
   "execution_count": 7,
   "metadata": {},
   "outputs": [],
   "source": [
    "# adding ethnicity data to jacobs students\n",
    "jacobs_ethnicities = cleaned_jacobs.merge(stem_paths[['ppsk', 'ethnic.l1', 'ethnic.l2', 'ethnic.l3', 'gender']], on='ppsk', how='inner')\n",
    "#jacobs_ethnicities = jacobs_ethnicities.rename({'ethnic.l1': \"Ethnicity\"}, axis=1)\n",
    "\n",
    "cat_size_order = CategoricalDtype(['Spring', 'Summer', 'Fall'], ordered=True)\n",
    "# adding columns and created sortable year/term\n",
    "jacobs_ethnicities['term'] = jacobs_ethnicities['term'].astype(cat_size_order)\n",
    "jacobs_ethnicities['year.name'] = jacobs_ethnicities['year'].astype(str) + \" \" + jacobs_ethnicities['term'].astype(str)\n",
    "jacobs_ethnicities.drop(['year','term'], axis=1, inplace=True)\n",
    "jacobs_ethnicities.sort_values('year.name', inplace=True)"
   ]
  },
  {
   "cell_type": "code",
   "execution_count": 8,
   "metadata": {},
   "outputs": [
    {
     "output_type": "stream",
     "name": "stdout",
     "text": [
      "Stored 'student_courses' (DataFrame)\n",
      "Stored 'student_majors' (DataFrame)\n",
      "Stored 'stem_paths' (DataFrame)\n",
      "Stored 'jacobs' (DataFrame)\n",
      "Stored 'jacobs_ethnicities' (DataFrame)\n",
      "Stored 'bcdi' (DataFrame)\n",
      "Stored 'waivers' (DataFrame)\n",
      "Stored 'beeps' (list)\n"
     ]
    }
   ],
   "source": [
    "%store student_courses\n",
    "%store student_majors\n",
    "%store stem_paths\n",
    "%store jacobs\n",
    "%store jacobs_ethnicities\n",
    "%store bcdi\n",
    "%store waivers\n",
    "%store beeps"
   ]
  },
  {
   "cell_type": "code",
   "execution_count": 9,
   "metadata": {},
   "outputs": [],
   "source": [
    "del student_courses\n",
    "del student_majors\n",
    "del stem_paths\n",
    "del jacobs\n",
    "del jacobs_ethnicities\n",
    "del bcdi\n",
    "del waivers\n",
    "del beeps"
   ]
  },
  {
   "cell_type": "code",
   "execution_count": null,
   "metadata": {},
   "outputs": [],
   "source": []
  }
 ],
 "metadata": {
  "kernelspec": {
   "name": "python3",
   "display_name": "Python 3",
   "language": "python"
  }
 },
 "nbformat": 4,
 "nbformat_minor": 2
}