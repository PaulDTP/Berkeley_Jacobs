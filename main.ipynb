{
 "metadata": {
  "language_info": {
   "codemirror_mode": {
    "name": "ipython",
    "version": 3
   },
   "file_extension": ".py",
   "mimetype": "text/x-python",
   "name": "python",
   "nbconvert_exporter": "python",
   "pygments_lexer": "ipython3",
   "version": "3.8.2-final"
  },
  "orig_nbformat": 2,
  "kernelspec": {
   "name": "python3",
   "display_name": "Python 3",
   "language": "python"
  }
 },
 "nbformat": 4,
 "nbformat_minor": 2,
 "cells": [
  {
   "cell_type": "code",
   "execution_count": 1,
   "metadata": {},
   "outputs": [],
   "source": [
    "import pandas as pd\n",
    "import numpy as np\n",
    "import seaborn as sns\n",
    "import matplotlib.pyplot as plt\n",
    "import glob"
   ]
  },
  {
   "cell_type": "code",
   "execution_count": null,
   "metadata": {},
   "outputs": [],
   "source": [
    "df = pd.DataFrame()\n",
    "initial = \"/content/drive/MyDrive/Colab Notebooks/\" \n",
    "#initial = \"\"\n",
    "files = glob.glob(initial + \"data/*\")\n",
    "course_data = glob.glob(initial + \"data/uc.berkeley.student.course.data.*.txt\")\n",
    "majors = glob.glob(initial + \"data/uc.berkeley.student.majors.*.txt\")\n",
    "pathways = glob.glob(initial + \"data/uc.berkeley.stem.*.txt\")\n",
    "passes = glob.glob(initial + \"data/jacobs.*\")"
   ]
  },
  {
   "cell_type": "code",
   "execution_count": null,
   "metadata": {},
   "outputs": [],
   "source": [
    "# every student who holds a maker pass\n",
    "maker_passes = pd.read_table(passes[0])\n",
    "maker_passes = maker_passes[maker_passes['ppsk'] != 'MISSING']\n",
    "maker_passes = maker_passes['ppsk'].unique()\n",
    "\n",
    "# all students who took design innovation course\n",
    "all_jacobs = student_courses[student_courses[\"course.department\"] == \"Design Innovation\"]['ppsk'].unique()"
   ]
  },
  {
   "cell_type": "code",
   "execution_count": null,
   "metadata": {},
   "outputs": [],
   "source": [
    "# Be aware, this cell is very resource intensive\n",
    "course_data.sort()\n",
    "student_courses = pd.DataFrame()\n",
    "for f in course_data:\n",
    "    student_courses = student_courses.append(pd.read_table(f))"
   ]
  },
  {
   "cell_type": "code",
   "execution_count": null,
   "metadata": {},
   "outputs": [],
   "source": [
    "# minor data cleaning\n",
    "student_courses = student_courses[~student_courses['ppsk'].isnull()]\n",
    "student_courses = student_courses[student_courses['ppsk'] != -1]\n",
    "for i in student_courses.columns:\n",
    "    if student_courses[i].isnull().all():\n",
    "        student_courses.drop(i,axis=1,inplace=True)\n",
    "student_courses['ppsk'] = student_courses['ppsk'].astype(int)"
   ]
  }
 ]
}