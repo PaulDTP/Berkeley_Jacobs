{
 "metadata": {
  "orig_nbformat": 2,
  "kernelspec": {
   "name": "python3",
   "display_name": "Python 3",
   "language": "python"
  }
 },
 "nbformat": 4,
 "nbformat_minor": 2,
 "cells": [
  {
   "cell_type": "code",
   "execution_count": 1,
   "metadata": {},
   "outputs": [],
   "source": [
    "import pandas as pd\n",
    "import numpy as np\n",
    "import seaborn as sns\n",
    "import matplotlib.pyplot as plt"
   ]
  },
  {
   "cell_type": "code",
   "execution_count": 2,
   "metadata": {},
   "outputs": [],
   "source": [
    "%store -r student_courses\n",
    "%store -r student_majors\n",
    "%store -r stem_paths\n",
    "%store -r jacobs\n",
    "%store -r jacobs_ethnicities\n",
    "%store -r bcdi\n",
    "%store -r waivers\n",
    "%store -r beeps"
   ]
  },
  {
   "cell_type": "code",
   "execution_count": 3,
   "metadata": {},
   "outputs": [
    {
     "output_type": "execute_result",
     "data": {
      "text/plain": [
       "        year.name     ppsk  ...               Ethnicity  gender\n",
       "8     2015 Spring  1030081  ...  Asian/Pacific Islander  Female\n",
       "10    2015 Spring  1031223  ...  Asian/Pacific Islander  Female\n",
       "13    2015 Spring  1032550  ...  Asian/Pacific Islander    Male\n",
       "14    2015 Spring  1032733  ...  Asian/Pacific Islander    Male\n",
       "17    2015 Spring  1171276  ...  Asian/Pacific Islander  Female\n",
       "...           ...      ...  ...                     ...     ...\n",
       "1872    2019 Fall  2739108  ...             White/Other  Female\n",
       "1873    2019 Fall  2739284  ...             White/Other  Female\n",
       "1876    2019 Fall  2741518  ...             White/Other  Female\n",
       "1877    2019 Fall  2741518  ...             White/Other  Female\n",
       "1883    2019 Fall  2750416  ...             White/Other  Female\n",
       "\n",
       "[2255 rows x 18 columns]"
      ],
      "text/html": "<div>\n<style scoped>\n    .dataframe tbody tr th:only-of-type {\n        vertical-align: middle;\n    }\n\n    .dataframe tbody tr th {\n        vertical-align: top;\n    }\n\n    .dataframe thead th {\n        text-align: right;\n    }\n</style>\n<table border=\"1\" class=\"dataframe\">\n  <thead>\n    <tr style=\"text-align: right;\">\n      <th></th>\n      <th>year.name</th>\n      <th>ppsk</th>\n      <th>undergrad.status</th>\n      <th>course.department</th>\n      <th>course.subject</th>\n      <th>course.number</th>\n      <th>offering.type</th>\n      <th>section.number</th>\n      <th>ccn</th>\n      <th>room.share</th>\n      <th>course.title</th>\n      <th>grade.subtype</th>\n      <th>grade.type</th>\n      <th>grade.name</th>\n      <th>grade.points</th>\n      <th>student.credit.hours</th>\n      <th>Ethnicity</th>\n      <th>gender</th>\n    </tr>\n  </thead>\n  <tbody>\n    <tr>\n      <th>8</th>\n      <td>2015 Spring</td>\n      <td>1030081</td>\n      <td>Undergraduate</td>\n      <td>Engineering Science</td>\n      <td>Design Innovation</td>\n      <td>190</td>\n      <td>Primary</td>\n      <td>2</td>\n      <td>18406</td>\n      <td>18406.0</td>\n      <td>Spec Topics Des Inv</td>\n      <td>A</td>\n      <td>Letter Grade</td>\n      <td>A</td>\n      <td>4.0</td>\n      <td>2.0</td>\n      <td>Asian/Pacific Islander</td>\n      <td>Female</td>\n    </tr>\n    <tr>\n      <th>10</th>\n      <td>2015 Spring</td>\n      <td>1031223</td>\n      <td>Undergraduate</td>\n      <td>Engineering Science</td>\n      <td>Design Innovation</td>\n      <td>190</td>\n      <td>Primary</td>\n      <td>2</td>\n      <td>18406</td>\n      <td>18406.0</td>\n      <td>Spec Topics Des Inv</td>\n      <td>A</td>\n      <td>Letter Grade</td>\n      <td>A</td>\n      <td>4.0</td>\n      <td>2.0</td>\n      <td>Asian/Pacific Islander</td>\n      <td>Female</td>\n    </tr>\n    <tr>\n      <th>13</th>\n      <td>2015 Spring</td>\n      <td>1032550</td>\n      <td>Undergraduate</td>\n      <td>Engineering Science</td>\n      <td>Design Innovation</td>\n      <td>190</td>\n      <td>Primary</td>\n      <td>2</td>\n      <td>18406</td>\n      <td>18406.0</td>\n      <td>Spec Topics Des Inv</td>\n      <td>A</td>\n      <td>Letter Grade</td>\n      <td>A</td>\n      <td>4.0</td>\n      <td>2.0</td>\n      <td>Asian/Pacific Islander</td>\n      <td>Male</td>\n    </tr>\n    <tr>\n      <th>14</th>\n      <td>2015 Spring</td>\n      <td>1032733</td>\n      <td>Undergraduate</td>\n      <td>Engineering Science</td>\n      <td>Design Innovation</td>\n      <td>190</td>\n      <td>Primary</td>\n      <td>1</td>\n      <td>18403</td>\n      <td>18403.0</td>\n      <td>Spec Topics Des Inv</td>\n      <td>A</td>\n      <td>Letter Grade</td>\n      <td>A</td>\n      <td>4.0</td>\n      <td>2.0</td>\n      <td>Asian/Pacific Islander</td>\n      <td>Male</td>\n    </tr>\n    <tr>\n      <th>17</th>\n      <td>2015 Spring</td>\n      <td>1171276</td>\n      <td>Undergraduate</td>\n      <td>Engineering Science</td>\n      <td>Design Innovation</td>\n      <td>190</td>\n      <td>Primary</td>\n      <td>1</td>\n      <td>18403</td>\n      <td>18403.0</td>\n      <td>Spec Topics Des Inv</td>\n      <td>A</td>\n      <td>Letter Grade</td>\n      <td>A</td>\n      <td>4.0</td>\n      <td>2.0</td>\n      <td>Asian/Pacific Islander</td>\n      <td>Female</td>\n    </tr>\n    <tr>\n      <th>...</th>\n      <td>...</td>\n      <td>...</td>\n      <td>...</td>\n      <td>...</td>\n      <td>...</td>\n      <td>...</td>\n      <td>...</td>\n      <td>...</td>\n      <td>...</td>\n      <td>...</td>\n      <td>...</td>\n      <td>...</td>\n      <td>...</td>\n      <td>...</td>\n      <td>...</td>\n      <td>...</td>\n      <td>...</td>\n      <td>...</td>\n    </tr>\n    <tr>\n      <th>1872</th>\n      <td>2019 Fall</td>\n      <td>2739108</td>\n      <td>Undergraduate</td>\n      <td>Design Innovation</td>\n      <td>Design Innovation</td>\n      <td>10</td>\n      <td>Primary</td>\n      <td>1</td>\n      <td>32998</td>\n      <td>32998.0</td>\n      <td>Discovering Design</td>\n      <td>A</td>\n      <td>Letter Grade</td>\n      <td>A-</td>\n      <td>3.7</td>\n      <td>2.0</td>\n      <td>White/Other</td>\n      <td>Female</td>\n    </tr>\n    <tr>\n      <th>1873</th>\n      <td>2019 Fall</td>\n      <td>2739284</td>\n      <td>Undergraduate</td>\n      <td>Design Innovation</td>\n      <td>Design Innovation</td>\n      <td>10</td>\n      <td>Primary</td>\n      <td>1</td>\n      <td>32998</td>\n      <td>32998.0</td>\n      <td>Discovering Design</td>\n      <td>A</td>\n      <td>Letter Grade</td>\n      <td>A</td>\n      <td>4.0</td>\n      <td>2.0</td>\n      <td>White/Other</td>\n      <td>Female</td>\n    </tr>\n    <tr>\n      <th>1876</th>\n      <td>2019 Fall</td>\n      <td>2741518</td>\n      <td>Undergraduate</td>\n      <td>Design Innovation</td>\n      <td>Design Innovation</td>\n      <td>22</td>\n      <td>Primary</td>\n      <td>1</td>\n      <td>28116</td>\n      <td>28116.0</td>\n      <td>Prototype &amp; Fab</td>\n      <td>A</td>\n      <td>Letter Grade</td>\n      <td>A+</td>\n      <td>4.0</td>\n      <td>3.0</td>\n      <td>White/Other</td>\n      <td>Female</td>\n    </tr>\n    <tr>\n      <th>1877</th>\n      <td>2019 Fall</td>\n      <td>2741518</td>\n      <td>Undergraduate</td>\n      <td>Design Innovation</td>\n      <td>Design Innovation</td>\n      <td>190</td>\n      <td>Primary</td>\n      <td>1</td>\n      <td>15094</td>\n      <td>1721.0</td>\n      <td>Spec Topics Des Inv</td>\n      <td>A</td>\n      <td>Letter Grade</td>\n      <td>A</td>\n      <td>4.0</td>\n      <td>3.0</td>\n      <td>White/Other</td>\n      <td>Female</td>\n    </tr>\n    <tr>\n      <th>1883</th>\n      <td>2019 Fall</td>\n      <td>2750416</td>\n      <td>Undergraduate</td>\n      <td>Design Innovation</td>\n      <td>Design Innovation</td>\n      <td>190</td>\n      <td>Primary</td>\n      <td>1</td>\n      <td>15094</td>\n      <td>1721.0</td>\n      <td>Spec Topics Des Inv</td>\n      <td>A</td>\n      <td>Letter Grade</td>\n      <td>A</td>\n      <td>4.0</td>\n      <td>3.0</td>\n      <td>White/Other</td>\n      <td>Female</td>\n    </tr>\n  </tbody>\n</table>\n<p>2255 rows × 18 columns</p>\n</div>"
     },
     "metadata": {},
     "execution_count": 3
    }
   ],
   "source": [
    "jacobs_ethnicities"
   ]
  },
  {
   "cell_type": "code",
   "execution_count": 4,
   "metadata": {},
   "outputs": [
    {
     "output_type": "stream",
     "name": "stderr",
     "text": [
      "/usr/local/lib/python3.7/dist-packages/ipykernel_launcher.py:2: SettingWithCopyWarning: \nA value is trying to be set on a copy of a slice from a DataFrame.\nTry using .loc[row_indexer,col_indexer] = value instead\n\nSee the caveats in the documentation: https://pandas.pydata.org/pandas-docs/stable/user_guide/indexing.html#returning-a-view-versus-a-copy\n  \n"
     ]
    }
   ],
   "source": [
    "cleaned_jacobs = jacobs.loc[jacobs['ppsk'] != 'MISSING']\n",
    "cleaned_jacobs['ppsk'] = cleaned_jacobs.loc[:, 'ppsk'].astype(int)"
   ]
  },
  {
   "cell_type": "code",
   "execution_count": 5,
   "metadata": {},
   "outputs": [],
   "source": [
    "urms = student_courses[['ppsk']].merge(stem_paths[['ppsk', 'ethnic.l1', 'gender']], on='ppsk', how='inner')\n",
    "urms = urms[urms['ethnic.l1'] == 'Underrepresented Minority']\n",
    "urms.drop_duplicates(inplace=True)"
   ]
  },
  {
   "cell_type": "code",
   "execution_count": 6,
   "metadata": {},
   "outputs": [
    {
     "output_type": "execute_result",
     "data": {
      "text/plain": [
       "            ppsk                  ethnic.l1  gender\n",
       "1630      787652  Underrepresented Minority    Male\n",
       "1735      791882  Underrepresented Minority  Female\n",
       "2169      813809  Underrepresented Minority    Male\n",
       "2811      609891  Underrepresented Minority    Male\n",
       "2997      656505  Underrepresented Minority  Female\n",
       "...          ...                        ...     ...\n",
       "3761375  2768138  Underrepresented Minority  Female\n",
       "3761396  2769675  Underrepresented Minority    Male\n",
       "3761586  1487118  Underrepresented Minority  Female\n",
       "3761774  2428229  Underrepresented Minority    Male\n",
       "3761778   719284  Underrepresented Minority  Female\n",
       "\n",
       "[13776 rows x 3 columns]"
      ],
      "text/html": "<div>\n<style scoped>\n    .dataframe tbody tr th:only-of-type {\n        vertical-align: middle;\n    }\n\n    .dataframe tbody tr th {\n        vertical-align: top;\n    }\n\n    .dataframe thead th {\n        text-align: right;\n    }\n</style>\n<table border=\"1\" class=\"dataframe\">\n  <thead>\n    <tr style=\"text-align: right;\">\n      <th></th>\n      <th>ppsk</th>\n      <th>ethnic.l1</th>\n      <th>gender</th>\n    </tr>\n  </thead>\n  <tbody>\n    <tr>\n      <th>1630</th>\n      <td>787652</td>\n      <td>Underrepresented Minority</td>\n      <td>Male</td>\n    </tr>\n    <tr>\n      <th>1735</th>\n      <td>791882</td>\n      <td>Underrepresented Minority</td>\n      <td>Female</td>\n    </tr>\n    <tr>\n      <th>2169</th>\n      <td>813809</td>\n      <td>Underrepresented Minority</td>\n      <td>Male</td>\n    </tr>\n    <tr>\n      <th>2811</th>\n      <td>609891</td>\n      <td>Underrepresented Minority</td>\n      <td>Male</td>\n    </tr>\n    <tr>\n      <th>2997</th>\n      <td>656505</td>\n      <td>Underrepresented Minority</td>\n      <td>Female</td>\n    </tr>\n    <tr>\n      <th>...</th>\n      <td>...</td>\n      <td>...</td>\n      <td>...</td>\n    </tr>\n    <tr>\n      <th>3761375</th>\n      <td>2768138</td>\n      <td>Underrepresented Minority</td>\n      <td>Female</td>\n    </tr>\n    <tr>\n      <th>3761396</th>\n      <td>2769675</td>\n      <td>Underrepresented Minority</td>\n      <td>Male</td>\n    </tr>\n    <tr>\n      <th>3761586</th>\n      <td>1487118</td>\n      <td>Underrepresented Minority</td>\n      <td>Female</td>\n    </tr>\n    <tr>\n      <th>3761774</th>\n      <td>2428229</td>\n      <td>Underrepresented Minority</td>\n      <td>Male</td>\n    </tr>\n    <tr>\n      <th>3761778</th>\n      <td>719284</td>\n      <td>Underrepresented Minority</td>\n      <td>Female</td>\n    </tr>\n  </tbody>\n</table>\n<p>13776 rows × 3 columns</p>\n</div>"
     },
     "metadata": {},
     "execution_count": 6
    }
   ],
   "source": [
    "urms"
   ]
  },
  {
   "cell_type": "code",
   "execution_count": 7,
   "metadata": {},
   "outputs": [
    {
     "output_type": "execute_result",
     "data": {
      "text/plain": [
       "['Clg of Letters & Science']"
      ]
     },
     "metadata": {},
     "execution_count": 7
    }
   ],
   "source": [
    "urms.merge(student_majors[['ppsk', 'college']], on='ppsk')\n",
    "['Clg of Letters & Science']"
   ]
  },
  {
   "cell_type": "code",
   "execution_count": 8,
   "metadata": {},
   "outputs": [
    {
     "output_type": "execute_result",
     "data": {
      "text/plain": [
       "          ppsk undergrad.status  ...                      major  exam.units\n",
       "65498   651215                U  ...        Applied Mathematics         5.4\n",
       "48603   626974                U  ...        Development Studies         8.0\n",
       "7565    329180                U  ...          Cognitive Science         0.0\n",
       "7568    329246                G  ...                  Education         0.0\n",
       "48590   626956                G  ...                  Education         0.0\n",
       "...        ...              ...  ...                        ...         ...\n",
       "21431  3187659                U  ...       L&S Computer Science         NaN\n",
       "21432  3187668                U  ...   Letters & Sci Undeclared         NaN\n",
       "21433  3187669                U  ...  Electrical Eng & Comp Sci         NaN\n",
       "21420  3187555                U  ...              Media Studies         NaN\n",
       "0       193666                U  ...                    Physics         NaN\n",
       "\n",
       "[226374 rows x 9 columns]"
      ],
      "text/html": "<div>\n<style scoped>\n    .dataframe tbody tr th:only-of-type {\n        vertical-align: middle;\n    }\n\n    .dataframe tbody tr th {\n        vertical-align: top;\n    }\n\n    .dataframe thead th {\n        text-align: right;\n    }\n</style>\n<table border=\"1\" class=\"dataframe\">\n  <thead>\n    <tr style=\"text-align: right;\">\n      <th></th>\n      <th>ppsk</th>\n      <th>undergrad.status</th>\n      <th>year.name</th>\n      <th>Count of Students</th>\n      <th>college</th>\n      <th>division</th>\n      <th>department</th>\n      <th>major</th>\n      <th>exam.units</th>\n    </tr>\n  </thead>\n  <tbody>\n    <tr>\n      <th>65498</th>\n      <td>651215</td>\n      <td>U</td>\n      <td>2007 Fall</td>\n      <td>1</td>\n      <td>Clg of Letters &amp; Science</td>\n      <td>L&amp;S Math &amp; Phys Sciences Div</td>\n      <td>Mathematics</td>\n      <td>Applied Mathematics</td>\n      <td>5.4</td>\n    </tr>\n    <tr>\n      <th>48603</th>\n      <td>626974</td>\n      <td>U</td>\n      <td>2007 Fall</td>\n      <td>1</td>\n      <td>Clg of Letters &amp; Science</td>\n      <td>L&amp;S Social Sciences Division</td>\n      <td>Interdisc Social Science Pgms</td>\n      <td>Development Studies</td>\n      <td>8.0</td>\n    </tr>\n    <tr>\n      <th>7565</th>\n      <td>329180</td>\n      <td>U</td>\n      <td>2007 Fall</td>\n      <td>1</td>\n      <td>Clg of Letters &amp; Science</td>\n      <td>L&amp;S Social Sciences Division</td>\n      <td>Interdisc Social Science Pgms</td>\n      <td>Cognitive Science</td>\n      <td>0.0</td>\n    </tr>\n    <tr>\n      <th>7568</th>\n      <td>329246</td>\n      <td>G</td>\n      <td>2007 Fall</td>\n      <td>1</td>\n      <td>Grad School of Education</td>\n      <td>Grad School of Education</td>\n      <td>Education</td>\n      <td>Education</td>\n      <td>0.0</td>\n    </tr>\n    <tr>\n      <th>48590</th>\n      <td>626956</td>\n      <td>G</td>\n      <td>2007 Fall</td>\n      <td>1</td>\n      <td>Grad School of Education</td>\n      <td>Grad School of Education</td>\n      <td>Education</td>\n      <td>Education</td>\n      <td>0.0</td>\n    </tr>\n    <tr>\n      <th>...</th>\n      <td>...</td>\n      <td>...</td>\n      <td>...</td>\n      <td>...</td>\n      <td>...</td>\n      <td>...</td>\n      <td>...</td>\n      <td>...</td>\n      <td>...</td>\n    </tr>\n    <tr>\n      <th>21431</th>\n      <td>3187659</td>\n      <td>U</td>\n      <td>2020 Spring</td>\n      <td>1</td>\n      <td>Clg of Letters &amp; Science</td>\n      <td>L&amp;S Administered Programs</td>\n      <td>L&amp;S Computer Science</td>\n      <td>L&amp;S Computer Science</td>\n      <td>NaN</td>\n    </tr>\n    <tr>\n      <th>21432</th>\n      <td>3187668</td>\n      <td>U</td>\n      <td>2020 Spring</td>\n      <td>1</td>\n      <td>Clg of Letters &amp; Science</td>\n      <td>L&amp;S Undeclared</td>\n      <td>L&amp;S Undeclared</td>\n      <td>Letters &amp; Sci Undeclared</td>\n      <td>NaN</td>\n    </tr>\n    <tr>\n      <th>21433</th>\n      <td>3187669</td>\n      <td>U</td>\n      <td>2020 Spring</td>\n      <td>1</td>\n      <td>Clg of Engineering</td>\n      <td>Clg of Engineering</td>\n      <td>Electrical Eng &amp; Computer Sci</td>\n      <td>Electrical Eng &amp; Comp Sci</td>\n      <td>NaN</td>\n    </tr>\n    <tr>\n      <th>21420</th>\n      <td>3187555</td>\n      <td>U</td>\n      <td>2020 Spring</td>\n      <td>1</td>\n      <td>Clg of Letters &amp; Science</td>\n      <td>L&amp;S Undergrad Studies Division</td>\n      <td>UG Interdisciplinary Studies</td>\n      <td>Media Studies</td>\n      <td>NaN</td>\n    </tr>\n    <tr>\n      <th>0</th>\n      <td>193666</td>\n      <td>U</td>\n      <td>2020 Spring</td>\n      <td>1</td>\n      <td>Clg of Letters &amp; Science</td>\n      <td>L&amp;S Math &amp; Phys Sciences Div</td>\n      <td>Physics</td>\n      <td>Physics</td>\n      <td>NaN</td>\n    </tr>\n  </tbody>\n</table>\n<p>226374 rows × 9 columns</p>\n</div>"
     },
     "metadata": {},
     "execution_count": 8
    }
   ],
   "source": [
    "student_majors"
   ]
  },
  {
   "cell_type": "code",
   "execution_count": null,
   "metadata": {},
   "outputs": [],
   "source": []
  }
 ]
}