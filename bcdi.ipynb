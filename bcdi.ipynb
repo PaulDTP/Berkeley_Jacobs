{
 "metadata": {
  "orig_nbformat": 2,
  "kernelspec": {
   "name": "python3",
   "display_name": "Python 3",
   "language": "python"
  }
 },
 "nbformat": 4,
 "nbformat_minor": 2,
 "cells": [
  {
   "cell_type": "code",
   "execution_count": 167,
   "metadata": {},
   "outputs": [],
   "source": [
    "import pandas as pd\n",
    "import numpy as np\n",
    "import seaborn as sns\n",
    "import matplotlib# as plt\n"
   ]
  },
  {
   "cell_type": "code",
   "execution_count": 222,
   "metadata": {},
   "outputs": [],
   "source": [
    "%store -r student_courses\n",
    "%store -r student_majors\n",
    "%store -r stem_paths\n",
    "%store -r jacobs\n",
    "%store -r jacobs_ethnicities\n",
    "%store -r bcdi\n",
    "%store -r waivers\n",
    "%store -r beeps"
   ]
  },
  {
   "cell_type": "code",
   "execution_count": 137,
   "metadata": {},
   "outputs": [],
   "source": [
    "waivers = waivers[waivers['ppsk'] != 'MISSING']\n",
    "waivers.drop_duplicates(subset='ppsk',inplace=True)\n",
    "waivers['ppsk'] = waivers['ppsk'].astype(int)"
   ]
  },
  {
   "cell_type": "code",
   "execution_count": 221,
   "metadata": {},
   "outputs": [
    {
     "output_type": "execute_result",
     "data": {
      "text/plain": [
       "          ppsk  year  ... All Courses Students Maker Pass Holders\n",
       "0       724096  2015  ...                    Y                  Y\n",
       "1       687168  2015  ...                    Y                  Y\n",
       "3       781707  2015  ...                    N                  Y\n",
       "4      MISSING  2015  ...                    N                  Y\n",
       "5       895798  2015  ...                    N                  Y\n",
       "...        ...   ...  ...                  ...                ...\n",
       "16270  4344502  2020  ...                    Y                  Y\n",
       "16277  4345646  2020  ...                    Y                  Y\n",
       "16308  4354716  2020  ...                    Y                  Y\n",
       "16329  4364634  2020  ...                    N                  Y\n",
       "16332  4365890  2020  ...                    N                  Y\n",
       "\n",
       "[4489 rows x 6 columns]"
      ],
      "text/html": "<div>\n<style scoped>\n    .dataframe tbody tr th:only-of-type {\n        vertical-align: middle;\n    }\n\n    .dataframe tbody tr th {\n        vertical-align: top;\n    }\n\n    .dataframe thead th {\n        text-align: right;\n    }\n</style>\n<table border=\"1\" class=\"dataframe\">\n  <thead>\n    <tr style=\"text-align: right;\">\n      <th></th>\n      <th>ppsk</th>\n      <th>year</th>\n      <th>term</th>\n      <th>DES INV Students</th>\n      <th>All Courses Students</th>\n      <th>Maker Pass Holders</th>\n    </tr>\n  </thead>\n  <tbody>\n    <tr>\n      <th>0</th>\n      <td>724096</td>\n      <td>2015</td>\n      <td>Fall</td>\n      <td>Y</td>\n      <td>Y</td>\n      <td>Y</td>\n    </tr>\n    <tr>\n      <th>1</th>\n      <td>687168</td>\n      <td>2015</td>\n      <td>Fall</td>\n      <td>N</td>\n      <td>Y</td>\n      <td>Y</td>\n    </tr>\n    <tr>\n      <th>3</th>\n      <td>781707</td>\n      <td>2015</td>\n      <td>Fall</td>\n      <td>N</td>\n      <td>N</td>\n      <td>Y</td>\n    </tr>\n    <tr>\n      <th>4</th>\n      <td>MISSING</td>\n      <td>2015</td>\n      <td>Fall</td>\n      <td>N</td>\n      <td>N</td>\n      <td>Y</td>\n    </tr>\n    <tr>\n      <th>5</th>\n      <td>895798</td>\n      <td>2015</td>\n      <td>Fall</td>\n      <td>N</td>\n      <td>N</td>\n      <td>Y</td>\n    </tr>\n    <tr>\n      <th>...</th>\n      <td>...</td>\n      <td>...</td>\n      <td>...</td>\n      <td>...</td>\n      <td>...</td>\n      <td>...</td>\n    </tr>\n    <tr>\n      <th>16270</th>\n      <td>4344502</td>\n      <td>2020</td>\n      <td>Fall</td>\n      <td>N</td>\n      <td>Y</td>\n      <td>Y</td>\n    </tr>\n    <tr>\n      <th>16277</th>\n      <td>4345646</td>\n      <td>2020</td>\n      <td>Fall</td>\n      <td>Y</td>\n      <td>Y</td>\n      <td>Y</td>\n    </tr>\n    <tr>\n      <th>16308</th>\n      <td>4354716</td>\n      <td>2020</td>\n      <td>Fall</td>\n      <td>N</td>\n      <td>Y</td>\n      <td>Y</td>\n    </tr>\n    <tr>\n      <th>16329</th>\n      <td>4364634</td>\n      <td>2020</td>\n      <td>Fall</td>\n      <td>N</td>\n      <td>N</td>\n      <td>Y</td>\n    </tr>\n    <tr>\n      <th>16332</th>\n      <td>4365890</td>\n      <td>2020</td>\n      <td>Fall</td>\n      <td>N</td>\n      <td>N</td>\n      <td>Y</td>\n    </tr>\n  </tbody>\n</table>\n<p>4489 rows × 6 columns</p>\n</div>"
     },
     "metadata": {},
     "execution_count": 221
    }
   ],
   "source": [
    "jacobs[jacobs['Maker Pass Holders'] == 'Y'].drop_duplicates(subset='ppsk',inplace=False)"
   ]
  },
  {
   "cell_type": "code",
   "execution_count": 224,
   "metadata": {},
   "outputs": [
    {
     "output_type": "execute_result",
     "data": {
      "text/plain": [
       "         ppsk  year    term Full Waiver Partial Waiver Partial Exception\n",
       "0     1308174  2016  Spring           Y              N                 N\n",
       "1     2423156  2016  Spring           Y              N                 N\n",
       "2     2419498  2016  Spring           Y              N                 N\n",
       "3     1483359  2016  Spring           Y              N                 N\n",
       "4     2636938  2016  Spring           Y              N                 N\n",
       "...       ...   ...     ...         ...            ...               ...\n",
       "2792  2727671  2020  Spring           N              Y                 N\n",
       "2794  2729260  2020  Spring           N              Y                 N\n",
       "2795  2889350  2020  Spring           N              Y                 N\n",
       "2796  4094391  2020  Spring           N              Y                 N\n",
       "2797  3321013  2020  Spring           N              Y                 N\n",
       "\n",
       "[1620 rows x 6 columns]"
      ],
      "text/html": "<div>\n<style scoped>\n    .dataframe tbody tr th:only-of-type {\n        vertical-align: middle;\n    }\n\n    .dataframe tbody tr th {\n        vertical-align: top;\n    }\n\n    .dataframe thead th {\n        text-align: right;\n    }\n</style>\n<table border=\"1\" class=\"dataframe\">\n  <thead>\n    <tr style=\"text-align: right;\">\n      <th></th>\n      <th>ppsk</th>\n      <th>year</th>\n      <th>term</th>\n      <th>Full Waiver</th>\n      <th>Partial Waiver</th>\n      <th>Partial Exception</th>\n    </tr>\n  </thead>\n  <tbody>\n    <tr>\n      <th>0</th>\n      <td>1308174</td>\n      <td>2016</td>\n      <td>Spring</td>\n      <td>Y</td>\n      <td>N</td>\n      <td>N</td>\n    </tr>\n    <tr>\n      <th>1</th>\n      <td>2423156</td>\n      <td>2016</td>\n      <td>Spring</td>\n      <td>Y</td>\n      <td>N</td>\n      <td>N</td>\n    </tr>\n    <tr>\n      <th>2</th>\n      <td>2419498</td>\n      <td>2016</td>\n      <td>Spring</td>\n      <td>Y</td>\n      <td>N</td>\n      <td>N</td>\n    </tr>\n    <tr>\n      <th>3</th>\n      <td>1483359</td>\n      <td>2016</td>\n      <td>Spring</td>\n      <td>Y</td>\n      <td>N</td>\n      <td>N</td>\n    </tr>\n    <tr>\n      <th>4</th>\n      <td>2636938</td>\n      <td>2016</td>\n      <td>Spring</td>\n      <td>Y</td>\n      <td>N</td>\n      <td>N</td>\n    </tr>\n    <tr>\n      <th>...</th>\n      <td>...</td>\n      <td>...</td>\n      <td>...</td>\n      <td>...</td>\n      <td>...</td>\n      <td>...</td>\n    </tr>\n    <tr>\n      <th>2792</th>\n      <td>2727671</td>\n      <td>2020</td>\n      <td>Spring</td>\n      <td>N</td>\n      <td>Y</td>\n      <td>N</td>\n    </tr>\n    <tr>\n      <th>2794</th>\n      <td>2729260</td>\n      <td>2020</td>\n      <td>Spring</td>\n      <td>N</td>\n      <td>Y</td>\n      <td>N</td>\n    </tr>\n    <tr>\n      <th>2795</th>\n      <td>2889350</td>\n      <td>2020</td>\n      <td>Spring</td>\n      <td>N</td>\n      <td>Y</td>\n      <td>N</td>\n    </tr>\n    <tr>\n      <th>2796</th>\n      <td>4094391</td>\n      <td>2020</td>\n      <td>Spring</td>\n      <td>N</td>\n      <td>Y</td>\n      <td>N</td>\n    </tr>\n    <tr>\n      <th>2797</th>\n      <td>3321013</td>\n      <td>2020</td>\n      <td>Spring</td>\n      <td>N</td>\n      <td>Y</td>\n      <td>N</td>\n    </tr>\n  </tbody>\n</table>\n<p>1620 rows × 6 columns</p>\n</div>"
     },
     "metadata": {},
     "execution_count": 224
    }
   ],
   "source": [
    "waivers.drop_duplicates(subset='ppsk',inplace=False)"
   ]
  },
  {
   "cell_type": "code",
   "execution_count": 184,
   "metadata": {},
   "outputs": [
    {
     "output_type": "execute_result",
     "data": {
      "text/plain": [
       "        ppsk  year    term  ... Partial Waiver Partial Exception income.parent\n",
       "0    2423156  2016  Spring  ...              N                 N       17600.0\n",
       "1    2419498  2016  Spring  ...              N                 N       60000.0\n",
       "2    1483359  2016  Spring  ...              N                 N       21850.0\n",
       "3    2636938  2016  Spring  ...              N                 N      100000.0\n",
       "4    2425992  2016  Spring  ...              N                 N       64830.0\n",
       "..       ...   ...     ...  ...            ...               ...           ...\n",
       "866  2733200  2020  Spring  ...              Y                 N       60000.0\n",
       "867  2737897  2020  Spring  ...              Y                 N      100000.0\n",
       "868  2750678  2020  Spring  ...              Y                 N       30600.0\n",
       "869  2727671  2020  Spring  ...              Y                 N       80000.0\n",
       "870  2729260  2020  Spring  ...              Y                 N      250000.0\n",
       "\n",
       "[871 rows x 7 columns]"
      ],
      "text/html": "<div>\n<style scoped>\n    .dataframe tbody tr th:only-of-type {\n        vertical-align: middle;\n    }\n\n    .dataframe tbody tr th {\n        vertical-align: top;\n    }\n\n    .dataframe thead th {\n        text-align: right;\n    }\n</style>\n<table border=\"1\" class=\"dataframe\">\n  <thead>\n    <tr style=\"text-align: right;\">\n      <th></th>\n      <th>ppsk</th>\n      <th>year</th>\n      <th>term</th>\n      <th>Full Waiver</th>\n      <th>Partial Waiver</th>\n      <th>Partial Exception</th>\n      <th>income.parent</th>\n    </tr>\n  </thead>\n  <tbody>\n    <tr>\n      <th>0</th>\n      <td>2423156</td>\n      <td>2016</td>\n      <td>Spring</td>\n      <td>Y</td>\n      <td>N</td>\n      <td>N</td>\n      <td>17600.0</td>\n    </tr>\n    <tr>\n      <th>1</th>\n      <td>2419498</td>\n      <td>2016</td>\n      <td>Spring</td>\n      <td>Y</td>\n      <td>N</td>\n      <td>N</td>\n      <td>60000.0</td>\n    </tr>\n    <tr>\n      <th>2</th>\n      <td>1483359</td>\n      <td>2016</td>\n      <td>Spring</td>\n      <td>Y</td>\n      <td>N</td>\n      <td>N</td>\n      <td>21850.0</td>\n    </tr>\n    <tr>\n      <th>3</th>\n      <td>2636938</td>\n      <td>2016</td>\n      <td>Spring</td>\n      <td>Y</td>\n      <td>N</td>\n      <td>N</td>\n      <td>100000.0</td>\n    </tr>\n    <tr>\n      <th>4</th>\n      <td>2425992</td>\n      <td>2016</td>\n      <td>Spring</td>\n      <td>Y</td>\n      <td>N</td>\n      <td>N</td>\n      <td>64830.0</td>\n    </tr>\n    <tr>\n      <th>...</th>\n      <td>...</td>\n      <td>...</td>\n      <td>...</td>\n      <td>...</td>\n      <td>...</td>\n      <td>...</td>\n      <td>...</td>\n    </tr>\n    <tr>\n      <th>866</th>\n      <td>2733200</td>\n      <td>2020</td>\n      <td>Spring</td>\n      <td>N</td>\n      <td>Y</td>\n      <td>N</td>\n      <td>60000.0</td>\n    </tr>\n    <tr>\n      <th>867</th>\n      <td>2737897</td>\n      <td>2020</td>\n      <td>Spring</td>\n      <td>N</td>\n      <td>Y</td>\n      <td>N</td>\n      <td>100000.0</td>\n    </tr>\n    <tr>\n      <th>868</th>\n      <td>2750678</td>\n      <td>2020</td>\n      <td>Spring</td>\n      <td>N</td>\n      <td>Y</td>\n      <td>N</td>\n      <td>30600.0</td>\n    </tr>\n    <tr>\n      <th>869</th>\n      <td>2727671</td>\n      <td>2020</td>\n      <td>Spring</td>\n      <td>N</td>\n      <td>Y</td>\n      <td>N</td>\n      <td>80000.0</td>\n    </tr>\n    <tr>\n      <th>870</th>\n      <td>2729260</td>\n      <td>2020</td>\n      <td>Spring</td>\n      <td>N</td>\n      <td>Y</td>\n      <td>N</td>\n      <td>250000.0</td>\n    </tr>\n  </tbody>\n</table>\n<p>871 rows × 7 columns</p>\n</div>"
     },
     "metadata": {},
     "execution_count": 184
    }
   ],
   "source": [
    "waivers.merge(stem_paths[~stem_paths['income.parent'].isna()][['income.parent','ppsk']], on='ppsk')"
   ]
  },
  {
   "cell_type": "code",
   "execution_count": 185,
   "metadata": {},
   "outputs": [
    {
     "output_type": "error",
     "ename": "KeyError",
     "evalue": "0",
     "traceback": [
      "\u001b[0;31m---------------------------------------------------------------------------\u001b[0m",
      "\u001b[0;31mKeyError\u001b[0m                                  Traceback (most recent call last)",
      "\u001b[0;32m/usr/local/lib/python3.7/dist-packages/pandas/core/indexes/base.py\u001b[0m in \u001b[0;36mget_loc\u001b[0;34m(self, key, method, tolerance)\u001b[0m\n\u001b[1;32m   2897\u001b[0m             \u001b[0;32mtry\u001b[0m\u001b[0;34m:\u001b[0m\u001b[0;34m\u001b[0m\u001b[0;34m\u001b[0m\u001b[0m\n\u001b[0;32m-> 2898\u001b[0;31m                 \u001b[0;32mreturn\u001b[0m \u001b[0mself\u001b[0m\u001b[0;34m.\u001b[0m\u001b[0m_engine\u001b[0m\u001b[0;34m.\u001b[0m\u001b[0mget_loc\u001b[0m\u001b[0;34m(\u001b[0m\u001b[0mcasted_key\u001b[0m\u001b[0;34m)\u001b[0m\u001b[0;34m\u001b[0m\u001b[0;34m\u001b[0m\u001b[0m\n\u001b[0m\u001b[1;32m   2899\u001b[0m             \u001b[0;32mexcept\u001b[0m \u001b[0mKeyError\u001b[0m \u001b[0;32mas\u001b[0m \u001b[0merr\u001b[0m\u001b[0;34m:\u001b[0m\u001b[0;34m\u001b[0m\u001b[0;34m\u001b[0m\u001b[0m\n",
      "\u001b[0;32mpandas/_libs/index.pyx\u001b[0m in \u001b[0;36mpandas._libs.index.IndexEngine.get_loc\u001b[0;34m()\u001b[0m\n",
      "\u001b[0;32mpandas/_libs/index.pyx\u001b[0m in \u001b[0;36mpandas._libs.index.IndexEngine.get_loc\u001b[0;34m()\u001b[0m\n",
      "\u001b[0;32mpandas/_libs/hashtable_class_helper.pxi\u001b[0m in \u001b[0;36mpandas._libs.hashtable.PyObjectHashTable.get_item\u001b[0;34m()\u001b[0m\n",
      "\u001b[0;32mpandas/_libs/hashtable_class_helper.pxi\u001b[0m in \u001b[0;36mpandas._libs.hashtable.PyObjectHashTable.get_item\u001b[0;34m()\u001b[0m\n",
      "\u001b[0;31mKeyError\u001b[0m: 0",
      "\nThe above exception was the direct cause of the following exception:\n",
      "\u001b[0;31mKeyError\u001b[0m                                  Traceback (most recent call last)",
      "\u001b[0;32m<ipython-input-185-5051a9bdae74>\u001b[0m in \u001b[0;36m<module>\u001b[0;34m()\u001b[0m\n\u001b[0;32m----> 1\u001b[0;31m \u001b[0mbcdi\u001b[0m \u001b[0;34m=\u001b[0m \u001b[0mpd\u001b[0m\u001b[0;34m.\u001b[0m\u001b[0mread_csv\u001b[0m\u001b[0;34m(\u001b[0m\u001b[0mbcdi\u001b[0m\u001b[0;34m[\u001b[0m\u001b[0;36m0\u001b[0m\u001b[0;34m]\u001b[0m\u001b[0;34m)\u001b[0m\u001b[0;34m\u001b[0m\u001b[0;34m\u001b[0m\u001b[0m\n\u001b[0m",
      "\u001b[0;32m/usr/local/lib/python3.7/dist-packages/pandas/core/frame.py\u001b[0m in \u001b[0;36m__getitem__\u001b[0;34m(self, key)\u001b[0m\n\u001b[1;32m   2904\u001b[0m             \u001b[0;32mif\u001b[0m \u001b[0mself\u001b[0m\u001b[0;34m.\u001b[0m\u001b[0mcolumns\u001b[0m\u001b[0;34m.\u001b[0m\u001b[0mnlevels\u001b[0m \u001b[0;34m>\u001b[0m \u001b[0;36m1\u001b[0m\u001b[0;34m:\u001b[0m\u001b[0;34m\u001b[0m\u001b[0;34m\u001b[0m\u001b[0m\n\u001b[1;32m   2905\u001b[0m                 \u001b[0;32mreturn\u001b[0m \u001b[0mself\u001b[0m\u001b[0;34m.\u001b[0m\u001b[0m_getitem_multilevel\u001b[0m\u001b[0;34m(\u001b[0m\u001b[0mkey\u001b[0m\u001b[0;34m)\u001b[0m\u001b[0;34m\u001b[0m\u001b[0;34m\u001b[0m\u001b[0m\n\u001b[0;32m-> 2906\u001b[0;31m             \u001b[0mindexer\u001b[0m \u001b[0;34m=\u001b[0m \u001b[0mself\u001b[0m\u001b[0;34m.\u001b[0m\u001b[0mcolumns\u001b[0m\u001b[0;34m.\u001b[0m\u001b[0mget_loc\u001b[0m\u001b[0;34m(\u001b[0m\u001b[0mkey\u001b[0m\u001b[0;34m)\u001b[0m\u001b[0;34m\u001b[0m\u001b[0;34m\u001b[0m\u001b[0m\n\u001b[0m\u001b[1;32m   2907\u001b[0m             \u001b[0;32mif\u001b[0m \u001b[0mis_integer\u001b[0m\u001b[0;34m(\u001b[0m\u001b[0mindexer\u001b[0m\u001b[0;34m)\u001b[0m\u001b[0;34m:\u001b[0m\u001b[0;34m\u001b[0m\u001b[0;34m\u001b[0m\u001b[0m\n\u001b[1;32m   2908\u001b[0m                 \u001b[0mindexer\u001b[0m \u001b[0;34m=\u001b[0m \u001b[0;34m[\u001b[0m\u001b[0mindexer\u001b[0m\u001b[0;34m]\u001b[0m\u001b[0;34m\u001b[0m\u001b[0;34m\u001b[0m\u001b[0m\n",
      "\u001b[0;32m/usr/local/lib/python3.7/dist-packages/pandas/core/indexes/base.py\u001b[0m in \u001b[0;36mget_loc\u001b[0;34m(self, key, method, tolerance)\u001b[0m\n\u001b[1;32m   2898\u001b[0m                 \u001b[0;32mreturn\u001b[0m \u001b[0mself\u001b[0m\u001b[0;34m.\u001b[0m\u001b[0m_engine\u001b[0m\u001b[0;34m.\u001b[0m\u001b[0mget_loc\u001b[0m\u001b[0;34m(\u001b[0m\u001b[0mcasted_key\u001b[0m\u001b[0;34m)\u001b[0m\u001b[0;34m\u001b[0m\u001b[0;34m\u001b[0m\u001b[0m\n\u001b[1;32m   2899\u001b[0m             \u001b[0;32mexcept\u001b[0m \u001b[0mKeyError\u001b[0m \u001b[0;32mas\u001b[0m \u001b[0merr\u001b[0m\u001b[0;34m:\u001b[0m\u001b[0;34m\u001b[0m\u001b[0;34m\u001b[0m\u001b[0m\n\u001b[0;32m-> 2900\u001b[0;31m                 \u001b[0;32mraise\u001b[0m \u001b[0mKeyError\u001b[0m\u001b[0;34m(\u001b[0m\u001b[0mkey\u001b[0m\u001b[0;34m)\u001b[0m \u001b[0;32mfrom\u001b[0m \u001b[0merr\u001b[0m\u001b[0;34m\u001b[0m\u001b[0;34m\u001b[0m\u001b[0m\n\u001b[0m\u001b[1;32m   2901\u001b[0m \u001b[0;34m\u001b[0m\u001b[0m\n\u001b[1;32m   2902\u001b[0m         \u001b[0;32mif\u001b[0m \u001b[0mtolerance\u001b[0m \u001b[0;32mis\u001b[0m \u001b[0;32mnot\u001b[0m \u001b[0;32mNone\u001b[0m\u001b[0;34m:\u001b[0m\u001b[0;34m\u001b[0m\u001b[0;34m\u001b[0m\u001b[0m\n",
      "\u001b[0;31mKeyError\u001b[0m: 0"
     ]
    }
   ],
   "source": [
    "bcdi = pd.read_csv(bcdi[0])"
   ]
  },
  {
   "cell_type": "code",
   "execution_count": 186,
   "metadata": {},
   "outputs": [],
   "source": [
    "bcdi = bcdi[bcdi['ppsk'] != 'MISSING']\n",
    "bcdi['ppsk'] = bcdi['ppsk'].astype(int)\n",
    "bcdi = bcdi[~bcdi['ppsk'].duplicated()]"
   ]
  },
  {
   "source": [
    "### Did students who got waivers complete the design certificate?"
   ],
   "cell_type": "markdown",
   "metadata": {}
  },
  {
   "cell_type": "code",
   "execution_count": 187,
   "metadata": {},
   "outputs": [],
   "source": [
    "graph_incomes = [0]*4"
   ]
  },
  {
   "cell_type": "code",
   "execution_count": 188,
   "metadata": {},
   "outputs": [
    {
     "output_type": "stream",
     "name": "stderr",
     "text": [
      "/usr/local/lib/python3.7/dist-packages/ipykernel_launcher.py:2: SettingWithCopyWarning: \nA value is trying to be set on a copy of a slice from a DataFrame.\nTry using .loc[row_indexer,col_indexer] = value instead\n\nSee the caveats in the documentation: https://pandas.pydata.org/pandas-docs/stable/user_guide/indexing.html#returning-a-view-versus-a-copy\n  \n"
     ]
    }
   ],
   "source": [
    "jacobs_cleaned = jacobs.loc[jacobs['ppsk'] != 'MISSING']\n",
    "jacobs_cleaned['ppsk'] = jacobs_cleaned['ppsk'].astype(int)\n",
    "jacobs_cleaned = jacobs_cleaned[~jacobs_cleaned['ppsk'].duplicated()]"
   ]
  },
  {
   "cell_type": "code",
   "execution_count": 189,
   "metadata": {},
   "outputs": [
    {
     "output_type": "execute_result",
     "data": {
      "text/plain": [
       "0        18000.0\n",
       "1       150000.0\n",
       "2       180000.0\n",
       "3        97436.0\n",
       "4       118000.0\n",
       "          ...   \n",
       "4562    160000.0\n",
       "4563     75000.0\n",
       "4564    750000.0\n",
       "4565     15000.0\n",
       "4566    200000.0\n",
       "Name: income.parent, Length: 4567, dtype: float64"
      ]
     },
     "metadata": {},
     "execution_count": 189
    }
   ],
   "source": [
    "jacobs_cleaned.merge(stem_paths[~stem_paths['income.parent'].isna()][['income.parent','ppsk']], on='ppsk')['income.parent']"
   ]
  },
  {
   "cell_type": "code",
   "execution_count": 190,
   "metadata": {},
   "outputs": [
    {
     "output_type": "execute_result",
     "data": {
      "text/plain": [
       "        ppsk  ... Currently Pursuing\n",
       "0    1312478  ...                  N\n",
       "1    1481454  ...                  N\n",
       "2    1473682  ...                  N\n",
       "3    2760999  ...                  N\n",
       "4    2632164  ...                  N\n",
       "..       ...  ...                ...\n",
       "504  4090558  ...                  Y\n",
       "505  3181399  ...                  Y\n",
       "506  3185794  ...                  Y\n",
       "507  4328023  ...                  Y\n",
       "508  4089915  ...                  Y\n",
       "\n",
       "[454 rows x 4 columns]"
      ],
      "text/html": "<div>\n<style scoped>\n    .dataframe tbody tr th:only-of-type {\n        vertical-align: middle;\n    }\n\n    .dataframe tbody tr th {\n        vertical-align: top;\n    }\n\n    .dataframe thead th {\n        text-align: right;\n    }\n</style>\n<table border=\"1\" class=\"dataframe\">\n  <thead>\n    <tr style=\"text-align: right;\">\n      <th></th>\n      <th>ppsk</th>\n      <th>Completed Requirements</th>\n      <th>Did Not Complete Requirements</th>\n      <th>Currently Pursuing</th>\n    </tr>\n  </thead>\n  <tbody>\n    <tr>\n      <th>0</th>\n      <td>1312478</td>\n      <td>Y</td>\n      <td>N</td>\n      <td>N</td>\n    </tr>\n    <tr>\n      <th>1</th>\n      <td>1481454</td>\n      <td>Y</td>\n      <td>N</td>\n      <td>N</td>\n    </tr>\n    <tr>\n      <th>2</th>\n      <td>1473682</td>\n      <td>Y</td>\n      <td>N</td>\n      <td>N</td>\n    </tr>\n    <tr>\n      <th>3</th>\n      <td>2760999</td>\n      <td>Y</td>\n      <td>N</td>\n      <td>N</td>\n    </tr>\n    <tr>\n      <th>4</th>\n      <td>2632164</td>\n      <td>Y</td>\n      <td>N</td>\n      <td>N</td>\n    </tr>\n    <tr>\n      <th>...</th>\n      <td>...</td>\n      <td>...</td>\n      <td>...</td>\n      <td>...</td>\n    </tr>\n    <tr>\n      <th>504</th>\n      <td>4090558</td>\n      <td>N</td>\n      <td>N</td>\n      <td>Y</td>\n    </tr>\n    <tr>\n      <th>505</th>\n      <td>3181399</td>\n      <td>N</td>\n      <td>N</td>\n      <td>Y</td>\n    </tr>\n    <tr>\n      <th>506</th>\n      <td>3185794</td>\n      <td>N</td>\n      <td>N</td>\n      <td>Y</td>\n    </tr>\n    <tr>\n      <th>507</th>\n      <td>4328023</td>\n      <td>N</td>\n      <td>N</td>\n      <td>Y</td>\n    </tr>\n    <tr>\n      <th>508</th>\n      <td>4089915</td>\n      <td>N</td>\n      <td>N</td>\n      <td>Y</td>\n    </tr>\n  </tbody>\n</table>\n<p>454 rows × 4 columns</p>\n</div>"
     },
     "metadata": {},
     "execution_count": 190
    }
   ],
   "source": [
    "bcdi"
   ]
  },
  {
   "cell_type": "code",
   "execution_count": 191,
   "metadata": {},
   "outputs": [],
   "source": [
    "graph_incomes[0] = np.mean(jacobs_cleaned.merge(stem_paths[~stem_paths['income.parent'].isna()][['income.parent','ppsk']], on='ppsk')['income.parent'])"
   ]
  },
  {
   "cell_type": "code",
   "execution_count": 192,
   "metadata": {},
   "outputs": [],
   "source": [
    "graph_incomes[1] = np.mean(bcdi.merge(stem_paths[~stem_paths['income.parent'].isna()][['income.parent','ppsk']], on='ppsk')['income.parent'])"
   ]
  },
  {
   "cell_type": "code",
   "execution_count": 193,
   "metadata": {},
   "outputs": [],
   "source": [
    "graph_incomes[2] = np.mean(waivers.merge(stem_paths[~stem_paths['income.parent'].isna()][['income.parent','ppsk']], on='ppsk')['income.parent'])"
   ]
  },
  {
   "cell_type": "code",
   "execution_count": 208,
   "metadata": {},
   "outputs": [
    {
     "output_type": "stream",
     "name": "stderr",
     "text": [
      "/usr/local/lib/python3.7/dist-packages/numpy/lib/arraysetops.py:580: FutureWarning: elementwise comparison failed; returning scalar instead, but in the future will perform elementwise comparison\n  mask |= (ar1 == a)\n"
     ]
    },
    {
     "output_type": "execute_result",
     "data": {
      "text/plain": [
       "         year.name     ppsk  ... grade.points student.credit.hours\n",
       "93     2007 Summer    31341  ...          4.0                 10.0\n",
       "94     2007 Summer    33827  ...          4.0                 10.0\n",
       "95     2007 Summer   169335  ...          4.0                  4.0\n",
       "96     2007 Summer   194536  ...          4.0                  4.0\n",
       "97     2007 Summer   198873  ...          4.0                  6.0\n",
       "...            ...      ...  ...          ...                  ...\n",
       "23102  2019 Summer  4271436  ...          2.7                  3.0\n",
       "23103  2019 Summer  4271494  ...          4.0                  3.0\n",
       "23104  2019 Summer  4271527  ...          4.0                  3.0\n",
       "23105  2019 Summer  4271531  ...          4.0                  4.0\n",
       "23106  2019 Summer  4271995  ...          0.0                  2.0\n",
       "\n",
       "[5597609 rows x 17 columns]"
      ],
      "text/html": "<div>\n<style scoped>\n    .dataframe tbody tr th:only-of-type {\n        vertical-align: middle;\n    }\n\n    .dataframe tbody tr th {\n        vertical-align: top;\n    }\n\n    .dataframe thead th {\n        text-align: right;\n    }\n</style>\n<table border=\"1\" class=\"dataframe\">\n  <thead>\n    <tr style=\"text-align: right;\">\n      <th></th>\n      <th>year.name</th>\n      <th>ppsk</th>\n      <th>undergrad.status</th>\n      <th>course.department</th>\n      <th>course.subject</th>\n      <th>course.number</th>\n      <th>offering.type</th>\n      <th>section.number</th>\n      <th>ccn</th>\n      <th>room.share</th>\n      <th>course.title</th>\n      <th>instructor.name</th>\n      <th>grade.subtype</th>\n      <th>grade.type</th>\n      <th>grade.name</th>\n      <th>grade.points</th>\n      <th>student.credit.hours</th>\n    </tr>\n  </thead>\n  <tbody>\n    <tr>\n      <th>93</th>\n      <td>2007 Summer</td>\n      <td>31341</td>\n      <td>Graduate</td>\n      <td>Near Eastern Studies</td>\n      <td>Persian</td>\n      <td>20</td>\n      <td>Primary</td>\n      <td>1</td>\n      <td>70310</td>\n      <td>70310.0</td>\n      <td>Inten Inter Persian</td>\n      <td>Jaleh Pirnazar</td>\n      <td>A</td>\n      <td>Letter Grade</td>\n      <td>A+</td>\n      <td>4.0</td>\n      <td>10.0</td>\n    </tr>\n    <tr>\n      <th>94</th>\n      <td>2007 Summer</td>\n      <td>33827</td>\n      <td>Graduate</td>\n      <td>German</td>\n      <td>German</td>\n      <td>10</td>\n      <td>Primary</td>\n      <td>1</td>\n      <td>48655</td>\n      <td>48655.0</td>\n      <td>Elem German Wrkshp</td>\n      <td>Meredith Kolar; Nikolaus Euba</td>\n      <td>A</td>\n      <td>Letter Grade</td>\n      <td>A+</td>\n      <td>4.0</td>\n      <td>10.0</td>\n    </tr>\n    <tr>\n      <th>95</th>\n      <td>2007 Summer</td>\n      <td>169335</td>\n      <td>Graduate</td>\n      <td>Near Eastern Studies</td>\n      <td>Near Eastern Studies</td>\n      <td>290A</td>\n      <td>Independent Study</td>\n      <td>3</td>\n      <td>66140</td>\n      <td>66140.0</td>\n      <td>Special Studies</td>\n      <td>Hatem Bazian</td>\n      <td>A</td>\n      <td>Letter Grade</td>\n      <td>A+</td>\n      <td>4.0</td>\n      <td>4.0</td>\n    </tr>\n    <tr>\n      <th>96</th>\n      <td>2007 Summer</td>\n      <td>194536</td>\n      <td>Graduate</td>\n      <td>Ethnic Studies</td>\n      <td>Ethnic Studies</td>\n      <td>135AC</td>\n      <td>Primary</td>\n      <td>2</td>\n      <td>45245</td>\n      <td>45245.0</td>\n      <td>U.S. Immigration</td>\n      <td>Catherine Choy</td>\n      <td>A</td>\n      <td>Letter Grade</td>\n      <td>A+</td>\n      <td>4.0</td>\n      <td>4.0</td>\n    </tr>\n    <tr>\n      <th>97</th>\n      <td>2007 Summer</td>\n      <td>198873</td>\n      <td>Undergraduate</td>\n      <td>Near Eastern Studies</td>\n      <td>Hebrew</td>\n      <td>N106</td>\n      <td>Primary</td>\n      <td>1</td>\n      <td>50010</td>\n      <td>50010.0</td>\n      <td>Elem Bibl Hebrew</td>\n      <td>Chava Boyarin</td>\n      <td>A</td>\n      <td>Letter Grade</td>\n      <td>A+</td>\n      <td>4.0</td>\n      <td>6.0</td>\n    </tr>\n    <tr>\n      <th>...</th>\n      <td>...</td>\n      <td>...</td>\n      <td>...</td>\n      <td>...</td>\n      <td>...</td>\n      <td>...</td>\n      <td>...</td>\n      <td>...</td>\n      <td>...</td>\n      <td>...</td>\n      <td>...</td>\n      <td>...</td>\n      <td>...</td>\n      <td>...</td>\n      <td>...</td>\n      <td>...</td>\n      <td>...</td>\n    </tr>\n    <tr>\n      <th>23102</th>\n      <td>2019 Summer</td>\n      <td>4271436</td>\n      <td>Undergraduate</td>\n      <td>Nutritional Sciences &amp; Tox</td>\n      <td>Nutritional Science &amp; Tox</td>\n      <td>10</td>\n      <td>Primary</td>\n      <td>2</td>\n      <td>14561</td>\n      <td>14561.0</td>\n      <td>Intro Human Nutr</td>\n      <td>NaN</td>\n      <td>B</td>\n      <td>Letter Grade</td>\n      <td>B-</td>\n      <td>2.7</td>\n      <td>3.0</td>\n    </tr>\n    <tr>\n      <th>23103</th>\n      <td>2019 Summer</td>\n      <td>4271494</td>\n      <td>Undergraduate</td>\n      <td>Psychology</td>\n      <td>Psychology</td>\n      <td>166AC</td>\n      <td>Primary</td>\n      <td>1</td>\n      <td>14105</td>\n      <td>14105.0</td>\n      <td>Cultural Psychology</td>\n      <td>NaN</td>\n      <td>A</td>\n      <td>Letter Grade</td>\n      <td>A+</td>\n      <td>4.0</td>\n      <td>3.0</td>\n    </tr>\n    <tr>\n      <th>23104</th>\n      <td>2019 Summer</td>\n      <td>4271527</td>\n      <td>Undergraduate</td>\n      <td>Theater Dance &amp; Perf Stds</td>\n      <td>Theater Dance &amp; Perf Stds</td>\n      <td>10</td>\n      <td>Primary</td>\n      <td>1</td>\n      <td>14043</td>\n      <td>14043.0</td>\n      <td>Fund. Of Acting I</td>\n      <td>NaN</td>\n      <td>A</td>\n      <td>Letter Grade</td>\n      <td>A</td>\n      <td>4.0</td>\n      <td>3.0</td>\n    </tr>\n    <tr>\n      <th>23105</th>\n      <td>2019 Summer</td>\n      <td>4271531</td>\n      <td>Undergraduate</td>\n      <td>Interdisc Social Science Pgms</td>\n      <td>Global Studies</td>\n      <td>154M</td>\n      <td>Primary</td>\n      <td>3</td>\n      <td>15353</td>\n      <td>15353.0</td>\n      <td>Topics Middle East</td>\n      <td>NaN</td>\n      <td>A</td>\n      <td>Letter Grade</td>\n      <td>A</td>\n      <td>4.0</td>\n      <td>4.0</td>\n    </tr>\n    <tr>\n      <th>23106</th>\n      <td>2019 Summer</td>\n      <td>4271995</td>\n      <td>Undergraduate</td>\n      <td>College Writing Programs</td>\n      <td>College Writing Programs</td>\n      <td>6H</td>\n      <td>Primary</td>\n      <td>2</td>\n      <td>14281</td>\n      <td>14281.0</td>\n      <td>Esl Writing</td>\n      <td>NaN</td>\n      <td>F</td>\n      <td>Letter Grade</td>\n      <td>F</td>\n      <td>0.0</td>\n      <td>2.0</td>\n    </tr>\n  </tbody>\n</table>\n<p>5597609 rows × 17 columns</p>\n</div>"
     },
     "metadata": {},
     "execution_count": 208
    }
   ],
   "source": [
    "student_courses[~student_courses['ppsk'].isin(jacobs['ppsk'])]"
   ]
  },
  {
   "cell_type": "code",
   "execution_count": 207,
   "metadata": {},
   "outputs": [
    {
     "output_type": "stream",
     "name": "stderr",
     "text": [
      "/usr/local/lib/python3.7/dist-packages/numpy/lib/arraysetops.py:580: FutureWarning: elementwise comparison failed; returning scalar instead, but in the future will perform elementwise comparison\n  mask |= (ar1 == a)\n"
     ]
    }
   ],
   "source": [
    "graph_incomes[3] = np.mean(student_courses[~student_courses['ppsk'].isin(jacobs['ppsk'])].merge(stem_paths[~stem_paths['income.parent'].isna()][['income.parent','ppsk']], on='ppsk')['income.parent'])"
   ]
  },
  {
   "cell_type": "code",
   "execution_count": 214,
   "metadata": {},
   "outputs": [],
   "source": [
    "bcdi_incomes = pd.DataFrame(index = ['All of Jacobs', 'Certificates', 'MP Waivers', 'All Students'], \n",
    "data = [\n",
    "    round(np.mean(graph_incomes[0]),0),\n",
    "    round(np.mean(graph_incomes[1]),0),\n",
    "    round(np.mean(graph_incomes[2]),0),\n",
    "    round(np.mean(graph_incomes[3]),0)\n",
    "    ])"
   ]
  },
  {
   "cell_type": "code",
   "execution_count": 215,
   "metadata": {},
   "outputs": [
    {
     "output_type": "display_data",
     "data": {
      "text/plain": "<Figure size 720x720 with 1 Axes>",
      "image/svg+xml": "<?xml version=\"1.0\" encoding=\"utf-8\" standalone=\"no\"?>\n<!DOCTYPE svg PUBLIC \"-//W3C//DTD SVG 1.1//EN\"\n  \"http://www.w3.org/Graphics/SVG/1.1/DTD/svg11.dtd\">\n<!-- Created with matplotlib (https://matplotlib.org/) -->\n<svg height=\"589.79625pt\" version=\"1.1\" viewBox=\"0 0 634.43125 589.79625\" width=\"634.43125pt\" xmlns=\"http://www.w3.org/2000/svg\" xmlns:xlink=\"http://www.w3.org/1999/xlink\">\n <defs>\n  <style type=\"text/css\">\n*{stroke-linecap:butt;stroke-linejoin:round;}\n  </style>\n </defs>\n <g id=\"figure_1\">\n  <g id=\"patch_1\">\n   <path d=\"M 0 589.79625 \nL 634.43125 589.79625 \nL 634.43125 0 \nL 0 0 \nz\n\" style=\"fill:none;\"/>\n  </g>\n  <g id=\"axes_1\">\n   <g id=\"patch_2\">\n    <path d=\"M 69.23125 565.918125 \nL 627.23125 565.918125 \nL 627.23125 22.318125 \nL 69.23125 22.318125 \nz\n\" style=\"fill:#ffffff;\"/>\n   </g>\n   <g id=\"patch_3\">\n    <path clip-path=\"url(#p1977b69949)\" d=\"M 104.10625 565.918125 \nL 173.85625 565.918125 \nL 173.85625 78.896084 \nL 104.10625 78.896084 \nz\n\" style=\"fill:#1f77b4;\"/>\n   </g>\n   <g id=\"patch_4\">\n    <path clip-path=\"url(#p1977b69949)\" d=\"M 243.60625 565.918125 \nL 313.35625 565.918125 \nL 313.35625 48.203839 \nL 243.60625 48.203839 \nz\n\" style=\"fill:#1f77b4;\"/>\n   </g>\n   <g id=\"patch_5\">\n    <path clip-path=\"url(#p1977b69949)\" d=\"M 383.10625 565.918125 \nL 452.85625 565.918125 \nL 452.85625 373.077351 \nL 383.10625 373.077351 \nz\n\" style=\"fill:#1f77b4;\"/>\n   </g>\n   <g id=\"patch_6\">\n    <path clip-path=\"url(#p1977b69949)\" d=\"M 522.60625 565.918125 \nL 592.35625 565.918125 \nL 592.35625 166.323799 \nL 522.60625 166.323799 \nz\n\" style=\"fill:#1f77b4;\"/>\n   </g>\n   <g id=\"matplotlib.axis_1\">\n    <g id=\"xtick_1\">\n     <g id=\"line2d_1\">\n      <defs>\n       <path d=\"M 0 0 \nL 0 3.5 \n\" id=\"ma84f483f86\" style=\"stroke:#000000;stroke-width:0.8;\"/>\n      </defs>\n      <g>\n       <use style=\"stroke:#000000;stroke-width:0.8;\" x=\"138.98125\" xlink:href=\"#ma84f483f86\" y=\"565.918125\"/>\n      </g>\n     </g>\n     <g id=\"text_1\">\n      <!-- All of Jacobs -->\n      <defs>\n       <path d=\"M 34.1875 63.1875 \nL 20.796875 26.90625 \nL 47.609375 26.90625 \nz\nM 28.609375 72.90625 \nL 39.796875 72.90625 \nL 67.578125 0 \nL 57.328125 0 \nL 50.6875 18.703125 \nL 17.828125 18.703125 \nL 11.1875 0 \nL 0.78125 0 \nz\n\" id=\"DejaVuSans-65\"/>\n       <path d=\"M 9.421875 75.984375 \nL 18.40625 75.984375 \nL 18.40625 0 \nL 9.421875 0 \nz\n\" id=\"DejaVuSans-108\"/>\n       <path id=\"DejaVuSans-32\"/>\n       <path d=\"M 30.609375 48.390625 \nQ 23.390625 48.390625 19.1875 42.75 \nQ 14.984375 37.109375 14.984375 27.296875 \nQ 14.984375 17.484375 19.15625 11.84375 \nQ 23.34375 6.203125 30.609375 6.203125 \nQ 37.796875 6.203125 41.984375 11.859375 \nQ 46.1875 17.53125 46.1875 27.296875 \nQ 46.1875 37.015625 41.984375 42.703125 \nQ 37.796875 48.390625 30.609375 48.390625 \nz\nM 30.609375 56 \nQ 42.328125 56 49.015625 48.375 \nQ 55.71875 40.765625 55.71875 27.296875 \nQ 55.71875 13.875 49.015625 6.21875 \nQ 42.328125 -1.421875 30.609375 -1.421875 \nQ 18.84375 -1.421875 12.171875 6.21875 \nQ 5.515625 13.875 5.515625 27.296875 \nQ 5.515625 40.765625 12.171875 48.375 \nQ 18.84375 56 30.609375 56 \nz\n\" id=\"DejaVuSans-111\"/>\n       <path d=\"M 37.109375 75.984375 \nL 37.109375 68.5 \nL 28.515625 68.5 \nQ 23.6875 68.5 21.796875 66.546875 \nQ 19.921875 64.59375 19.921875 59.515625 \nL 19.921875 54.6875 \nL 34.71875 54.6875 \nL 34.71875 47.703125 \nL 19.921875 47.703125 \nL 19.921875 0 \nL 10.890625 0 \nL 10.890625 47.703125 \nL 2.296875 47.703125 \nL 2.296875 54.6875 \nL 10.890625 54.6875 \nL 10.890625 58.5 \nQ 10.890625 67.625 15.140625 71.796875 \nQ 19.390625 75.984375 28.609375 75.984375 \nz\n\" id=\"DejaVuSans-102\"/>\n       <path d=\"M 9.8125 72.90625 \nL 19.671875 72.90625 \nL 19.671875 5.078125 \nQ 19.671875 -8.109375 14.671875 -14.0625 \nQ 9.671875 -20.015625 -1.421875 -20.015625 \nL -5.171875 -20.015625 \nL -5.171875 -11.71875 \nL -2.09375 -11.71875 \nQ 4.4375 -11.71875 7.125 -8.046875 \nQ 9.8125 -4.390625 9.8125 5.078125 \nz\n\" id=\"DejaVuSans-74\"/>\n       <path d=\"M 34.28125 27.484375 \nQ 23.390625 27.484375 19.1875 25 \nQ 14.984375 22.515625 14.984375 16.5 \nQ 14.984375 11.71875 18.140625 8.90625 \nQ 21.296875 6.109375 26.703125 6.109375 \nQ 34.1875 6.109375 38.703125 11.40625 \nQ 43.21875 16.703125 43.21875 25.484375 \nL 43.21875 27.484375 \nz\nM 52.203125 31.203125 \nL 52.203125 0 \nL 43.21875 0 \nL 43.21875 8.296875 \nQ 40.140625 3.328125 35.546875 0.953125 \nQ 30.953125 -1.421875 24.3125 -1.421875 \nQ 15.921875 -1.421875 10.953125 3.296875 \nQ 6 8.015625 6 15.921875 \nQ 6 25.140625 12.171875 29.828125 \nQ 18.359375 34.515625 30.609375 34.515625 \nL 43.21875 34.515625 \nL 43.21875 35.40625 \nQ 43.21875 41.609375 39.140625 45 \nQ 35.0625 48.390625 27.6875 48.390625 \nQ 23 48.390625 18.546875 47.265625 \nQ 14.109375 46.140625 10.015625 43.890625 \nL 10.015625 52.203125 \nQ 14.9375 54.109375 19.578125 55.046875 \nQ 24.21875 56 28.609375 56 \nQ 40.484375 56 46.34375 49.84375 \nQ 52.203125 43.703125 52.203125 31.203125 \nz\n\" id=\"DejaVuSans-97\"/>\n       <path d=\"M 48.78125 52.59375 \nL 48.78125 44.1875 \nQ 44.96875 46.296875 41.140625 47.34375 \nQ 37.3125 48.390625 33.40625 48.390625 \nQ 24.65625 48.390625 19.8125 42.84375 \nQ 14.984375 37.3125 14.984375 27.296875 \nQ 14.984375 17.28125 19.8125 11.734375 \nQ 24.65625 6.203125 33.40625 6.203125 \nQ 37.3125 6.203125 41.140625 7.25 \nQ 44.96875 8.296875 48.78125 10.40625 \nL 48.78125 2.09375 \nQ 45.015625 0.34375 40.984375 -0.53125 \nQ 36.96875 -1.421875 32.421875 -1.421875 \nQ 20.0625 -1.421875 12.78125 6.34375 \nQ 5.515625 14.109375 5.515625 27.296875 \nQ 5.515625 40.671875 12.859375 48.328125 \nQ 20.21875 56 33.015625 56 \nQ 37.15625 56 41.109375 55.140625 \nQ 45.0625 54.296875 48.78125 52.59375 \nz\n\" id=\"DejaVuSans-99\"/>\n       <path d=\"M 48.6875 27.296875 \nQ 48.6875 37.203125 44.609375 42.84375 \nQ 40.53125 48.484375 33.40625 48.484375 \nQ 26.265625 48.484375 22.1875 42.84375 \nQ 18.109375 37.203125 18.109375 27.296875 \nQ 18.109375 17.390625 22.1875 11.75 \nQ 26.265625 6.109375 33.40625 6.109375 \nQ 40.53125 6.109375 44.609375 11.75 \nQ 48.6875 17.390625 48.6875 27.296875 \nz\nM 18.109375 46.390625 \nQ 20.953125 51.265625 25.265625 53.625 \nQ 29.59375 56 35.59375 56 \nQ 45.5625 56 51.78125 48.09375 \nQ 58.015625 40.1875 58.015625 27.296875 \nQ 58.015625 14.40625 51.78125 6.484375 \nQ 45.5625 -1.421875 35.59375 -1.421875 \nQ 29.59375 -1.421875 25.265625 0.953125 \nQ 20.953125 3.328125 18.109375 8.203125 \nL 18.109375 0 \nL 9.078125 0 \nL 9.078125 75.984375 \nL 18.109375 75.984375 \nz\n\" id=\"DejaVuSans-98\"/>\n       <path d=\"M 44.28125 53.078125 \nL 44.28125 44.578125 \nQ 40.484375 46.53125 36.375 47.5 \nQ 32.28125 48.484375 27.875 48.484375 \nQ 21.1875 48.484375 17.84375 46.4375 \nQ 14.5 44.390625 14.5 40.28125 \nQ 14.5 37.15625 16.890625 35.375 \nQ 19.28125 33.59375 26.515625 31.984375 \nL 29.59375 31.296875 \nQ 39.15625 29.25 43.1875 25.515625 \nQ 47.21875 21.78125 47.21875 15.09375 \nQ 47.21875 7.46875 41.1875 3.015625 \nQ 35.15625 -1.421875 24.609375 -1.421875 \nQ 20.21875 -1.421875 15.453125 -0.5625 \nQ 10.6875 0.296875 5.421875 2 \nL 5.421875 11.28125 \nQ 10.40625 8.6875 15.234375 7.390625 \nQ 20.0625 6.109375 24.8125 6.109375 \nQ 31.15625 6.109375 34.5625 8.28125 \nQ 37.984375 10.453125 37.984375 14.40625 \nQ 37.984375 18.0625 35.515625 20.015625 \nQ 33.0625 21.96875 24.703125 23.78125 \nL 21.578125 24.515625 \nQ 13.234375 26.265625 9.515625 29.90625 \nQ 5.8125 33.546875 5.8125 39.890625 \nQ 5.8125 47.609375 11.28125 51.796875 \nQ 16.75 56 26.8125 56 \nQ 31.78125 56 36.171875 55.265625 \nQ 40.578125 54.546875 44.28125 53.078125 \nz\n\" id=\"DejaVuSans-115\"/>\n      </defs>\n      <g transform=\"translate(108.658594 580.516562)scale(0.1 -0.1)\">\n       <use xlink:href=\"#DejaVuSans-65\"/>\n       <use x=\"68.408203\" xlink:href=\"#DejaVuSans-108\"/>\n       <use x=\"96.191406\" xlink:href=\"#DejaVuSans-108\"/>\n       <use x=\"123.974609\" xlink:href=\"#DejaVuSans-32\"/>\n       <use x=\"155.761719\" xlink:href=\"#DejaVuSans-111\"/>\n       <use x=\"216.943359\" xlink:href=\"#DejaVuSans-102\"/>\n       <use x=\"252.148438\" xlink:href=\"#DejaVuSans-32\"/>\n       <use x=\"283.935547\" xlink:href=\"#DejaVuSans-74\"/>\n       <use x=\"313.427734\" xlink:href=\"#DejaVuSans-97\"/>\n       <use x=\"374.707031\" xlink:href=\"#DejaVuSans-99\"/>\n       <use x=\"429.6875\" xlink:href=\"#DejaVuSans-111\"/>\n       <use x=\"490.869141\" xlink:href=\"#DejaVuSans-98\"/>\n       <use x=\"554.345703\" xlink:href=\"#DejaVuSans-115\"/>\n      </g>\n     </g>\n    </g>\n    <g id=\"xtick_2\">\n     <g id=\"line2d_2\">\n      <g>\n       <use style=\"stroke:#000000;stroke-width:0.8;\" x=\"278.48125\" xlink:href=\"#ma84f483f86\" y=\"565.918125\"/>\n      </g>\n     </g>\n     <g id=\"text_2\">\n      <!-- Certificates -->\n      <defs>\n       <path d=\"M 64.40625 67.28125 \nL 64.40625 56.890625 \nQ 59.421875 61.53125 53.78125 63.8125 \nQ 48.140625 66.109375 41.796875 66.109375 \nQ 29.296875 66.109375 22.65625 58.46875 \nQ 16.015625 50.828125 16.015625 36.375 \nQ 16.015625 21.96875 22.65625 14.328125 \nQ 29.296875 6.6875 41.796875 6.6875 \nQ 48.140625 6.6875 53.78125 8.984375 \nQ 59.421875 11.28125 64.40625 15.921875 \nL 64.40625 5.609375 \nQ 59.234375 2.09375 53.4375 0.328125 \nQ 47.65625 -1.421875 41.21875 -1.421875 \nQ 24.65625 -1.421875 15.125 8.703125 \nQ 5.609375 18.84375 5.609375 36.375 \nQ 5.609375 53.953125 15.125 64.078125 \nQ 24.65625 74.21875 41.21875 74.21875 \nQ 47.75 74.21875 53.53125 72.484375 \nQ 59.328125 70.75 64.40625 67.28125 \nz\n\" id=\"DejaVuSans-67\"/>\n       <path d=\"M 56.203125 29.59375 \nL 56.203125 25.203125 \nL 14.890625 25.203125 \nQ 15.484375 15.921875 20.484375 11.0625 \nQ 25.484375 6.203125 34.421875 6.203125 \nQ 39.59375 6.203125 44.453125 7.46875 \nQ 49.3125 8.734375 54.109375 11.28125 \nL 54.109375 2.78125 \nQ 49.265625 0.734375 44.1875 -0.34375 \nQ 39.109375 -1.421875 33.890625 -1.421875 \nQ 20.796875 -1.421875 13.15625 6.1875 \nQ 5.515625 13.8125 5.515625 26.8125 \nQ 5.515625 40.234375 12.765625 48.109375 \nQ 20.015625 56 32.328125 56 \nQ 43.359375 56 49.78125 48.890625 \nQ 56.203125 41.796875 56.203125 29.59375 \nz\nM 47.21875 32.234375 \nQ 47.125 39.59375 43.09375 43.984375 \nQ 39.0625 48.390625 32.421875 48.390625 \nQ 24.90625 48.390625 20.390625 44.140625 \nQ 15.875 39.890625 15.1875 32.171875 \nz\n\" id=\"DejaVuSans-101\"/>\n       <path d=\"M 41.109375 46.296875 \nQ 39.59375 47.171875 37.8125 47.578125 \nQ 36.03125 48 33.890625 48 \nQ 26.265625 48 22.1875 43.046875 \nQ 18.109375 38.09375 18.109375 28.8125 \nL 18.109375 0 \nL 9.078125 0 \nL 9.078125 54.6875 \nL 18.109375 54.6875 \nL 18.109375 46.1875 \nQ 20.953125 51.171875 25.484375 53.578125 \nQ 30.03125 56 36.53125 56 \nQ 37.453125 56 38.578125 55.875 \nQ 39.703125 55.765625 41.0625 55.515625 \nz\n\" id=\"DejaVuSans-114\"/>\n       <path d=\"M 18.3125 70.21875 \nL 18.3125 54.6875 \nL 36.8125 54.6875 \nL 36.8125 47.703125 \nL 18.3125 47.703125 \nL 18.3125 18.015625 \nQ 18.3125 11.328125 20.140625 9.421875 \nQ 21.96875 7.515625 27.59375 7.515625 \nL 36.8125 7.515625 \nL 36.8125 0 \nL 27.59375 0 \nQ 17.1875 0 13.234375 3.875 \nQ 9.28125 7.765625 9.28125 18.015625 \nL 9.28125 47.703125 \nL 2.6875 47.703125 \nL 2.6875 54.6875 \nL 9.28125 54.6875 \nL 9.28125 70.21875 \nz\n\" id=\"DejaVuSans-116\"/>\n       <path d=\"M 9.421875 54.6875 \nL 18.40625 54.6875 \nL 18.40625 0 \nL 9.421875 0 \nz\nM 9.421875 75.984375 \nL 18.40625 75.984375 \nL 18.40625 64.59375 \nL 9.421875 64.59375 \nz\n\" id=\"DejaVuSans-105\"/>\n      </defs>\n      <g transform=\"translate(249.904688 580.516562)scale(0.1 -0.1)\">\n       <use xlink:href=\"#DejaVuSans-67\"/>\n       <use x=\"69.824219\" xlink:href=\"#DejaVuSans-101\"/>\n       <use x=\"131.347656\" xlink:href=\"#DejaVuSans-114\"/>\n       <use x=\"172.460938\" xlink:href=\"#DejaVuSans-116\"/>\n       <use x=\"211.669922\" xlink:href=\"#DejaVuSans-105\"/>\n       <use x=\"239.453125\" xlink:href=\"#DejaVuSans-102\"/>\n       <use x=\"274.658203\" xlink:href=\"#DejaVuSans-105\"/>\n       <use x=\"302.441406\" xlink:href=\"#DejaVuSans-99\"/>\n       <use x=\"357.421875\" xlink:href=\"#DejaVuSans-97\"/>\n       <use x=\"418.701172\" xlink:href=\"#DejaVuSans-116\"/>\n       <use x=\"457.910156\" xlink:href=\"#DejaVuSans-101\"/>\n       <use x=\"519.433594\" xlink:href=\"#DejaVuSans-115\"/>\n      </g>\n     </g>\n    </g>\n    <g id=\"xtick_3\">\n     <g id=\"line2d_3\">\n      <g>\n       <use style=\"stroke:#000000;stroke-width:0.8;\" x=\"417.98125\" xlink:href=\"#ma84f483f86\" y=\"565.918125\"/>\n      </g>\n     </g>\n     <g id=\"text_3\">\n      <!-- MP Waivers -->\n      <defs>\n       <path d=\"M 9.8125 72.90625 \nL 24.515625 72.90625 \nL 43.109375 23.296875 \nL 61.8125 72.90625 \nL 76.515625 72.90625 \nL 76.515625 0 \nL 66.890625 0 \nL 66.890625 64.015625 \nL 48.09375 14.015625 \nL 38.1875 14.015625 \nL 19.390625 64.015625 \nL 19.390625 0 \nL 9.8125 0 \nz\n\" id=\"DejaVuSans-77\"/>\n       <path d=\"M 19.671875 64.796875 \nL 19.671875 37.40625 \nL 32.078125 37.40625 \nQ 38.96875 37.40625 42.71875 40.96875 \nQ 46.484375 44.53125 46.484375 51.125 \nQ 46.484375 57.671875 42.71875 61.234375 \nQ 38.96875 64.796875 32.078125 64.796875 \nz\nM 9.8125 72.90625 \nL 32.078125 72.90625 \nQ 44.34375 72.90625 50.609375 67.359375 \nQ 56.890625 61.8125 56.890625 51.125 \nQ 56.890625 40.328125 50.609375 34.8125 \nQ 44.34375 29.296875 32.078125 29.296875 \nL 19.671875 29.296875 \nL 19.671875 0 \nL 9.8125 0 \nz\n\" id=\"DejaVuSans-80\"/>\n       <path d=\"M 3.328125 72.90625 \nL 13.28125 72.90625 \nL 28.609375 11.28125 \nL 43.890625 72.90625 \nL 54.984375 72.90625 \nL 70.3125 11.28125 \nL 85.59375 72.90625 \nL 95.609375 72.90625 \nL 77.296875 0 \nL 64.890625 0 \nL 49.515625 63.28125 \nL 33.984375 0 \nL 21.578125 0 \nz\n\" id=\"DejaVuSans-87\"/>\n       <path d=\"M 2.984375 54.6875 \nL 12.5 54.6875 \nL 29.59375 8.796875 \nL 46.6875 54.6875 \nL 56.203125 54.6875 \nL 35.6875 0 \nL 23.484375 0 \nz\n\" id=\"DejaVuSans-118\"/>\n      </defs>\n      <g transform=\"translate(389.289063 580.516562)scale(0.1 -0.1)\">\n       <use xlink:href=\"#DejaVuSans-77\"/>\n       <use x=\"86.279297\" xlink:href=\"#DejaVuSans-80\"/>\n       <use x=\"146.582031\" xlink:href=\"#DejaVuSans-32\"/>\n       <use x=\"178.369141\" xlink:href=\"#DejaVuSans-87\"/>\n       <use x=\"270.871094\" xlink:href=\"#DejaVuSans-97\"/>\n       <use x=\"332.150391\" xlink:href=\"#DejaVuSans-105\"/>\n       <use x=\"359.933594\" xlink:href=\"#DejaVuSans-118\"/>\n       <use x=\"419.113281\" xlink:href=\"#DejaVuSans-101\"/>\n       <use x=\"480.636719\" xlink:href=\"#DejaVuSans-114\"/>\n       <use x=\"521.75\" xlink:href=\"#DejaVuSans-115\"/>\n      </g>\n     </g>\n    </g>\n    <g id=\"xtick_4\">\n     <g id=\"line2d_4\">\n      <g>\n       <use style=\"stroke:#000000;stroke-width:0.8;\" x=\"557.48125\" xlink:href=\"#ma84f483f86\" y=\"565.918125\"/>\n      </g>\n     </g>\n     <g id=\"text_4\">\n      <!-- All Students -->\n      <defs>\n       <path d=\"M 53.515625 70.515625 \nL 53.515625 60.890625 \nQ 47.90625 63.578125 42.921875 64.890625 \nQ 37.9375 66.21875 33.296875 66.21875 \nQ 25.25 66.21875 20.875 63.09375 \nQ 16.5 59.96875 16.5 54.203125 \nQ 16.5 49.359375 19.40625 46.890625 \nQ 22.3125 44.4375 30.421875 42.921875 \nL 36.375 41.703125 \nQ 47.40625 39.59375 52.65625 34.296875 \nQ 57.90625 29 57.90625 20.125 \nQ 57.90625 9.515625 50.796875 4.046875 \nQ 43.703125 -1.421875 29.984375 -1.421875 \nQ 24.8125 -1.421875 18.96875 -0.25 \nQ 13.140625 0.921875 6.890625 3.21875 \nL 6.890625 13.375 \nQ 12.890625 10.015625 18.65625 8.296875 \nQ 24.421875 6.59375 29.984375 6.59375 \nQ 38.421875 6.59375 43.015625 9.90625 \nQ 47.609375 13.234375 47.609375 19.390625 \nQ 47.609375 24.75 44.3125 27.78125 \nQ 41.015625 30.8125 33.5 32.328125 \nL 27.484375 33.5 \nQ 16.453125 35.6875 11.515625 40.375 \nQ 6.59375 45.0625 6.59375 53.421875 \nQ 6.59375 63.09375 13.40625 68.65625 \nQ 20.21875 74.21875 32.171875 74.21875 \nQ 37.3125 74.21875 42.625 73.28125 \nQ 47.953125 72.359375 53.515625 70.515625 \nz\n\" id=\"DejaVuSans-83\"/>\n       <path d=\"M 8.5 21.578125 \nL 8.5 54.6875 \nL 17.484375 54.6875 \nL 17.484375 21.921875 \nQ 17.484375 14.15625 20.5 10.265625 \nQ 23.53125 6.390625 29.59375 6.390625 \nQ 36.859375 6.390625 41.078125 11.03125 \nQ 45.3125 15.671875 45.3125 23.6875 \nL 45.3125 54.6875 \nL 54.296875 54.6875 \nL 54.296875 0 \nL 45.3125 0 \nL 45.3125 8.40625 \nQ 42.046875 3.421875 37.71875 1 \nQ 33.40625 -1.421875 27.6875 -1.421875 \nQ 18.265625 -1.421875 13.375 4.4375 \nQ 8.5 10.296875 8.5 21.578125 \nz\nM 31.109375 56 \nz\n\" id=\"DejaVuSans-117\"/>\n       <path d=\"M 45.40625 46.390625 \nL 45.40625 75.984375 \nL 54.390625 75.984375 \nL 54.390625 0 \nL 45.40625 0 \nL 45.40625 8.203125 \nQ 42.578125 3.328125 38.25 0.953125 \nQ 33.9375 -1.421875 27.875 -1.421875 \nQ 17.96875 -1.421875 11.734375 6.484375 \nQ 5.515625 14.40625 5.515625 27.296875 \nQ 5.515625 40.1875 11.734375 48.09375 \nQ 17.96875 56 27.875 56 \nQ 33.9375 56 38.25 53.625 \nQ 42.578125 51.265625 45.40625 46.390625 \nz\nM 14.796875 27.296875 \nQ 14.796875 17.390625 18.875 11.75 \nQ 22.953125 6.109375 30.078125 6.109375 \nQ 37.203125 6.109375 41.296875 11.75 \nQ 45.40625 17.390625 45.40625 27.296875 \nQ 45.40625 37.203125 41.296875 42.84375 \nQ 37.203125 48.484375 30.078125 48.484375 \nQ 22.953125 48.484375 18.875 42.84375 \nQ 14.796875 37.203125 14.796875 27.296875 \nz\n\" id=\"DejaVuSans-100\"/>\n       <path d=\"M 54.890625 33.015625 \nL 54.890625 0 \nL 45.90625 0 \nL 45.90625 32.71875 \nQ 45.90625 40.484375 42.875 44.328125 \nQ 39.84375 48.1875 33.796875 48.1875 \nQ 26.515625 48.1875 22.3125 43.546875 \nQ 18.109375 38.921875 18.109375 30.90625 \nL 18.109375 0 \nL 9.078125 0 \nL 9.078125 54.6875 \nL 18.109375 54.6875 \nL 18.109375 46.1875 \nQ 21.34375 51.125 25.703125 53.5625 \nQ 30.078125 56 35.796875 56 \nQ 45.21875 56 50.046875 50.171875 \nQ 54.890625 44.34375 54.890625 33.015625 \nz\n\" id=\"DejaVuSans-110\"/>\n      </defs>\n      <g transform=\"translate(527.40625 580.516562)scale(0.1 -0.1)\">\n       <use xlink:href=\"#DejaVuSans-65\"/>\n       <use x=\"68.408203\" xlink:href=\"#DejaVuSans-108\"/>\n       <use x=\"96.191406\" xlink:href=\"#DejaVuSans-108\"/>\n       <use x=\"123.974609\" xlink:href=\"#DejaVuSans-32\"/>\n       <use x=\"155.761719\" xlink:href=\"#DejaVuSans-83\"/>\n       <use x=\"219.238281\" xlink:href=\"#DejaVuSans-116\"/>\n       <use x=\"258.447266\" xlink:href=\"#DejaVuSans-117\"/>\n       <use x=\"321.826172\" xlink:href=\"#DejaVuSans-100\"/>\n       <use x=\"385.302734\" xlink:href=\"#DejaVuSans-101\"/>\n       <use x=\"446.826172\" xlink:href=\"#DejaVuSans-110\"/>\n       <use x=\"510.205078\" xlink:href=\"#DejaVuSans-116\"/>\n       <use x=\"549.414062\" xlink:href=\"#DejaVuSans-115\"/>\n      </g>\n     </g>\n    </g>\n   </g>\n   <g id=\"matplotlib.axis_2\">\n    <g id=\"ytick_1\">\n     <g id=\"line2d_5\">\n      <defs>\n       <path d=\"M 0 0 \nL -3.5 0 \n\" id=\"mad090520a6\" style=\"stroke:#000000;stroke-width:0.8;\"/>\n      </defs>\n      <g>\n       <use style=\"stroke:#000000;stroke-width:0.8;\" x=\"69.23125\" xlink:href=\"#mad090520a6\" y=\"565.918125\"/>\n      </g>\n     </g>\n     <g id=\"text_5\">\n      <!-- 0 -->\n      <defs>\n       <path d=\"M 31.78125 66.40625 \nQ 24.171875 66.40625 20.328125 58.90625 \nQ 16.5 51.421875 16.5 36.375 \nQ 16.5 21.390625 20.328125 13.890625 \nQ 24.171875 6.390625 31.78125 6.390625 \nQ 39.453125 6.390625 43.28125 13.890625 \nQ 47.125 21.390625 47.125 36.375 \nQ 47.125 51.421875 43.28125 58.90625 \nQ 39.453125 66.40625 31.78125 66.40625 \nz\nM 31.78125 74.21875 \nQ 44.046875 74.21875 50.515625 64.515625 \nQ 56.984375 54.828125 56.984375 36.375 \nQ 56.984375 17.96875 50.515625 8.265625 \nQ 44.046875 -1.421875 31.78125 -1.421875 \nQ 19.53125 -1.421875 13.0625 8.265625 \nQ 6.59375 17.96875 6.59375 36.375 \nQ 6.59375 54.828125 13.0625 64.515625 \nQ 19.53125 74.21875 31.78125 74.21875 \nz\n\" id=\"DejaVuSans-48\"/>\n      </defs>\n      <g transform=\"translate(55.86875 569.717344)scale(0.1 -0.1)\">\n       <use xlink:href=\"#DejaVuSans-48\"/>\n      </g>\n     </g>\n    </g>\n    <g id=\"ytick_2\">\n     <g id=\"line2d_6\">\n      <g>\n       <use style=\"stroke:#000000;stroke-width:0.8;\" x=\"69.23125\" xlink:href=\"#mad090520a6\" y=\"503.598847\"/>\n      </g>\n     </g>\n     <g id=\"text_6\">\n      <!-- 20,000 -->\n      <defs>\n       <path d=\"M 19.1875 8.296875 \nL 53.609375 8.296875 \nL 53.609375 0 \nL 7.328125 0 \nL 7.328125 8.296875 \nQ 12.9375 14.109375 22.625 23.890625 \nQ 32.328125 33.6875 34.8125 36.53125 \nQ 39.546875 41.84375 41.421875 45.53125 \nQ 43.3125 49.21875 43.3125 52.78125 \nQ 43.3125 58.59375 39.234375 62.25 \nQ 35.15625 65.921875 28.609375 65.921875 \nQ 23.96875 65.921875 18.8125 64.3125 \nQ 13.671875 62.703125 7.8125 59.421875 \nL 7.8125 69.390625 \nQ 13.765625 71.78125 18.9375 73 \nQ 24.125 74.21875 28.421875 74.21875 \nQ 39.75 74.21875 46.484375 68.546875 \nQ 53.21875 62.890625 53.21875 53.421875 \nQ 53.21875 48.921875 51.53125 44.890625 \nQ 49.859375 40.875 45.40625 35.40625 \nQ 44.1875 33.984375 37.640625 27.21875 \nQ 31.109375 20.453125 19.1875 8.296875 \nz\n\" id=\"DejaVuSans-50\"/>\n       <path d=\"M 11.71875 12.40625 \nL 22.015625 12.40625 \nL 22.015625 4 \nL 14.015625 -11.625 \nL 7.71875 -11.625 \nL 11.71875 4 \nz\n\" id=\"DejaVuSans-44\"/>\n      </defs>\n      <g transform=\"translate(27.240625 507.398066)scale(0.1 -0.1)\">\n       <use xlink:href=\"#DejaVuSans-50\"/>\n       <use x=\"63.623047\" xlink:href=\"#DejaVuSans-48\"/>\n       <use x=\"127.246094\" xlink:href=\"#DejaVuSans-44\"/>\n       <use x=\"159.033203\" xlink:href=\"#DejaVuSans-48\"/>\n       <use x=\"222.65625\" xlink:href=\"#DejaVuSans-48\"/>\n       <use x=\"286.279297\" xlink:href=\"#DejaVuSans-48\"/>\n      </g>\n     </g>\n    </g>\n    <g id=\"ytick_3\">\n     <g id=\"line2d_7\">\n      <g>\n       <use style=\"stroke:#000000;stroke-width:0.8;\" x=\"69.23125\" xlink:href=\"#mad090520a6\" y=\"441.279569\"/>\n      </g>\n     </g>\n     <g id=\"text_7\">\n      <!-- 40,000 -->\n      <defs>\n       <path d=\"M 37.796875 64.3125 \nL 12.890625 25.390625 \nL 37.796875 25.390625 \nz\nM 35.203125 72.90625 \nL 47.609375 72.90625 \nL 47.609375 25.390625 \nL 58.015625 25.390625 \nL 58.015625 17.1875 \nL 47.609375 17.1875 \nL 47.609375 0 \nL 37.796875 0 \nL 37.796875 17.1875 \nL 4.890625 17.1875 \nL 4.890625 26.703125 \nz\n\" id=\"DejaVuSans-52\"/>\n      </defs>\n      <g transform=\"translate(27.240625 445.078788)scale(0.1 -0.1)\">\n       <use xlink:href=\"#DejaVuSans-52\"/>\n       <use x=\"63.623047\" xlink:href=\"#DejaVuSans-48\"/>\n       <use x=\"127.246094\" xlink:href=\"#DejaVuSans-44\"/>\n       <use x=\"159.033203\" xlink:href=\"#DejaVuSans-48\"/>\n       <use x=\"222.65625\" xlink:href=\"#DejaVuSans-48\"/>\n       <use x=\"286.279297\" xlink:href=\"#DejaVuSans-48\"/>\n      </g>\n     </g>\n    </g>\n    <g id=\"ytick_4\">\n     <g id=\"line2d_8\">\n      <g>\n       <use style=\"stroke:#000000;stroke-width:0.8;\" x=\"69.23125\" xlink:href=\"#mad090520a6\" y=\"378.960291\"/>\n      </g>\n     </g>\n     <g id=\"text_8\">\n      <!-- 60,000 -->\n      <defs>\n       <path d=\"M 33.015625 40.375 \nQ 26.375 40.375 22.484375 35.828125 \nQ 18.609375 31.296875 18.609375 23.390625 \nQ 18.609375 15.53125 22.484375 10.953125 \nQ 26.375 6.390625 33.015625 6.390625 \nQ 39.65625 6.390625 43.53125 10.953125 \nQ 47.40625 15.53125 47.40625 23.390625 \nQ 47.40625 31.296875 43.53125 35.828125 \nQ 39.65625 40.375 33.015625 40.375 \nz\nM 52.59375 71.296875 \nL 52.59375 62.3125 \nQ 48.875 64.0625 45.09375 64.984375 \nQ 41.3125 65.921875 37.59375 65.921875 \nQ 27.828125 65.921875 22.671875 59.328125 \nQ 17.53125 52.734375 16.796875 39.40625 \nQ 19.671875 43.65625 24.015625 45.921875 \nQ 28.375 48.1875 33.59375 48.1875 \nQ 44.578125 48.1875 50.953125 41.515625 \nQ 57.328125 34.859375 57.328125 23.390625 \nQ 57.328125 12.15625 50.6875 5.359375 \nQ 44.046875 -1.421875 33.015625 -1.421875 \nQ 20.359375 -1.421875 13.671875 8.265625 \nQ 6.984375 17.96875 6.984375 36.375 \nQ 6.984375 53.65625 15.1875 63.9375 \nQ 23.390625 74.21875 37.203125 74.21875 \nQ 40.921875 74.21875 44.703125 73.484375 \nQ 48.484375 72.75 52.59375 71.296875 \nz\n\" id=\"DejaVuSans-54\"/>\n      </defs>\n      <g transform=\"translate(27.240625 382.75951)scale(0.1 -0.1)\">\n       <use xlink:href=\"#DejaVuSans-54\"/>\n       <use x=\"63.623047\" xlink:href=\"#DejaVuSans-48\"/>\n       <use x=\"127.246094\" xlink:href=\"#DejaVuSans-44\"/>\n       <use x=\"159.033203\" xlink:href=\"#DejaVuSans-48\"/>\n       <use x=\"222.65625\" xlink:href=\"#DejaVuSans-48\"/>\n       <use x=\"286.279297\" xlink:href=\"#DejaVuSans-48\"/>\n      </g>\n     </g>\n    </g>\n    <g id=\"ytick_5\">\n     <g id=\"line2d_9\">\n      <g>\n       <use style=\"stroke:#000000;stroke-width:0.8;\" x=\"69.23125\" xlink:href=\"#mad090520a6\" y=\"316.641013\"/>\n      </g>\n     </g>\n     <g id=\"text_9\">\n      <!-- 80,000 -->\n      <defs>\n       <path d=\"M 31.78125 34.625 \nQ 24.75 34.625 20.71875 30.859375 \nQ 16.703125 27.09375 16.703125 20.515625 \nQ 16.703125 13.921875 20.71875 10.15625 \nQ 24.75 6.390625 31.78125 6.390625 \nQ 38.8125 6.390625 42.859375 10.171875 \nQ 46.921875 13.96875 46.921875 20.515625 \nQ 46.921875 27.09375 42.890625 30.859375 \nQ 38.875 34.625 31.78125 34.625 \nz\nM 21.921875 38.8125 \nQ 15.578125 40.375 12.03125 44.71875 \nQ 8.5 49.078125 8.5 55.328125 \nQ 8.5 64.0625 14.71875 69.140625 \nQ 20.953125 74.21875 31.78125 74.21875 \nQ 42.671875 74.21875 48.875 69.140625 \nQ 55.078125 64.0625 55.078125 55.328125 \nQ 55.078125 49.078125 51.53125 44.71875 \nQ 48 40.375 41.703125 38.8125 \nQ 48.828125 37.15625 52.796875 32.3125 \nQ 56.78125 27.484375 56.78125 20.515625 \nQ 56.78125 9.90625 50.3125 4.234375 \nQ 43.84375 -1.421875 31.78125 -1.421875 \nQ 19.734375 -1.421875 13.25 4.234375 \nQ 6.78125 9.90625 6.78125 20.515625 \nQ 6.78125 27.484375 10.78125 32.3125 \nQ 14.796875 37.15625 21.921875 38.8125 \nz\nM 18.3125 54.390625 \nQ 18.3125 48.734375 21.84375 45.5625 \nQ 25.390625 42.390625 31.78125 42.390625 \nQ 38.140625 42.390625 41.71875 45.5625 \nQ 45.3125 48.734375 45.3125 54.390625 \nQ 45.3125 60.0625 41.71875 63.234375 \nQ 38.140625 66.40625 31.78125 66.40625 \nQ 25.390625 66.40625 21.84375 63.234375 \nQ 18.3125 60.0625 18.3125 54.390625 \nz\n\" id=\"DejaVuSans-56\"/>\n      </defs>\n      <g transform=\"translate(27.240625 320.440232)scale(0.1 -0.1)\">\n       <use xlink:href=\"#DejaVuSans-56\"/>\n       <use x=\"63.623047\" xlink:href=\"#DejaVuSans-48\"/>\n       <use x=\"127.246094\" xlink:href=\"#DejaVuSans-44\"/>\n       <use x=\"159.033203\" xlink:href=\"#DejaVuSans-48\"/>\n       <use x=\"222.65625\" xlink:href=\"#DejaVuSans-48\"/>\n       <use x=\"286.279297\" xlink:href=\"#DejaVuSans-48\"/>\n      </g>\n     </g>\n    </g>\n    <g id=\"ytick_6\">\n     <g id=\"line2d_10\">\n      <g>\n       <use style=\"stroke:#000000;stroke-width:0.8;\" x=\"69.23125\" xlink:href=\"#mad090520a6\" y=\"254.321735\"/>\n      </g>\n     </g>\n     <g id=\"text_10\">\n      <!-- 100,000 -->\n      <defs>\n       <path d=\"M 12.40625 8.296875 \nL 28.515625 8.296875 \nL 28.515625 63.921875 \nL 10.984375 60.40625 \nL 10.984375 69.390625 \nL 28.421875 72.90625 \nL 38.28125 72.90625 \nL 38.28125 8.296875 \nL 54.390625 8.296875 \nL 54.390625 0 \nL 12.40625 0 \nz\n\" id=\"DejaVuSans-49\"/>\n      </defs>\n      <g transform=\"translate(20.878125 258.120954)scale(0.1 -0.1)\">\n       <use xlink:href=\"#DejaVuSans-49\"/>\n       <use x=\"63.623047\" xlink:href=\"#DejaVuSans-48\"/>\n       <use x=\"127.246094\" xlink:href=\"#DejaVuSans-48\"/>\n       <use x=\"190.869141\" xlink:href=\"#DejaVuSans-44\"/>\n       <use x=\"222.65625\" xlink:href=\"#DejaVuSans-48\"/>\n       <use x=\"286.279297\" xlink:href=\"#DejaVuSans-48\"/>\n       <use x=\"349.902344\" xlink:href=\"#DejaVuSans-48\"/>\n      </g>\n     </g>\n    </g>\n    <g id=\"ytick_7\">\n     <g id=\"line2d_11\">\n      <g>\n       <use style=\"stroke:#000000;stroke-width:0.8;\" x=\"69.23125\" xlink:href=\"#mad090520a6\" y=\"192.002457\"/>\n      </g>\n     </g>\n     <g id=\"text_11\">\n      <!-- 120,000 -->\n      <g transform=\"translate(20.878125 195.801676)scale(0.1 -0.1)\">\n       <use xlink:href=\"#DejaVuSans-49\"/>\n       <use x=\"63.623047\" xlink:href=\"#DejaVuSans-50\"/>\n       <use x=\"127.246094\" xlink:href=\"#DejaVuSans-48\"/>\n       <use x=\"190.869141\" xlink:href=\"#DejaVuSans-44\"/>\n       <use x=\"222.65625\" xlink:href=\"#DejaVuSans-48\"/>\n       <use x=\"286.279297\" xlink:href=\"#DejaVuSans-48\"/>\n       <use x=\"349.902344\" xlink:href=\"#DejaVuSans-48\"/>\n      </g>\n     </g>\n    </g>\n    <g id=\"ytick_8\">\n     <g id=\"line2d_12\">\n      <g>\n       <use style=\"stroke:#000000;stroke-width:0.8;\" x=\"69.23125\" xlink:href=\"#mad090520a6\" y=\"129.683179\"/>\n      </g>\n     </g>\n     <g id=\"text_12\">\n      <!-- 140,000 -->\n      <g transform=\"translate(20.878125 133.482398)scale(0.1 -0.1)\">\n       <use xlink:href=\"#DejaVuSans-49\"/>\n       <use x=\"63.623047\" xlink:href=\"#DejaVuSans-52\"/>\n       <use x=\"127.246094\" xlink:href=\"#DejaVuSans-48\"/>\n       <use x=\"190.869141\" xlink:href=\"#DejaVuSans-44\"/>\n       <use x=\"222.65625\" xlink:href=\"#DejaVuSans-48\"/>\n       <use x=\"286.279297\" xlink:href=\"#DejaVuSans-48\"/>\n       <use x=\"349.902344\" xlink:href=\"#DejaVuSans-48\"/>\n      </g>\n     </g>\n    </g>\n    <g id=\"ytick_9\">\n     <g id=\"line2d_13\">\n      <g>\n       <use style=\"stroke:#000000;stroke-width:0.8;\" x=\"69.23125\" xlink:href=\"#mad090520a6\" y=\"67.363901\"/>\n      </g>\n     </g>\n     <g id=\"text_13\">\n      <!-- 160,000 -->\n      <g transform=\"translate(20.878125 71.16312)scale(0.1 -0.1)\">\n       <use xlink:href=\"#DejaVuSans-49\"/>\n       <use x=\"63.623047\" xlink:href=\"#DejaVuSans-54\"/>\n       <use x=\"127.246094\" xlink:href=\"#DejaVuSans-48\"/>\n       <use x=\"190.869141\" xlink:href=\"#DejaVuSans-44\"/>\n       <use x=\"222.65625\" xlink:href=\"#DejaVuSans-48\"/>\n       <use x=\"286.279297\" xlink:href=\"#DejaVuSans-48\"/>\n       <use x=\"349.902344\" xlink:href=\"#DejaVuSans-48\"/>\n      </g>\n     </g>\n    </g>\n    <g id=\"text_14\">\n     <!-- Income -->\n     <defs>\n      <path d=\"M 9.8125 72.90625 \nL 19.671875 72.90625 \nL 19.671875 0 \nL 9.8125 0 \nz\n\" id=\"DejaVuSans-73\"/>\n      <path d=\"M 52 44.1875 \nQ 55.375 50.25 60.0625 53.125 \nQ 64.75 56 71.09375 56 \nQ 79.640625 56 84.28125 50.015625 \nQ 88.921875 44.046875 88.921875 33.015625 \nL 88.921875 0 \nL 79.890625 0 \nL 79.890625 32.71875 \nQ 79.890625 40.578125 77.09375 44.375 \nQ 74.3125 48.1875 68.609375 48.1875 \nQ 61.625 48.1875 57.5625 43.546875 \nQ 53.515625 38.921875 53.515625 30.90625 \nL 53.515625 0 \nL 44.484375 0 \nL 44.484375 32.71875 \nQ 44.484375 40.625 41.703125 44.40625 \nQ 38.921875 48.1875 33.109375 48.1875 \nQ 26.21875 48.1875 22.15625 43.53125 \nQ 18.109375 38.875 18.109375 30.90625 \nL 18.109375 0 \nL 9.078125 0 \nL 9.078125 54.6875 \nL 18.109375 54.6875 \nL 18.109375 46.1875 \nQ 21.1875 51.21875 25.484375 53.609375 \nQ 29.78125 56 35.6875 56 \nQ 41.65625 56 45.828125 52.96875 \nQ 50 49.953125 52 44.1875 \nz\n\" id=\"DejaVuSans-109\"/>\n     </defs>\n     <g transform=\"translate(14.798438 312.517344)rotate(-90)scale(0.1 -0.1)\">\n      <use xlink:href=\"#DejaVuSans-73\"/>\n      <use x=\"29.492188\" xlink:href=\"#DejaVuSans-110\"/>\n      <use x=\"92.871094\" xlink:href=\"#DejaVuSans-99\"/>\n      <use x=\"147.851562\" xlink:href=\"#DejaVuSans-111\"/>\n      <use x=\"209.033203\" xlink:href=\"#DejaVuSans-109\"/>\n      <use x=\"306.445312\" xlink:href=\"#DejaVuSans-101\"/>\n     </g>\n    </g>\n   </g>\n   <g id=\"patch_7\">\n    <path d=\"M 69.23125 565.918125 \nL 69.23125 22.318125 \n\" style=\"fill:none;stroke:#000000;stroke-linecap:square;stroke-linejoin:miter;stroke-width:0.8;\"/>\n   </g>\n   <g id=\"patch_8\">\n    <path d=\"M 627.23125 565.918125 \nL 627.23125 22.318125 \n\" style=\"fill:none;stroke:#000000;stroke-linecap:square;stroke-linejoin:miter;stroke-width:0.8;\"/>\n   </g>\n   <g id=\"patch_9\">\n    <path d=\"M 69.23125 565.918125 \nL 627.23125 565.918125 \n\" style=\"fill:none;stroke:#000000;stroke-linecap:square;stroke-linejoin:miter;stroke-width:0.8;\"/>\n   </g>\n   <g id=\"patch_10\">\n    <path d=\"M 69.23125 22.318125 \nL 627.23125 22.318125 \n\" style=\"fill:none;stroke:#000000;stroke-linecap:square;stroke-linejoin:miter;stroke-width:0.8;\"/>\n   </g>\n   <g id=\"text_15\">\n    <!-- Average Incomes Across Different Groups -->\n    <defs>\n     <path d=\"M 45.40625 27.984375 \nQ 45.40625 37.75 41.375 43.109375 \nQ 37.359375 48.484375 30.078125 48.484375 \nQ 22.859375 48.484375 18.828125 43.109375 \nQ 14.796875 37.75 14.796875 27.984375 \nQ 14.796875 18.265625 18.828125 12.890625 \nQ 22.859375 7.515625 30.078125 7.515625 \nQ 37.359375 7.515625 41.375 12.890625 \nQ 45.40625 18.265625 45.40625 27.984375 \nz\nM 54.390625 6.78125 \nQ 54.390625 -7.171875 48.1875 -13.984375 \nQ 42 -20.796875 29.203125 -20.796875 \nQ 24.46875 -20.796875 20.265625 -20.09375 \nQ 16.0625 -19.390625 12.109375 -17.921875 \nL 12.109375 -9.1875 \nQ 16.0625 -11.328125 19.921875 -12.34375 \nQ 23.78125 -13.375 27.78125 -13.375 \nQ 36.625 -13.375 41.015625 -8.765625 \nQ 45.40625 -4.15625 45.40625 5.171875 \nL 45.40625 9.625 \nQ 42.625 4.78125 38.28125 2.390625 \nQ 33.9375 0 27.875 0 \nQ 17.828125 0 11.671875 7.65625 \nQ 5.515625 15.328125 5.515625 27.984375 \nQ 5.515625 40.671875 11.671875 48.328125 \nQ 17.828125 56 27.875 56 \nQ 33.9375 56 38.28125 53.609375 \nQ 42.625 51.21875 45.40625 46.390625 \nL 45.40625 54.6875 \nL 54.390625 54.6875 \nz\n\" id=\"DejaVuSans-103\"/>\n     <path d=\"M 19.671875 64.796875 \nL 19.671875 8.109375 \nL 31.59375 8.109375 \nQ 46.6875 8.109375 53.6875 14.9375 \nQ 60.6875 21.78125 60.6875 36.53125 \nQ 60.6875 51.171875 53.6875 57.984375 \nQ 46.6875 64.796875 31.59375 64.796875 \nz\nM 9.8125 72.90625 \nL 30.078125 72.90625 \nQ 51.265625 72.90625 61.171875 64.09375 \nQ 71.09375 55.28125 71.09375 36.53125 \nQ 71.09375 17.671875 61.125 8.828125 \nQ 51.171875 0 30.078125 0 \nL 9.8125 0 \nz\n\" id=\"DejaVuSans-68\"/>\n     <path d=\"M 59.515625 10.40625 \nL 59.515625 29.984375 \nL 43.40625 29.984375 \nL 43.40625 38.09375 \nL 69.28125 38.09375 \nL 69.28125 6.78125 \nQ 63.578125 2.734375 56.6875 0.65625 \nQ 49.8125 -1.421875 42 -1.421875 \nQ 24.90625 -1.421875 15.25 8.5625 \nQ 5.609375 18.5625 5.609375 36.375 \nQ 5.609375 54.25 15.25 64.234375 \nQ 24.90625 74.21875 42 74.21875 \nQ 49.125 74.21875 55.546875 72.453125 \nQ 61.96875 70.703125 67.390625 67.28125 \nL 67.390625 56.78125 \nQ 61.921875 61.421875 55.765625 63.765625 \nQ 49.609375 66.109375 42.828125 66.109375 \nQ 29.4375 66.109375 22.71875 58.640625 \nQ 16.015625 51.171875 16.015625 36.375 \nQ 16.015625 21.625 22.71875 14.15625 \nQ 29.4375 6.6875 42.828125 6.6875 \nQ 48.046875 6.6875 52.140625 7.59375 \nQ 56.25 8.5 59.515625 10.40625 \nz\n\" id=\"DejaVuSans-71\"/>\n     <path d=\"M 18.109375 8.203125 \nL 18.109375 -20.796875 \nL 9.078125 -20.796875 \nL 9.078125 54.6875 \nL 18.109375 54.6875 \nL 18.109375 46.390625 \nQ 20.953125 51.265625 25.265625 53.625 \nQ 29.59375 56 35.59375 56 \nQ 45.5625 56 51.78125 48.09375 \nQ 58.015625 40.1875 58.015625 27.296875 \nQ 58.015625 14.40625 51.78125 6.484375 \nQ 45.5625 -1.421875 35.59375 -1.421875 \nQ 29.59375 -1.421875 25.265625 0.953125 \nQ 20.953125 3.328125 18.109375 8.203125 \nz\nM 48.6875 27.296875 \nQ 48.6875 37.203125 44.609375 42.84375 \nQ 40.53125 48.484375 33.40625 48.484375 \nQ 26.265625 48.484375 22.1875 42.84375 \nQ 18.109375 37.203125 18.109375 27.296875 \nQ 18.109375 17.390625 22.1875 11.75 \nQ 26.265625 6.109375 33.40625 6.109375 \nQ 40.53125 6.109375 44.609375 11.75 \nQ 48.6875 17.390625 48.6875 27.296875 \nz\n\" id=\"DejaVuSans-112\"/>\n    </defs>\n    <g transform=\"translate(223.436875 16.318125)scale(0.12 -0.12)\">\n     <use xlink:href=\"#DejaVuSans-65\"/>\n     <use x=\"62.533203\" xlink:href=\"#DejaVuSans-118\"/>\n     <use x=\"121.712891\" xlink:href=\"#DejaVuSans-101\"/>\n     <use x=\"183.236328\" xlink:href=\"#DejaVuSans-114\"/>\n     <use x=\"224.349609\" xlink:href=\"#DejaVuSans-97\"/>\n     <use x=\"285.628906\" xlink:href=\"#DejaVuSans-103\"/>\n     <use x=\"349.105469\" xlink:href=\"#DejaVuSans-101\"/>\n     <use x=\"410.628906\" xlink:href=\"#DejaVuSans-32\"/>\n     <use x=\"442.416016\" xlink:href=\"#DejaVuSans-73\"/>\n     <use x=\"471.908203\" xlink:href=\"#DejaVuSans-110\"/>\n     <use x=\"535.287109\" xlink:href=\"#DejaVuSans-99\"/>\n     <use x=\"590.267578\" xlink:href=\"#DejaVuSans-111\"/>\n     <use x=\"651.449219\" xlink:href=\"#DejaVuSans-109\"/>\n     <use x=\"748.861328\" xlink:href=\"#DejaVuSans-101\"/>\n     <use x=\"810.384766\" xlink:href=\"#DejaVuSans-115\"/>\n     <use x=\"862.484375\" xlink:href=\"#DejaVuSans-32\"/>\n     <use x=\"894.271484\" xlink:href=\"#DejaVuSans-65\"/>\n     <use x=\"960.929688\" xlink:href=\"#DejaVuSans-99\"/>\n     <use x=\"1015.910156\" xlink:href=\"#DejaVuSans-114\"/>\n     <use x=\"1054.773438\" xlink:href=\"#DejaVuSans-111\"/>\n     <use x=\"1115.955078\" xlink:href=\"#DejaVuSans-115\"/>\n     <use x=\"1168.054688\" xlink:href=\"#DejaVuSans-115\"/>\n     <use x=\"1220.154297\" xlink:href=\"#DejaVuSans-32\"/>\n     <use x=\"1251.941406\" xlink:href=\"#DejaVuSans-68\"/>\n     <use x=\"1328.943359\" xlink:href=\"#DejaVuSans-105\"/>\n     <use x=\"1356.726562\" xlink:href=\"#DejaVuSans-102\"/>\n     <use x=\"1391.931641\" xlink:href=\"#DejaVuSans-102\"/>\n     <use x=\"1427.136719\" xlink:href=\"#DejaVuSans-101\"/>\n     <use x=\"1488.660156\" xlink:href=\"#DejaVuSans-114\"/>\n     <use x=\"1527.523438\" xlink:href=\"#DejaVuSans-101\"/>\n     <use x=\"1589.046875\" xlink:href=\"#DejaVuSans-110\"/>\n     <use x=\"1652.425781\" xlink:href=\"#DejaVuSans-116\"/>\n     <use x=\"1691.634766\" xlink:href=\"#DejaVuSans-32\"/>\n     <use x=\"1723.421875\" xlink:href=\"#DejaVuSans-71\"/>\n     <use x=\"1800.912109\" xlink:href=\"#DejaVuSans-114\"/>\n     <use x=\"1839.775391\" xlink:href=\"#DejaVuSans-111\"/>\n     <use x=\"1900.957031\" xlink:href=\"#DejaVuSans-117\"/>\n     <use x=\"1964.335938\" xlink:href=\"#DejaVuSans-112\"/>\n     <use x=\"2027.8125\" xlink:href=\"#DejaVuSans-115\"/>\n    </g>\n   </g>\n  </g>\n </g>\n <defs>\n  <clipPath id=\"p1977b69949\">\n   <rect height=\"543.6\" width=\"558\" x=\"69.23125\" y=\"22.318125\"/>\n  </clipPath>\n </defs>\n</svg>\n",
      "image/png": "[encoded data removed]"
     },
     "metadata": {
      "needs_background": "light"
     }
    }
   ],
   "source": [
    "bcdi_incomes.plot(kind='bar', figsize = (10,10), legend=False, rot=0, ylabel = \"Income\", title=\"Average Incomes Across Different Groups\").get_yaxis().set_major_formatter(matplotlib.ticker.FuncFormatter(lambda x, p: format(int(x), ',')))"
   ]
  },
  {
   "cell_type": "code",
   "execution_count": null,
   "metadata": {},
   "outputs": [],
   "source": []
  },
  {
   "cell_type": "code",
   "execution_count": null,
   "metadata": {},
   "outputs": [],
   "source": []
  },
  {
   "cell_type": "code",
   "execution_count": 197,
   "metadata": {},
   "outputs": [
    {
     "output_type": "execute_result",
     "data": {
      "text/plain": [
       "[156298.90081015983, 166149.10588235295, 61887.58783008037, 128240.77130509767]"
      ]
     },
     "metadata": {},
     "execution_count": 197
    }
   ],
   "source": [
    "graph_incomes"
   ]
  },
  {
   "cell_type": "code",
   "execution_count": 198,
   "metadata": {},
   "outputs": [
    {
     "output_type": "execute_result",
     "data": {
      "text/plain": [
       "          year.name     ppsk  ... grade.points student.credit.hours\n",
       "12946     2015 Fall  2631969  ...          4.0                  2.0\n",
       "445416    2015 Fall  1473682  ...          NaN                  3.0\n",
       "445417    2015 Fall  1473682  ...          NaN                  2.0\n",
       "470319    2015 Fall  2422735  ...          NaN                  2.0\n",
       "490774    2015 Fall  2631969  ...          NaN                  NaN\n",
       "...             ...      ...  ...          ...                  ...\n",
       "6645    2019 Summer  2881722  ...          3.3                  3.0\n",
       "7797    2019 Summer  3104636  ...          3.7                  3.0\n",
       "12339   2019 Summer  3177362  ...          3.7                  2.0\n",
       "12697   2019 Summer  3180640  ...          4.0                  3.0\n",
       "12698   2019 Summer  3180640  ...          4.0                  3.0\n",
       "\n",
       "[348 rows x 17 columns]"
      ],
      "text/html": "<div>\n<style scoped>\n    .dataframe tbody tr th:only-of-type {\n        vertical-align: middle;\n    }\n\n    .dataframe tbody tr th {\n        vertical-align: top;\n    }\n\n    .dataframe thead th {\n        text-align: right;\n    }\n</style>\n<table border=\"1\" class=\"dataframe\">\n  <thead>\n    <tr style=\"text-align: right;\">\n      <th></th>\n      <th>year.name</th>\n      <th>ppsk</th>\n      <th>undergrad.status</th>\n      <th>course.department</th>\n      <th>course.subject</th>\n      <th>course.number</th>\n      <th>offering.type</th>\n      <th>section.number</th>\n      <th>ccn</th>\n      <th>room.share</th>\n      <th>course.title</th>\n      <th>instructor.name</th>\n      <th>grade.subtype</th>\n      <th>grade.type</th>\n      <th>grade.name</th>\n      <th>grade.points</th>\n      <th>student.credit.hours</th>\n    </tr>\n  </thead>\n  <tbody>\n    <tr>\n      <th>12946</th>\n      <td>2015 Fall</td>\n      <td>2631969</td>\n      <td>Undergraduate</td>\n      <td>Engineering Science</td>\n      <td>Design Innovation</td>\n      <td>90</td>\n      <td>Primary</td>\n      <td>1</td>\n      <td>18400</td>\n      <td>101548.0</td>\n      <td>Spec Topics Des Inv</td>\n      <td>Dennis Lieu</td>\n      <td>A</td>\n      <td>Letter Grade</td>\n      <td>A+</td>\n      <td>4.0</td>\n      <td>2.0</td>\n    </tr>\n    <tr>\n      <th>445416</th>\n      <td>2015 Fall</td>\n      <td>1473682</td>\n      <td>Undergraduate</td>\n      <td>Engineering Science</td>\n      <td>Design Innovation</td>\n      <td>90</td>\n      <td>Primary</td>\n      <td>2</td>\n      <td>18403</td>\n      <td>18403.0</td>\n      <td>Spec Topics Des Inv</td>\n      <td>Christopher Myers; Michael Shiloh</td>\n      <td>Administrative Code</td>\n      <td>Administrative Code</td>\n      <td>Unknown</td>\n      <td>NaN</td>\n      <td>3.0</td>\n    </tr>\n    <tr>\n      <th>445417</th>\n      <td>2015 Fall</td>\n      <td>1473682</td>\n      <td>Undergraduate</td>\n      <td>Engineering Science</td>\n      <td>Design Innovation</td>\n      <td>90</td>\n      <td>Primary</td>\n      <td>3</td>\n      <td>18406</td>\n      <td>18406.0</td>\n      <td>Spec Topics Des Inv</td>\n      <td>Robert Hennigar</td>\n      <td>Administrative Code</td>\n      <td>Administrative Code</td>\n      <td>Unknown</td>\n      <td>NaN</td>\n      <td>2.0</td>\n    </tr>\n    <tr>\n      <th>470319</th>\n      <td>2015 Fall</td>\n      <td>2422735</td>\n      <td>Undergraduate</td>\n      <td>Engineering Science</td>\n      <td>Design Innovation</td>\n      <td>90</td>\n      <td>Primary</td>\n      <td>3</td>\n      <td>18406</td>\n      <td>18406.0</td>\n      <td>Spec Topics Des Inv</td>\n      <td>Robert Hennigar</td>\n      <td>Administrative Code</td>\n      <td>Administrative Code</td>\n      <td>Unknown</td>\n      <td>NaN</td>\n      <td>2.0</td>\n    </tr>\n    <tr>\n      <th>490774</th>\n      <td>2015 Fall</td>\n      <td>2631969</td>\n      <td>Undergraduate</td>\n      <td>Engineering Science</td>\n      <td>Design Innovation</td>\n      <td>90</td>\n      <td>Secondary</td>\n      <td>101</td>\n      <td>18402</td>\n      <td>18402.0</td>\n      <td>Spec Topics Des Inv</td>\n      <td>Dennis Lieu</td>\n      <td>Administrative Code</td>\n      <td>Administrative Code</td>\n      <td>Unknown</td>\n      <td>NaN</td>\n      <td>NaN</td>\n    </tr>\n    <tr>\n      <th>...</th>\n      <td>...</td>\n      <td>...</td>\n      <td>...</td>\n      <td>...</td>\n      <td>...</td>\n      <td>...</td>\n      <td>...</td>\n      <td>...</td>\n      <td>...</td>\n      <td>...</td>\n      <td>...</td>\n      <td>...</td>\n      <td>...</td>\n      <td>...</td>\n      <td>...</td>\n      <td>...</td>\n      <td>...</td>\n    </tr>\n    <tr>\n      <th>6645</th>\n      <td>2019 Summer</td>\n      <td>2881722</td>\n      <td>Undergraduate</td>\n      <td>Design Innovation</td>\n      <td>Design Innovation</td>\n      <td>22</td>\n      <td>Primary</td>\n      <td>1</td>\n      <td>14718</td>\n      <td>14718.0</td>\n      <td>Prototype &amp; Fab</td>\n      <td>NaN</td>\n      <td>B</td>\n      <td>Letter Grade</td>\n      <td>B+</td>\n      <td>3.3</td>\n      <td>3.0</td>\n    </tr>\n    <tr>\n      <th>7797</th>\n      <td>2019 Summer</td>\n      <td>3104636</td>\n      <td>Undergraduate</td>\n      <td>Design Innovation</td>\n      <td>Design Innovation</td>\n      <td>15</td>\n      <td>Primary</td>\n      <td>1</td>\n      <td>14734</td>\n      <td>14734.0</td>\n      <td>Design Methodology</td>\n      <td>NaN</td>\n      <td>A</td>\n      <td>Letter Grade</td>\n      <td>A-</td>\n      <td>3.7</td>\n      <td>3.0</td>\n    </tr>\n    <tr>\n      <th>12339</th>\n      <td>2019 Summer</td>\n      <td>3177362</td>\n      <td>Undergraduate</td>\n      <td>Design Innovation</td>\n      <td>Design Innovation</td>\n      <td>190</td>\n      <td>Primary</td>\n      <td>7</td>\n      <td>11577</td>\n      <td>11577.0</td>\n      <td>Spec Topics Des Inv</td>\n      <td>NaN</td>\n      <td>A</td>\n      <td>Letter Grade</td>\n      <td>A-</td>\n      <td>3.7</td>\n      <td>2.0</td>\n    </tr>\n    <tr>\n      <th>12697</th>\n      <td>2019 Summer</td>\n      <td>3180640</td>\n      <td>Undergraduate</td>\n      <td>Design Innovation</td>\n      <td>Design Innovation</td>\n      <td>15</td>\n      <td>Primary</td>\n      <td>1</td>\n      <td>14734</td>\n      <td>14734.0</td>\n      <td>Design Methodology</td>\n      <td>NaN</td>\n      <td>A</td>\n      <td>Letter Grade</td>\n      <td>A</td>\n      <td>4.0</td>\n      <td>3.0</td>\n    </tr>\n    <tr>\n      <th>12698</th>\n      <td>2019 Summer</td>\n      <td>3180640</td>\n      <td>Undergraduate</td>\n      <td>Design Innovation</td>\n      <td>Design Innovation</td>\n      <td>21</td>\n      <td>Primary</td>\n      <td>1</td>\n      <td>14735</td>\n      <td>14735.0</td>\n      <td>Vis Comm &amp; Sketch</td>\n      <td>NaN</td>\n      <td>A</td>\n      <td>Letter Grade</td>\n      <td>A</td>\n      <td>4.0</td>\n      <td>3.0</td>\n    </tr>\n  </tbody>\n</table>\n<p>348 rows × 17 columns</p>\n</div>"
     },
     "metadata": {},
     "execution_count": 198
    }
   ],
   "source": [
    "#dnc_bcdi = student_courses[student_courses['ppsk'].isin(bcdi[bcdi['Did Not Complete Requirements'] == 'Y']['ppsk'])]\n",
    "dc_bcdi = student_courses[student_courses['ppsk'].isin(bcdi[bcdi['Completed Requirements'] == 'Y']['ppsk'])]\n",
    "dc_bcdi[dc_bcdi['course.subject'] == 'Design Innovation']\n",
    "#bcdi.merge(stem_paths[['ppsk', 'ethnic.l1', 'gender']], on='ppsk', how='inner').merge(reduced_cost, on='ppsk',how='left')#.groupby(['Full Waiver','Partial Waiver','Partial Exception','Did Not Complete Requirements']).count().unstack()['ppsk']\n",
    "\n",
    "#.merge(stem_paths[['ppsk', 'ethnic.l1', 'gender']], on='ppsk', how='left')"
   ]
  },
  {
   "cell_type": "code",
   "execution_count": 199,
   "metadata": {},
   "outputs": [
    {
     "output_type": "execute_result",
     "data": {
      "text/plain": [
       "       year.name     ppsk  ... student.credit.hours income.parent\n",
       "0      2012 Fall  1312478  ...                  4.0       44000.0\n",
       "1      2013 Fall  1473682  ...                  4.0      140000.0\n",
       "2      2013 Fall  1481454  ...                  4.0           NaN\n",
       "3    2013 Summer  1473962  ...                  4.0      600000.0\n",
       "4      2013 Fall  1480649  ...                  4.0       55000.0\n",
       "..           ...      ...  ...                  ...           ...\n",
       "172    2016 Fall  2744598  ...                  3.0      100000.0\n",
       "173    2016 Fall  2750707  ...                  3.0       43000.0\n",
       "174    2016 Fall  2752209  ...                  4.0           NaN\n",
       "175    2016 Fall  2735521  ...                  3.0           NaN\n",
       "176    2016 Fall  2745513  ...                  4.0           NaN\n",
       "\n",
       "[177 rows x 18 columns]"
      ],
      "text/html": "<div>\n<style scoped>\n    .dataframe tbody tr th:only-of-type {\n        vertical-align: middle;\n    }\n\n    .dataframe tbody tr th {\n        vertical-align: top;\n    }\n\n    .dataframe thead th {\n        text-align: right;\n    }\n</style>\n<table border=\"1\" class=\"dataframe\">\n  <thead>\n    <tr style=\"text-align: right;\">\n      <th></th>\n      <th>year.name</th>\n      <th>ppsk</th>\n      <th>undergrad.status</th>\n      <th>course.department</th>\n      <th>course.subject</th>\n      <th>course.number</th>\n      <th>offering.type</th>\n      <th>section.number</th>\n      <th>ccn</th>\n      <th>room.share</th>\n      <th>course.title</th>\n      <th>instructor.name</th>\n      <th>grade.subtype</th>\n      <th>grade.type</th>\n      <th>grade.name</th>\n      <th>grade.points</th>\n      <th>student.credit.hours</th>\n      <th>income.parent</th>\n    </tr>\n  </thead>\n  <tbody>\n    <tr>\n      <th>0</th>\n      <td>2012 Fall</td>\n      <td>1312478</td>\n      <td>Undergraduate</td>\n      <td>Anthropology</td>\n      <td>Anthropology</td>\n      <td>3AC</td>\n      <td>Primary</td>\n      <td>1</td>\n      <td>2372</td>\n      <td>2372.0</td>\n      <td>Intro Soc/Cult Ac</td>\n      <td>Corinne Hayden</td>\n      <td>B</td>\n      <td>Letter Grade</td>\n      <td>B+</td>\n      <td>3.3</td>\n      <td>4.0</td>\n      <td>44000.0</td>\n    </tr>\n    <tr>\n      <th>1</th>\n      <td>2013 Fall</td>\n      <td>1473682</td>\n      <td>Undergraduate</td>\n      <td>Anthropology</td>\n      <td>Anthropology</td>\n      <td>3AC</td>\n      <td>Primary</td>\n      <td>1</td>\n      <td>2372</td>\n      <td>2372.0</td>\n      <td>Intro Soc/Cult Ac</td>\n      <td>Xin Liu</td>\n      <td>A</td>\n      <td>Letter Grade</td>\n      <td>A+</td>\n      <td>4.0</td>\n      <td>4.0</td>\n      <td>140000.0</td>\n    </tr>\n    <tr>\n      <th>2</th>\n      <td>2013 Fall</td>\n      <td>1481454</td>\n      <td>Undergraduate</td>\n      <td>Art Practice</td>\n      <td>Art Practice</td>\n      <td>8</td>\n      <td>Primary</td>\n      <td>1</td>\n      <td>4303</td>\n      <td>4303.0</td>\n      <td>Intro Vis Thinking</td>\n      <td>John Mcnamara</td>\n      <td>A</td>\n      <td>Letter Grade</td>\n      <td>A+</td>\n      <td>4.0</td>\n      <td>4.0</td>\n      <td>NaN</td>\n    </tr>\n    <tr>\n      <th>3</th>\n      <td>2013 Summer</td>\n      <td>1473962</td>\n      <td>Undergraduate</td>\n      <td>Art Practice</td>\n      <td>Art Practice</td>\n      <td>12</td>\n      <td>Primary</td>\n      <td>2</td>\n      <td>14030</td>\n      <td>14030.0</td>\n      <td>Lang Of Draw</td>\n      <td>Dusadee Huntrakul</td>\n      <td>A</td>\n      <td>Letter Grade</td>\n      <td>A</td>\n      <td>4.0</td>\n      <td>4.0</td>\n      <td>600000.0</td>\n    </tr>\n    <tr>\n      <th>4</th>\n      <td>2013 Fall</td>\n      <td>1480649</td>\n      <td>Undergraduate</td>\n      <td>Comparative Literature</td>\n      <td>Comparative Literature</td>\n      <td>R1B</td>\n      <td>Primary</td>\n      <td>6</td>\n      <td>17239</td>\n      <td>17239.0</td>\n      <td>Engl Comp World Lit</td>\n      <td>Jocelyn Saidenberg; Michael Lucey; Ramsey Mcgl...</td>\n      <td>B</td>\n      <td>Letter Grade</td>\n      <td>B-</td>\n      <td>2.7</td>\n      <td>4.0</td>\n      <td>55000.0</td>\n    </tr>\n    <tr>\n      <th>...</th>\n      <td>...</td>\n      <td>...</td>\n      <td>...</td>\n      <td>...</td>\n      <td>...</td>\n      <td>...</td>\n      <td>...</td>\n      <td>...</td>\n      <td>...</td>\n      <td>...</td>\n      <td>...</td>\n      <td>...</td>\n      <td>...</td>\n      <td>...</td>\n      <td>...</td>\n      <td>...</td>\n      <td>...</td>\n      <td>...</td>\n    </tr>\n    <tr>\n      <th>172</th>\n      <td>2016 Fall</td>\n      <td>2744598</td>\n      <td>Undergraduate</td>\n      <td>Architecture</td>\n      <td>Environmental Design</td>\n      <td>1</td>\n      <td>Primary</td>\n      <td>1</td>\n      <td>12242</td>\n      <td>12242.0</td>\n      <td>Intro To Env Des</td>\n      <td>Nicholas de Monchaux</td>\n      <td>B</td>\n      <td>Letter Grade</td>\n      <td>B</td>\n      <td>3.0</td>\n      <td>3.0</td>\n      <td>100000.0</td>\n    </tr>\n    <tr>\n      <th>173</th>\n      <td>2016 Fall</td>\n      <td>2750707</td>\n      <td>Undergraduate</td>\n      <td>Nutritional Sciences &amp; Tox</td>\n      <td>Nutritional Science &amp; Tox</td>\n      <td>10</td>\n      <td>Primary</td>\n      <td>1</td>\n      <td>25877</td>\n      <td>25877.0</td>\n      <td>Intro Human Nutr</td>\n      <td>Kristen Rasmussen; Kristen Rasmussen; Marc Hel...</td>\n      <td>B</td>\n      <td>Letter Grade</td>\n      <td>B</td>\n      <td>3.0</td>\n      <td>3.0</td>\n      <td>43000.0</td>\n    </tr>\n    <tr>\n      <th>174</th>\n      <td>2016 Fall</td>\n      <td>2752209</td>\n      <td>Undergraduate</td>\n      <td>Philosophy</td>\n      <td>Philosophy</td>\n      <td>6</td>\n      <td>Primary</td>\n      <td>1</td>\n      <td>31457</td>\n      <td>31457.0</td>\n      <td>Man, God/Soc W Lit</td>\n      <td>Hubert Dreyfus; Joseph Kassman-Tod; Omar Fakhri</td>\n      <td>B</td>\n      <td>Letter Grade</td>\n      <td>B</td>\n      <td>3.0</td>\n      <td>4.0</td>\n      <td>NaN</td>\n    </tr>\n    <tr>\n      <th>175</th>\n      <td>2016 Fall</td>\n      <td>2735521</td>\n      <td>Undergraduate</td>\n      <td>Architecture</td>\n      <td>Environmental Design</td>\n      <td>1</td>\n      <td>Primary</td>\n      <td>1</td>\n      <td>12242</td>\n      <td>12242.0</td>\n      <td>Intro To Env Des</td>\n      <td>Nicholas de Monchaux</td>\n      <td>B</td>\n      <td>Letter Grade</td>\n      <td>B-</td>\n      <td>2.7</td>\n      <td>3.0</td>\n      <td>NaN</td>\n    </tr>\n    <tr>\n      <th>176</th>\n      <td>2016 Fall</td>\n      <td>2745513</td>\n      <td>Undergraduate</td>\n      <td>Mathematics</td>\n      <td>Mathematics</td>\n      <td>1B</td>\n      <td>Primary</td>\n      <td>2</td>\n      <td>18958</td>\n      <td>18958.0</td>\n      <td>Calculus</td>\n      <td>Archit Kulkarni; Felix Gotti; Luhang Lai; Mere...</td>\n      <td>C</td>\n      <td>Letter Grade</td>\n      <td>C+</td>\n      <td>2.3</td>\n      <td>4.0</td>\n      <td>NaN</td>\n    </tr>\n  </tbody>\n</table>\n<p>177 rows × 18 columns</p>\n</div>"
     },
     "metadata": {},
     "execution_count": 199
    }
   ],
   "source": [
    "dc_bcdi[~dc_bcdi['ppsk'].duplicated()].merge(stem_paths[['income.parent','ppsk']], on='ppsk')"
   ]
  },
  {
   "cell_type": "code",
   "execution_count": 200,
   "metadata": {},
   "outputs": [],
   "source": [
    "dnc_bcdi = student_courses[student_courses['ppsk'].isin(bcdi[bcdi['Did Not Complete Requirements'] == 'Y']['ppsk'])]"
   ]
  },
  {
   "cell_type": "code",
   "execution_count": 201,
   "metadata": {},
   "outputs": [
    {
     "output_type": "execute_result",
     "data": {
      "text/plain": [
       "     year.name     ppsk  ... student.credit.hours income.parent\n",
       "0    2015 Fall  2638773  ...                  3.0      189000.0\n",
       "1    2015 Fall  2638811  ...                  1.0       80000.0\n",
       "2    2015 Fall  2635270  ...                  4.0      283000.0\n",
       "3  2016 Spring  2641443  ...                  3.0      500000.0\n",
       "4    2016 Fall  2767761  ...                  4.0           NaN\n",
       "5    2016 Fall  2854279  ...                  4.0      500000.0\n",
       "6    2016 Fall  2731020  ...                  4.0      210000.0\n",
       "\n",
       "[7 rows x 18 columns]"
      ],
      "text/html": "<div>\n<style scoped>\n    .dataframe tbody tr th:only-of-type {\n        vertical-align: middle;\n    }\n\n    .dataframe tbody tr th {\n        vertical-align: top;\n    }\n\n    .dataframe thead th {\n        text-align: right;\n    }\n</style>\n<table border=\"1\" class=\"dataframe\">\n  <thead>\n    <tr style=\"text-align: right;\">\n      <th></th>\n      <th>year.name</th>\n      <th>ppsk</th>\n      <th>undergrad.status</th>\n      <th>course.department</th>\n      <th>course.subject</th>\n      <th>course.number</th>\n      <th>offering.type</th>\n      <th>section.number</th>\n      <th>ccn</th>\n      <th>room.share</th>\n      <th>course.title</th>\n      <th>instructor.name</th>\n      <th>grade.subtype</th>\n      <th>grade.type</th>\n      <th>grade.name</th>\n      <th>grade.points</th>\n      <th>student.credit.hours</th>\n      <th>income.parent</th>\n    </tr>\n  </thead>\n  <tbody>\n    <tr>\n      <th>0</th>\n      <td>2015 Fall</td>\n      <td>2638773</td>\n      <td>Undergraduate</td>\n      <td>Env Sci, Policy, &amp; Mgmt</td>\n      <td>Env Sci, Policy, &amp; Mgmt</td>\n      <td>2</td>\n      <td>Primary</td>\n      <td>1</td>\n      <td>29153</td>\n      <td>29153.0</td>\n      <td>The Biosphere</td>\n      <td>Dennis Baldocchi</td>\n      <td>A</td>\n      <td>Letter Grade</td>\n      <td>A</td>\n      <td>4.0</td>\n      <td>3.0</td>\n      <td>189000.0</td>\n    </tr>\n    <tr>\n      <th>1</th>\n      <td>2015 Fall</td>\n      <td>2638811</td>\n      <td>Undergraduate</td>\n      <td>Chemistry</td>\n      <td>Chemistry</td>\n      <td>1AL</td>\n      <td>Primary</td>\n      <td>1</td>\n      <td>11312</td>\n      <td>11312.0</td>\n      <td>General Chem Lab</td>\n      <td>Matthew Hauwiller; Michelle Douskey</td>\n      <td>A</td>\n      <td>Letter Grade</td>\n      <td>A</td>\n      <td>4.0</td>\n      <td>1.0</td>\n      <td>80000.0</td>\n    </tr>\n    <tr>\n      <th>2</th>\n      <td>2015 Fall</td>\n      <td>2635270</td>\n      <td>Undergraduate</td>\n      <td>Comparative Literature</td>\n      <td>Comparative Literature</td>\n      <td>R1B</td>\n      <td>Primary</td>\n      <td>11</td>\n      <td>17257</td>\n      <td>17257.0</td>\n      <td>Engl Comp World Lit</td>\n      <td>Alexandra Brostoff; Taylor Johnston; Victoria ...</td>\n      <td>B</td>\n      <td>Letter Grade</td>\n      <td>B</td>\n      <td>3.0</td>\n      <td>4.0</td>\n      <td>283000.0</td>\n    </tr>\n    <tr>\n      <th>3</th>\n      <td>2016 Spring</td>\n      <td>2641443</td>\n      <td>Undergraduate</td>\n      <td>Nutritional Sciences &amp; Tox</td>\n      <td>Nutritional Science &amp; Tox</td>\n      <td>11</td>\n      <td>Primary</td>\n      <td>1</td>\n      <td>64596</td>\n      <td>64596.0</td>\n      <td>Intro To Toxicology</td>\n      <td>Daniel Nomura; Jen Chywan Wang</td>\n      <td>A</td>\n      <td>Letter Grade</td>\n      <td>A+</td>\n      <td>4.0</td>\n      <td>3.0</td>\n      <td>500000.0</td>\n    </tr>\n    <tr>\n      <th>4</th>\n      <td>2016 Fall</td>\n      <td>2767761</td>\n      <td>Undergraduate</td>\n      <td>Psychology</td>\n      <td>Psychology</td>\n      <td>101</td>\n      <td>Primary</td>\n      <td>1</td>\n      <td>22235</td>\n      <td>290.0</td>\n      <td>Res &amp; Data Anal</td>\n      <td>Arman Catterson; Arman Catterson</td>\n      <td>A</td>\n      <td>Letter Grade</td>\n      <td>A</td>\n      <td>4.0</td>\n      <td>4.0</td>\n      <td>NaN</td>\n    </tr>\n    <tr>\n      <th>5</th>\n      <td>2016 Fall</td>\n      <td>2854279</td>\n      <td>Undergraduate</td>\n      <td>Sociology</td>\n      <td>Sociology</td>\n      <td>160</td>\n      <td>Primary</td>\n      <td>1</td>\n      <td>23553</td>\n      <td>23553.0</td>\n      <td>Sociol Of Culture</td>\n      <td>Jill Bakehorn</td>\n      <td>A</td>\n      <td>Letter Grade</td>\n      <td>A</td>\n      <td>4.0</td>\n      <td>4.0</td>\n      <td>500000.0</td>\n    </tr>\n    <tr>\n      <th>6</th>\n      <td>2016 Fall</td>\n      <td>2731020</td>\n      <td>Undergraduate</td>\n      <td>Economics</td>\n      <td>Economics</td>\n      <td>1</td>\n      <td>Primary</td>\n      <td>1</td>\n      <td>14421</td>\n      <td>14421.0</td>\n      <td>Intro To Economics</td>\n      <td>Andrew Spreen; Martha Olney</td>\n      <td>A</td>\n      <td>Letter Grade</td>\n      <td>A-</td>\n      <td>3.7</td>\n      <td>4.0</td>\n      <td>210000.0</td>\n    </tr>\n  </tbody>\n</table>\n</div>"
     },
     "metadata": {},
     "execution_count": 201
    }
   ],
   "source": [
    "dnc_bcdi[~dnc_bcdi['ppsk'].duplicated()].merge(stem_paths[['income.parent','ppsk']], on='ppsk')"
   ]
  },
  {
   "cell_type": "code",
   "execution_count": 202,
   "metadata": {},
   "outputs": [
    {
     "output_type": "execute_result",
     "data": {
      "text/plain": [
       "Empty DataFrame\n",
       "Columns: [ppsk, Completed Requirements, Did Not Complete Requirements, Currently Pursuing]\n",
       "Index: []"
      ],
      "text/html": "<div>\n<style scoped>\n    .dataframe tbody tr th:only-of-type {\n        vertical-align: middle;\n    }\n\n    .dataframe tbody tr th {\n        vertical-align: top;\n    }\n\n    .dataframe thead th {\n        text-align: right;\n    }\n</style>\n<table border=\"1\" class=\"dataframe\">\n  <thead>\n    <tr style=\"text-align: right;\">\n      <th></th>\n      <th>ppsk</th>\n      <th>Completed Requirements</th>\n      <th>Did Not Complete Requirements</th>\n      <th>Currently Pursuing</th>\n    </tr>\n  </thead>\n  <tbody>\n  </tbody>\n</table>\n</div>"
     },
     "metadata": {},
     "execution_count": 202
    }
   ],
   "source": [
    "test = bcdi[bcdi['Completed Requirements'] == 'Y']\n",
    "test[test['ppsk'].duplicated()]"
   ]
  },
  {
   "cell_type": "code",
   "execution_count": 203,
   "metadata": {},
   "outputs": [
    {
     "output_type": "execute_result",
     "data": {
      "text/plain": [
       "        ppsk  ... Currently Pursuing\n",
       "116  2734380  ...                  N\n",
       "\n",
       "[1 rows x 4 columns]"
      ],
      "text/html": "<div>\n<style scoped>\n    .dataframe tbody tr th:only-of-type {\n        vertical-align: middle;\n    }\n\n    .dataframe tbody tr th {\n        vertical-align: top;\n    }\n\n    .dataframe thead th {\n        text-align: right;\n    }\n</style>\n<table border=\"1\" class=\"dataframe\">\n  <thead>\n    <tr style=\"text-align: right;\">\n      <th></th>\n      <th>ppsk</th>\n      <th>Completed Requirements</th>\n      <th>Did Not Complete Requirements</th>\n      <th>Currently Pursuing</th>\n    </tr>\n  </thead>\n  <tbody>\n    <tr>\n      <th>116</th>\n      <td>2734380</td>\n      <td>Y</td>\n      <td>N</td>\n      <td>N</td>\n    </tr>\n  </tbody>\n</table>\n</div>"
     },
     "metadata": {},
     "execution_count": 203
    }
   ],
   "source": [
    "test.loc[test['ppsk'] == 2734380]"
   ]
  },
  {
   "cell_type": "code",
   "execution_count": null,
   "metadata": {},
   "outputs": [],
   "source": []
  },
  {
   "cell_type": "code",
   "execution_count": 204,
   "metadata": {},
   "outputs": [
    {
     "output_type": "execute_result",
     "data": {
      "text/plain": [
       "        ppsk  ... Currently Pursuing\n",
       "0    1312478  ...                  N\n",
       "1    1481454  ...                  N\n",
       "2    1473682  ...                  N\n",
       "3    2760999  ...                  N\n",
       "4    2632164  ...                  N\n",
       "..       ...  ...                ...\n",
       "225  2867451  ...                  N\n",
       "226  3195394  ...                  N\n",
       "227  3166566  ...                  N\n",
       "228  3150997  ...                  N\n",
       "229  2738481  ...                  N\n",
       "\n",
       "[220 rows x 4 columns]"
      ],
      "text/html": "<div>\n<style scoped>\n    .dataframe tbody tr th:only-of-type {\n        vertical-align: middle;\n    }\n\n    .dataframe tbody tr th {\n        vertical-align: top;\n    }\n\n    .dataframe thead th {\n        text-align: right;\n    }\n</style>\n<table border=\"1\" class=\"dataframe\">\n  <thead>\n    <tr style=\"text-align: right;\">\n      <th></th>\n      <th>ppsk</th>\n      <th>Completed Requirements</th>\n      <th>Did Not Complete Requirements</th>\n      <th>Currently Pursuing</th>\n    </tr>\n  </thead>\n  <tbody>\n    <tr>\n      <th>0</th>\n      <td>1312478</td>\n      <td>Y</td>\n      <td>N</td>\n      <td>N</td>\n    </tr>\n    <tr>\n      <th>1</th>\n      <td>1481454</td>\n      <td>Y</td>\n      <td>N</td>\n      <td>N</td>\n    </tr>\n    <tr>\n      <th>2</th>\n      <td>1473682</td>\n      <td>Y</td>\n      <td>N</td>\n      <td>N</td>\n    </tr>\n    <tr>\n      <th>3</th>\n      <td>2760999</td>\n      <td>Y</td>\n      <td>N</td>\n      <td>N</td>\n    </tr>\n    <tr>\n      <th>4</th>\n      <td>2632164</td>\n      <td>Y</td>\n      <td>N</td>\n      <td>N</td>\n    </tr>\n    <tr>\n      <th>...</th>\n      <td>...</td>\n      <td>...</td>\n      <td>...</td>\n      <td>...</td>\n    </tr>\n    <tr>\n      <th>225</th>\n      <td>2867451</td>\n      <td>Y</td>\n      <td>N</td>\n      <td>N</td>\n    </tr>\n    <tr>\n      <th>226</th>\n      <td>3195394</td>\n      <td>Y</td>\n      <td>N</td>\n      <td>N</td>\n    </tr>\n    <tr>\n      <th>227</th>\n      <td>3166566</td>\n      <td>Y</td>\n      <td>N</td>\n      <td>N</td>\n    </tr>\n    <tr>\n      <th>228</th>\n      <td>3150997</td>\n      <td>Y</td>\n      <td>N</td>\n      <td>N</td>\n    </tr>\n    <tr>\n      <th>229</th>\n      <td>2738481</td>\n      <td>Y</td>\n      <td>N</td>\n      <td>N</td>\n    </tr>\n  </tbody>\n</table>\n<p>220 rows × 4 columns</p>\n</div>"
     },
     "metadata": {},
     "execution_count": 204
    }
   ],
   "source": [
    "test"
   ]
  },
  {
   "cell_type": "code",
   "execution_count": null,
   "metadata": {},
   "outputs": [],
   "source": []
  },
  {
   "source": [
    "## Could see if people who graduated are included in 'did not complete requirements'"
   ],
   "cell_type": "markdown",
   "metadata": {}
  },
  {
   "cell_type": "code",
   "execution_count": 205,
   "metadata": {},
   "outputs": [
    {
     "output_type": "execute_result",
     "data": {
      "text/plain": [
       "          year.name     ppsk  ... grade.points student.credit.hours\n",
       "164836    2012 Fall  1312478  ...          3.3                  4.0\n",
       "213507    2012 Fall  1312478  ...          2.7                  3.0\n",
       "296268    2012 Fall  1312478  ...          NaN                  4.0\n",
       "296269    2012 Fall  1312478  ...          NaN                  1.0\n",
       "296270    2012 Fall  1312478  ...          NaN                  2.0\n",
       "...             ...      ...  ...          ...                  ...\n",
       "12222   2019 Summer  3176029  ...          3.0                  3.0\n",
       "12339   2019 Summer  3177362  ...          3.7                  2.0\n",
       "12697   2019 Summer  3180640  ...          4.0                  3.0\n",
       "12698   2019 Summer  3180640  ...          4.0                  3.0\n",
       "14100   2019 Summer  3195394  ...          4.0                  4.0\n",
       "\n",
       "[9314 rows x 17 columns]"
      ],
      "text/html": "<div>\n<style scoped>\n    .dataframe tbody tr th:only-of-type {\n        vertical-align: middle;\n    }\n\n    .dataframe tbody tr th {\n        vertical-align: top;\n    }\n\n    .dataframe thead th {\n        text-align: right;\n    }\n</style>\n<table border=\"1\" class=\"dataframe\">\n  <thead>\n    <tr style=\"text-align: right;\">\n      <th></th>\n      <th>year.name</th>\n      <th>ppsk</th>\n      <th>undergrad.status</th>\n      <th>course.department</th>\n      <th>course.subject</th>\n      <th>course.number</th>\n      <th>offering.type</th>\n      <th>section.number</th>\n      <th>ccn</th>\n      <th>room.share</th>\n      <th>course.title</th>\n      <th>instructor.name</th>\n      <th>grade.subtype</th>\n      <th>grade.type</th>\n      <th>grade.name</th>\n      <th>grade.points</th>\n      <th>student.credit.hours</th>\n    </tr>\n  </thead>\n  <tbody>\n    <tr>\n      <th>164836</th>\n      <td>2012 Fall</td>\n      <td>1312478</td>\n      <td>Undergraduate</td>\n      <td>Anthropology</td>\n      <td>Anthropology</td>\n      <td>3AC</td>\n      <td>Primary</td>\n      <td>1</td>\n      <td>2372</td>\n      <td>2372.0</td>\n      <td>Intro Soc/Cult Ac</td>\n      <td>Corinne Hayden</td>\n      <td>B</td>\n      <td>Letter Grade</td>\n      <td>B+</td>\n      <td>3.3</td>\n      <td>4.0</td>\n    </tr>\n    <tr>\n      <th>213507</th>\n      <td>2012 Fall</td>\n      <td>1312478</td>\n      <td>Undergraduate</td>\n      <td>Nutritional Sciences &amp; Tox</td>\n      <td>Nutritional Science &amp; Tox</td>\n      <td>10</td>\n      <td>Primary</td>\n      <td>1</td>\n      <td>64503</td>\n      <td>64503.0</td>\n      <td>Intro Human Nutr</td>\n      <td>Nastaran Faghihnia; Robert Ryan</td>\n      <td>B</td>\n      <td>Letter Grade</td>\n      <td>B-</td>\n      <td>2.7</td>\n      <td>3.0</td>\n    </tr>\n    <tr>\n      <th>296268</th>\n      <td>2012 Fall</td>\n      <td>1312478</td>\n      <td>Undergraduate</td>\n      <td>Economics</td>\n      <td>Economics</td>\n      <td>C3</td>\n      <td>Primary</td>\n      <td>1</td>\n      <td>22378</td>\n      <td>204928.0</td>\n      <td>Intro To Env Econ</td>\n      <td>Peter Berck</td>\n      <td>Credit</td>\n      <td>Non-Letter Grade</td>\n      <td>Pass</td>\n      <td>NaN</td>\n      <td>4.0</td>\n    </tr>\n    <tr>\n      <th>296269</th>\n      <td>2012 Fall</td>\n      <td>1312478</td>\n      <td>Undergraduate</td>\n      <td>Interdisc Social Science Pgms</td>\n      <td>Peace &amp; Conflict Studies</td>\n      <td>94</td>\n      <td>Primary</td>\n      <td>1</td>\n      <td>66730</td>\n      <td>66730.0</td>\n      <td>Meditation</td>\n      <td>Americ Azevedo</td>\n      <td>Credit</td>\n      <td>Non-Letter Grade</td>\n      <td>Pass</td>\n      <td>NaN</td>\n      <td>1.0</td>\n    </tr>\n    <tr>\n      <th>296270</th>\n      <td>2012 Fall</td>\n      <td>1312478</td>\n      <td>Undergraduate</td>\n      <td>UG Interdisciplinary Studies</td>\n      <td>Letters &amp; Science</td>\n      <td>1</td>\n      <td>Primary</td>\n      <td>1</td>\n      <td>51803</td>\n      <td>51803.0</td>\n      <td>Liberal Arts</td>\n      <td>Alix Schwartz</td>\n      <td>Credit</td>\n      <td>Non-Letter Grade</td>\n      <td>Pass</td>\n      <td>NaN</td>\n      <td>2.0</td>\n    </tr>\n    <tr>\n      <th>...</th>\n      <td>...</td>\n      <td>...</td>\n      <td>...</td>\n      <td>...</td>\n      <td>...</td>\n      <td>...</td>\n      <td>...</td>\n      <td>...</td>\n      <td>...</td>\n      <td>...</td>\n      <td>...</td>\n      <td>...</td>\n      <td>...</td>\n      <td>...</td>\n      <td>...</td>\n      <td>...</td>\n      <td>...</td>\n    </tr>\n    <tr>\n      <th>12222</th>\n      <td>2019 Summer</td>\n      <td>3176029</td>\n      <td>Undergraduate</td>\n      <td>Nutritional Sciences &amp; Tox</td>\n      <td>Nutritional Science &amp; Tox</td>\n      <td>W104</td>\n      <td>Primary</td>\n      <td>1</td>\n      <td>14587</td>\n      <td>14587.0</td>\n      <td>Food Culture Env</td>\n      <td>NaN</td>\n      <td>B</td>\n      <td>Letter Grade</td>\n      <td>B</td>\n      <td>3.0</td>\n      <td>3.0</td>\n    </tr>\n    <tr>\n      <th>12339</th>\n      <td>2019 Summer</td>\n      <td>3177362</td>\n      <td>Undergraduate</td>\n      <td>Design Innovation</td>\n      <td>Design Innovation</td>\n      <td>190</td>\n      <td>Primary</td>\n      <td>7</td>\n      <td>11577</td>\n      <td>11577.0</td>\n      <td>Spec Topics Des Inv</td>\n      <td>NaN</td>\n      <td>A</td>\n      <td>Letter Grade</td>\n      <td>A-</td>\n      <td>3.7</td>\n      <td>2.0</td>\n    </tr>\n    <tr>\n      <th>12697</th>\n      <td>2019 Summer</td>\n      <td>3180640</td>\n      <td>Undergraduate</td>\n      <td>Design Innovation</td>\n      <td>Design Innovation</td>\n      <td>15</td>\n      <td>Primary</td>\n      <td>1</td>\n      <td>14734</td>\n      <td>14734.0</td>\n      <td>Design Methodology</td>\n      <td>NaN</td>\n      <td>A</td>\n      <td>Letter Grade</td>\n      <td>A</td>\n      <td>4.0</td>\n      <td>3.0</td>\n    </tr>\n    <tr>\n      <th>12698</th>\n      <td>2019 Summer</td>\n      <td>3180640</td>\n      <td>Undergraduate</td>\n      <td>Design Innovation</td>\n      <td>Design Innovation</td>\n      <td>21</td>\n      <td>Primary</td>\n      <td>1</td>\n      <td>14735</td>\n      <td>14735.0</td>\n      <td>Vis Comm &amp; Sketch</td>\n      <td>NaN</td>\n      <td>A</td>\n      <td>Letter Grade</td>\n      <td>A</td>\n      <td>4.0</td>\n      <td>3.0</td>\n    </tr>\n    <tr>\n      <th>14100</th>\n      <td>2019 Summer</td>\n      <td>3195394</td>\n      <td>Undergraduate</td>\n      <td>Electrical Eng &amp; Computer Sci</td>\n      <td>Computer Science</td>\n      <td>C8</td>\n      <td>Primary</td>\n      <td>1</td>\n      <td>14720</td>\n      <td>25.0</td>\n      <td>Foundation Data Sci</td>\n      <td>NaN</td>\n      <td>A</td>\n      <td>Letter Grade</td>\n      <td>A+</td>\n      <td>4.0</td>\n      <td>4.0</td>\n    </tr>\n  </tbody>\n</table>\n<p>9314 rows × 17 columns</p>\n</div>"
     },
     "metadata": {},
     "execution_count": 205
    }
   ],
   "source": [
    "student_courses[student_courses['ppsk'].isin(bcdi[bcdi['Completed Requirements'] == 'Y']['ppsk'])]"
   ]
  },
  {
   "cell_type": "code",
   "execution_count": 206,
   "metadata": {},
   "outputs": [
    {
     "output_type": "execute_result",
     "data": {
      "text/plain": [
       "230    2767761\n",
       "231    3128530\n",
       "232    3130717\n",
       "233    2641443\n",
       "234    3123364\n",
       "235    2854279\n",
       "236    2638811\n",
       "237    2635270\n",
       "238    2638773\n",
       "239    2731020\n",
       "Name: ppsk, dtype: int64"
      ]
     },
     "metadata": {},
     "execution_count": 206
    }
   ],
   "source": [
    "bcdi[bcdi['Did Not Complete Requirements'] == 'Y']['ppsk']"
   ]
  },
  {
   "cell_type": "code",
   "execution_count": null,
   "metadata": {},
   "outputs": [],
   "source": []
  }
 ]
}