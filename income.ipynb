{
 "metadata": {
  "orig_nbformat": 2,
  "kernelspec": {
   "name": "python3",
   "display_name": "Python 3"
  }
 },
 "nbformat": 4,
 "nbformat_minor": 2,
 "cells": [
  {
   "cell_type": "code",
   "execution_count": null,
   "metadata": {},
   "outputs": [],
   "source": [
    "import pandas as pd\n",
    "import numpy as np\n",
    "import seaborn as sns\n",
    "import matplotlib.pyplot as plt"
   ]
  },
  {
   "cell_type": "code",
   "execution_count": null,
   "metadata": {},
   "outputs": [],
   "source": [
    "%store -r student_courses\n",
    "%store -r student_majors\n",
    "%store -r stem_paths\n",
    "%store -r jacobs\n",
    "%store -r jacobs_ethnicities\n",
    "%store -r bcdi\n",
    "%store -r waivers\n",
    "%store -r beeps"
   ]
  }
 ]
}