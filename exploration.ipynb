{
 "metadata": {
  "language_info": {
   "codemirror_mode": {
    "name": "ipython",
    "version": 3
   },
   "file_extension": ".py",
   "mimetype": "text/x-python",
   "name": "python",
   "nbconvert_exporter": "python",
   "pygments_lexer": "ipython3",
   "version": "3.8.2-final"
  },
  "orig_nbformat": 2,
  "kernelspec": {
   "name": "python3",
   "display_name": "Python 3.8.2 64-bit",
   "metadata": {
    "interpreter": {
     "hash": "31f2aee4e71d21fbe5cf8b01ff0e069b9275f58929596ceb00d14d90e3e16cd6"
    }
   }
  }
 },
 "nbformat": 4,
 "nbformat_minor": 2,
 "cells": [
  {
   "cell_type": "code",
   "execution_count": 3,
   "metadata": {},
   "outputs": [],
   "source": [
    "import pandas as pd\n",
    "import numpy as np\n",
    "import seaborn as sns\n",
    "import matplotlib.pyplot as plt\n",
    "import glob"
   ]
  },
  {
   "cell_type": "code",
   "execution_count": 4,
   "metadata": {},
   "outputs": [],
   "source": [
    "# reading files to variables\n",
    "df = pd.DataFrame()\n",
    "files = glob.glob(\"data/*.txt\")\n",
    "course_data = glob.glob(\"data/uc.berkeley.student.course.data.*.txt\")\n",
    "majors = glob.glob(\"data/uc.berkeley.student.majors.*.txt\")\n",
    "pathways = glob.glob(\"data/uc.berkeley.stem.*.txt\")"
   ]
  },
  {
   "cell_type": "code",
   "execution_count": 9,
   "metadata": {},
   "outputs": [
    {
     "output_type": "execute_result",
     "data": {
      "text/plain": [
       "['data/uc.berkeley.stem.pathways.2007.2018.txt',\n",
       " 'data/uc.berkeley.stem.pathways.2007.2017.txt']"
      ]
     },
     "metadata": {},
     "execution_count": 9
    }
   ],
   "source": [
    "pathways"
   ]
  },
  {
   "cell_type": "code",
   "execution_count": 13,
   "metadata": {},
   "outputs": [],
   "source": [
    "stem2017 = pd.read_table(pathways[1])\n",
    "stem2018 = pd.read_table(pathways[0])\n",
    "data2017 = stem2017.groupby(['year','ethnic.l1']).count().unstack()['ppsk']\n",
    "data2018 = stem2018.groupby(['year','ethnic.l1']).count().unstack()['ppsk']"
   ]
  },
  {
   "cell_type": "code",
   "execution_count": 102,
   "metadata": {},
   "outputs": [
    {
     "output_type": "execute_result",
     "data": {
      "text/plain": [
       "ethnic.l1  Asian/Pacific Islander  International  Underrepresented Minority  \\\n",
       "year                                                                          \n",
       "2007                         2346            111                        763   \n",
       "2008                         2307            332                        733   \n",
       "2009                         2259            295                        771   \n",
       "2010                         2167            442                        719   \n",
       "2011                         2312            601                        814   \n",
       "2012                         2300            541                        828   \n",
       "2013                         2337            835                        824   \n",
       "2014                         2707            730                       1135   \n",
       "2015                         2477            675                        942   \n",
       "2016                         2723            748                       1053   \n",
       "2017                         2718            748                       1096   \n",
       "2018                         2585            851                       1126   \n",
       "\n",
       "ethnic.l1  White/Other  \n",
       "year                    \n",
       "2007              1909  \n",
       "2008              1882  \n",
       "2009              1910  \n",
       "2010              1820  \n",
       "2011              1650  \n",
       "2012              1514  \n",
       "2013              1655  \n",
       "2014              1916  \n",
       "2015              1700  \n",
       "2016              1908  \n",
       "2017              1887  \n",
       "2018              1619  "
      ],
      "text/html": "<div>\n<style scoped>\n    .dataframe tbody tr th:only-of-type {\n        vertical-align: middle;\n    }\n\n    .dataframe tbody tr th {\n        vertical-align: top;\n    }\n\n    .dataframe thead th {\n        text-align: right;\n    }\n</style>\n<table border=\"1\" class=\"dataframe\">\n  <thead>\n    <tr style=\"text-align: right;\">\n      <th>ethnic.l1</th>\n      <th>Asian/Pacific Islander</th>\n      <th>International</th>\n      <th>Underrepresented Minority</th>\n      <th>White/Other</th>\n    </tr>\n    <tr>\n      <th>year</th>\n      <th></th>\n      <th></th>\n      <th></th>\n      <th></th>\n    </tr>\n  </thead>\n  <tbody>\n    <tr>\n      <th>2007</th>\n      <td>2346</td>\n      <td>111</td>\n      <td>763</td>\n      <td>1909</td>\n    </tr>\n    <tr>\n      <th>2008</th>\n      <td>2307</td>\n      <td>332</td>\n      <td>733</td>\n      <td>1882</td>\n    </tr>\n    <tr>\n      <th>2009</th>\n      <td>2259</td>\n      <td>295</td>\n      <td>771</td>\n      <td>1910</td>\n    </tr>\n    <tr>\n      <th>2010</th>\n      <td>2167</td>\n      <td>442</td>\n      <td>719</td>\n      <td>1820</td>\n    </tr>\n    <tr>\n      <th>2011</th>\n      <td>2312</td>\n      <td>601</td>\n      <td>814</td>\n      <td>1650</td>\n    </tr>\n    <tr>\n      <th>2012</th>\n      <td>2300</td>\n      <td>541</td>\n      <td>828</td>\n      <td>1514</td>\n    </tr>\n    <tr>\n      <th>2013</th>\n      <td>2337</td>\n      <td>835</td>\n      <td>824</td>\n      <td>1655</td>\n    </tr>\n    <tr>\n      <th>2014</th>\n      <td>2707</td>\n      <td>730</td>\n      <td>1135</td>\n      <td>1916</td>\n    </tr>\n    <tr>\n      <th>2015</th>\n      <td>2477</td>\n      <td>675</td>\n      <td>942</td>\n      <td>1700</td>\n    </tr>\n    <tr>\n      <th>2016</th>\n      <td>2723</td>\n      <td>748</td>\n      <td>1053</td>\n      <td>1908</td>\n    </tr>\n    <tr>\n      <th>2017</th>\n      <td>2718</td>\n      <td>748</td>\n      <td>1096</td>\n      <td>1887</td>\n    </tr>\n    <tr>\n      <th>2018</th>\n      <td>2585</td>\n      <td>851</td>\n      <td>1126</td>\n      <td>1619</td>\n    </tr>\n  </tbody>\n</table>\n</div>"
     },
     "metadata": {},
     "execution_count": 102
    }
   ],
   "source": [
    "data2018"
   ]
  },
  {
   "cell_type": "code",
   "execution_count": 105,
   "metadata": {},
   "outputs": [],
   "source": [
    "stem_all = stem2017.append(stem2018)\n",
    "stem_all = stem_all[~stem_all.duplicated(['ppsk'])]\n",
    "data_all = stem_all.groupby(['year','ethnic.l1']).count().unstack()['ppsk']"
   ]
  },
  {
   "cell_type": "code",
   "execution_count": 99,
   "metadata": {},
   "outputs": [
    {
     "output_type": "execute_result",
     "data": {
      "text/plain": [
       "'\\nfig, ax = plt.subplots(1, 2, sharex = True, sharey = True, figsize=(15,5))\\n# STEM Pathways 2007 - 2017\\nax[0].plot(data2017.index, \\'Asian/Pacific Islander\\', data=data2017, label=\\'Asian/Pacific Islander\\')\\nax[0].plot(data2017.index, \\'International\\', data=data2017, label=\\'International\\')\\nax[0].plot(data2017.index, \\'Underrepresented Minority\\', data=data2017, label=\\'Underrepresented Minority\\')\\nax[0].plot(data2017.index, \\'White/Other\\', data=data2017, label=\\'White/Other\\')\\n\\n# STEM Pathways 2007 - 2018\\nax[1].plot(data2018.index, \\'Asian/Pacific Islander\\', data=data2018, label=\\'Asian/Pacific Islander\\')\\nax[1].plot(data2018.index, \\'International\\', data=data2018, label=\\'International\\')\\nax[1].plot(data2018.index, \\'Underrepresented Minority\\', data=data2018, label=\\'Underrepresented Minority\\')\\nax[1].plot(data2018.index, \\'White/Other\\', data=data2018, label=\\'White/Other\\')\\n\\nax[1].legend(bbox_to_anchor=(1,1), loc=\"upper left\")\\nax[0].set_xlabel(\"Year\")\\nax[0].set_ylabel(\\'Number of Various Students\\')\\nax[1].set_xlabel(\"Year\")\\nax[1].set_ylabel(\\'Number of Freshmen Students\\')\\n'"
      ]
     },
     "metadata": {},
     "execution_count": 99
    }
   ],
   "source": [
    "fig, ax = plt.subplots(1, 2, sharex = True, sharey = True, figsize=(15,5))\n",
    "# STEM Pathways 2007 - 2017\n",
    "ax[0].plot(data2017.index, 'Asian/Pacific Islander', data=data2017, label='Asian/Pacific Islander')\n",
    "ax[0].plot(data2017.index, 'International', data=data2017, label='International')\n",
    "ax[0].plot(data2017.index, 'Underrepresented Minority', data=data2017, label='Underrepresented Minority')\n",
    "ax[0].plot(data2017.index, 'White/Other', data=data2017, label='White/Other')\n",
    "\n",
    "# STEM Pathways 2007 - 2018\n",
    "ax[1].plot(data2018.index, 'Asian/Pacific Islander', data=data2018, label='Asian/Pacific Islander')\n",
    "ax[1].plot(data2018.index, 'International', data=data2018, label='International')\n",
    "ax[1].plot(data2018.index, 'Underrepresented Minority', data=data2018, label='Underrepresented Minority')\n",
    "ax[1].plot(data2018.index, 'White/Other', data=data2018, label='White/Other')\n",
    "\n",
    "ax[1].legend(bbox_to_anchor=(1,1), loc=\"upper left\")\n",
    "ax[0].set_xlabel(\"Year\")\n",
    "ax[0].set_ylabel('Number of Various Students')\n",
    "ax[1].set_xlabel(\"Year\")\n",
    "ax[1].set_ylabel('Number of Freshmen Students')"
   ]
  },
  {
   "cell_type": "code",
   "execution_count": null,
   "metadata": {},
   "outputs": [],
   "source": []
  }
 ]
}