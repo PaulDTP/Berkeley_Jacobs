{
 "cells": [
  {
   "cell_type": "code",
   "execution_count": 2,
   "metadata": {},
   "outputs": [],
   "source": [
    "import pandas as pd\n",
    "import numpy as np\n",
    "import seaborn as sns\n",
    "import matplotlib.pyplot as plt\n",
    "import glob"
   ]
  },
  {
   "cell_type": "code",
   "execution_count": 3,
   "metadata": {},
   "outputs": [],
   "source": [
    "#majors2020 = pd.read_table(\"data/uc.berkeley.student.majors.2020.txt\")\n",
    "df = pd.DataFrame()\n",
    "files = glob.glob(\"data/*.txt\")\n",
    "course_data = glob.glob(\"data/uc.berkeley.student.course.data.*.txt\")\n",
    "majors = glob.glob(\"data/uc.berkeley.student.majors.*.txt\")\n",
    "pathways = glob.glob(\"data/uc.berkeley.stem.*.txt\")\n"
   ]
  },
  {
   "cell_type": "code",
   "execution_count": 34,
   "metadata": {},
   "outputs": [],
   "source": [
    "# putting course data in one variable which might \n",
    "# DS\n",
    "course_data.sort()\n",
    "student_courses = pd.DataFrame()\n",
    "for f in course_data:\n",
    "    student_courses = student_courses.append(pd.read_table(f))"
   ]
  },
  {
   "cell_type": "code",
   "execution_count": 35,
   "metadata": {},
   "outputs": [],
   "source": [
    "# minor data cleaning\n",
    "student_courses = student_courses[~student_courses['ppsk'].isnull()]\n",
    "student_courses = student_courses[student_courses['ppsk'] != -1]"
   ]
  },
  {
   "cell_type": "code",
   "execution_count": 48,
   "metadata": {},
   "outputs": [],
   "source": [
    "maker_passes = student_courses[student_courses[\"course.department\"] == \"Design Innovation\"]['ppsk'].unique()"
   ]
  },
  {
   "cell_type": "code",
   "execution_count": 25,
   "metadata": {},
   "outputs": [
    {
     "output_type": "stream",
     "name": "stdout",
     "text": [
      "['-' 'African American Studies' 'Ag & Env Chem Grad Grp'\n 'Ag & Resource Econ & Pol' 'Anc Hist Med Arc Grad Grp' 'Anthropology'\n 'Applied Sci & Tech Grad Grp' 'Architecture' 'Art Practice' 'Astronomy'\n 'Bioengineering' 'Biophysics Grad Grp' 'Buddhist Studies Grad Grp'\n 'Business' 'Chem & Biomolecular Eng' 'Chemistry'\n 'City & Regional Planning' 'Civil & Environmental Eng' 'Classics'\n 'College Writing Programs' 'Comparative Biochem Grad Grp'\n 'Comparative Literature' 'Computational Biology Grad Grp'\n 'Critical Theory Grad Grp' 'Data Science' 'Demography'\n 'Design Innovation' 'Development Eng Grad Grp'\n 'Development Practice Grad Grp' 'Earth & Planetary Science'\n 'East Asian Lang & Culture' 'Economics' 'Education'\n 'Electrical Eng & Computer Sci' 'Energy & Resources Grad Grp'\n 'Engineering Science' 'English' 'Env Sci, Policy, & Mgmt'\n 'Ethnic Studies' 'European Studies Grad Grp'\n 'FPF-African American Studies' 'FPF-Anthropology' 'FPF-Art Practice'\n 'FPF-Astronomy' 'FPF-Chemistry' 'FPF-Classics'\n 'FPF-College Writing Program' 'FPF-Comparative Literature'\n 'FPF-Earth & Planetary Science' 'FPF-English'\n 'FPF-Env Sci, Policy, & Mgmt' 'FPF-Ethnic Studies' 'FPF-Film & Media'\n 'FPF-Gender & Womens Studies' 'FPF-Geography' 'FPF-History'\n 'FPF-History of Art' 'FPF-IAS Teaching Program' 'FPF-Integrative Biology'\n 'FPF-Interdisc Social Sci Pgms' 'FPF-Legal Studies'\n 'FPF-Letters & Science' 'FPF-Linguistics' 'FPF-Mathematics'\n 'FPF-Molecular & Cell Biology' 'FPF-Music' 'FPF-Philosophy'\n 'FPF-Political Science' 'FPF-Psychology' 'FPF-Rhetoric' 'FPF-Sociology'\n 'FPF-Statistics' 'Film and Media' 'Folklore Grad Grp' 'French'\n 'Gender & Womens Studies' 'Geography' 'German'\n 'Global Metro Std Grad Grp' 'Health & Medical Sci Grad Grp' 'History'\n 'History of Art' 'Industrial Eng & Ops Research' 'Information'\n 'Integrative Biology' 'Interdisc Social Science Pgms' 'Italian Studies'\n 'Jewish Studies Program' 'Journalism' 'Landscape Arch & Env Plan' 'Law'\n 'Linguistics' 'Materials Science & Eng' 'Mathematics'\n 'Mechanical Engineering' 'Medieval Studies Program'\n 'Military Affairs Program' 'Molecular & Cell Biology' 'Music'\n 'Nano Sci & Eng Grad Grp' 'Near Eastern Studies'\n 'Neuroscience Graduate Program' 'New Media Grad Grp'\n 'Nuclear Engineering' 'Nutritional Sciences & Tox' 'Optometry'\n 'Other Arts & Humanities Pgms' 'Other Bio Sciences Pgms'\n 'Other Clg of Natural Res Pgms' 'Other EVCP Programs' 'Philosophy'\n 'Physical Education' 'Physics' 'Plant & Microbial Biology'\n 'Political Science' 'Psychology' 'Public Health' 'Public Policy'\n 'Rhetoric' 'Scandinavian' 'Sci & Tech Stds Grad Grp'\n 'Science & Math Educ Grad Grp' 'Slavic Languages & Literatures'\n 'Social Welfare' 'Sociology' 'South & SE Asian Studies'\n 'Spanish & Portuguese' 'Statistics' 'Theater Dance & Perf Stds'\n 'UG Interdisciplinary Studies' 'Vision Science Grad Grp']\n"
     ]
    }
   ],
   "source": [
    "print(np.sort(student_courses['course.department'].unique()))"
   ]
  },
  {
   "cell_type": "code",
   "execution_count": 51,
   "metadata": {},
   "outputs": [],
   "source": [
    "maker_passes = pd.Series(maker_passes)\n",
    "student_passes = student_courses[student_courses['ppsk'].isin(maker_passes)]"
   ]
  },
  {
   "cell_type": "code",
   "execution_count": 52,
   "metadata": {},
   "outputs": [
    {
     "output_type": "execute_result",
     "data": {
      "text/plain": [
       "          year.name       ppsk undergrad.status  \\\n",
       "81628     2010 Fall   974383.0    Undergraduate   \n",
       "162228    2010 Fall   974383.0    Undergraduate   \n",
       "226728    2010 Fall   974383.0    Undergraduate   \n",
       "226877    2010 Fall   985534.0    Undergraduate   \n",
       "231463    2010 Fall   974383.0    Undergraduate   \n",
       "...             ...        ...              ...   \n",
       "22125   2019 Summer  4264306.0    Undergraduate   \n",
       "22126   2019 Summer  4264306.0    Undergraduate   \n",
       "22572   2019 Summer  4265873.0    Undergraduate   \n",
       "22573   2019 Summer  4265873.0    Undergraduate   \n",
       "22697   2019 Summer  4266391.0    Undergraduate   \n",
       "\n",
       "                    course.department           course.subject course.number  \\\n",
       "81628              Physical Education       Physical Education             1   \n",
       "162228         Comparative Literature   Comparative Literature           R1A   \n",
       "226728              Political Science        Political Science             5   \n",
       "226877   UG Interdisciplinary Studies        Letters & Science           R44   \n",
       "231463                    Mathematics              Mathematics            1A   \n",
       "...                               ...                      ...           ...   \n",
       "22125               Design Innovation        Design Innovation           190   \n",
       "22126   Electrical Eng & Computer Sci         Computer Science            C8   \n",
       "22572               Design Innovation        Design Innovation           190   \n",
       "22573         Gender & Womens Studies  Gender & Womens Studies           111   \n",
       "22697               Design Innovation        Design Innovation            22   \n",
       "\n",
       "       offering.type section.number    ccn  room.share  ... Section Nbr  \\\n",
       "81628        Primary             14  68042     68042.0  ...         NaN   \n",
       "162228       Primary              2  17206     17206.0  ...         NaN   \n",
       "226728       Primary              1  71447     71447.0  ...         NaN   \n",
       "226877       Primary              1  51932     51932.0  ...         NaN   \n",
       "231463       Primary              2  53642     53642.0  ...         NaN   \n",
       "...              ...            ...    ...         ...  ...         ...   \n",
       "22125        Primary              8  15779     15779.0  ...         NaN   \n",
       "22126        Primary              1  14720        25.0  ...         NaN   \n",
       "22572        Primary              7  11577     11577.0  ...         NaN   \n",
       "22573        Primary              2  14306     14306.0  ...         NaN   \n",
       "22697        Primary              1  14718     14718.0  ...         NaN   \n",
       "\n",
       "       Course Control Nbr Room Share Bundle Nbr Course Title Nm  \\\n",
       "81628                 NaN                   NaN             NaN   \n",
       "162228                NaN                   NaN             NaN   \n",
       "226728                NaN                   NaN             NaN   \n",
       "226877                NaN                   NaN             NaN   \n",
       "231463                NaN                   NaN             NaN   \n",
       "...                   ...                   ...             ...   \n",
       "22125                 NaN                   NaN             NaN   \n",
       "22126                 NaN                   NaN             NaN   \n",
       "22572                 NaN                   NaN             NaN   \n",
       "22573                 NaN                   NaN             NaN   \n",
       "22697                 NaN                   NaN             NaN   \n",
       "\n",
       "       Instr Name Concat  Grade Subtype Desc  Grade Type Desc Grade Nm  \\\n",
       "81628                NaN                 NaN              NaN      NaN   \n",
       "162228               NaN                 NaN              NaN      NaN   \n",
       "226728               NaN                 NaN              NaN      NaN   \n",
       "226877               NaN                 NaN              NaN      NaN   \n",
       "231463               NaN                 NaN              NaN      NaN   \n",
       "...                  ...                 ...              ...      ...   \n",
       "22125                NaN                 NaN              NaN      NaN   \n",
       "22126                NaN                 NaN              NaN      NaN   \n",
       "22572                NaN                 NaN              NaN      NaN   \n",
       "22573                NaN                 NaN              NaN      NaN   \n",
       "22697                NaN                 NaN              NaN      NaN   \n",
       "\n",
       "        Grade Points Nbr Student Credit Hrs Nbr  \n",
       "81628                NaN                    NaN  \n",
       "162228               NaN                    NaN  \n",
       "226728               NaN                    NaN  \n",
       "226877               NaN                    NaN  \n",
       "231463               NaN                    NaN  \n",
       "...                  ...                    ...  \n",
       "22125                NaN                    NaN  \n",
       "22126                NaN                    NaN  \n",
       "22572                NaN                    NaN  \n",
       "22573                NaN                    NaN  \n",
       "22697                NaN                    NaN  \n",
       "\n",
       "[19037 rows x 34 columns]"
      ],
      "text/html": "<div>\n<style scoped>\n    .dataframe tbody tr th:only-of-type {\n        vertical-align: middle;\n    }\n\n    .dataframe tbody tr th {\n        vertical-align: top;\n    }\n\n    .dataframe thead th {\n        text-align: right;\n    }\n</style>\n<table border=\"1\" class=\"dataframe\">\n  <thead>\n    <tr style=\"text-align: right;\">\n      <th></th>\n      <th>year.name</th>\n      <th>ppsk</th>\n      <th>undergrad.status</th>\n      <th>course.department</th>\n      <th>course.subject</th>\n      <th>course.number</th>\n      <th>offering.type</th>\n      <th>section.number</th>\n      <th>ccn</th>\n      <th>room.share</th>\n      <th>...</th>\n      <th>Section Nbr</th>\n      <th>Course Control Nbr</th>\n      <th>Room Share Bundle Nbr</th>\n      <th>Course Title Nm</th>\n      <th>Instr Name Concat</th>\n      <th>Grade Subtype Desc</th>\n      <th>Grade Type Desc</th>\n      <th>Grade Nm</th>\n      <th>Grade Points Nbr</th>\n      <th>Student Credit Hrs Nbr</th>\n    </tr>\n  </thead>\n  <tbody>\n    <tr>\n      <th>81628</th>\n      <td>2010 Fall</td>\n      <td>974383.0</td>\n      <td>Undergraduate</td>\n      <td>Physical Education</td>\n      <td>Physical Education</td>\n      <td>1</td>\n      <td>Primary</td>\n      <td>14</td>\n      <td>68042</td>\n      <td>68042.0</td>\n      <td>...</td>\n      <td>NaN</td>\n      <td>NaN</td>\n      <td>NaN</td>\n      <td>NaN</td>\n      <td>NaN</td>\n      <td>NaN</td>\n      <td>NaN</td>\n      <td>NaN</td>\n      <td>NaN</td>\n      <td>NaN</td>\n    </tr>\n    <tr>\n      <th>162228</th>\n      <td>2010 Fall</td>\n      <td>974383.0</td>\n      <td>Undergraduate</td>\n      <td>Comparative Literature</td>\n      <td>Comparative Literature</td>\n      <td>R1A</td>\n      <td>Primary</td>\n      <td>2</td>\n      <td>17206</td>\n      <td>17206.0</td>\n      <td>...</td>\n      <td>NaN</td>\n      <td>NaN</td>\n      <td>NaN</td>\n      <td>NaN</td>\n      <td>NaN</td>\n      <td>NaN</td>\n      <td>NaN</td>\n      <td>NaN</td>\n      <td>NaN</td>\n      <td>NaN</td>\n    </tr>\n    <tr>\n      <th>226728</th>\n      <td>2010 Fall</td>\n      <td>974383.0</td>\n      <td>Undergraduate</td>\n      <td>Political Science</td>\n      <td>Political Science</td>\n      <td>5</td>\n      <td>Primary</td>\n      <td>1</td>\n      <td>71447</td>\n      <td>71447.0</td>\n      <td>...</td>\n      <td>NaN</td>\n      <td>NaN</td>\n      <td>NaN</td>\n      <td>NaN</td>\n      <td>NaN</td>\n      <td>NaN</td>\n      <td>NaN</td>\n      <td>NaN</td>\n      <td>NaN</td>\n      <td>NaN</td>\n    </tr>\n    <tr>\n      <th>226877</th>\n      <td>2010 Fall</td>\n      <td>985534.0</td>\n      <td>Undergraduate</td>\n      <td>UG Interdisciplinary Studies</td>\n      <td>Letters &amp; Science</td>\n      <td>R44</td>\n      <td>Primary</td>\n      <td>1</td>\n      <td>51932</td>\n      <td>51932.0</td>\n      <td>...</td>\n      <td>NaN</td>\n      <td>NaN</td>\n      <td>NaN</td>\n      <td>NaN</td>\n      <td>NaN</td>\n      <td>NaN</td>\n      <td>NaN</td>\n      <td>NaN</td>\n      <td>NaN</td>\n      <td>NaN</td>\n    </tr>\n    <tr>\n      <th>231463</th>\n      <td>2010 Fall</td>\n      <td>974383.0</td>\n      <td>Undergraduate</td>\n      <td>Mathematics</td>\n      <td>Mathematics</td>\n      <td>1A</td>\n      <td>Primary</td>\n      <td>2</td>\n      <td>53642</td>\n      <td>53642.0</td>\n      <td>...</td>\n      <td>NaN</td>\n      <td>NaN</td>\n      <td>NaN</td>\n      <td>NaN</td>\n      <td>NaN</td>\n      <td>NaN</td>\n      <td>NaN</td>\n      <td>NaN</td>\n      <td>NaN</td>\n      <td>NaN</td>\n    </tr>\n    <tr>\n      <th>...</th>\n      <td>...</td>\n      <td>...</td>\n      <td>...</td>\n      <td>...</td>\n      <td>...</td>\n      <td>...</td>\n      <td>...</td>\n      <td>...</td>\n      <td>...</td>\n      <td>...</td>\n      <td>...</td>\n      <td>...</td>\n      <td>...</td>\n      <td>...</td>\n      <td>...</td>\n      <td>...</td>\n      <td>...</td>\n      <td>...</td>\n      <td>...</td>\n      <td>...</td>\n      <td>...</td>\n    </tr>\n    <tr>\n      <th>22125</th>\n      <td>2019 Summer</td>\n      <td>4264306.0</td>\n      <td>Undergraduate</td>\n      <td>Design Innovation</td>\n      <td>Design Innovation</td>\n      <td>190</td>\n      <td>Primary</td>\n      <td>8</td>\n      <td>15779</td>\n      <td>15779.0</td>\n      <td>...</td>\n      <td>NaN</td>\n      <td>NaN</td>\n      <td>NaN</td>\n      <td>NaN</td>\n      <td>NaN</td>\n      <td>NaN</td>\n      <td>NaN</td>\n      <td>NaN</td>\n      <td>NaN</td>\n      <td>NaN</td>\n    </tr>\n    <tr>\n      <th>22126</th>\n      <td>2019 Summer</td>\n      <td>4264306.0</td>\n      <td>Undergraduate</td>\n      <td>Electrical Eng &amp; Computer Sci</td>\n      <td>Computer Science</td>\n      <td>C8</td>\n      <td>Primary</td>\n      <td>1</td>\n      <td>14720</td>\n      <td>25.0</td>\n      <td>...</td>\n      <td>NaN</td>\n      <td>NaN</td>\n      <td>NaN</td>\n      <td>NaN</td>\n      <td>NaN</td>\n      <td>NaN</td>\n      <td>NaN</td>\n      <td>NaN</td>\n      <td>NaN</td>\n      <td>NaN</td>\n    </tr>\n    <tr>\n      <th>22572</th>\n      <td>2019 Summer</td>\n      <td>4265873.0</td>\n      <td>Undergraduate</td>\n      <td>Design Innovation</td>\n      <td>Design Innovation</td>\n      <td>190</td>\n      <td>Primary</td>\n      <td>7</td>\n      <td>11577</td>\n      <td>11577.0</td>\n      <td>...</td>\n      <td>NaN</td>\n      <td>NaN</td>\n      <td>NaN</td>\n      <td>NaN</td>\n      <td>NaN</td>\n      <td>NaN</td>\n      <td>NaN</td>\n      <td>NaN</td>\n      <td>NaN</td>\n      <td>NaN</td>\n    </tr>\n    <tr>\n      <th>22573</th>\n      <td>2019 Summer</td>\n      <td>4265873.0</td>\n      <td>Undergraduate</td>\n      <td>Gender &amp; Womens Studies</td>\n      <td>Gender &amp; Womens Studies</td>\n      <td>111</td>\n      <td>Primary</td>\n      <td>2</td>\n      <td>14306</td>\n      <td>14306.0</td>\n      <td>...</td>\n      <td>NaN</td>\n      <td>NaN</td>\n      <td>NaN</td>\n      <td>NaN</td>\n      <td>NaN</td>\n      <td>NaN</td>\n      <td>NaN</td>\n      <td>NaN</td>\n      <td>NaN</td>\n      <td>NaN</td>\n    </tr>\n    <tr>\n      <th>22697</th>\n      <td>2019 Summer</td>\n      <td>4266391.0</td>\n      <td>Undergraduate</td>\n      <td>Design Innovation</td>\n      <td>Design Innovation</td>\n      <td>22</td>\n      <td>Primary</td>\n      <td>1</td>\n      <td>14718</td>\n      <td>14718.0</td>\n      <td>...</td>\n      <td>NaN</td>\n      <td>NaN</td>\n      <td>NaN</td>\n      <td>NaN</td>\n      <td>NaN</td>\n      <td>NaN</td>\n      <td>NaN</td>\n      <td>NaN</td>\n      <td>NaN</td>\n      <td>NaN</td>\n    </tr>\n  </tbody>\n</table>\n<p>19037 rows × 34 columns</p>\n</div>"
     },
     "metadata": {},
     "execution_count": 52
    }
   ],
   "source": [
    "student_passes"
   ]
  },
  {
   "cell_type": "code",
   "execution_count": null,
   "metadata": {},
   "outputs": [],
   "source": []
  }
 ],
 "metadata": {
  "kernelspec": {
   "name": "python3",
   "display_name": "Python 3.8.2 64-bit",
   "metadata": {
    "interpreter": {
     "hash": "31f2aee4e71d21fbe5cf8b01ff0e069b9275f58929596ceb00d14d90e3e16cd6"
    }
   }
  },
  "language_info": {
   "codemirror_mode": {
    "name": "ipython",
    "version": 3
   },
   "file_extension": ".py",
   "mimetype": "text/x-python",
   "name": "python",
   "nbconvert_exporter": "python",
   "pygments_lexer": "ipython3",
   "version": "3.8.2-final"
  }
 },
 "nbformat": 4,
 "nbformat_minor": 2
}