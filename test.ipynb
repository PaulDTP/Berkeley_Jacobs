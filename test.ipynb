{
 "cells": [
  {
   "cell_type": "code",
   "execution_count": 1,
   "metadata": {},
   "outputs": [],
   "source": [
    "import pandas as pd\n",
    "import numpy as np\n",
    "import seaborn as sns\n",
    "import matplotlib.pyplot as plt"
   ]
  },
  {
   "cell_type": "code",
   "execution_count": 2,
   "metadata": {},
   "outputs": [],
   "source": [
    "%store -r student_courses\n",
    "%store -r student_majors\n",
    "%store -r stem_paths\n",
    "%store -r maker_passes\n",
    "%store -r jacobs"
   ]
  },
  {
   "cell_type": "code",
   "execution_count": 3,
   "metadata": {},
   "outputs": [
    {
     "output_type": "execute_result",
     "data": {
      "text/plain": [
       "   ppsk undergrad.status  ...              major exam.units\n",
       "0  6417                U  ...  Political Science        0.0\n",
       "1  6417                U  ...  Political Science        0.0\n",
       "\n",
       "[2 rows x 10 columns]"
      ],
      "text/html": "<div>\n<style scoped>\n    .dataframe tbody tr th:only-of-type {\n        vertical-align: middle;\n    }\n\n    .dataframe tbody tr th {\n        vertical-align: top;\n    }\n\n    .dataframe thead th {\n        text-align: right;\n    }\n</style>\n<table border=\"1\" class=\"dataframe\">\n  <thead>\n    <tr style=\"text-align: right;\">\n      <th></th>\n      <th>ppsk</th>\n      <th>undergrad.status</th>\n      <th>year.majors</th>\n      <th>term.majors</th>\n      <th>Count of Students</th>\n      <th>college</th>\n      <th>division</th>\n      <th>department</th>\n      <th>major</th>\n      <th>exam.units</th>\n    </tr>\n  </thead>\n  <tbody>\n    <tr>\n      <th>0</th>\n      <td>6417</td>\n      <td>U</td>\n      <td>2013</td>\n      <td>Fall</td>\n      <td>1</td>\n      <td>Clg of Letters &amp; Science</td>\n      <td>L&amp;S Social Sciences Division</td>\n      <td>Political Science</td>\n      <td>Political Science</td>\n      <td>0.0</td>\n    </tr>\n    <tr>\n      <th>1</th>\n      <td>6417</td>\n      <td>U</td>\n      <td>2014</td>\n      <td>Spring</td>\n      <td>1</td>\n      <td>Clg of Letters &amp; Science</td>\n      <td>L&amp;S Social Sciences Division</td>\n      <td>Political Science</td>\n      <td>Political Science</td>\n      <td>0.0</td>\n    </tr>\n  </tbody>\n</table>\n</div>"
     },
     "metadata": {},
     "execution_count": 3
    }
   ],
   "source": [
    "student_majors.query('ppsk == 6417')"
   ]
  },
  {
   "cell_type": "code",
   "execution_count": 10,
   "metadata": {},
   "outputs": [
    {
     "output_type": "execute_result",
     "data": {
      "text/plain": [
       "9995     1474600\n",
       "12946    2631969\n",
       "15727     723198\n",
       "16929     917618\n",
       "18297    1025236\n",
       "          ...   \n",
       "21309    4262284\n",
       "21441    4262621\n",
       "22125    4264306\n",
       "22572    4265873\n",
       "22697    4266391\n",
       "Name: ppsk, Length: 2255, dtype: int64"
      ]
     },
     "metadata": {},
     "execution_count": 10
    }
   ],
   "source": [
    "jacobs['ppsk']"
   ]
  },
  {
   "cell_type": "code",
   "execution_count": 5,
   "metadata": {},
   "outputs": [],
   "source": [
    "#temp = student_courses[student_courses['year.name'].str.split(\" \", expand=True)[0].astype(int) >= 2015]"
   ]
  },
  {
   "cell_type": "code",
   "execution_count": 6,
   "metadata": {},
   "outputs": [],
   "source": [
    "# ppsks of everyone who (in data) uses Jacobs for something\n",
    "ppsks = maker_passes['ppsk']\n",
    "ppsks = ppsks.append(jacobs['ppsk']).unique()\n",
    "\n",
    "# all Jacobs students' academic career, either with DESINV course or MakerPass\n",
    "all_jacobs = student_courses[(student_courses['ppsk'].isin(ppsks)) & (student_courses['undergrad.status'] == 'Undergraduate')]"
   ]
  },
  {
   "cell_type": "code",
   "execution_count": 7,
   "metadata": {},
   "outputs": [],
   "source": [
    "#test = all_jacobs.groupby(['ppsk','year.name']).filter(lambda x: (x['course.subject'].isin(['Design Innovation']).any()) & (~x['student.credit.hours'].isna().any()))\n",
    "#graph_data = test.groupby(['ppsk','year.name'])[['student.credit.hours']].sum()"
   ]
  },
  {
   "cell_type": "code",
   "execution_count": 26,
   "metadata": {},
   "outputs": [
    {
     "output_type": "execute_result",
     "data": {
      "text/plain": [
       "         year.name     ppsk  ... grade.points student.credit.hours\n",
       "3183     2007 Fall   724096  ...          4.0                  4.0\n",
       "3184     2007 Fall   724096  ...          4.0                  3.0\n",
       "3185     2007 Fall   724096  ...          4.0                  3.0\n",
       "4065     2007 Fall   765357  ...          4.0                  1.0\n",
       "8987   2007 Summer   713359  ...          4.0                  4.0\n",
       "...            ...      ...  ...          ...                  ...\n",
       "22126  2019 Summer  4264306  ...          4.0                  4.0\n",
       "22531  2019 Summer  4265730  ...          4.0                  4.0\n",
       "22572  2019 Summer  4265873  ...          3.0                  2.0\n",
       "22573  2019 Summer  4265873  ...          4.0                  4.0\n",
       "22697  2019 Summer  4266391  ...          3.0                  3.0\n",
       "\n",
       "[339284 rows x 17 columns]"
      ],
      "text/html": "<div>\n<style scoped>\n    .dataframe tbody tr th:only-of-type {\n        vertical-align: middle;\n    }\n\n    .dataframe tbody tr th {\n        vertical-align: top;\n    }\n\n    .dataframe thead th {\n        text-align: right;\n    }\n</style>\n<table border=\"1\" class=\"dataframe\">\n  <thead>\n    <tr style=\"text-align: right;\">\n      <th></th>\n      <th>year.name</th>\n      <th>ppsk</th>\n      <th>undergrad.status</th>\n      <th>course.department</th>\n      <th>course.subject</th>\n      <th>course.number</th>\n      <th>offering.type</th>\n      <th>section.number</th>\n      <th>ccn</th>\n      <th>room.share</th>\n      <th>course.title</th>\n      <th>instructor.name</th>\n      <th>grade.subtype</th>\n      <th>grade.type</th>\n      <th>grade.name</th>\n      <th>grade.points</th>\n      <th>student.credit.hours</th>\n    </tr>\n  </thead>\n  <tbody>\n    <tr>\n      <th>3183</th>\n      <td>2007 Fall</td>\n      <td>724096</td>\n      <td>Undergraduate</td>\n      <td>Business</td>\n      <td>Business Admin-Undergrad</td>\n      <td>103</td>\n      <td>Primary</td>\n      <td>1</td>\n      <td>8553</td>\n      <td>8553.0</td>\n      <td>Intro To Finance</td>\n      <td>Jonathan Berk</td>\n      <td>A</td>\n      <td>Letter Grade</td>\n      <td>A+</td>\n      <td>4.0</td>\n      <td>4.0</td>\n    </tr>\n    <tr>\n      <th>3184</th>\n      <td>2007 Fall</td>\n      <td>724096</td>\n      <td>Undergraduate</td>\n      <td>Psychology</td>\n      <td>Psychology</td>\n      <td>141</td>\n      <td>Primary</td>\n      <td>1</td>\n      <td>74426</td>\n      <td>74426.0</td>\n      <td>Devel Dur Infancy</td>\n      <td>Joseph Campos</td>\n      <td>A</td>\n      <td>Letter Grade</td>\n      <td>A+</td>\n      <td>4.0</td>\n      <td>3.0</td>\n    </tr>\n    <tr>\n      <th>3185</th>\n      <td>2007 Fall</td>\n      <td>724096</td>\n      <td>Undergraduate</td>\n      <td>Psychology</td>\n      <td>Psychology</td>\n      <td>150</td>\n      <td>Primary</td>\n      <td>1</td>\n      <td>74453</td>\n      <td>74453.0</td>\n      <td>Personality Psych</td>\n      <td>Meg Jay</td>\n      <td>A</td>\n      <td>Letter Grade</td>\n      <td>A+</td>\n      <td>4.0</td>\n      <td>3.0</td>\n    </tr>\n    <tr>\n      <th>4065</th>\n      <td>2007 Fall</td>\n      <td>765357</td>\n      <td>Undergraduate</td>\n      <td>Integrative Biology</td>\n      <td>Integrative Biology</td>\n      <td>88</td>\n      <td>Primary</td>\n      <td>1</td>\n      <td>43020</td>\n      <td>43020.0</td>\n      <td>Leaders Bio Scholar</td>\n      <td>Alissa Myrick; Katherine Kim; Tyrone Hayes</td>\n      <td>A</td>\n      <td>Letter Grade</td>\n      <td>A+</td>\n      <td>4.0</td>\n      <td>1.0</td>\n    </tr>\n    <tr>\n      <th>8987</th>\n      <td>2007 Summer</td>\n      <td>713359</td>\n      <td>Undergraduate</td>\n      <td>Electrical Eng &amp; Computer Sci</td>\n      <td>Electrical Engineering</td>\n      <td>100</td>\n      <td>Primary</td>\n      <td>1</td>\n      <td>37285</td>\n      <td>200007.0</td>\n      <td>Elec Tech For Eng</td>\n      <td>Bharathwaj Muthuswamy; Jean Walrand</td>\n      <td>A</td>\n      <td>Letter Grade</td>\n      <td>A</td>\n      <td>4.0</td>\n      <td>4.0</td>\n    </tr>\n    <tr>\n      <th>...</th>\n      <td>...</td>\n      <td>...</td>\n      <td>...</td>\n      <td>...</td>\n      <td>...</td>\n      <td>...</td>\n      <td>...</td>\n      <td>...</td>\n      <td>...</td>\n      <td>...</td>\n      <td>...</td>\n      <td>...</td>\n      <td>...</td>\n      <td>...</td>\n      <td>...</td>\n      <td>...</td>\n      <td>...</td>\n    </tr>\n    <tr>\n      <th>22126</th>\n      <td>2019 Summer</td>\n      <td>4264306</td>\n      <td>Undergraduate</td>\n      <td>Electrical Eng &amp; Computer Sci</td>\n      <td>Computer Science</td>\n      <td>C8</td>\n      <td>Primary</td>\n      <td>1</td>\n      <td>14720</td>\n      <td>25.0</td>\n      <td>Foundation Data Sci</td>\n      <td>NaN</td>\n      <td>A</td>\n      <td>Letter Grade</td>\n      <td>A</td>\n      <td>4.0</td>\n      <td>4.0</td>\n    </tr>\n    <tr>\n      <th>22531</th>\n      <td>2019 Summer</td>\n      <td>4265730</td>\n      <td>Undergraduate</td>\n      <td>Electrical Eng &amp; Computer Sci</td>\n      <td>Computer Science</td>\n      <td>61A</td>\n      <td>Primary</td>\n      <td>1</td>\n      <td>14622</td>\n      <td>14622.0</td>\n      <td>Str Interp Cmp Prgs</td>\n      <td>NaN</td>\n      <td>A</td>\n      <td>Letter Grade</td>\n      <td>A</td>\n      <td>4.0</td>\n      <td>4.0</td>\n    </tr>\n    <tr>\n      <th>22572</th>\n      <td>2019 Summer</td>\n      <td>4265873</td>\n      <td>Undergraduate</td>\n      <td>Design Innovation</td>\n      <td>Design Innovation</td>\n      <td>190</td>\n      <td>Primary</td>\n      <td>7</td>\n      <td>11577</td>\n      <td>11577.0</td>\n      <td>Spec Topics Des Inv</td>\n      <td>NaN</td>\n      <td>B</td>\n      <td>Letter Grade</td>\n      <td>B</td>\n      <td>3.0</td>\n      <td>2.0</td>\n    </tr>\n    <tr>\n      <th>22573</th>\n      <td>2019 Summer</td>\n      <td>4265873</td>\n      <td>Undergraduate</td>\n      <td>Gender &amp; Womens Studies</td>\n      <td>Gender &amp; Womens Studies</td>\n      <td>111</td>\n      <td>Primary</td>\n      <td>2</td>\n      <td>14306</td>\n      <td>14306.0</td>\n      <td>Special Topics</td>\n      <td>NaN</td>\n      <td>A</td>\n      <td>Letter Grade</td>\n      <td>A</td>\n      <td>4.0</td>\n      <td>4.0</td>\n    </tr>\n    <tr>\n      <th>22697</th>\n      <td>2019 Summer</td>\n      <td>4266391</td>\n      <td>Undergraduate</td>\n      <td>Design Innovation</td>\n      <td>Design Innovation</td>\n      <td>22</td>\n      <td>Primary</td>\n      <td>1</td>\n      <td>14718</td>\n      <td>14718.0</td>\n      <td>Prototype &amp; Fab</td>\n      <td>NaN</td>\n      <td>B</td>\n      <td>Letter Grade</td>\n      <td>B</td>\n      <td>3.0</td>\n      <td>3.0</td>\n    </tr>\n  </tbody>\n</table>\n<p>339284 rows × 17 columns</p>\n</div>"
     },
     "metadata": {},
     "execution_count": 26
    }
   ],
   "source": [
    "all_jacobs"
   ]
  },
  {
   "cell_type": "code",
   "execution_count": 49,
   "metadata": {},
   "outputs": [
    {
     "output_type": "execute_result",
     "data": {
      "text/plain": [
       "         ppsk undergrad.status  ...                    major  exam.units\n",
       "0      193666                U  ...                  Physics         NaN\n",
       "1      244810                U  ...                  History         NaN\n",
       "2      392960                U  ...                Economics         NaN\n",
       "3      384263                U  ...                  History         NaN\n",
       "4      373868                U  ...         American Studies         NaN\n",
       "...       ...              ...  ...                      ...         ...\n",
       "65494  651209                U  ...      Mass Communications        10.7\n",
       "65495  651209                U  ...  Business Administration        10.7\n",
       "65496  651209                U  ...      Mass Communications        10.7\n",
       "65497  651209                U  ...  Business Administration        10.7\n",
       "65498  651215                U  ...      Applied Mathematics         5.4\n",
       "\n",
       "[226374 rows x 9 columns]"
      ],
      "text/html": "<div>\n<style scoped>\n    .dataframe tbody tr th:only-of-type {\n        vertical-align: middle;\n    }\n\n    .dataframe tbody tr th {\n        vertical-align: top;\n    }\n\n    .dataframe thead th {\n        text-align: right;\n    }\n</style>\n<table border=\"1\" class=\"dataframe\">\n  <thead>\n    <tr style=\"text-align: right;\">\n      <th></th>\n      <th>ppsk</th>\n      <th>undergrad.status</th>\n      <th>year.name</th>\n      <th>Count of Students</th>\n      <th>college</th>\n      <th>division</th>\n      <th>department</th>\n      <th>major</th>\n      <th>exam.units</th>\n    </tr>\n  </thead>\n  <tbody>\n    <tr>\n      <th>0</th>\n      <td>193666</td>\n      <td>U</td>\n      <td>2020 Spring</td>\n      <td>1</td>\n      <td>Clg of Letters &amp; Science</td>\n      <td>L&amp;S Math &amp; Phys Sciences Div</td>\n      <td>Physics</td>\n      <td>Physics</td>\n      <td>NaN</td>\n    </tr>\n    <tr>\n      <th>1</th>\n      <td>244810</td>\n      <td>U</td>\n      <td>2020 Spring</td>\n      <td>1</td>\n      <td>Clg of Letters &amp; Science</td>\n      <td>L&amp;S Social Sciences Division</td>\n      <td>History</td>\n      <td>History</td>\n      <td>NaN</td>\n    </tr>\n    <tr>\n      <th>2</th>\n      <td>392960</td>\n      <td>U</td>\n      <td>2020 Spring</td>\n      <td>1</td>\n      <td>Clg of Letters &amp; Science</td>\n      <td>L&amp;S Social Sciences Division</td>\n      <td>Economics</td>\n      <td>Economics</td>\n      <td>NaN</td>\n    </tr>\n    <tr>\n      <th>3</th>\n      <td>384263</td>\n      <td>U</td>\n      <td>2020 Spring</td>\n      <td>1</td>\n      <td>Clg of Letters &amp; Science</td>\n      <td>L&amp;S Social Sciences Division</td>\n      <td>History</td>\n      <td>History</td>\n      <td>NaN</td>\n    </tr>\n    <tr>\n      <th>4</th>\n      <td>373868</td>\n      <td>U</td>\n      <td>2020 Spring</td>\n      <td>1</td>\n      <td>Clg of Letters &amp; Science</td>\n      <td>L&amp;S Undergrad Studies Division</td>\n      <td>UG Interdisciplinary Studies</td>\n      <td>American Studies</td>\n      <td>NaN</td>\n    </tr>\n    <tr>\n      <th>...</th>\n      <td>...</td>\n      <td>...</td>\n      <td>...</td>\n      <td>...</td>\n      <td>...</td>\n      <td>...</td>\n      <td>...</td>\n      <td>...</td>\n      <td>...</td>\n    </tr>\n    <tr>\n      <th>65494</th>\n      <td>651209</td>\n      <td>U</td>\n      <td>2007 Spring</td>\n      <td>1</td>\n      <td>Clg of Letters &amp; Science</td>\n      <td>L&amp;S Undergrad Studies Division</td>\n      <td>UG Interdisciplinary Studies</td>\n      <td>Mass Communications</td>\n      <td>10.7</td>\n    </tr>\n    <tr>\n      <th>65495</th>\n      <td>651209</td>\n      <td>U</td>\n      <td>2007 Spring</td>\n      <td>1</td>\n      <td>Haas School of Business</td>\n      <td>Haas School of Business</td>\n      <td>Business</td>\n      <td>Business Administration</td>\n      <td>10.7</td>\n    </tr>\n    <tr>\n      <th>65496</th>\n      <td>651209</td>\n      <td>U</td>\n      <td>2008 Spring</td>\n      <td>1</td>\n      <td>Clg of Letters &amp; Science</td>\n      <td>L&amp;S Undergrad Studies Division</td>\n      <td>UG Interdisciplinary Studies</td>\n      <td>Mass Communications</td>\n      <td>10.7</td>\n    </tr>\n    <tr>\n      <th>65497</th>\n      <td>651209</td>\n      <td>U</td>\n      <td>2008 Spring</td>\n      <td>1</td>\n      <td>Haas School of Business</td>\n      <td>Haas School of Business</td>\n      <td>Business</td>\n      <td>Business Administration</td>\n      <td>10.7</td>\n    </tr>\n    <tr>\n      <th>65498</th>\n      <td>651215</td>\n      <td>U</td>\n      <td>2007 Fall</td>\n      <td>1</td>\n      <td>Clg of Letters &amp; Science</td>\n      <td>L&amp;S Math &amp; Phys Sciences Div</td>\n      <td>Mathematics</td>\n      <td>Applied Mathematics</td>\n      <td>5.4</td>\n    </tr>\n  </tbody>\n</table>\n<p>226374 rows × 9 columns</p>\n</div>"
     },
     "metadata": {},
     "execution_count": 49
    }
   ],
   "source": [
    "student_majors"
   ]
  },
  {
   "cell_type": "code",
   "execution_count": 15,
   "metadata": {},
   "outputs": [
    {
     "output_type": "error",
     "ename": "SyntaxError",
     "evalue": "invalid syntax (<ipython-input-15-dbc2242fb19f>, line 2)",
     "traceback": [
      "\u001b[0;36m  File \u001b[0;32m\"<ipython-input-15-dbc2242fb19f>\"\u001b[0;36m, line \u001b[0;32m2\u001b[0m\n\u001b[0;31m    single_students = all_jacobs.groupby('ppsk')\u001b[0m\n\u001b[0m                  ^\u001b[0m\n\u001b[0;31mSyntaxError\u001b[0m\u001b[0;31m:\u001b[0m invalid syntax\n"
     ]
    }
   ],
   "source": [
    "all_jacobs.groupby(['ppsk','year.name']).filter(lambda x: (x['course.subject'].isin(['Design Innovation']).any()) \n",
    "single_students = all_jacobs.groupby('ppsk')"
   ]
  },
  {
   "cell_type": "code",
   "execution_count": 9,
   "metadata": {},
   "outputs": [
    {
     "output_type": "error",
     "ename": "NameError",
     "evalue": "name 'test' is not defined",
     "traceback": [
      "\u001b[0;31m---------------------------------------------------------------------------\u001b[0m",
      "\u001b[0;31mNameError\u001b[0m                                 Traceback (most recent call last)",
      "\u001b[0;32m<ipython-input-9-9652f4cc67ca>\u001b[0m in \u001b[0;36m<module>\u001b[0;34m()\u001b[0m\n\u001b[0;32m----> 1\u001b[0;31m \u001b[0mtest\u001b[0m\u001b[0;34m.\u001b[0m\u001b[0mquery\u001b[0m\u001b[0;34m(\u001b[0m\u001b[0;34m'ppsk == 1029128'\u001b[0m\u001b[0;34m)\u001b[0m\u001b[0;34m\u001b[0m\u001b[0;34m\u001b[0m\u001b[0m\n\u001b[0m",
      "\u001b[0;31mNameError\u001b[0m: name 'test' is not defined"
     ]
    }
   ],
   "source": [
    "test.query('ppsk == 1029128')"
   ]
  },
  {
   "cell_type": "code",
   "execution_count": 37,
   "metadata": {},
   "outputs": [
    {
     "output_type": "execute_result",
     "data": {
      "text/plain": [
       "9.5"
      ]
     },
     "metadata": {},
     "execution_count": 37
    }
   ],
   "source": [
    "test.query('ppsk == 1029128')['student.credit.hours'].sum()"
   ]
  },
  {
   "cell_type": "code",
   "execution_count": 11,
   "metadata": {},
   "outputs": [],
   "source": [
    "#get ppsks of students from jacobs and find other classes they take\n",
    "# how many units students take\n",
    "all_jacobs = student_courses"
   ]
  },
  {
   "cell_type": "code",
   "execution_count": 12,
   "metadata": {},
   "outputs": [
    {
     "output_type": "execute_result",
     "data": {
      "text/plain": [
       "         year.name     ppsk  ... grade.points student.credit.hours\n",
       "9995     2015 Fall  1474600  ...          4.0                  2.0\n",
       "12946    2015 Fall  2631969  ...          4.0                  2.0\n",
       "15727  2015 Spring   723198  ...          4.0                  2.0\n",
       "16929  2015 Spring   917618  ...          4.0                  2.0\n",
       "18297  2015 Spring  1025236  ...          4.0                  2.0\n",
       "...            ...      ...  ...          ...                  ...\n",
       "21309  2019 Summer  4262284  ...          3.7                  2.0\n",
       "21441  2019 Summer  4262621  ...          3.7                  2.0\n",
       "22125  2019 Summer  4264306  ...          4.0                  3.0\n",
       "22572  2019 Summer  4265873  ...          3.0                  2.0\n",
       "22697  2019 Summer  4266391  ...          3.0                  3.0\n",
       "\n",
       "[2255 rows x 16 columns]"
      ],
      "text/html": "<div>\n<style scoped>\n    .dataframe tbody tr th:only-of-type {\n        vertical-align: middle;\n    }\n\n    .dataframe tbody tr th {\n        vertical-align: top;\n    }\n\n    .dataframe thead th {\n        text-align: right;\n    }\n</style>\n<table border=\"1\" class=\"dataframe\">\n  <thead>\n    <tr style=\"text-align: right;\">\n      <th></th>\n      <th>year.name</th>\n      <th>ppsk</th>\n      <th>undergrad.status</th>\n      <th>course.department</th>\n      <th>course.subject</th>\n      <th>course.number</th>\n      <th>offering.type</th>\n      <th>section.number</th>\n      <th>ccn</th>\n      <th>room.share</th>\n      <th>course.title</th>\n      <th>grade.subtype</th>\n      <th>grade.type</th>\n      <th>grade.name</th>\n      <th>grade.points</th>\n      <th>student.credit.hours</th>\n    </tr>\n  </thead>\n  <tbody>\n    <tr>\n      <th>9995</th>\n      <td>2015 Fall</td>\n      <td>1474600</td>\n      <td>Undergraduate</td>\n      <td>Engineering Science</td>\n      <td>Design Innovation</td>\n      <td>90</td>\n      <td>Primary</td>\n      <td>1</td>\n      <td>18400</td>\n      <td>101548.0</td>\n      <td>Spec Topics Des Inv</td>\n      <td>A</td>\n      <td>Letter Grade</td>\n      <td>A+</td>\n      <td>4.0</td>\n      <td>2.0</td>\n    </tr>\n    <tr>\n      <th>12946</th>\n      <td>2015 Fall</td>\n      <td>2631969</td>\n      <td>Undergraduate</td>\n      <td>Engineering Science</td>\n      <td>Design Innovation</td>\n      <td>90</td>\n      <td>Primary</td>\n      <td>1</td>\n      <td>18400</td>\n      <td>101548.0</td>\n      <td>Spec Topics Des Inv</td>\n      <td>A</td>\n      <td>Letter Grade</td>\n      <td>A+</td>\n      <td>4.0</td>\n      <td>2.0</td>\n    </tr>\n    <tr>\n      <th>15727</th>\n      <td>2015 Spring</td>\n      <td>723198</td>\n      <td>Graduate</td>\n      <td>Engineering Science</td>\n      <td>Design Innovation</td>\n      <td>190</td>\n      <td>Primary</td>\n      <td>2</td>\n      <td>18406</td>\n      <td>18406.0</td>\n      <td>Spec Topics Des Inv</td>\n      <td>A</td>\n      <td>Letter Grade</td>\n      <td>A</td>\n      <td>4.0</td>\n      <td>2.0</td>\n    </tr>\n    <tr>\n      <th>16929</th>\n      <td>2015 Spring</td>\n      <td>917618</td>\n      <td>Undergraduate</td>\n      <td>Engineering Science</td>\n      <td>Design Innovation</td>\n      <td>190</td>\n      <td>Primary</td>\n      <td>1</td>\n      <td>18403</td>\n      <td>18403.0</td>\n      <td>Spec Topics Des Inv</td>\n      <td>A</td>\n      <td>Letter Grade</td>\n      <td>A</td>\n      <td>4.0</td>\n      <td>2.0</td>\n    </tr>\n    <tr>\n      <th>18297</th>\n      <td>2015 Spring</td>\n      <td>1025236</td>\n      <td>Graduate</td>\n      <td>Engineering Science</td>\n      <td>Design Innovation</td>\n      <td>190</td>\n      <td>Primary</td>\n      <td>1</td>\n      <td>18403</td>\n      <td>18403.0</td>\n      <td>Spec Topics Des Inv</td>\n      <td>A</td>\n      <td>Letter Grade</td>\n      <td>A</td>\n      <td>4.0</td>\n      <td>2.0</td>\n    </tr>\n    <tr>\n      <th>...</th>\n      <td>...</td>\n      <td>...</td>\n      <td>...</td>\n      <td>...</td>\n      <td>...</td>\n      <td>...</td>\n      <td>...</td>\n      <td>...</td>\n      <td>...</td>\n      <td>...</td>\n      <td>...</td>\n      <td>...</td>\n      <td>...</td>\n      <td>...</td>\n      <td>...</td>\n      <td>...</td>\n    </tr>\n    <tr>\n      <th>21309</th>\n      <td>2019 Summer</td>\n      <td>4262284</td>\n      <td>Undergraduate</td>\n      <td>Design Innovation</td>\n      <td>Design Innovation</td>\n      <td>190</td>\n      <td>Primary</td>\n      <td>7</td>\n      <td>11577</td>\n      <td>11577.0</td>\n      <td>Spec Topics Des Inv</td>\n      <td>A</td>\n      <td>Letter Grade</td>\n      <td>A-</td>\n      <td>3.7</td>\n      <td>2.0</td>\n    </tr>\n    <tr>\n      <th>21441</th>\n      <td>2019 Summer</td>\n      <td>4262621</td>\n      <td>Undergraduate</td>\n      <td>Design Innovation</td>\n      <td>Design Innovation</td>\n      <td>190</td>\n      <td>Primary</td>\n      <td>7</td>\n      <td>11577</td>\n      <td>11577.0</td>\n      <td>Spec Topics Des Inv</td>\n      <td>A</td>\n      <td>Letter Grade</td>\n      <td>A-</td>\n      <td>3.7</td>\n      <td>2.0</td>\n    </tr>\n    <tr>\n      <th>22125</th>\n      <td>2019 Summer</td>\n      <td>4264306</td>\n      <td>Undergraduate</td>\n      <td>Design Innovation</td>\n      <td>Design Innovation</td>\n      <td>190</td>\n      <td>Primary</td>\n      <td>8</td>\n      <td>15779</td>\n      <td>15779.0</td>\n      <td>Spec Topics Des Inv</td>\n      <td>A</td>\n      <td>Letter Grade</td>\n      <td>A+</td>\n      <td>4.0</td>\n      <td>3.0</td>\n    </tr>\n    <tr>\n      <th>22572</th>\n      <td>2019 Summer</td>\n      <td>4265873</td>\n      <td>Undergraduate</td>\n      <td>Design Innovation</td>\n      <td>Design Innovation</td>\n      <td>190</td>\n      <td>Primary</td>\n      <td>7</td>\n      <td>11577</td>\n      <td>11577.0</td>\n      <td>Spec Topics Des Inv</td>\n      <td>B</td>\n      <td>Letter Grade</td>\n      <td>B</td>\n      <td>3.0</td>\n      <td>2.0</td>\n    </tr>\n    <tr>\n      <th>22697</th>\n      <td>2019 Summer</td>\n      <td>4266391</td>\n      <td>Undergraduate</td>\n      <td>Design Innovation</td>\n      <td>Design Innovation</td>\n      <td>22</td>\n      <td>Primary</td>\n      <td>1</td>\n      <td>14718</td>\n      <td>14718.0</td>\n      <td>Prototype &amp; Fab</td>\n      <td>B</td>\n      <td>Letter Grade</td>\n      <td>B</td>\n      <td>3.0</td>\n      <td>3.0</td>\n    </tr>\n  </tbody>\n</table>\n<p>2255 rows × 16 columns</p>\n</div>"
     },
     "metadata": {},
     "execution_count": 12
    }
   ],
   "source": [
    "jacobs"
   ]
  },
  {
   "cell_type": "code",
   "execution_count": 13,
   "metadata": {},
   "outputs": [],
   "source": [
    "jacobs_ethnicities = jacobs.merge(stem_paths[['ppsk', 'ethnic.l1']], on='ppsk', how='left')\n",
    "jacobs_ethnicities['ethnic.l1'].fillna('Unknown', inplace=True)"
   ]
  },
  {
   "cell_type": "code",
   "execution_count": 14,
   "metadata": {},
   "outputs": [
    {
     "output_type": "execute_result",
     "data": {
      "text/plain": [
       "        year.name     ppsk  ...                  Ethnicity  year\n",
       "0       2015 Fall  1474600  ...              International  2015\n",
       "1       2015 Fall  2631969  ...     Asian/Pacific Islander  2015\n",
       "2     2015 Spring   723198  ...                    Unknown  2015\n",
       "3     2015 Spring   917618  ...  Underrepresented Minority  2015\n",
       "4     2015 Spring  1025236  ...                    Unknown  2015\n",
       "...           ...      ...  ...                        ...   ...\n",
       "2250  2019 Summer  4262284  ...                    Unknown  2019\n",
       "2251  2019 Summer  4262621  ...                    Unknown  2019\n",
       "2252  2019 Summer  4264306  ...                    Unknown  2019\n",
       "2253  2019 Summer  4265873  ...                    Unknown  2019\n",
       "2254  2019 Summer  4266391  ...                    Unknown  2019\n",
       "\n",
       "[2255 rows x 18 columns]"
      ],
      "text/html": "<div>\n<style scoped>\n    .dataframe tbody tr th:only-of-type {\n        vertical-align: middle;\n    }\n\n    .dataframe tbody tr th {\n        vertical-align: top;\n    }\n\n    .dataframe thead th {\n        text-align: right;\n    }\n</style>\n<table border=\"1\" class=\"dataframe\">\n  <thead>\n    <tr style=\"text-align: right;\">\n      <th></th>\n      <th>year.name</th>\n      <th>ppsk</th>\n      <th>undergrad.status</th>\n      <th>course.department</th>\n      <th>course.subject</th>\n      <th>course.number</th>\n      <th>offering.type</th>\n      <th>section.number</th>\n      <th>ccn</th>\n      <th>room.share</th>\n      <th>course.title</th>\n      <th>grade.subtype</th>\n      <th>grade.type</th>\n      <th>grade.name</th>\n      <th>grade.points</th>\n      <th>student.credit.hours</th>\n      <th>Ethnicity</th>\n      <th>year</th>\n    </tr>\n  </thead>\n  <tbody>\n    <tr>\n      <th>0</th>\n      <td>2015 Fall</td>\n      <td>1474600</td>\n      <td>Undergraduate</td>\n      <td>Engineering Science</td>\n      <td>Design Innovation</td>\n      <td>90</td>\n      <td>Primary</td>\n      <td>1</td>\n      <td>18400</td>\n      <td>101548.0</td>\n      <td>Spec Topics Des Inv</td>\n      <td>A</td>\n      <td>Letter Grade</td>\n      <td>A+</td>\n      <td>4.0</td>\n      <td>2.0</td>\n      <td>International</td>\n      <td>2015</td>\n    </tr>\n    <tr>\n      <th>1</th>\n      <td>2015 Fall</td>\n      <td>2631969</td>\n      <td>Undergraduate</td>\n      <td>Engineering Science</td>\n      <td>Design Innovation</td>\n      <td>90</td>\n      <td>Primary</td>\n      <td>1</td>\n      <td>18400</td>\n      <td>101548.0</td>\n      <td>Spec Topics Des Inv</td>\n      <td>A</td>\n      <td>Letter Grade</td>\n      <td>A+</td>\n      <td>4.0</td>\n      <td>2.0</td>\n      <td>Asian/Pacific Islander</td>\n      <td>2015</td>\n    </tr>\n    <tr>\n      <th>2</th>\n      <td>2015 Spring</td>\n      <td>723198</td>\n      <td>Graduate</td>\n      <td>Engineering Science</td>\n      <td>Design Innovation</td>\n      <td>190</td>\n      <td>Primary</td>\n      <td>2</td>\n      <td>18406</td>\n      <td>18406.0</td>\n      <td>Spec Topics Des Inv</td>\n      <td>A</td>\n      <td>Letter Grade</td>\n      <td>A</td>\n      <td>4.0</td>\n      <td>2.0</td>\n      <td>Unknown</td>\n      <td>2015</td>\n    </tr>\n    <tr>\n      <th>3</th>\n      <td>2015 Spring</td>\n      <td>917618</td>\n      <td>Undergraduate</td>\n      <td>Engineering Science</td>\n      <td>Design Innovation</td>\n      <td>190</td>\n      <td>Primary</td>\n      <td>1</td>\n      <td>18403</td>\n      <td>18403.0</td>\n      <td>Spec Topics Des Inv</td>\n      <td>A</td>\n      <td>Letter Grade</td>\n      <td>A</td>\n      <td>4.0</td>\n      <td>2.0</td>\n      <td>Underrepresented Minority</td>\n      <td>2015</td>\n    </tr>\n    <tr>\n      <th>4</th>\n      <td>2015 Spring</td>\n      <td>1025236</td>\n      <td>Graduate</td>\n      <td>Engineering Science</td>\n      <td>Design Innovation</td>\n      <td>190</td>\n      <td>Primary</td>\n      <td>1</td>\n      <td>18403</td>\n      <td>18403.0</td>\n      <td>Spec Topics Des Inv</td>\n      <td>A</td>\n      <td>Letter Grade</td>\n      <td>A</td>\n      <td>4.0</td>\n      <td>2.0</td>\n      <td>Unknown</td>\n      <td>2015</td>\n    </tr>\n    <tr>\n      <th>...</th>\n      <td>...</td>\n      <td>...</td>\n      <td>...</td>\n      <td>...</td>\n      <td>...</td>\n      <td>...</td>\n      <td>...</td>\n      <td>...</td>\n      <td>...</td>\n      <td>...</td>\n      <td>...</td>\n      <td>...</td>\n      <td>...</td>\n      <td>...</td>\n      <td>...</td>\n      <td>...</td>\n      <td>...</td>\n      <td>...</td>\n    </tr>\n    <tr>\n      <th>2250</th>\n      <td>2019 Summer</td>\n      <td>4262284</td>\n      <td>Undergraduate</td>\n      <td>Design Innovation</td>\n      <td>Design Innovation</td>\n      <td>190</td>\n      <td>Primary</td>\n      <td>7</td>\n      <td>11577</td>\n      <td>11577.0</td>\n      <td>Spec Topics Des Inv</td>\n      <td>A</td>\n      <td>Letter Grade</td>\n      <td>A-</td>\n      <td>3.7</td>\n      <td>2.0</td>\n      <td>Unknown</td>\n      <td>2019</td>\n    </tr>\n    <tr>\n      <th>2251</th>\n      <td>2019 Summer</td>\n      <td>4262621</td>\n      <td>Undergraduate</td>\n      <td>Design Innovation</td>\n      <td>Design Innovation</td>\n      <td>190</td>\n      <td>Primary</td>\n      <td>7</td>\n      <td>11577</td>\n      <td>11577.0</td>\n      <td>Spec Topics Des Inv</td>\n      <td>A</td>\n      <td>Letter Grade</td>\n      <td>A-</td>\n      <td>3.7</td>\n      <td>2.0</td>\n      <td>Unknown</td>\n      <td>2019</td>\n    </tr>\n    <tr>\n      <th>2252</th>\n      <td>2019 Summer</td>\n      <td>4264306</td>\n      <td>Undergraduate</td>\n      <td>Design Innovation</td>\n      <td>Design Innovation</td>\n      <td>190</td>\n      <td>Primary</td>\n      <td>8</td>\n      <td>15779</td>\n      <td>15779.0</td>\n      <td>Spec Topics Des Inv</td>\n      <td>A</td>\n      <td>Letter Grade</td>\n      <td>A+</td>\n      <td>4.0</td>\n      <td>3.0</td>\n      <td>Unknown</td>\n      <td>2019</td>\n    </tr>\n    <tr>\n      <th>2253</th>\n      <td>2019 Summer</td>\n      <td>4265873</td>\n      <td>Undergraduate</td>\n      <td>Design Innovation</td>\n      <td>Design Innovation</td>\n      <td>190</td>\n      <td>Primary</td>\n      <td>7</td>\n      <td>11577</td>\n      <td>11577.0</td>\n      <td>Spec Topics Des Inv</td>\n      <td>B</td>\n      <td>Letter Grade</td>\n      <td>B</td>\n      <td>3.0</td>\n      <td>2.0</td>\n      <td>Unknown</td>\n      <td>2019</td>\n    </tr>\n    <tr>\n      <th>2254</th>\n      <td>2019 Summer</td>\n      <td>4266391</td>\n      <td>Undergraduate</td>\n      <td>Design Innovation</td>\n      <td>Design Innovation</td>\n      <td>22</td>\n      <td>Primary</td>\n      <td>1</td>\n      <td>14718</td>\n      <td>14718.0</td>\n      <td>Prototype &amp; Fab</td>\n      <td>B</td>\n      <td>Letter Grade</td>\n      <td>B</td>\n      <td>3.0</td>\n      <td>3.0</td>\n      <td>Unknown</td>\n      <td>2019</td>\n    </tr>\n  </tbody>\n</table>\n<p>2255 rows × 18 columns</p>\n</div>"
     },
     "metadata": {},
     "execution_count": 14
    }
   ],
   "source": [
    "jacobs_ethnicities['year'] = jacobs_ethnicities['year.name'].str.split(\" \", expand=True)[0]\n",
    "jacobs_ethnicities = jacobs_ethnicities.rename({'ethnic.l1': \"Ethnicity\"}, axis=1)\n",
    "#jacobs_ethnicities"
   ]
  }
 ],
 "metadata": {
  "kernelspec": {
   "name": "python3",
   "display_name": "Python 3",
   "language": "python"
  },
  "language_info": {
   "codemirror_mode": {
    "name": "ipython",
    "version": 3
   },
   "file_extension": ".py",
   "mimetype": "text/x-python",
   "name": "python",
   "nbconvert_exporter": "python",
   "pygments_lexer": "ipython3",
   "version": "3.8.2-final"
  }
 },
 "nbformat": 4,
 "nbformat_minor": 2
}