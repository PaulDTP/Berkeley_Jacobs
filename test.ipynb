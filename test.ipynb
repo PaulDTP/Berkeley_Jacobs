{
 "cells": [
  {
   "cell_type": "code",
   "execution_count": 1,
   "metadata": {},
   "outputs": [],
   "source": [
    "import pandas as pd\n",
    "import numpy as np\n",
    "import seaborn as sns\n",
    "import matplotlib.pyplot as plt\n",
    "import glob"
   ]
  },
  {
   "cell_type": "code",
   "execution_count": 2,
   "metadata": {},
   "outputs": [],
   "source": [
    "#if you upload a unzip file to JupyterLab\n",
    "#import zipfile as zf\n",
    "#files = zf.ZipFile(\"/home/jovyan/data.zip\", 'r')\n",
    "#files.extractall('/home/jovyan/')\n",
    "#files.close()"
   ]
  },
  {
   "cell_type": "code",
   "execution_count": 3,
   "metadata": {},
   "outputs": [],
   "source": [
    "df = pd.DataFrame()\n",
    "files = glob.glob(\"data/*\")\n",
    "course_data = glob.glob(\"data/uc.berkeley.student.course.data.*.txt\")\n",
    "majors = glob.glob(\"data/uc.berkeley.student.majors.*.txt\")\n",
    "pathways = glob.glob(\"data/uc.berkeley.stem.*.txt\")\n"
   ]
  },
  {
   "cell_type": "code",
   "execution_count": 4,
   "metadata": {},
   "outputs": [
    {
     "output_type": "execute_result",
     "data": {
      "text/plain": [
       "['data/uc.berkeley.student.course.data.2012.txt',\n",
       " 'data/uc.berkeley.student.course.data.2007.txt',\n",
       " 'data/uc.berkeley.student.course.data.2013.txt',\n",
       " 'data/uc.berkeley.student.course.data.2020.summer.txt',\n",
       " 'data/uc.berkeley.student.course.data.2011.txt',\n",
       " 'data/uc.berkeley.student.course.data.2010.txt',\n",
       " 'data/uc.berkeley.student.course.data.2014.txt',\n",
       " 'data/uc.berkeley.student.course.data.2015.txt',\n",
       " 'data/uc.berkeley.student.course.data.2017.txt',\n",
       " 'data/uc.berkeley.student.course.data.2016.txt',\n",
       " 'data/uc.berkeley.student.course.data.2018.spring.txt',\n",
       " 'data/uc.berkeley.student.course.data.2018.summer.txt',\n",
       " 'data/uc.berkeley.student.course.data.2020.spring.txt',\n",
       " 'data/uc.berkeley.student.course.data.2019.spring.txt',\n",
       " 'data/uc.berkeley.student.course.data.2020.fall.txt',\n",
       " 'data/uc.berkeley.student.course.data.2018.fall.txt',\n",
       " 'data/uc.berkeley.student.course.data.2019.fall.txt',\n",
       " 'data/uc.berkeley.student.course.data.2009.txt',\n",
       " 'data/uc.berkeley.student.course.data.2008.txt',\n",
       " 'data/uc.berkeley.student.course.data.2019.summer.txt']"
      ]
     },
     "metadata": {},
     "execution_count": 4
    }
   ],
   "source": [
    "course_data"
   ]
  },
  {
   "cell_type": "code",
   "execution_count": 5,
   "metadata": {},
   "outputs": [
    {
     "output_type": "stream",
     "name": "stderr",
     "text": [
      "/Users/paulterrell-perica/Library/Python/3.8/lib/python/site-packages/IPython/core/interactiveshell.py:3165: DtypeWarning: Columns (7) have mixed types.Specify dtype option on import or set low_memory=False.\n",
      "  has_raised = await self.run_ast_nodes(code_ast.body, cell_name,\n",
      "/Users/paulterrell-perica/Library/Python/3.8/lib/python/site-packages/IPython/core/interactiveshell.py:3165: DtypeWarning: Columns (8) have mixed types.Specify dtype option on import or set low_memory=False.\n",
      "  has_raised = await self.run_ast_nodes(code_ast.body, cell_name,\n"
     ]
    }
   ],
   "source": [
    "course_data.sort()\n",
    "student_courses = pd.DataFrame()\n",
    "for f in course_data:\n",
    "    student_courses = student_courses.append(pd.read_table(f))"
   ]
  },
  {
   "cell_type": "code",
   "execution_count": 6,
   "metadata": {},
   "outputs": [
    {
     "output_type": "execute_result",
     "data": {
      "text/plain": [
       "['data/uc.berkeley.student.course.data.2007.txt',\n",
       " 'data/uc.berkeley.student.course.data.2008.txt',\n",
       " 'data/uc.berkeley.student.course.data.2009.txt',\n",
       " 'data/uc.berkeley.student.course.data.2010.txt',\n",
       " 'data/uc.berkeley.student.course.data.2011.txt',\n",
       " 'data/uc.berkeley.student.course.data.2012.txt',\n",
       " 'data/uc.berkeley.student.course.data.2013.txt',\n",
       " 'data/uc.berkeley.student.course.data.2014.txt',\n",
       " 'data/uc.berkeley.student.course.data.2015.txt',\n",
       " 'data/uc.berkeley.student.course.data.2016.txt',\n",
       " 'data/uc.berkeley.student.course.data.2017.txt',\n",
       " 'data/uc.berkeley.student.course.data.2018.fall.txt',\n",
       " 'data/uc.berkeley.student.course.data.2018.spring.txt',\n",
       " 'data/uc.berkeley.student.course.data.2018.summer.txt',\n",
       " 'data/uc.berkeley.student.course.data.2019.fall.txt',\n",
       " 'data/uc.berkeley.student.course.data.2019.spring.txt',\n",
       " 'data/uc.berkeley.student.course.data.2019.summer.txt',\n",
       " 'data/uc.berkeley.student.course.data.2020.fall.txt',\n",
       " 'data/uc.berkeley.student.course.data.2020.spring.txt',\n",
       " 'data/uc.berkeley.student.course.data.2020.summer.txt']"
      ]
     },
     "metadata": {},
     "execution_count": 6
    }
   ],
   "source": [
    "course_data"
   ]
  },
  {
   "cell_type": "code",
   "execution_count": 7,
   "metadata": {},
   "outputs": [
    {
     "output_type": "execute_result",
     "data": {
      "text/plain": [
       "         year.name  ppsk undergrad.status          course.department  \\\n",
       "0      2007 Summer  -1.0         Graduate               Anthropology   \n",
       "1      2007 Summer  -1.0         Graduate               Anthropology   \n",
       "2      2007 Summer  -1.0         Graduate  Buddhist Studies Grad Grp   \n",
       "3      2007 Summer  -1.0         Graduate                   Business   \n",
       "4      2007 Summer  -1.0         Graduate                   Business   \n",
       "...            ...   ...              ...                        ...   \n",
       "26609          NaN   NaN              NaN                        NaN   \n",
       "26610          NaN   NaN              NaN                        NaN   \n",
       "26611          NaN   NaN              NaN                        NaN   \n",
       "26612          NaN   NaN              NaN                        NaN   \n",
       "26613          NaN   NaN              NaN                        NaN   \n",
       "\n",
       "                 course.subject course.number offering.type section.number  \\\n",
       "0                  Anthropology           3AC       Primary              1   \n",
       "1                  Anthropology          136B       Primary              1   \n",
       "2              Buddhist Studies           C50       Primary              1   \n",
       "3      Business Admin-Undergrad          102A       Primary              5   \n",
       "4      Business Admin-Undergrad           106       Primary              4   \n",
       "...                         ...           ...           ...            ...   \n",
       "26609                       NaN           NaN           NaN            NaN   \n",
       "26610                       NaN           NaN           NaN            NaN   \n",
       "26611                       NaN           NaN           NaN            NaN   \n",
       "26612                       NaN           NaN           NaN            NaN   \n",
       "26613                       NaN           NaN           NaN            NaN   \n",
       "\n",
       "         ccn  room.share  ... Section Nbr Course Control Nbr  \\\n",
       "0      12030     12030.0  ...         NaN                NaN   \n",
       "1      12120     12120.0  ...         NaN                NaN   \n",
       "2      18905    200018.0  ...         NaN                NaN   \n",
       "3      20150     20150.0  ...         NaN                NaN   \n",
       "4      20235     20235.0  ...         NaN                NaN   \n",
       "...      ...         ...  ...         ...                ...   \n",
       "26609    NaN         NaN  ...           1            12435.0   \n",
       "26610    NaN         NaN  ...           1            15447.0   \n",
       "26611    NaN         NaN  ...           1            13087.0   \n",
       "26612    NaN         NaN  ...           1            12036.0   \n",
       "26613    NaN         NaN  ...           1            12626.0   \n",
       "\n",
       "      Room Share Bundle Nbr      Course Title Nm  \\\n",
       "0                       NaN                  NaN   \n",
       "1                       NaN                  NaN   \n",
       "2                       NaN                  NaN   \n",
       "3                       NaN                  NaN   \n",
       "4                       NaN                  NaN   \n",
       "...                     ...                  ...   \n",
       "26609               12435.0   Indust/Organ Psych   \n",
       "26610               15447.0    Topics Pol Theory   \n",
       "26611               13087.0  Globl Mental Health   \n",
       "26612               12036.0        Esl Test Prep   \n",
       "26613               12626.0   Mind-Body & Health   \n",
       "\n",
       "                           Instr Name Concat  Grade Subtype Desc  \\\n",
       "0                                        NaN                 NaN   \n",
       "1                                        NaN                 NaN   \n",
       "2                                        NaN                 NaN   \n",
       "3                                        NaN                 NaN   \n",
       "4                                        NaN                 NaN   \n",
       "...                                      ...                 ...   \n",
       "26609                       Christian Wright                   A   \n",
       "26610               Daniel Lee; Jacob Liming                   B   \n",
       "26611                         Heng-hsian Liu                   A   \n",
       "26612  David Wiese; Margi Wald; Mona Khabiri                   A   \n",
       "26613                       Ephrem Fernandez                   F   \n",
       "\n",
       "       Grade Type Desc Grade Nm  Grade Points Nbr Student Credit Hrs Nbr  \n",
       "0                  NaN      NaN               NaN                    NaN  \n",
       "1                  NaN      NaN               NaN                    NaN  \n",
       "2                  NaN      NaN               NaN                    NaN  \n",
       "3                  NaN      NaN               NaN                    NaN  \n",
       "4                  NaN      NaN               NaN                    NaN  \n",
       "...                ...      ...               ...                    ...  \n",
       "26609     Letter Grade        A               4.0                    6.0  \n",
       "26610     Letter Grade        B               3.0                    8.0  \n",
       "26611     Letter Grade        A               4.0                    6.0  \n",
       "26612     Letter Grade        A               4.0                    4.0  \n",
       "26613     Letter Grade        F               0.0                    3.0  \n",
       "\n",
       "[5768076 rows x 34 columns]"
      ],
      "text/html": "<div>\n<style scoped>\n    .dataframe tbody tr th:only-of-type {\n        vertical-align: middle;\n    }\n\n    .dataframe tbody tr th {\n        vertical-align: top;\n    }\n\n    .dataframe thead th {\n        text-align: right;\n    }\n</style>\n<table border=\"1\" class=\"dataframe\">\n  <thead>\n    <tr style=\"text-align: right;\">\n      <th></th>\n      <th>year.name</th>\n      <th>ppsk</th>\n      <th>undergrad.status</th>\n      <th>course.department</th>\n      <th>course.subject</th>\n      <th>course.number</th>\n      <th>offering.type</th>\n      <th>section.number</th>\n      <th>ccn</th>\n      <th>room.share</th>\n      <th>...</th>\n      <th>Section Nbr</th>\n      <th>Course Control Nbr</th>\n      <th>Room Share Bundle Nbr</th>\n      <th>Course Title Nm</th>\n      <th>Instr Name Concat</th>\n      <th>Grade Subtype Desc</th>\n      <th>Grade Type Desc</th>\n      <th>Grade Nm</th>\n      <th>Grade Points Nbr</th>\n      <th>Student Credit Hrs Nbr</th>\n    </tr>\n  </thead>\n  <tbody>\n    <tr>\n      <th>0</th>\n      <td>2007 Summer</td>\n      <td>-1.0</td>\n      <td>Graduate</td>\n      <td>Anthropology</td>\n      <td>Anthropology</td>\n      <td>3AC</td>\n      <td>Primary</td>\n      <td>1</td>\n      <td>12030</td>\n      <td>12030.0</td>\n      <td>...</td>\n      <td>NaN</td>\n      <td>NaN</td>\n      <td>NaN</td>\n      <td>NaN</td>\n      <td>NaN</td>\n      <td>NaN</td>\n      <td>NaN</td>\n      <td>NaN</td>\n      <td>NaN</td>\n      <td>NaN</td>\n    </tr>\n    <tr>\n      <th>1</th>\n      <td>2007 Summer</td>\n      <td>-1.0</td>\n      <td>Graduate</td>\n      <td>Anthropology</td>\n      <td>Anthropology</td>\n      <td>136B</td>\n      <td>Primary</td>\n      <td>1</td>\n      <td>12120</td>\n      <td>12120.0</td>\n      <td>...</td>\n      <td>NaN</td>\n      <td>NaN</td>\n      <td>NaN</td>\n      <td>NaN</td>\n      <td>NaN</td>\n      <td>NaN</td>\n      <td>NaN</td>\n      <td>NaN</td>\n      <td>NaN</td>\n      <td>NaN</td>\n    </tr>\n    <tr>\n      <th>2</th>\n      <td>2007 Summer</td>\n      <td>-1.0</td>\n      <td>Graduate</td>\n      <td>Buddhist Studies Grad Grp</td>\n      <td>Buddhist Studies</td>\n      <td>C50</td>\n      <td>Primary</td>\n      <td>1</td>\n      <td>18905</td>\n      <td>200018.0</td>\n      <td>...</td>\n      <td>NaN</td>\n      <td>NaN</td>\n      <td>NaN</td>\n      <td>NaN</td>\n      <td>NaN</td>\n      <td>NaN</td>\n      <td>NaN</td>\n      <td>NaN</td>\n      <td>NaN</td>\n      <td>NaN</td>\n    </tr>\n    <tr>\n      <th>3</th>\n      <td>2007 Summer</td>\n      <td>-1.0</td>\n      <td>Graduate</td>\n      <td>Business</td>\n      <td>Business Admin-Undergrad</td>\n      <td>102A</td>\n      <td>Primary</td>\n      <td>5</td>\n      <td>20150</td>\n      <td>20150.0</td>\n      <td>...</td>\n      <td>NaN</td>\n      <td>NaN</td>\n      <td>NaN</td>\n      <td>NaN</td>\n      <td>NaN</td>\n      <td>NaN</td>\n      <td>NaN</td>\n      <td>NaN</td>\n      <td>NaN</td>\n      <td>NaN</td>\n    </tr>\n    <tr>\n      <th>4</th>\n      <td>2007 Summer</td>\n      <td>-1.0</td>\n      <td>Graduate</td>\n      <td>Business</td>\n      <td>Business Admin-Undergrad</td>\n      <td>106</td>\n      <td>Primary</td>\n      <td>4</td>\n      <td>20235</td>\n      <td>20235.0</td>\n      <td>...</td>\n      <td>NaN</td>\n      <td>NaN</td>\n      <td>NaN</td>\n      <td>NaN</td>\n      <td>NaN</td>\n      <td>NaN</td>\n      <td>NaN</td>\n      <td>NaN</td>\n      <td>NaN</td>\n      <td>NaN</td>\n    </tr>\n    <tr>\n      <th>...</th>\n      <td>...</td>\n      <td>...</td>\n      <td>...</td>\n      <td>...</td>\n      <td>...</td>\n      <td>...</td>\n      <td>...</td>\n      <td>...</td>\n      <td>...</td>\n      <td>...</td>\n      <td>...</td>\n      <td>...</td>\n      <td>...</td>\n      <td>...</td>\n      <td>...</td>\n      <td>...</td>\n      <td>...</td>\n      <td>...</td>\n      <td>...</td>\n      <td>...</td>\n      <td>...</td>\n    </tr>\n    <tr>\n      <th>26609</th>\n      <td>NaN</td>\n      <td>NaN</td>\n      <td>NaN</td>\n      <td>NaN</td>\n      <td>NaN</td>\n      <td>NaN</td>\n      <td>NaN</td>\n      <td>NaN</td>\n      <td>NaN</td>\n      <td>NaN</td>\n      <td>...</td>\n      <td>1</td>\n      <td>12435.0</td>\n      <td>12435.0</td>\n      <td>Indust/Organ Psych</td>\n      <td>Christian Wright</td>\n      <td>A</td>\n      <td>Letter Grade</td>\n      <td>A</td>\n      <td>4.0</td>\n      <td>6.0</td>\n    </tr>\n    <tr>\n      <th>26610</th>\n      <td>NaN</td>\n      <td>NaN</td>\n      <td>NaN</td>\n      <td>NaN</td>\n      <td>NaN</td>\n      <td>NaN</td>\n      <td>NaN</td>\n      <td>NaN</td>\n      <td>NaN</td>\n      <td>NaN</td>\n      <td>...</td>\n      <td>1</td>\n      <td>15447.0</td>\n      <td>15447.0</td>\n      <td>Topics Pol Theory</td>\n      <td>Daniel Lee; Jacob Liming</td>\n      <td>B</td>\n      <td>Letter Grade</td>\n      <td>B</td>\n      <td>3.0</td>\n      <td>8.0</td>\n    </tr>\n    <tr>\n      <th>26611</th>\n      <td>NaN</td>\n      <td>NaN</td>\n      <td>NaN</td>\n      <td>NaN</td>\n      <td>NaN</td>\n      <td>NaN</td>\n      <td>NaN</td>\n      <td>NaN</td>\n      <td>NaN</td>\n      <td>NaN</td>\n      <td>...</td>\n      <td>1</td>\n      <td>13087.0</td>\n      <td>13087.0</td>\n      <td>Globl Mental Health</td>\n      <td>Heng-hsian Liu</td>\n      <td>A</td>\n      <td>Letter Grade</td>\n      <td>A</td>\n      <td>4.0</td>\n      <td>6.0</td>\n    </tr>\n    <tr>\n      <th>26612</th>\n      <td>NaN</td>\n      <td>NaN</td>\n      <td>NaN</td>\n      <td>NaN</td>\n      <td>NaN</td>\n      <td>NaN</td>\n      <td>NaN</td>\n      <td>NaN</td>\n      <td>NaN</td>\n      <td>NaN</td>\n      <td>...</td>\n      <td>1</td>\n      <td>12036.0</td>\n      <td>12036.0</td>\n      <td>Esl Test Prep</td>\n      <td>David Wiese; Margi Wald; Mona Khabiri</td>\n      <td>A</td>\n      <td>Letter Grade</td>\n      <td>A</td>\n      <td>4.0</td>\n      <td>4.0</td>\n    </tr>\n    <tr>\n      <th>26613</th>\n      <td>NaN</td>\n      <td>NaN</td>\n      <td>NaN</td>\n      <td>NaN</td>\n      <td>NaN</td>\n      <td>NaN</td>\n      <td>NaN</td>\n      <td>NaN</td>\n      <td>NaN</td>\n      <td>NaN</td>\n      <td>...</td>\n      <td>1</td>\n      <td>12626.0</td>\n      <td>12626.0</td>\n      <td>Mind-Body &amp; Health</td>\n      <td>Ephrem Fernandez</td>\n      <td>F</td>\n      <td>Letter Grade</td>\n      <td>F</td>\n      <td>0.0</td>\n      <td>3.0</td>\n    </tr>\n  </tbody>\n</table>\n<p>5768076 rows × 34 columns</p>\n</div>"
     },
     "metadata": {},
     "execution_count": 7
    }
   ],
   "source": [
    "student_courses"
   ]
  },
  {
   "cell_type": "code",
   "execution_count": 39,
   "metadata": {},
   "outputs": [],
   "source": [
    "# minor data cleaning\n",
    "student_courses = student_courses[~student_courses['ppsk'].isnull()]\n",
    "student_courses = student_courses[student_courses['ppsk'] != -1]\n",
    "for i in student_courses.columns:\n",
    "    if student_courses[i].isnull().all():\n",
    "        student_courses.drop(i,axis=1,inplace=True)"
   ]
  },
  {
   "cell_type": "code",
   "execution_count": 36,
   "metadata": {},
   "outputs": [],
   "source": [
    "maker_passes = student_courses[student_courses[\"course.department\"] == \"Design Innovation\"]['ppsk'].unique()"
   ]
  },
  {
   "cell_type": "code",
   "execution_count": 37,
   "metadata": {},
   "outputs": [
    {
     "output_type": "stream",
     "name": "stdout",
     "text": [
      "['-' 'African American Studies' 'Ag & Env Chem Grad Grp'\n 'Ag & Resource Econ & Pol' 'Anc Hist Med Arc Grad Grp' 'Anthropology'\n 'Applied Sci & Tech Grad Grp' 'Architecture' 'Art Practice' 'Astronomy'\n 'Bioengineering' 'Biophysics Grad Grp' 'Buddhist Studies Grad Grp'\n 'Business' 'Chem & Biomolecular Eng' 'Chemistry'\n 'City & Regional Planning' 'Civil & Environmental Eng' 'Classics'\n 'College Writing Programs' 'Comparative Biochem Grad Grp'\n 'Comparative Literature' 'Computational Biology Grad Grp'\n 'Critical Theory Grad Grp' 'Data Science' 'Demography'\n 'Design Innovation' 'Development Eng Grad Grp'\n 'Development Practice Grad Grp' 'Earth & Planetary Science'\n 'East Asian Lang & Culture' 'Economics' 'Education'\n 'Electrical Eng & Computer Sci' 'Energy & Resources Grad Grp'\n 'Engineering Science' 'English' 'Env Sci, Policy, & Mgmt'\n 'Ethnic Studies' 'European Studies Grad Grp'\n 'FPF-African American Studies' 'FPF-Anthropology' 'FPF-Art Practice'\n 'FPF-Astronomy' 'FPF-Chemistry' 'FPF-Classics'\n 'FPF-College Writing Program' 'FPF-Comparative Literature'\n 'FPF-Earth & Planetary Science' 'FPF-English'\n 'FPF-Env Sci, Policy, & Mgmt' 'FPF-Ethnic Studies' 'FPF-Film & Media'\n 'FPF-Gender & Womens Studies' 'FPF-Geography' 'FPF-History'\n 'FPF-History of Art' 'FPF-IAS Teaching Program' 'FPF-Integrative Biology'\n 'FPF-Interdisc Social Sci Pgms' 'FPF-Legal Studies'\n 'FPF-Letters & Science' 'FPF-Linguistics' 'FPF-Mathematics'\n 'FPF-Molecular & Cell Biology' 'FPF-Music' 'FPF-Philosophy'\n 'FPF-Political Science' 'FPF-Psychology' 'FPF-Rhetoric' 'FPF-Sociology'\n 'FPF-Statistics' 'Film and Media' 'Folklore Grad Grp' 'French'\n 'Gender & Womens Studies' 'Geography' 'German'\n 'Global Metro Std Grad Grp' 'Health & Medical Sci Grad Grp' 'History'\n 'History of Art' 'Industrial Eng & Ops Research' 'Information'\n 'Integrative Biology' 'Interdisc Social Science Pgms' 'Italian Studies'\n 'Jewish Studies Program' 'Journalism' 'Landscape Arch & Env Plan' 'Law'\n 'Linguistics' 'Materials Science & Eng' 'Mathematics'\n 'Mechanical Engineering' 'Medieval Studies Program'\n 'Military Affairs Program' 'Molecular & Cell Biology' 'Music'\n 'Nano Sci & Eng Grad Grp' 'Near Eastern Studies'\n 'Neuroscience Graduate Program' 'New Media Grad Grp'\n 'Nuclear Engineering' 'Nutritional Sciences & Tox' 'Optometry'\n 'Other Arts & Humanities Pgms' 'Other Bio Sciences Pgms'\n 'Other Clg of Natural Res Pgms' 'Other EVCP Programs' 'Philosophy'\n 'Physical Education' 'Physics' 'Plant & Microbial Biology'\n 'Political Science' 'Psychology' 'Public Health' 'Public Policy'\n 'Rhetoric' 'Scandinavian' 'Sci & Tech Stds Grad Grp'\n 'Science & Math Educ Grad Grp' 'Slavic Languages & Literatures'\n 'Social Welfare' 'Sociology' 'South & SE Asian Studies'\n 'Spanish & Portuguese' 'Statistics' 'Theater Dance & Perf Stds'\n 'UG Interdisciplinary Studies' 'Vision Science Grad Grp']\n"
     ]
    }
   ],
   "source": [
    "print(np.sort(student_courses['course.department'].unique()))"
   ]
  },
  {
   "cell_type": "code",
   "execution_count": 38,
   "metadata": {},
   "outputs": [],
   "source": [
    "maker_passes = pd.Series(maker_passes)\n",
    "student_passes = student_courses[student_courses['ppsk'].isin(maker_passes)]"
   ]
  },
  {
   "cell_type": "code",
   "execution_count": 43,
   "metadata": {},
   "outputs": [
    {
     "output_type": "execute_result",
     "data": {
      "text/plain": [
       "array(['High Honors', 'Honors', 'Pass', 'Pass Conditional', 'Credit',\n",
       "       'Satisfactory', 'No Credit', 'Not Pass', 'Unsatisfactory'],\n",
       "      dtype=object)"
      ]
     },
     "metadata": {},
     "execution_count": 43
    }
   ],
   "source": [
    "student_courses[student_courses[['grade.subtype', 'grade.type', 'grade.name']]['grade.type'] == 'Non-Letter Grade']['grade.name'].unique()"
   ]
  },
  {
   "cell_type": "code",
   "execution_count": 44,
   "metadata": {},
   "outputs": [
    {
     "output_type": "execute_result",
     "data": {
      "text/plain": [
       "         year.name       ppsk undergrad.status              course.department  \\\n",
       "93     2007 Summer    31341.0         Graduate           Near Eastern Studies   \n",
       "94     2007 Summer    33827.0         Graduate                         German   \n",
       "95     2007 Summer   169335.0         Graduate           Near Eastern Studies   \n",
       "96     2007 Summer   194536.0         Graduate                 Ethnic Studies   \n",
       "97     2007 Summer   198873.0    Undergraduate           Near Eastern Studies   \n",
       "...            ...        ...              ...                            ...   \n",
       "23099  2019 Summer  4270528.0    Undergraduate                      Sociology   \n",
       "23102  2019 Summer  4271436.0    Undergraduate     Nutritional Sciences & Tox   \n",
       "23103  2019 Summer  4271494.0    Undergraduate                     Psychology   \n",
       "23104  2019 Summer  4271527.0    Undergraduate      Theater Dance & Perf Stds   \n",
       "23105  2019 Summer  4271531.0    Undergraduate  Interdisc Social Science Pgms   \n",
       "\n",
       "                  course.subject course.number      offering.type  \\\n",
       "93                       Persian            20            Primary   \n",
       "94                        German            10            Primary   \n",
       "95          Near Eastern Studies          290A  Independent Study   \n",
       "96                Ethnic Studies         135AC            Primary   \n",
       "97                        Hebrew          N106            Primary   \n",
       "...                          ...           ...                ...   \n",
       "23099                  Sociology           140            Primary   \n",
       "23102  Nutritional Science & Tox            10            Primary   \n",
       "23103                 Psychology         166AC            Primary   \n",
       "23104  Theater Dance & Perf Stds            10            Primary   \n",
       "23105             Global Studies          154M            Primary   \n",
       "\n",
       "      section.number    ccn  room.share  ... Section Nbr Course Control Nbr  \\\n",
       "93                 1  70310     70310.0  ...         NaN                NaN   \n",
       "94                 1  48655     48655.0  ...         NaN                NaN   \n",
       "95                 3  66140     66140.0  ...         NaN                NaN   \n",
       "96                 2  45245     45245.0  ...         NaN                NaN   \n",
       "97                 1  50010     50010.0  ...         NaN                NaN   \n",
       "...              ...    ...         ...  ...         ...                ...   \n",
       "23099              1  14004     14004.0  ...         NaN                NaN   \n",
       "23102              2  14561     14561.0  ...         NaN                NaN   \n",
       "23103              1  14105     14105.0  ...         NaN                NaN   \n",
       "23104              1  14043     14043.0  ...         NaN                NaN   \n",
       "23105              3  15353     15353.0  ...         NaN                NaN   \n",
       "\n",
       "      Room Share Bundle Nbr Course Title Nm Instr Name Concat  \\\n",
       "93                      NaN             NaN               NaN   \n",
       "94                      NaN             NaN               NaN   \n",
       "95                      NaN             NaN               NaN   \n",
       "96                      NaN             NaN               NaN   \n",
       "97                      NaN             NaN               NaN   \n",
       "...                     ...             ...               ...   \n",
       "23099                   NaN             NaN               NaN   \n",
       "23102                   NaN             NaN               NaN   \n",
       "23103                   NaN             NaN               NaN   \n",
       "23104                   NaN             NaN               NaN   \n",
       "23105                   NaN             NaN               NaN   \n",
       "\n",
       "       Grade Subtype Desc  Grade Type Desc Grade Nm  Grade Points Nbr  \\\n",
       "93                    NaN              NaN      NaN               NaN   \n",
       "94                    NaN              NaN      NaN               NaN   \n",
       "95                    NaN              NaN      NaN               NaN   \n",
       "96                    NaN              NaN      NaN               NaN   \n",
       "97                    NaN              NaN      NaN               NaN   \n",
       "...                   ...              ...      ...               ...   \n",
       "23099                 NaN              NaN      NaN               NaN   \n",
       "23102                 NaN              NaN      NaN               NaN   \n",
       "23103                 NaN              NaN      NaN               NaN   \n",
       "23104                 NaN              NaN      NaN               NaN   \n",
       "23105                 NaN              NaN      NaN               NaN   \n",
       "\n",
       "      Student Credit Hrs Nbr  \n",
       "93                       NaN  \n",
       "94                       NaN  \n",
       "95                       NaN  \n",
       "96                       NaN  \n",
       "97                       NaN  \n",
       "...                      ...  \n",
       "23099                    NaN  \n",
       "23102                    NaN  \n",
       "23103                    NaN  \n",
       "23104                    NaN  \n",
       "23105                    NaN  \n",
       "\n",
       "[2945351 rows x 34 columns]"
      ],
      "text/html": "<div>\n<style scoped>\n    .dataframe tbody tr th:only-of-type {\n        vertical-align: middle;\n    }\n\n    .dataframe tbody tr th {\n        vertical-align: top;\n    }\n\n    .dataframe thead th {\n        text-align: right;\n    }\n</style>\n<table border=\"1\" class=\"dataframe\">\n  <thead>\n    <tr style=\"text-align: right;\">\n      <th></th>\n      <th>year.name</th>\n      <th>ppsk</th>\n      <th>undergrad.status</th>\n      <th>course.department</th>\n      <th>course.subject</th>\n      <th>course.number</th>\n      <th>offering.type</th>\n      <th>section.number</th>\n      <th>ccn</th>\n      <th>room.share</th>\n      <th>...</th>\n      <th>Section Nbr</th>\n      <th>Course Control Nbr</th>\n      <th>Room Share Bundle Nbr</th>\n      <th>Course Title Nm</th>\n      <th>Instr Name Concat</th>\n      <th>Grade Subtype Desc</th>\n      <th>Grade Type Desc</th>\n      <th>Grade Nm</th>\n      <th>Grade Points Nbr</th>\n      <th>Student Credit Hrs Nbr</th>\n    </tr>\n  </thead>\n  <tbody>\n    <tr>\n      <th>93</th>\n      <td>2007 Summer</td>\n      <td>31341.0</td>\n      <td>Graduate</td>\n      <td>Near Eastern Studies</td>\n      <td>Persian</td>\n      <td>20</td>\n      <td>Primary</td>\n      <td>1</td>\n      <td>70310</td>\n      <td>70310.0</td>\n      <td>...</td>\n      <td>NaN</td>\n      <td>NaN</td>\n      <td>NaN</td>\n      <td>NaN</td>\n      <td>NaN</td>\n      <td>NaN</td>\n      <td>NaN</td>\n      <td>NaN</td>\n      <td>NaN</td>\n      <td>NaN</td>\n    </tr>\n    <tr>\n      <th>94</th>\n      <td>2007 Summer</td>\n      <td>33827.0</td>\n      <td>Graduate</td>\n      <td>German</td>\n      <td>German</td>\n      <td>10</td>\n      <td>Primary</td>\n      <td>1</td>\n      <td>48655</td>\n      <td>48655.0</td>\n      <td>...</td>\n      <td>NaN</td>\n      <td>NaN</td>\n      <td>NaN</td>\n      <td>NaN</td>\n      <td>NaN</td>\n      <td>NaN</td>\n      <td>NaN</td>\n      <td>NaN</td>\n      <td>NaN</td>\n      <td>NaN</td>\n    </tr>\n    <tr>\n      <th>95</th>\n      <td>2007 Summer</td>\n      <td>169335.0</td>\n      <td>Graduate</td>\n      <td>Near Eastern Studies</td>\n      <td>Near Eastern Studies</td>\n      <td>290A</td>\n      <td>Independent Study</td>\n      <td>3</td>\n      <td>66140</td>\n      <td>66140.0</td>\n      <td>...</td>\n      <td>NaN</td>\n      <td>NaN</td>\n      <td>NaN</td>\n      <td>NaN</td>\n      <td>NaN</td>\n      <td>NaN</td>\n      <td>NaN</td>\n      <td>NaN</td>\n      <td>NaN</td>\n      <td>NaN</td>\n    </tr>\n    <tr>\n      <th>96</th>\n      <td>2007 Summer</td>\n      <td>194536.0</td>\n      <td>Graduate</td>\n      <td>Ethnic Studies</td>\n      <td>Ethnic Studies</td>\n      <td>135AC</td>\n      <td>Primary</td>\n      <td>2</td>\n      <td>45245</td>\n      <td>45245.0</td>\n      <td>...</td>\n      <td>NaN</td>\n      <td>NaN</td>\n      <td>NaN</td>\n      <td>NaN</td>\n      <td>NaN</td>\n      <td>NaN</td>\n      <td>NaN</td>\n      <td>NaN</td>\n      <td>NaN</td>\n      <td>NaN</td>\n    </tr>\n    <tr>\n      <th>97</th>\n      <td>2007 Summer</td>\n      <td>198873.0</td>\n      <td>Undergraduate</td>\n      <td>Near Eastern Studies</td>\n      <td>Hebrew</td>\n      <td>N106</td>\n      <td>Primary</td>\n      <td>1</td>\n      <td>50010</td>\n      <td>50010.0</td>\n      <td>...</td>\n      <td>NaN</td>\n      <td>NaN</td>\n      <td>NaN</td>\n      <td>NaN</td>\n      <td>NaN</td>\n      <td>NaN</td>\n      <td>NaN</td>\n      <td>NaN</td>\n      <td>NaN</td>\n      <td>NaN</td>\n    </tr>\n    <tr>\n      <th>...</th>\n      <td>...</td>\n      <td>...</td>\n      <td>...</td>\n      <td>...</td>\n      <td>...</td>\n      <td>...</td>\n      <td>...</td>\n      <td>...</td>\n      <td>...</td>\n      <td>...</td>\n      <td>...</td>\n      <td>...</td>\n      <td>...</td>\n      <td>...</td>\n      <td>...</td>\n      <td>...</td>\n      <td>...</td>\n      <td>...</td>\n      <td>...</td>\n      <td>...</td>\n      <td>...</td>\n    </tr>\n    <tr>\n      <th>23099</th>\n      <td>2019 Summer</td>\n      <td>4270528.0</td>\n      <td>Undergraduate</td>\n      <td>Sociology</td>\n      <td>Sociology</td>\n      <td>140</td>\n      <td>Primary</td>\n      <td>1</td>\n      <td>14004</td>\n      <td>14004.0</td>\n      <td>...</td>\n      <td>NaN</td>\n      <td>NaN</td>\n      <td>NaN</td>\n      <td>NaN</td>\n      <td>NaN</td>\n      <td>NaN</td>\n      <td>NaN</td>\n      <td>NaN</td>\n      <td>NaN</td>\n      <td>NaN</td>\n    </tr>\n    <tr>\n      <th>23102</th>\n      <td>2019 Summer</td>\n      <td>4271436.0</td>\n      <td>Undergraduate</td>\n      <td>Nutritional Sciences &amp; Tox</td>\n      <td>Nutritional Science &amp; Tox</td>\n      <td>10</td>\n      <td>Primary</td>\n      <td>2</td>\n      <td>14561</td>\n      <td>14561.0</td>\n      <td>...</td>\n      <td>NaN</td>\n      <td>NaN</td>\n      <td>NaN</td>\n      <td>NaN</td>\n      <td>NaN</td>\n      <td>NaN</td>\n      <td>NaN</td>\n      <td>NaN</td>\n      <td>NaN</td>\n      <td>NaN</td>\n    </tr>\n    <tr>\n      <th>23103</th>\n      <td>2019 Summer</td>\n      <td>4271494.0</td>\n      <td>Undergraduate</td>\n      <td>Psychology</td>\n      <td>Psychology</td>\n      <td>166AC</td>\n      <td>Primary</td>\n      <td>1</td>\n      <td>14105</td>\n      <td>14105.0</td>\n      <td>...</td>\n      <td>NaN</td>\n      <td>NaN</td>\n      <td>NaN</td>\n      <td>NaN</td>\n      <td>NaN</td>\n      <td>NaN</td>\n      <td>NaN</td>\n      <td>NaN</td>\n      <td>NaN</td>\n      <td>NaN</td>\n    </tr>\n    <tr>\n      <th>23104</th>\n      <td>2019 Summer</td>\n      <td>4271527.0</td>\n      <td>Undergraduate</td>\n      <td>Theater Dance &amp; Perf Stds</td>\n      <td>Theater Dance &amp; Perf Stds</td>\n      <td>10</td>\n      <td>Primary</td>\n      <td>1</td>\n      <td>14043</td>\n      <td>14043.0</td>\n      <td>...</td>\n      <td>NaN</td>\n      <td>NaN</td>\n      <td>NaN</td>\n      <td>NaN</td>\n      <td>NaN</td>\n      <td>NaN</td>\n      <td>NaN</td>\n      <td>NaN</td>\n      <td>NaN</td>\n      <td>NaN</td>\n    </tr>\n    <tr>\n      <th>23105</th>\n      <td>2019 Summer</td>\n      <td>4271531.0</td>\n      <td>Undergraduate</td>\n      <td>Interdisc Social Science Pgms</td>\n      <td>Global Studies</td>\n      <td>154M</td>\n      <td>Primary</td>\n      <td>3</td>\n      <td>15353</td>\n      <td>15353.0</td>\n      <td>...</td>\n      <td>NaN</td>\n      <td>NaN</td>\n      <td>NaN</td>\n      <td>NaN</td>\n      <td>NaN</td>\n      <td>NaN</td>\n      <td>NaN</td>\n      <td>NaN</td>\n      <td>NaN</td>\n      <td>NaN</td>\n    </tr>\n  </tbody>\n</table>\n<p>2945351 rows × 34 columns</p>\n</div>"
     },
     "metadata": {},
     "execution_count": 44
    }
   ],
   "source": [
    "student_courses[student_courses['grade.name']< 'D']"
   ]
  },
  {
   "cell_type": "code",
   "execution_count": 45,
   "metadata": {},
   "outputs": [
    {
     "output_type": "execute_result",
     "data": {
      "text/plain": [
       "224186"
      ]
     },
     "metadata": {},
     "execution_count": 45
    }
   ],
   "source": [
    "len(student_courses['ppsk'].unique())"
   ]
  },
  {
   "cell_type": "code",
   "execution_count": null,
   "metadata": {},
   "outputs": [],
   "source": []
  }
 ],
 "metadata": {
  "kernelspec": {
   "name": "python3",
   "display_name": "Python 3.8.2 64-bit",
   "metadata": {
    "interpreter": {
     "hash": "31f2aee4e71d21fbe5cf8b01ff0e069b9275f58929596ceb00d14d90e3e16cd6"
    }
   }
  },
  "language_info": {
   "codemirror_mode": {
    "name": "ipython",
    "version": 3
   },
   "file_extension": ".py",
   "mimetype": "text/x-python",
   "name": "python",
   "nbconvert_exporter": "python",
   "pygments_lexer": "ipython3",
   "version": "3.8.2-final"
  }
 },
 "nbformat": 4,
 "nbformat_minor": 2
}