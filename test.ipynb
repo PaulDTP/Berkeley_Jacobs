{
 "cells": [
  {
   "cell_type": "code",
   "execution_count": 1,
   "metadata": {},
   "outputs": [],
   "source": [
    "import pandas as pd\n",
    "import numpy as np\n",
    "import seaborn as sns\n",
    "import matplotlib.pyplot as plt\n",
    "import glob"
   ]
  },
  {
   "cell_type": "code",
   "execution_count": 2,
   "metadata": {},
   "outputs": [],
   "source": [
    "#if you upload a unzip file to JupyterLab\n",
    "#import zipfile as zf\n",
    "#files = zf.ZipFile(\"/home/jovyan/data.zip\", 'r')\n",
    "#files.extractall('/home/jovyan/')\n",
    "#files.close()"
   ]
  },
  {
   "cell_type": "code",
   "execution_count": 3,
   "metadata": {},
   "outputs": [],
   "source": [
    "df = pd.DataFrame()\n",
    "files = glob.glob(\"data/*\")\n",
    "course_data = glob.glob(\"data/uc.berkeley.student.course.data.*.txt\")\n",
    "majors = glob.glob(\"data/uc.berkeley.student.majors.*.txt\")\n",
    "pathways = glob.glob(\"data/uc.berkeley.stem.*.txt\")\n"
   ]
  },
  {
   "cell_type": "code",
   "execution_count": 4,
   "metadata": {},
   "outputs": [
    {
     "output_type": "execute_result",
     "data": {
      "text/plain": [
       "['data/uc.berkeley.student.course.data.2012.txt',\n",
       " 'data/uc.berkeley.student.course.data.2007.txt',\n",
       " 'data/uc.berkeley.student.course.data.2013.txt',\n",
       " 'data/uc.berkeley.student.course.data.2020.summer.txt',\n",
       " 'data/uc.berkeley.student.course.data.2011.txt',\n",
       " 'data/uc.berkeley.student.course.data.2010.txt',\n",
       " 'data/uc.berkeley.student.course.data.2014.txt',\n",
       " 'data/uc.berkeley.student.course.data.2015.txt',\n",
       " 'data/uc.berkeley.student.course.data.2017.txt',\n",
       " 'data/uc.berkeley.student.course.data.2016.txt',\n",
       " 'data/uc.berkeley.student.course.data.2018.spring.txt',\n",
       " 'data/uc.berkeley.student.course.data.2018.summer.txt',\n",
       " 'data/uc.berkeley.student.course.data.2020.spring.txt',\n",
       " 'data/uc.berkeley.student.course.data.2019.spring.txt',\n",
       " 'data/uc.berkeley.student.course.data.2020.fall.txt',\n",
       " 'data/uc.berkeley.student.course.data.2018.fall.txt',\n",
       " 'data/uc.berkeley.student.course.data.2019.fall.txt',\n",
       " 'data/uc.berkeley.student.course.data.2009.txt',\n",
       " 'data/uc.berkeley.student.course.data.2008.txt',\n",
       " 'data/uc.berkeley.student.course.data.2019.summer.txt']"
      ]
     },
     "metadata": {},
     "execution_count": 4
    }
   ],
   "source": [
    "course_data"
   ]
  },
  {
   "cell_type": "code",
   "execution_count": 5,
   "metadata": {},
   "outputs": [
    {
     "output_type": "stream",
     "name": "stderr",
     "text": [
      "/Users/paulterrell-perica/Library/Python/3.8/lib/python/site-packages/IPython/core/interactiveshell.py:3165: DtypeWarning: Columns (7) have mixed types.Specify dtype option on import or set low_memory=False.\n",
      "  has_raised = await self.run_ast_nodes(code_ast.body, cell_name,\n",
      "/Users/paulterrell-perica/Library/Python/3.8/lib/python/site-packages/IPython/core/interactiveshell.py:3165: DtypeWarning: Columns (8) have mixed types.Specify dtype option on import or set low_memory=False.\n",
      "  has_raised = await self.run_ast_nodes(code_ast.body, cell_name,\n"
     ]
    }
   ],
   "source": [
    "course_data.sort()\n",
    "student_courses = pd.DataFrame()\n",
    "for f in course_data:\n",
    "    student_courses = student_courses.append(pd.read_table(f))"
   ]
  },
  {
   "cell_type": "code",
   "execution_count": 6,
   "metadata": {},
   "outputs": [
    {
     "output_type": "execute_result",
     "data": {
      "text/plain": [
       "['data/uc.berkeley.student.course.data.2007.txt',\n",
       " 'data/uc.berkeley.student.course.data.2008.txt',\n",
       " 'data/uc.berkeley.student.course.data.2009.txt',\n",
       " 'data/uc.berkeley.student.course.data.2010.txt',\n",
       " 'data/uc.berkeley.student.course.data.2011.txt',\n",
       " 'data/uc.berkeley.student.course.data.2012.txt',\n",
       " 'data/uc.berkeley.student.course.data.2013.txt',\n",
       " 'data/uc.berkeley.student.course.data.2014.txt',\n",
       " 'data/uc.berkeley.student.course.data.2015.txt',\n",
       " 'data/uc.berkeley.student.course.data.2016.txt',\n",
       " 'data/uc.berkeley.student.course.data.2017.txt',\n",
       " 'data/uc.berkeley.student.course.data.2018.fall.txt',\n",
       " 'data/uc.berkeley.student.course.data.2018.spring.txt',\n",
       " 'data/uc.berkeley.student.course.data.2018.summer.txt',\n",
       " 'data/uc.berkeley.student.course.data.2019.fall.txt',\n",
       " 'data/uc.berkeley.student.course.data.2019.spring.txt',\n",
       " 'data/uc.berkeley.student.course.data.2019.summer.txt',\n",
       " 'data/uc.berkeley.student.course.data.2020.fall.txt',\n",
       " 'data/uc.berkeley.student.course.data.2020.spring.txt',\n",
       " 'data/uc.berkeley.student.course.data.2020.summer.txt']"
      ]
     },
     "metadata": {},
     "execution_count": 6
    }
   ],
   "source": [
    "course_data"
   ]
  },
  {
   "cell_type": "code",
   "execution_count": 55,
   "metadata": {},
   "outputs": [
    {
     "output_type": "execute_result",
     "data": {
      "text/plain": [
       "         year.name       ppsk undergrad.status              course.department  \\\n",
       "93     2007 Summer    31341.0         Graduate           Near Eastern Studies   \n",
       "94     2007 Summer    33827.0         Graduate                         German   \n",
       "95     2007 Summer   169335.0         Graduate           Near Eastern Studies   \n",
       "96     2007 Summer   194536.0         Graduate                 Ethnic Studies   \n",
       "97     2007 Summer   198873.0    Undergraduate           Near Eastern Studies   \n",
       "...            ...        ...              ...                            ...   \n",
       "23102  2019 Summer  4271436.0    Undergraduate     Nutritional Sciences & Tox   \n",
       "23103  2019 Summer  4271494.0    Undergraduate                     Psychology   \n",
       "23104  2019 Summer  4271527.0    Undergraduate      Theater Dance & Perf Stds   \n",
       "23105  2019 Summer  4271531.0    Undergraduate  Interdisc Social Science Pgms   \n",
       "23106  2019 Summer  4271995.0    Undergraduate       College Writing Programs   \n",
       "\n",
       "                  course.subject course.number      offering.type  \\\n",
       "93                       Persian            20            Primary   \n",
       "94                        German            10            Primary   \n",
       "95          Near Eastern Studies          290A  Independent Study   \n",
       "96                Ethnic Studies         135AC            Primary   \n",
       "97                        Hebrew          N106            Primary   \n",
       "...                          ...           ...                ...   \n",
       "23102  Nutritional Science & Tox            10            Primary   \n",
       "23103                 Psychology         166AC            Primary   \n",
       "23104  Theater Dance & Perf Stds            10            Primary   \n",
       "23105             Global Studies          154M            Primary   \n",
       "23106   College Writing Programs            6H            Primary   \n",
       "\n",
       "      section.number    ccn  room.share         course.title  \\\n",
       "93                 1  70310     70310.0  Inten Inter Persian   \n",
       "94                 1  48655     48655.0   Elem German Wrkshp   \n",
       "95                 3  66140     66140.0      Special Studies   \n",
       "96                 2  45245     45245.0     U.S. Immigration   \n",
       "97                 1  50010     50010.0     Elem Bibl Hebrew   \n",
       "...              ...    ...         ...                  ...   \n",
       "23102              2  14561     14561.0     Intro Human Nutr   \n",
       "23103              1  14105     14105.0  Cultural Psychology   \n",
       "23104              1  14043     14043.0    Fund. Of Acting I   \n",
       "23105              3  15353     15353.0   Topics Middle East   \n",
       "23106              2  14281     14281.0          Esl Writing   \n",
       "\n",
       "                     instructor.name grade.subtype    grade.type grade.name  \\\n",
       "93                    Jaleh Pirnazar             A  Letter Grade         A+   \n",
       "94     Meredith Kolar; Nikolaus Euba             A  Letter Grade         A+   \n",
       "95                      Hatem Bazian             A  Letter Grade         A+   \n",
       "96                    Catherine Choy             A  Letter Grade         A+   \n",
       "97                     Chava Boyarin             A  Letter Grade         A+   \n",
       "...                              ...           ...           ...        ...   \n",
       "23102                            NaN             B  Letter Grade         B-   \n",
       "23103                            NaN             A  Letter Grade         A+   \n",
       "23104                            NaN             A  Letter Grade          A   \n",
       "23105                            NaN             A  Letter Grade          A   \n",
       "23106                            NaN             F  Letter Grade          F   \n",
       "\n",
       "       grade.points  student.credit.hours  \n",
       "93              4.0                  10.0  \n",
       "94              4.0                  10.0  \n",
       "95              4.0                   4.0  \n",
       "96              4.0                   4.0  \n",
       "97              4.0                   6.0  \n",
       "...             ...                   ...  \n",
       "23102           2.7                   3.0  \n",
       "23103           4.0                   3.0  \n",
       "23104           4.0                   3.0  \n",
       "23105           4.0                   4.0  \n",
       "23106           0.0                   2.0  \n",
       "\n",
       "[5597609 rows x 17 columns]"
      ],
      "text/html": "<div>\n<style scoped>\n    .dataframe tbody tr th:only-of-type {\n        vertical-align: middle;\n    }\n\n    .dataframe tbody tr th {\n        vertical-align: top;\n    }\n\n    .dataframe thead th {\n        text-align: right;\n    }\n</style>\n<table border=\"1\" class=\"dataframe\">\n  <thead>\n    <tr style=\"text-align: right;\">\n      <th></th>\n      <th>year.name</th>\n      <th>ppsk</th>\n      <th>undergrad.status</th>\n      <th>course.department</th>\n      <th>course.subject</th>\n      <th>course.number</th>\n      <th>offering.type</th>\n      <th>section.number</th>\n      <th>ccn</th>\n      <th>room.share</th>\n      <th>course.title</th>\n      <th>instructor.name</th>\n      <th>grade.subtype</th>\n      <th>grade.type</th>\n      <th>grade.name</th>\n      <th>grade.points</th>\n      <th>student.credit.hours</th>\n    </tr>\n  </thead>\n  <tbody>\n    <tr>\n      <th>93</th>\n      <td>2007 Summer</td>\n      <td>31341.0</td>\n      <td>Graduate</td>\n      <td>Near Eastern Studies</td>\n      <td>Persian</td>\n      <td>20</td>\n      <td>Primary</td>\n      <td>1</td>\n      <td>70310</td>\n      <td>70310.0</td>\n      <td>Inten Inter Persian</td>\n      <td>Jaleh Pirnazar</td>\n      <td>A</td>\n      <td>Letter Grade</td>\n      <td>A+</td>\n      <td>4.0</td>\n      <td>10.0</td>\n    </tr>\n    <tr>\n      <th>94</th>\n      <td>2007 Summer</td>\n      <td>33827.0</td>\n      <td>Graduate</td>\n      <td>German</td>\n      <td>German</td>\n      <td>10</td>\n      <td>Primary</td>\n      <td>1</td>\n      <td>48655</td>\n      <td>48655.0</td>\n      <td>Elem German Wrkshp</td>\n      <td>Meredith Kolar; Nikolaus Euba</td>\n      <td>A</td>\n      <td>Letter Grade</td>\n      <td>A+</td>\n      <td>4.0</td>\n      <td>10.0</td>\n    </tr>\n    <tr>\n      <th>95</th>\n      <td>2007 Summer</td>\n      <td>169335.0</td>\n      <td>Graduate</td>\n      <td>Near Eastern Studies</td>\n      <td>Near Eastern Studies</td>\n      <td>290A</td>\n      <td>Independent Study</td>\n      <td>3</td>\n      <td>66140</td>\n      <td>66140.0</td>\n      <td>Special Studies</td>\n      <td>Hatem Bazian</td>\n      <td>A</td>\n      <td>Letter Grade</td>\n      <td>A+</td>\n      <td>4.0</td>\n      <td>4.0</td>\n    </tr>\n    <tr>\n      <th>96</th>\n      <td>2007 Summer</td>\n      <td>194536.0</td>\n      <td>Graduate</td>\n      <td>Ethnic Studies</td>\n      <td>Ethnic Studies</td>\n      <td>135AC</td>\n      <td>Primary</td>\n      <td>2</td>\n      <td>45245</td>\n      <td>45245.0</td>\n      <td>U.S. Immigration</td>\n      <td>Catherine Choy</td>\n      <td>A</td>\n      <td>Letter Grade</td>\n      <td>A+</td>\n      <td>4.0</td>\n      <td>4.0</td>\n    </tr>\n    <tr>\n      <th>97</th>\n      <td>2007 Summer</td>\n      <td>198873.0</td>\n      <td>Undergraduate</td>\n      <td>Near Eastern Studies</td>\n      <td>Hebrew</td>\n      <td>N106</td>\n      <td>Primary</td>\n      <td>1</td>\n      <td>50010</td>\n      <td>50010.0</td>\n      <td>Elem Bibl Hebrew</td>\n      <td>Chava Boyarin</td>\n      <td>A</td>\n      <td>Letter Grade</td>\n      <td>A+</td>\n      <td>4.0</td>\n      <td>6.0</td>\n    </tr>\n    <tr>\n      <th>...</th>\n      <td>...</td>\n      <td>...</td>\n      <td>...</td>\n      <td>...</td>\n      <td>...</td>\n      <td>...</td>\n      <td>...</td>\n      <td>...</td>\n      <td>...</td>\n      <td>...</td>\n      <td>...</td>\n      <td>...</td>\n      <td>...</td>\n      <td>...</td>\n      <td>...</td>\n      <td>...</td>\n      <td>...</td>\n    </tr>\n    <tr>\n      <th>23102</th>\n      <td>2019 Summer</td>\n      <td>4271436.0</td>\n      <td>Undergraduate</td>\n      <td>Nutritional Sciences &amp; Tox</td>\n      <td>Nutritional Science &amp; Tox</td>\n      <td>10</td>\n      <td>Primary</td>\n      <td>2</td>\n      <td>14561</td>\n      <td>14561.0</td>\n      <td>Intro Human Nutr</td>\n      <td>NaN</td>\n      <td>B</td>\n      <td>Letter Grade</td>\n      <td>B-</td>\n      <td>2.7</td>\n      <td>3.0</td>\n    </tr>\n    <tr>\n      <th>23103</th>\n      <td>2019 Summer</td>\n      <td>4271494.0</td>\n      <td>Undergraduate</td>\n      <td>Psychology</td>\n      <td>Psychology</td>\n      <td>166AC</td>\n      <td>Primary</td>\n      <td>1</td>\n      <td>14105</td>\n      <td>14105.0</td>\n      <td>Cultural Psychology</td>\n      <td>NaN</td>\n      <td>A</td>\n      <td>Letter Grade</td>\n      <td>A+</td>\n      <td>4.0</td>\n      <td>3.0</td>\n    </tr>\n    <tr>\n      <th>23104</th>\n      <td>2019 Summer</td>\n      <td>4271527.0</td>\n      <td>Undergraduate</td>\n      <td>Theater Dance &amp; Perf Stds</td>\n      <td>Theater Dance &amp; Perf Stds</td>\n      <td>10</td>\n      <td>Primary</td>\n      <td>1</td>\n      <td>14043</td>\n      <td>14043.0</td>\n      <td>Fund. Of Acting I</td>\n      <td>NaN</td>\n      <td>A</td>\n      <td>Letter Grade</td>\n      <td>A</td>\n      <td>4.0</td>\n      <td>3.0</td>\n    </tr>\n    <tr>\n      <th>23105</th>\n      <td>2019 Summer</td>\n      <td>4271531.0</td>\n      <td>Undergraduate</td>\n      <td>Interdisc Social Science Pgms</td>\n      <td>Global Studies</td>\n      <td>154M</td>\n      <td>Primary</td>\n      <td>3</td>\n      <td>15353</td>\n      <td>15353.0</td>\n      <td>Topics Middle East</td>\n      <td>NaN</td>\n      <td>A</td>\n      <td>Letter Grade</td>\n      <td>A</td>\n      <td>4.0</td>\n      <td>4.0</td>\n    </tr>\n    <tr>\n      <th>23106</th>\n      <td>2019 Summer</td>\n      <td>4271995.0</td>\n      <td>Undergraduate</td>\n      <td>College Writing Programs</td>\n      <td>College Writing Programs</td>\n      <td>6H</td>\n      <td>Primary</td>\n      <td>2</td>\n      <td>14281</td>\n      <td>14281.0</td>\n      <td>Esl Writing</td>\n      <td>NaN</td>\n      <td>F</td>\n      <td>Letter Grade</td>\n      <td>F</td>\n      <td>0.0</td>\n      <td>2.0</td>\n    </tr>\n  </tbody>\n</table>\n<p>5597609 rows × 17 columns</p>\n</div>"
     },
     "metadata": {},
     "execution_count": 55
    }
   ],
   "source": [
    "student_courses"
   ]
  },
  {
   "cell_type": "code",
   "execution_count": 39,
   "metadata": {},
   "outputs": [],
   "source": [
    "# minor data cleaning\n",
    "student_courses = student_courses[~student_courses['ppsk'].isnull()]\n",
    "student_courses = student_courses[student_courses['ppsk'] != -1]\n",
    "for i in student_courses.columns:\n",
    "    if student_courses[i].isnull().all():\n",
    "        student_courses.drop(i,axis=1,inplace=True)"
   ]
  },
  {
   "cell_type": "code",
   "execution_count": 40,
   "metadata": {},
   "outputs": [],
   "source": [
    "maker_passes = student_courses[student_courses[\"course.department\"] == \"Design Innovation\"]['ppsk'].unique()"
   ]
  },
  {
   "cell_type": "code",
   "execution_count": 62,
   "metadata": {},
   "outputs": [
    {
     "output_type": "stream",
     "name": "stdout",
     "text": [
      "['-' 'African American Studies' 'Ag & Env Chem Grad Grp'\n 'Ag & Resource Econ & Pol' 'Anc Hist Med Arc Grad Grp' 'Anthropology'\n 'Applied Sci & Tech Grad Grp' 'Architecture' 'Art Practice' 'Astronomy'\n 'Bioengineering' 'Biophysics Grad Grp' 'Buddhist Studies Grad Grp'\n 'Business' 'Chem & Biomolecular Eng' 'Chemistry'\n 'City & Regional Planning' 'Civil & Environmental Eng' 'Classics'\n 'College Writing Programs' 'Comparative Biochem Grad Grp'\n 'Comparative Literature' 'Computational Biology Grad Grp'\n 'Critical Theory Grad Grp' 'Data Science' 'Demography'\n 'Design Innovation' 'Development Eng Grad Grp'\n 'Development Practice Grad Grp' 'Earth & Planetary Science'\n 'East Asian Lang & Culture' 'Economics' 'Education'\n 'Electrical Eng & Computer Sci' 'Energy & Resources Grad Grp'\n 'Engineering Science' 'English' 'Env Sci, Policy, & Mgmt'\n 'Ethnic Studies' 'European Studies Grad Grp'\n 'FPF-African American Studies' 'FPF-Anthropology' 'FPF-Art Practice'\n 'FPF-Astronomy' 'FPF-Chemistry' 'FPF-Classics'\n 'FPF-College Writing Program' 'FPF-Comparative Literature'\n 'FPF-Earth & Planetary Science' 'FPF-English'\n 'FPF-Env Sci, Policy, & Mgmt' 'FPF-Ethnic Studies' 'FPF-Film & Media'\n 'FPF-Gender & Womens Studies' 'FPF-Geography' 'FPF-History'\n 'FPF-History of Art' 'FPF-IAS Teaching Program' 'FPF-Integrative Biology'\n 'FPF-Interdisc Social Sci Pgms' 'FPF-Legal Studies'\n 'FPF-Letters & Science' 'FPF-Linguistics' 'FPF-Mathematics'\n 'FPF-Molecular & Cell Biology' 'FPF-Music' 'FPF-Philosophy'\n 'FPF-Political Science' 'FPF-Psychology' 'FPF-Rhetoric' 'FPF-Sociology'\n 'FPF-Statistics' 'Film and Media' 'Folklore Grad Grp' 'French'\n 'Gender & Womens Studies' 'Geography' 'German'\n 'Global Metro Std Grad Grp' 'Health & Medical Sci Grad Grp' 'History'\n 'History of Art' 'Industrial Eng & Ops Research' 'Information'\n 'Integrative Biology' 'Interdisc Social Science Pgms' 'Italian Studies'\n 'Jewish Studies Program' 'Journalism' 'Landscape Arch & Env Plan' 'Law'\n 'Linguistics' 'Materials Science & Eng' 'Mathematics'\n 'Mechanical Engineering' 'Medieval Studies Program'\n 'Military Affairs Program' 'Molecular & Cell Biology' 'Music'\n 'Nano Sci & Eng Grad Grp' 'Near Eastern Studies'\n 'Neuroscience Graduate Program' 'New Media Grad Grp'\n 'Nuclear Engineering' 'Nutritional Sciences & Tox' 'Optometry'\n 'Other Arts & Humanities Pgms' 'Other Bio Sciences Pgms'\n 'Other Clg of Natural Res Pgms' 'Other EVCP Programs' 'Philosophy'\n 'Physical Education' 'Physics' 'Plant & Microbial Biology'\n 'Political Science' 'Psychology' 'Public Health' 'Public Policy'\n 'Rhetoric' 'Scandinavian' 'Sci & Tech Stds Grad Grp'\n 'Science & Math Educ Grad Grp' 'Slavic Languages & Literatures'\n 'Social Welfare' 'Sociology' 'South & SE Asian Studies'\n 'Spanish & Portuguese' 'Statistics' 'Theater Dance & Perf Stds'\n 'UG Interdisciplinary Studies' 'Vision Science Grad Grp']\n"
     ]
    }
   ],
   "source": [
    "print(np.sort(student_courses['course.department'].unique()))"
   ]
  },
  {
   "cell_type": "code",
   "execution_count": 60,
   "metadata": {},
   "outputs": [],
   "source": [
    "maker_passes = pd.Series(maker_passes)\n",
    "student_passes = student_courses[student_courses['ppsk'].isin(maker_passes)]"
   ]
  },
  {
   "cell_type": "code",
   "execution_count": 69,
   "metadata": {},
   "outputs": [
    {
     "output_type": "execute_result",
     "data": {
      "text/plain": [
       "Empty DataFrame\n",
       "Columns: [year.name, ppsk, undergrad.status, course.department, course.subject, course.number, offering.type, section.number, ccn, room.share, course.title, instructor.name, grade.subtype, grade.type, grade.name, grade.points, student.credit.hours]\n",
       "Index: []"
      ],
      "text/html": "<div>\n<style scoped>\n    .dataframe tbody tr th:only-of-type {\n        vertical-align: middle;\n    }\n\n    .dataframe tbody tr th {\n        vertical-align: top;\n    }\n\n    .dataframe thead th {\n        text-align: right;\n    }\n</style>\n<table border=\"1\" class=\"dataframe\">\n  <thead>\n    <tr style=\"text-align: right;\">\n      <th></th>\n      <th>year.name</th>\n      <th>ppsk</th>\n      <th>undergrad.status</th>\n      <th>course.department</th>\n      <th>course.subject</th>\n      <th>course.number</th>\n      <th>offering.type</th>\n      <th>section.number</th>\n      <th>ccn</th>\n      <th>room.share</th>\n      <th>course.title</th>\n      <th>instructor.name</th>\n      <th>grade.subtype</th>\n      <th>grade.type</th>\n      <th>grade.name</th>\n      <th>grade.points</th>\n      <th>student.credit.hours</th>\n    </tr>\n  </thead>\n  <tbody>\n  </tbody>\n</table>\n</div>"
     },
     "metadata": {},
     "execution_count": 69
    }
   ],
   "source": [
    "denero = student_courses[student_courses['instructor.name'] == 'John DeNero']\n",
    "hilfinger = student_courses[student_courses['instructor.name'] == 'Paul Hilfinger']\n",
    "garcia = student_courses[student_courses['instructor.name'] == 'Dan Garcia']\n",
    "garcia"
   ]
  },
  {
   "cell_type": "code",
   "execution_count": 101,
   "metadata": {},
   "outputs": [],
   "source": [
    "instructors = student_courses[~student_courses['instructor.name'].isnull()]"
   ]
  },
  {
   "cell_type": "code",
   "execution_count": 116,
   "metadata": {},
   "outputs": [],
   "source": [
    "#Str Interp Cmp Prgs\n",
    "garcia = instructors[(instructors['course.number'] == '61A') & (instructors['instructor.name'].str.contains('Daniel Garcia'))]\n",
    "denero = instructors[(instructors['course.number'] == '61A') & (instructors['instructor.name'].str.contains('John DeNero'))]\n",
    "hilfinger = instructors[(instructors['course.number'] == '61A') & (instructors['instructor.name'].str.contains('Paul Hilfinger'))]"
   ]
  },
  {
   "cell_type": "code",
   "execution_count": 117,
   "metadata": {},
   "outputs": [
    {
     "output_type": "execute_result",
     "data": {
      "text/plain": [
       "          year.name       ppsk undergrad.status  \\\n",
       "5676    2009 Summer   738894.0    Undergraduate   \n",
       "6078    2009 Summer   841955.0    Undergraduate   \n",
       "6312    2009 Summer   904938.0    Undergraduate   \n",
       "6313    2009 Summer   905277.0    Undergraduate   \n",
       "6316    2009 Summer   908102.0    Undergraduate   \n",
       "...             ...        ...              ...   \n",
       "326909  2013 Summer  1312039.0    Undergraduate   \n",
       "326920  2013 Summer  1312682.0    Undergraduate   \n",
       "326939  2013 Summer  1316822.0    Undergraduate   \n",
       "326962  2013 Summer  1318304.0    Undergraduate   \n",
       "327136  2013 Summer  1478365.0    Undergraduate   \n",
       "\n",
       "                    course.department    course.subject course.number  \\\n",
       "5676    Electrical Eng & Computer Sci  Computer Science           61A   \n",
       "6078    Electrical Eng & Computer Sci  Computer Science           61A   \n",
       "6312    Electrical Eng & Computer Sci  Computer Science           61A   \n",
       "6313    Electrical Eng & Computer Sci  Computer Science           61A   \n",
       "6316    Electrical Eng & Computer Sci  Computer Science           61A   \n",
       "...                               ...               ...           ...   \n",
       "326909  Electrical Eng & Computer Sci  Computer Science           61A   \n",
       "326920  Electrical Eng & Computer Sci  Computer Science           61A   \n",
       "326939  Electrical Eng & Computer Sci  Computer Science           61A   \n",
       "326962  Electrical Eng & Computer Sci  Computer Science           61A   \n",
       "327136  Electrical Eng & Computer Sci  Computer Science           61A   \n",
       "\n",
       "       offering.type section.number    ccn  room.share         course.title  \\\n",
       "5676         Primary              1  28410     28410.0  Str Interp Cmp Prgs   \n",
       "6078         Primary              1  28410     28410.0  Str Interp Cmp Prgs   \n",
       "6312         Primary              1  28410     28410.0  Str Interp Cmp Prgs   \n",
       "6313         Primary              1  28410     28410.0  Str Interp Cmp Prgs   \n",
       "6316         Primary              1  28410     28410.0  Str Interp Cmp Prgs   \n",
       "...              ...            ...    ...         ...                  ...   \n",
       "326909       Primary              1  28330     28330.0  Str Interp Cmp Prgs   \n",
       "326920       Primary              1  28330     28330.0  Str Interp Cmp Prgs   \n",
       "326939       Primary              1  28330     28330.0  Str Interp Cmp Prgs   \n",
       "326962       Primary              1  28330     28330.0  Str Interp Cmp Prgs   \n",
       "327136       Primary              1  28330     28330.0  Str Interp Cmp Prgs   \n",
       "\n",
       "                               instructor.name grade.subtype  \\\n",
       "5676                     Daniel Garcia; Min Xu             A   \n",
       "6078                     Daniel Garcia; Min Xu             A   \n",
       "6312                     Daniel Garcia; Min Xu             A   \n",
       "6313                     Daniel Garcia; Min Xu             A   \n",
       "6316                     Daniel Garcia; Min Xu             A   \n",
       "...                                        ...           ...   \n",
       "326909  Daniel Garcia; Eric Tzeng; Steven Tang     No Credit   \n",
       "326920  Daniel Garcia; Eric Tzeng; Steven Tang     No Credit   \n",
       "326939  Daniel Garcia; Eric Tzeng; Steven Tang     No Credit   \n",
       "326962  Daniel Garcia; Eric Tzeng; Steven Tang     No Credit   \n",
       "327136  Daniel Garcia; Eric Tzeng; Steven Tang     No Credit   \n",
       "\n",
       "              grade.type grade.name  grade.points  student.credit.hours  \n",
       "5676        Letter Grade         A+           4.0                   4.0  \n",
       "6078        Letter Grade         A+           4.0                   4.0  \n",
       "6312        Letter Grade         A+           4.0                   4.0  \n",
       "6313        Letter Grade         A+           4.0                   4.0  \n",
       "6316        Letter Grade         A+           4.0                   4.0  \n",
       "...                  ...        ...           ...                   ...  \n",
       "326909  Non-Letter Grade   Not Pass           NaN                   4.0  \n",
       "326920  Non-Letter Grade   Not Pass           NaN                   4.0  \n",
       "326939  Non-Letter Grade   Not Pass           NaN                   4.0  \n",
       "326962  Non-Letter Grade   Not Pass           NaN                   4.0  \n",
       "327136  Non-Letter Grade   Not Pass           NaN                   4.0  \n",
       "\n",
       "[722 rows x 17 columns]"
      ],
      "text/html": "<div>\n<style scoped>\n    .dataframe tbody tr th:only-of-type {\n        vertical-align: middle;\n    }\n\n    .dataframe tbody tr th {\n        vertical-align: top;\n    }\n\n    .dataframe thead th {\n        text-align: right;\n    }\n</style>\n<table border=\"1\" class=\"dataframe\">\n  <thead>\n    <tr style=\"text-align: right;\">\n      <th></th>\n      <th>year.name</th>\n      <th>ppsk</th>\n      <th>undergrad.status</th>\n      <th>course.department</th>\n      <th>course.subject</th>\n      <th>course.number</th>\n      <th>offering.type</th>\n      <th>section.number</th>\n      <th>ccn</th>\n      <th>room.share</th>\n      <th>course.title</th>\n      <th>instructor.name</th>\n      <th>grade.subtype</th>\n      <th>grade.type</th>\n      <th>grade.name</th>\n      <th>grade.points</th>\n      <th>student.credit.hours</th>\n    </tr>\n  </thead>\n  <tbody>\n    <tr>\n      <th>5676</th>\n      <td>2009 Summer</td>\n      <td>738894.0</td>\n      <td>Undergraduate</td>\n      <td>Electrical Eng &amp; Computer Sci</td>\n      <td>Computer Science</td>\n      <td>61A</td>\n      <td>Primary</td>\n      <td>1</td>\n      <td>28410</td>\n      <td>28410.0</td>\n      <td>Str Interp Cmp Prgs</td>\n      <td>Daniel Garcia; Min Xu</td>\n      <td>A</td>\n      <td>Letter Grade</td>\n      <td>A+</td>\n      <td>4.0</td>\n      <td>4.0</td>\n    </tr>\n    <tr>\n      <th>6078</th>\n      <td>2009 Summer</td>\n      <td>841955.0</td>\n      <td>Undergraduate</td>\n      <td>Electrical Eng &amp; Computer Sci</td>\n      <td>Computer Science</td>\n      <td>61A</td>\n      <td>Primary</td>\n      <td>1</td>\n      <td>28410</td>\n      <td>28410.0</td>\n      <td>Str Interp Cmp Prgs</td>\n      <td>Daniel Garcia; Min Xu</td>\n      <td>A</td>\n      <td>Letter Grade</td>\n      <td>A+</td>\n      <td>4.0</td>\n      <td>4.0</td>\n    </tr>\n    <tr>\n      <th>6312</th>\n      <td>2009 Summer</td>\n      <td>904938.0</td>\n      <td>Undergraduate</td>\n      <td>Electrical Eng &amp; Computer Sci</td>\n      <td>Computer Science</td>\n      <td>61A</td>\n      <td>Primary</td>\n      <td>1</td>\n      <td>28410</td>\n      <td>28410.0</td>\n      <td>Str Interp Cmp Prgs</td>\n      <td>Daniel Garcia; Min Xu</td>\n      <td>A</td>\n      <td>Letter Grade</td>\n      <td>A+</td>\n      <td>4.0</td>\n      <td>4.0</td>\n    </tr>\n    <tr>\n      <th>6313</th>\n      <td>2009 Summer</td>\n      <td>905277.0</td>\n      <td>Undergraduate</td>\n      <td>Electrical Eng &amp; Computer Sci</td>\n      <td>Computer Science</td>\n      <td>61A</td>\n      <td>Primary</td>\n      <td>1</td>\n      <td>28410</td>\n      <td>28410.0</td>\n      <td>Str Interp Cmp Prgs</td>\n      <td>Daniel Garcia; Min Xu</td>\n      <td>A</td>\n      <td>Letter Grade</td>\n      <td>A+</td>\n      <td>4.0</td>\n      <td>4.0</td>\n    </tr>\n    <tr>\n      <th>6316</th>\n      <td>2009 Summer</td>\n      <td>908102.0</td>\n      <td>Undergraduate</td>\n      <td>Electrical Eng &amp; Computer Sci</td>\n      <td>Computer Science</td>\n      <td>61A</td>\n      <td>Primary</td>\n      <td>1</td>\n      <td>28410</td>\n      <td>28410.0</td>\n      <td>Str Interp Cmp Prgs</td>\n      <td>Daniel Garcia; Min Xu</td>\n      <td>A</td>\n      <td>Letter Grade</td>\n      <td>A+</td>\n      <td>4.0</td>\n      <td>4.0</td>\n    </tr>\n    <tr>\n      <th>...</th>\n      <td>...</td>\n      <td>...</td>\n      <td>...</td>\n      <td>...</td>\n      <td>...</td>\n      <td>...</td>\n      <td>...</td>\n      <td>...</td>\n      <td>...</td>\n      <td>...</td>\n      <td>...</td>\n      <td>...</td>\n      <td>...</td>\n      <td>...</td>\n      <td>...</td>\n      <td>...</td>\n      <td>...</td>\n    </tr>\n    <tr>\n      <th>326909</th>\n      <td>2013 Summer</td>\n      <td>1312039.0</td>\n      <td>Undergraduate</td>\n      <td>Electrical Eng &amp; Computer Sci</td>\n      <td>Computer Science</td>\n      <td>61A</td>\n      <td>Primary</td>\n      <td>1</td>\n      <td>28330</td>\n      <td>28330.0</td>\n      <td>Str Interp Cmp Prgs</td>\n      <td>Daniel Garcia; Eric Tzeng; Steven Tang</td>\n      <td>No Credit</td>\n      <td>Non-Letter Grade</td>\n      <td>Not Pass</td>\n      <td>NaN</td>\n      <td>4.0</td>\n    </tr>\n    <tr>\n      <th>326920</th>\n      <td>2013 Summer</td>\n      <td>1312682.0</td>\n      <td>Undergraduate</td>\n      <td>Electrical Eng &amp; Computer Sci</td>\n      <td>Computer Science</td>\n      <td>61A</td>\n      <td>Primary</td>\n      <td>1</td>\n      <td>28330</td>\n      <td>28330.0</td>\n      <td>Str Interp Cmp Prgs</td>\n      <td>Daniel Garcia; Eric Tzeng; Steven Tang</td>\n      <td>No Credit</td>\n      <td>Non-Letter Grade</td>\n      <td>Not Pass</td>\n      <td>NaN</td>\n      <td>4.0</td>\n    </tr>\n    <tr>\n      <th>326939</th>\n      <td>2013 Summer</td>\n      <td>1316822.0</td>\n      <td>Undergraduate</td>\n      <td>Electrical Eng &amp; Computer Sci</td>\n      <td>Computer Science</td>\n      <td>61A</td>\n      <td>Primary</td>\n      <td>1</td>\n      <td>28330</td>\n      <td>28330.0</td>\n      <td>Str Interp Cmp Prgs</td>\n      <td>Daniel Garcia; Eric Tzeng; Steven Tang</td>\n      <td>No Credit</td>\n      <td>Non-Letter Grade</td>\n      <td>Not Pass</td>\n      <td>NaN</td>\n      <td>4.0</td>\n    </tr>\n    <tr>\n      <th>326962</th>\n      <td>2013 Summer</td>\n      <td>1318304.0</td>\n      <td>Undergraduate</td>\n      <td>Electrical Eng &amp; Computer Sci</td>\n      <td>Computer Science</td>\n      <td>61A</td>\n      <td>Primary</td>\n      <td>1</td>\n      <td>28330</td>\n      <td>28330.0</td>\n      <td>Str Interp Cmp Prgs</td>\n      <td>Daniel Garcia; Eric Tzeng; Steven Tang</td>\n      <td>No Credit</td>\n      <td>Non-Letter Grade</td>\n      <td>Not Pass</td>\n      <td>NaN</td>\n      <td>4.0</td>\n    </tr>\n    <tr>\n      <th>327136</th>\n      <td>2013 Summer</td>\n      <td>1478365.0</td>\n      <td>Undergraduate</td>\n      <td>Electrical Eng &amp; Computer Sci</td>\n      <td>Computer Science</td>\n      <td>61A</td>\n      <td>Primary</td>\n      <td>1</td>\n      <td>28330</td>\n      <td>28330.0</td>\n      <td>Str Interp Cmp Prgs</td>\n      <td>Daniel Garcia; Eric Tzeng; Steven Tang</td>\n      <td>No Credit</td>\n      <td>Non-Letter Grade</td>\n      <td>Not Pass</td>\n      <td>NaN</td>\n      <td>4.0</td>\n    </tr>\n  </tbody>\n</table>\n<p>722 rows × 17 columns</p>\n</div>"
     },
     "metadata": {},
     "execution_count": 117
    }
   ],
   "source": [
    "# Pipeline"
   ]
  },
  {
   "cell_type": "code",
   "execution_count": 106,
   "metadata": {},
   "outputs": [
    {
     "output_type": "execute_result",
     "data": {
      "text/plain": [
       "93           20\n",
       "94           10\n",
       "95         290A\n",
       "96        135AC\n",
       "97         N106\n",
       "          ...  \n",
       "573019    C231A\n",
       "573020    167AC\n",
       "573021       1A\n",
       "573022    128AC\n",
       "573023      W1X\n",
       "Name: course.number, Length: 5097768, dtype: object"
      ]
     },
     "metadata": {},
     "execution_count": 106
    }
   ],
   "source": [
    "instructors['course.number']"
   ]
  },
  {
   "cell_type": "code",
   "execution_count": 105,
   "metadata": {},
   "outputs": [
    {
     "output_type": "execute_result",
     "data": {
      "text/plain": [
       "        year.name       ppsk undergrad.status              course.department  \\\n",
       "126845  2007 Fall   574802.0    Undergraduate  Electrical Eng & Computer Sci   \n",
       "127485  2007 Fall   607659.0    Undergraduate  Electrical Eng & Computer Sci   \n",
       "128150  2007 Fall   633927.0    Undergraduate  Electrical Eng & Computer Sci   \n",
       "128472  2007 Fall   636993.0    Undergraduate  Electrical Eng & Computer Sci   \n",
       "128785  2007 Fall   639802.0    Undergraduate  Electrical Eng & Computer Sci   \n",
       "...           ...        ...              ...                            ...   \n",
       "380676  2017 Fall  2743795.0    Undergraduate  Electrical Eng & Computer Sci   \n",
       "380997  2017 Fall  2756608.0    Undergraduate  Electrical Eng & Computer Sci   \n",
       "381392  2017 Fall  2869216.0    Undergraduate  Electrical Eng & Computer Sci   \n",
       "381466  2017 Fall  2876282.0    Undergraduate  Electrical Eng & Computer Sci   \n",
       "381990  2017 Fall  3131120.0    Undergraduate  Electrical Eng & Computer Sci   \n",
       "\n",
       "          course.subject course.number      offering.type section.number  \\\n",
       "126845  Computer Science           198            Primary              3   \n",
       "127485  Computer Science           198            Primary              1   \n",
       "128150  Computer Science           198            Primary              2   \n",
       "128472  Computer Science           198            Primary              1   \n",
       "128785  Computer Science           399  Independent Study              6   \n",
       "...                  ...           ...                ...            ...   \n",
       "380676  Computer Science            10            Primary              1   \n",
       "380997  Computer Science            10            Primary              1   \n",
       "381392  Computer Science           198            Primary              1   \n",
       "381466  Computer Science            10            Primary              1   \n",
       "381990  Computer Science            10            Primary              1   \n",
       "\n",
       "          ccn  room.share         course.title  \\\n",
       "126845  26614    109612.0  Directed Group Stdy   \n",
       "127485  26608    109607.0  Directed Group Stdy   \n",
       "128150  26611    109832.0  Directed Group Stdy   \n",
       "128472  26608    109607.0  Directed Group Stdy   \n",
       "128785  27211     27211.0  Supervised Teaching   \n",
       "...       ...         ...                  ...   \n",
       "380676  38549     38549.0  Beauty Joy Computng   \n",
       "380997  38549     38549.0  Beauty Joy Computng   \n",
       "381392  38795     38795.0  Directed Group Stdy   \n",
       "381466  38549     38549.0  Beauty Joy Computng   \n",
       "381990  38549     38549.0  Beauty Joy Computng   \n",
       "\n",
       "                          instructor.name        grade.subtype  \\\n",
       "126845    Daniel Gallagher; Daniel Garcia               Credit   \n",
       "127485  Daniel Garcia; Matthew Mieckowski               Credit   \n",
       "128150                      Daniel Garcia               Credit   \n",
       "128472  Daniel Garcia; Matthew Mieckowski               Credit   \n",
       "128785                      Daniel Garcia               Credit   \n",
       "...                                   ...                  ...   \n",
       "380676                      Daniel Garcia  Administrative Code   \n",
       "380997                      Daniel Garcia  Administrative Code   \n",
       "381392                      Daniel Garcia  Administrative Code   \n",
       "381466                      Daniel Garcia  Administrative Code   \n",
       "381990                      Daniel Garcia  Administrative Code   \n",
       "\n",
       "                 grade.type grade.name  grade.points  student.credit.hours  \n",
       "126845     Non-Letter Grade       Pass           NaN                   2.0  \n",
       "127485     Non-Letter Grade       Pass           NaN                   2.0  \n",
       "128150     Non-Letter Grade       Pass           NaN                   2.0  \n",
       "128472     Non-Letter Grade       Pass           NaN                   1.0  \n",
       "128785     Non-Letter Grade       Pass           NaN                   1.0  \n",
       "...                     ...        ...           ...                   ...  \n",
       "380676  Administrative Code  Withdrawn           NaN                   4.0  \n",
       "380997  Administrative Code  Withdrawn           NaN                   4.0  \n",
       "381392  Administrative Code  Withdrawn           NaN                   2.0  \n",
       "381466  Administrative Code  Withdrawn           NaN                   4.0  \n",
       "381990  Administrative Code  Withdrawn           NaN                   4.0  \n",
       "\n",
       "[14608 rows x 17 columns]"
      ],
      "text/html": "<div>\n<style scoped>\n    .dataframe tbody tr th:only-of-type {\n        vertical-align: middle;\n    }\n\n    .dataframe tbody tr th {\n        vertical-align: top;\n    }\n\n    .dataframe thead th {\n        text-align: right;\n    }\n</style>\n<table border=\"1\" class=\"dataframe\">\n  <thead>\n    <tr style=\"text-align: right;\">\n      <th></th>\n      <th>year.name</th>\n      <th>ppsk</th>\n      <th>undergrad.status</th>\n      <th>course.department</th>\n      <th>course.subject</th>\n      <th>course.number</th>\n      <th>offering.type</th>\n      <th>section.number</th>\n      <th>ccn</th>\n      <th>room.share</th>\n      <th>course.title</th>\n      <th>instructor.name</th>\n      <th>grade.subtype</th>\n      <th>grade.type</th>\n      <th>grade.name</th>\n      <th>grade.points</th>\n      <th>student.credit.hours</th>\n    </tr>\n  </thead>\n  <tbody>\n    <tr>\n      <th>126845</th>\n      <td>2007 Fall</td>\n      <td>574802.0</td>\n      <td>Undergraduate</td>\n      <td>Electrical Eng &amp; Computer Sci</td>\n      <td>Computer Science</td>\n      <td>198</td>\n      <td>Primary</td>\n      <td>3</td>\n      <td>26614</td>\n      <td>109612.0</td>\n      <td>Directed Group Stdy</td>\n      <td>Daniel Gallagher; Daniel Garcia</td>\n      <td>Credit</td>\n      <td>Non-Letter Grade</td>\n      <td>Pass</td>\n      <td>NaN</td>\n      <td>2.0</td>\n    </tr>\n    <tr>\n      <th>127485</th>\n      <td>2007 Fall</td>\n      <td>607659.0</td>\n      <td>Undergraduate</td>\n      <td>Electrical Eng &amp; Computer Sci</td>\n      <td>Computer Science</td>\n      <td>198</td>\n      <td>Primary</td>\n      <td>1</td>\n      <td>26608</td>\n      <td>109607.0</td>\n      <td>Directed Group Stdy</td>\n      <td>Daniel Garcia; Matthew Mieckowski</td>\n      <td>Credit</td>\n      <td>Non-Letter Grade</td>\n      <td>Pass</td>\n      <td>NaN</td>\n      <td>2.0</td>\n    </tr>\n    <tr>\n      <th>128150</th>\n      <td>2007 Fall</td>\n      <td>633927.0</td>\n      <td>Undergraduate</td>\n      <td>Electrical Eng &amp; Computer Sci</td>\n      <td>Computer Science</td>\n      <td>198</td>\n      <td>Primary</td>\n      <td>2</td>\n      <td>26611</td>\n      <td>109832.0</td>\n      <td>Directed Group Stdy</td>\n      <td>Daniel Garcia</td>\n      <td>Credit</td>\n      <td>Non-Letter Grade</td>\n      <td>Pass</td>\n      <td>NaN</td>\n      <td>2.0</td>\n    </tr>\n    <tr>\n      <th>128472</th>\n      <td>2007 Fall</td>\n      <td>636993.0</td>\n      <td>Undergraduate</td>\n      <td>Electrical Eng &amp; Computer Sci</td>\n      <td>Computer Science</td>\n      <td>198</td>\n      <td>Primary</td>\n      <td>1</td>\n      <td>26608</td>\n      <td>109607.0</td>\n      <td>Directed Group Stdy</td>\n      <td>Daniel Garcia; Matthew Mieckowski</td>\n      <td>Credit</td>\n      <td>Non-Letter Grade</td>\n      <td>Pass</td>\n      <td>NaN</td>\n      <td>1.0</td>\n    </tr>\n    <tr>\n      <th>128785</th>\n      <td>2007 Fall</td>\n      <td>639802.0</td>\n      <td>Undergraduate</td>\n      <td>Electrical Eng &amp; Computer Sci</td>\n      <td>Computer Science</td>\n      <td>399</td>\n      <td>Independent Study</td>\n      <td>6</td>\n      <td>27211</td>\n      <td>27211.0</td>\n      <td>Supervised Teaching</td>\n      <td>Daniel Garcia</td>\n      <td>Credit</td>\n      <td>Non-Letter Grade</td>\n      <td>Pass</td>\n      <td>NaN</td>\n      <td>1.0</td>\n    </tr>\n    <tr>\n      <th>...</th>\n      <td>...</td>\n      <td>...</td>\n      <td>...</td>\n      <td>...</td>\n      <td>...</td>\n      <td>...</td>\n      <td>...</td>\n      <td>...</td>\n      <td>...</td>\n      <td>...</td>\n      <td>...</td>\n      <td>...</td>\n      <td>...</td>\n      <td>...</td>\n      <td>...</td>\n      <td>...</td>\n      <td>...</td>\n    </tr>\n    <tr>\n      <th>380676</th>\n      <td>2017 Fall</td>\n      <td>2743795.0</td>\n      <td>Undergraduate</td>\n      <td>Electrical Eng &amp; Computer Sci</td>\n      <td>Computer Science</td>\n      <td>10</td>\n      <td>Primary</td>\n      <td>1</td>\n      <td>38549</td>\n      <td>38549.0</td>\n      <td>Beauty Joy Computng</td>\n      <td>Daniel Garcia</td>\n      <td>Administrative Code</td>\n      <td>Administrative Code</td>\n      <td>Withdrawn</td>\n      <td>NaN</td>\n      <td>4.0</td>\n    </tr>\n    <tr>\n      <th>380997</th>\n      <td>2017 Fall</td>\n      <td>2756608.0</td>\n      <td>Undergraduate</td>\n      <td>Electrical Eng &amp; Computer Sci</td>\n      <td>Computer Science</td>\n      <td>10</td>\n      <td>Primary</td>\n      <td>1</td>\n      <td>38549</td>\n      <td>38549.0</td>\n      <td>Beauty Joy Computng</td>\n      <td>Daniel Garcia</td>\n      <td>Administrative Code</td>\n      <td>Administrative Code</td>\n      <td>Withdrawn</td>\n      <td>NaN</td>\n      <td>4.0</td>\n    </tr>\n    <tr>\n      <th>381392</th>\n      <td>2017 Fall</td>\n      <td>2869216.0</td>\n      <td>Undergraduate</td>\n      <td>Electrical Eng &amp; Computer Sci</td>\n      <td>Computer Science</td>\n      <td>198</td>\n      <td>Primary</td>\n      <td>1</td>\n      <td>38795</td>\n      <td>38795.0</td>\n      <td>Directed Group Stdy</td>\n      <td>Daniel Garcia</td>\n      <td>Administrative Code</td>\n      <td>Administrative Code</td>\n      <td>Withdrawn</td>\n      <td>NaN</td>\n      <td>2.0</td>\n    </tr>\n    <tr>\n      <th>381466</th>\n      <td>2017 Fall</td>\n      <td>2876282.0</td>\n      <td>Undergraduate</td>\n      <td>Electrical Eng &amp; Computer Sci</td>\n      <td>Computer Science</td>\n      <td>10</td>\n      <td>Primary</td>\n      <td>1</td>\n      <td>38549</td>\n      <td>38549.0</td>\n      <td>Beauty Joy Computng</td>\n      <td>Daniel Garcia</td>\n      <td>Administrative Code</td>\n      <td>Administrative Code</td>\n      <td>Withdrawn</td>\n      <td>NaN</td>\n      <td>4.0</td>\n    </tr>\n    <tr>\n      <th>381990</th>\n      <td>2017 Fall</td>\n      <td>3131120.0</td>\n      <td>Undergraduate</td>\n      <td>Electrical Eng &amp; Computer Sci</td>\n      <td>Computer Science</td>\n      <td>10</td>\n      <td>Primary</td>\n      <td>1</td>\n      <td>38549</td>\n      <td>38549.0</td>\n      <td>Beauty Joy Computng</td>\n      <td>Daniel Garcia</td>\n      <td>Administrative Code</td>\n      <td>Administrative Code</td>\n      <td>Withdrawn</td>\n      <td>NaN</td>\n      <td>4.0</td>\n    </tr>\n  </tbody>\n</table>\n<p>14608 rows × 17 columns</p>\n</div>"
     },
     "metadata": {},
     "execution_count": 105
    }
   ],
   "source": [
    "instructors[(instructors['instructor.name'].str.contains('Daniel Garcia')) & (instructors['course.department'] == 'Electrical Eng & Computer Sci')]"
   ]
  },
  {
   "cell_type": "code",
   "execution_count": 85,
   "metadata": {},
   "outputs": [
    {
     "output_type": "execute_result",
     "data": {
      "text/plain": [
       "['-',\n",
       " 'African American Studies',\n",
       " 'Ag & Env Chem Grad Grp',\n",
       " 'Ag & Resource Econ & Pol',\n",
       " 'Anc Hist Med Arc Grad Grp',\n",
       " 'Anthropology',\n",
       " 'Applied Sci & Tech Grad Grp',\n",
       " 'Architecture',\n",
       " 'Art Practice',\n",
       " 'Astronomy',\n",
       " 'Bioengineering',\n",
       " 'Biophysics Grad Grp',\n",
       " 'Buddhist Studies Grad Grp',\n",
       " 'Business',\n",
       " 'Chem & Biomolecular Eng',\n",
       " 'Chemistry',\n",
       " 'City & Regional Planning',\n",
       " 'Civil & Environmental Eng',\n",
       " 'Classics',\n",
       " 'College Writing Programs',\n",
       " 'Comparative Biochem Grad Grp',\n",
       " 'Comparative Literature',\n",
       " 'Computational Biology Grad Grp',\n",
       " 'Critical Theory Grad Grp',\n",
       " 'Data Science',\n",
       " 'Demography',\n",
       " 'Design Innovation',\n",
       " 'Development Eng Grad Grp',\n",
       " 'Development Practice Grad Grp',\n",
       " 'Earth & Planetary Science',\n",
       " 'East Asian Lang & Culture',\n",
       " 'Economics',\n",
       " 'Education',\n",
       " 'Electrical Eng & Computer Sci',\n",
       " 'Energy & Resources Grad Grp',\n",
       " 'Engineering Science',\n",
       " 'English',\n",
       " 'Env Sci, Policy, & Mgmt',\n",
       " 'Ethnic Studies',\n",
       " 'European Studies Grad Grp',\n",
       " 'FPF-African American Studies',\n",
       " 'FPF-Anthropology',\n",
       " 'FPF-Art Practice',\n",
       " 'FPF-Astronomy',\n",
       " 'FPF-Chemistry',\n",
       " 'FPF-Classics',\n",
       " 'FPF-College Writing Program',\n",
       " 'FPF-Comparative Literature',\n",
       " 'FPF-Earth & Planetary Science',\n",
       " 'FPF-English',\n",
       " 'FPF-Env Sci, Policy, & Mgmt',\n",
       " 'FPF-Ethnic Studies',\n",
       " 'FPF-Film & Media',\n",
       " 'FPF-Gender & Womens Studies',\n",
       " 'FPF-Geography',\n",
       " 'FPF-History',\n",
       " 'FPF-History of Art',\n",
       " 'FPF-IAS Teaching Program',\n",
       " 'FPF-Integrative Biology',\n",
       " 'FPF-Interdisc Social Sci Pgms',\n",
       " 'FPF-Legal Studies',\n",
       " 'FPF-Letters & Science',\n",
       " 'FPF-Linguistics',\n",
       " 'FPF-Mathematics',\n",
       " 'FPF-Molecular & Cell Biology',\n",
       " 'FPF-Music',\n",
       " 'FPF-Philosophy',\n",
       " 'FPF-Political Science',\n",
       " 'FPF-Psychology',\n",
       " 'FPF-Rhetoric',\n",
       " 'FPF-Sociology',\n",
       " 'FPF-Statistics',\n",
       " 'Film and Media',\n",
       " 'Folklore Grad Grp',\n",
       " 'French',\n",
       " 'Gender & Womens Studies',\n",
       " 'Geography',\n",
       " 'German',\n",
       " 'Global Metro Std Grad Grp',\n",
       " 'Health & Medical Sci Grad Grp',\n",
       " 'History',\n",
       " 'History of Art',\n",
       " 'Industrial Eng & Ops Research',\n",
       " 'Information',\n",
       " 'Integrative Biology',\n",
       " 'Interdisc Social Science Pgms',\n",
       " 'Italian Studies',\n",
       " 'Jewish Studies Program',\n",
       " 'Journalism',\n",
       " 'Landscape Arch & Env Plan',\n",
       " 'Law',\n",
       " 'Linguistics',\n",
       " 'Materials Science & Eng',\n",
       " 'Mathematics',\n",
       " 'Mechanical Engineering',\n",
       " 'Medieval Studies Program',\n",
       " 'Military Affairs Program',\n",
       " 'Molecular & Cell Biology',\n",
       " 'Music',\n",
       " 'Nano Sci & Eng Grad Grp',\n",
       " 'Near Eastern Studies',\n",
       " 'Neuroscience Graduate Program',\n",
       " 'New Media Grad Grp',\n",
       " 'Nuclear Engineering',\n",
       " 'Nutritional Sciences & Tox',\n",
       " 'Optometry',\n",
       " 'Other Arts & Humanities Pgms',\n",
       " 'Other Bio Sciences Pgms',\n",
       " 'Other Clg of Natural Res Pgms',\n",
       " 'Other EVCP Programs',\n",
       " 'Philosophy',\n",
       " 'Physical Education',\n",
       " 'Physics',\n",
       " 'Plant & Microbial Biology',\n",
       " 'Political Science',\n",
       " 'Psychology',\n",
       " 'Public Health',\n",
       " 'Public Policy',\n",
       " 'Rhetoric',\n",
       " 'Scandinavian',\n",
       " 'Sci & Tech Stds Grad Grp',\n",
       " 'Science & Math Educ Grad Grp',\n",
       " 'Slavic Languages & Literatures',\n",
       " 'Social Welfare',\n",
       " 'Sociology',\n",
       " 'South & SE Asian Studies',\n",
       " 'Spanish & Portuguese',\n",
       " 'Statistics',\n",
       " 'Theater Dance & Perf Stds',\n",
       " 'UG Interdisciplinary Studies',\n",
       " 'Vision Science Grad Grp']"
      ]
     },
     "metadata": {},
     "execution_count": 85
    }
   ],
   "source": [
    "sorted(student_courses['course.department'].unique())"
   ]
  },
  {
   "cell_type": "code",
   "execution_count": 43,
   "metadata": {},
   "outputs": [
    {
     "output_type": "execute_result",
     "data": {
      "text/plain": [
       "array(['High Honors', 'Honors', 'Pass', 'Pass Conditional', 'Credit',\n",
       "       'Satisfactory', 'No Credit', 'Not Pass', 'Unsatisfactory'],\n",
       "      dtype=object)"
      ]
     },
     "metadata": {},
     "execution_count": 43
    }
   ],
   "source": [
    "student_courses[student_courses[['grade.subtype', 'grade.type', 'grade.name']]['grade.type'] == 'Non-Letter Grade']['grade.name'].unique()"
   ]
  },
  {
   "cell_type": "code",
   "execution_count": 54,
   "metadata": {},
   "outputs": [
    {
     "output_type": "execute_result",
     "data": {
      "text/plain": [
       "          year.name       ppsk undergrad.status  \\\n",
       "81628     2010 Fall   974383.0    Undergraduate   \n",
       "162228    2010 Fall   974383.0    Undergraduate   \n",
       "226728    2010 Fall   974383.0    Undergraduate   \n",
       "226877    2010 Fall   985534.0    Undergraduate   \n",
       "231463    2010 Fall   974383.0    Undergraduate   \n",
       "...             ...        ...              ...   \n",
       "22125   2019 Summer  4264306.0    Undergraduate   \n",
       "22126   2019 Summer  4264306.0    Undergraduate   \n",
       "22572   2019 Summer  4265873.0    Undergraduate   \n",
       "22573   2019 Summer  4265873.0    Undergraduate   \n",
       "22697   2019 Summer  4266391.0    Undergraduate   \n",
       "\n",
       "                    course.department           course.subject course.number  \\\n",
       "81628              Physical Education       Physical Education             1   \n",
       "162228         Comparative Literature   Comparative Literature           R1A   \n",
       "226728              Political Science        Political Science             5   \n",
       "226877   UG Interdisciplinary Studies        Letters & Science           R44   \n",
       "231463                    Mathematics              Mathematics            1A   \n",
       "...                               ...                      ...           ...   \n",
       "22125               Design Innovation        Design Innovation           190   \n",
       "22126   Electrical Eng & Computer Sci         Computer Science            C8   \n",
       "22572               Design Innovation        Design Innovation           190   \n",
       "22573         Gender & Womens Studies  Gender & Womens Studies           111   \n",
       "22697               Design Innovation        Design Innovation            22   \n",
       "\n",
       "       offering.type section.number    ccn  room.share         course.title  \\\n",
       "81628        Primary             14  68042     68042.0        Pe Activities   \n",
       "162228       Primary              2  17206     17206.0  Engl Comp World Lit   \n",
       "226728       Primary              1  71447     71447.0  Intro To Intern Rel   \n",
       "226877       Primary              1  51932     51932.0          Western Civ   \n",
       "231463       Primary              2  53642     53642.0             Calculus   \n",
       "...              ...            ...    ...         ...                  ...   \n",
       "22125        Primary              8  15779     15779.0  Spec Topics Des Inv   \n",
       "22126        Primary              1  14720        25.0  Foundation Data Sci   \n",
       "22572        Primary              7  11577     11577.0  Spec Topics Des Inv   \n",
       "22573        Primary              2  14306     14306.0       Special Topics   \n",
       "22697        Primary              1  14718     14718.0      Prototype & Fab   \n",
       "\n",
       "                                   instructor.name grade.subtype  \\\n",
       "81628                                Jason Britton             A   \n",
       "162228  Francine Masiello; Kfir Cohen; Paul Haacke             B   \n",
       "226728                                Amy Gurowitz             C   \n",
       "226877                 Anthony Long; Trevor Murphy             C   \n",
       "231463                               James Sethian             C   \n",
       "...                                            ...           ...   \n",
       "22125                                          NaN             A   \n",
       "22126                                          NaN             A   \n",
       "22572                                          NaN             B   \n",
       "22573                                          NaN             A   \n",
       "22697                                          NaN             B   \n",
       "\n",
       "          grade.type grade.name  grade.points  student.credit.hours  \n",
       "81628   Letter Grade          A           4.0                   0.5  \n",
       "162228  Letter Grade         B+           3.3                   4.0  \n",
       "226728  Letter Grade          C           2.0                   4.0  \n",
       "226877  Letter Grade          C           2.0                   5.0  \n",
       "231463  Letter Grade         C-           1.7                   4.0  \n",
       "...              ...        ...           ...                   ...  \n",
       "22125   Letter Grade         A+           4.0                   3.0  \n",
       "22126   Letter Grade          A           4.0                   4.0  \n",
       "22572   Letter Grade          B           3.0                   2.0  \n",
       "22573   Letter Grade          A           4.0                   4.0  \n",
       "22697   Letter Grade          B           3.0                   3.0  \n",
       "\n",
       "[19037 rows x 17 columns]"
      ],
      "text/html": "<div>\n<style scoped>\n    .dataframe tbody tr th:only-of-type {\n        vertical-align: middle;\n    }\n\n    .dataframe tbody tr th {\n        vertical-align: top;\n    }\n\n    .dataframe thead th {\n        text-align: right;\n    }\n</style>\n<table border=\"1\" class=\"dataframe\">\n  <thead>\n    <tr style=\"text-align: right;\">\n      <th></th>\n      <th>year.name</th>\n      <th>ppsk</th>\n      <th>undergrad.status</th>\n      <th>course.department</th>\n      <th>course.subject</th>\n      <th>course.number</th>\n      <th>offering.type</th>\n      <th>section.number</th>\n      <th>ccn</th>\n      <th>room.share</th>\n      <th>course.title</th>\n      <th>instructor.name</th>\n      <th>grade.subtype</th>\n      <th>grade.type</th>\n      <th>grade.name</th>\n      <th>grade.points</th>\n      <th>student.credit.hours</th>\n    </tr>\n  </thead>\n  <tbody>\n    <tr>\n      <th>81628</th>\n      <td>2010 Fall</td>\n      <td>974383.0</td>\n      <td>Undergraduate</td>\n      <td>Physical Education</td>\n      <td>Physical Education</td>\n      <td>1</td>\n      <td>Primary</td>\n      <td>14</td>\n      <td>68042</td>\n      <td>68042.0</td>\n      <td>Pe Activities</td>\n      <td>Jason Britton</td>\n      <td>A</td>\n      <td>Letter Grade</td>\n      <td>A</td>\n      <td>4.0</td>\n      <td>0.5</td>\n    </tr>\n    <tr>\n      <th>162228</th>\n      <td>2010 Fall</td>\n      <td>974383.0</td>\n      <td>Undergraduate</td>\n      <td>Comparative Literature</td>\n      <td>Comparative Literature</td>\n      <td>R1A</td>\n      <td>Primary</td>\n      <td>2</td>\n      <td>17206</td>\n      <td>17206.0</td>\n      <td>Engl Comp World Lit</td>\n      <td>Francine Masiello; Kfir Cohen; Paul Haacke</td>\n      <td>B</td>\n      <td>Letter Grade</td>\n      <td>B+</td>\n      <td>3.3</td>\n      <td>4.0</td>\n    </tr>\n    <tr>\n      <th>226728</th>\n      <td>2010 Fall</td>\n      <td>974383.0</td>\n      <td>Undergraduate</td>\n      <td>Political Science</td>\n      <td>Political Science</td>\n      <td>5</td>\n      <td>Primary</td>\n      <td>1</td>\n      <td>71447</td>\n      <td>71447.0</td>\n      <td>Intro To Intern Rel</td>\n      <td>Amy Gurowitz</td>\n      <td>C</td>\n      <td>Letter Grade</td>\n      <td>C</td>\n      <td>2.0</td>\n      <td>4.0</td>\n    </tr>\n    <tr>\n      <th>226877</th>\n      <td>2010 Fall</td>\n      <td>985534.0</td>\n      <td>Undergraduate</td>\n      <td>UG Interdisciplinary Studies</td>\n      <td>Letters &amp; Science</td>\n      <td>R44</td>\n      <td>Primary</td>\n      <td>1</td>\n      <td>51932</td>\n      <td>51932.0</td>\n      <td>Western Civ</td>\n      <td>Anthony Long; Trevor Murphy</td>\n      <td>C</td>\n      <td>Letter Grade</td>\n      <td>C</td>\n      <td>2.0</td>\n      <td>5.0</td>\n    </tr>\n    <tr>\n      <th>231463</th>\n      <td>2010 Fall</td>\n      <td>974383.0</td>\n      <td>Undergraduate</td>\n      <td>Mathematics</td>\n      <td>Mathematics</td>\n      <td>1A</td>\n      <td>Primary</td>\n      <td>2</td>\n      <td>53642</td>\n      <td>53642.0</td>\n      <td>Calculus</td>\n      <td>James Sethian</td>\n      <td>C</td>\n      <td>Letter Grade</td>\n      <td>C-</td>\n      <td>1.7</td>\n      <td>4.0</td>\n    </tr>\n    <tr>\n      <th>...</th>\n      <td>...</td>\n      <td>...</td>\n      <td>...</td>\n      <td>...</td>\n      <td>...</td>\n      <td>...</td>\n      <td>...</td>\n      <td>...</td>\n      <td>...</td>\n      <td>...</td>\n      <td>...</td>\n      <td>...</td>\n      <td>...</td>\n      <td>...</td>\n      <td>...</td>\n      <td>...</td>\n      <td>...</td>\n    </tr>\n    <tr>\n      <th>22125</th>\n      <td>2019 Summer</td>\n      <td>4264306.0</td>\n      <td>Undergraduate</td>\n      <td>Design Innovation</td>\n      <td>Design Innovation</td>\n      <td>190</td>\n      <td>Primary</td>\n      <td>8</td>\n      <td>15779</td>\n      <td>15779.0</td>\n      <td>Spec Topics Des Inv</td>\n      <td>NaN</td>\n      <td>A</td>\n      <td>Letter Grade</td>\n      <td>A+</td>\n      <td>4.0</td>\n      <td>3.0</td>\n    </tr>\n    <tr>\n      <th>22126</th>\n      <td>2019 Summer</td>\n      <td>4264306.0</td>\n      <td>Undergraduate</td>\n      <td>Electrical Eng &amp; Computer Sci</td>\n      <td>Computer Science</td>\n      <td>C8</td>\n      <td>Primary</td>\n      <td>1</td>\n      <td>14720</td>\n      <td>25.0</td>\n      <td>Foundation Data Sci</td>\n      <td>NaN</td>\n      <td>A</td>\n      <td>Letter Grade</td>\n      <td>A</td>\n      <td>4.0</td>\n      <td>4.0</td>\n    </tr>\n    <tr>\n      <th>22572</th>\n      <td>2019 Summer</td>\n      <td>4265873.0</td>\n      <td>Undergraduate</td>\n      <td>Design Innovation</td>\n      <td>Design Innovation</td>\n      <td>190</td>\n      <td>Primary</td>\n      <td>7</td>\n      <td>11577</td>\n      <td>11577.0</td>\n      <td>Spec Topics Des Inv</td>\n      <td>NaN</td>\n      <td>B</td>\n      <td>Letter Grade</td>\n      <td>B</td>\n      <td>3.0</td>\n      <td>2.0</td>\n    </tr>\n    <tr>\n      <th>22573</th>\n      <td>2019 Summer</td>\n      <td>4265873.0</td>\n      <td>Undergraduate</td>\n      <td>Gender &amp; Womens Studies</td>\n      <td>Gender &amp; Womens Studies</td>\n      <td>111</td>\n      <td>Primary</td>\n      <td>2</td>\n      <td>14306</td>\n      <td>14306.0</td>\n      <td>Special Topics</td>\n      <td>NaN</td>\n      <td>A</td>\n      <td>Letter Grade</td>\n      <td>A</td>\n      <td>4.0</td>\n      <td>4.0</td>\n    </tr>\n    <tr>\n      <th>22697</th>\n      <td>2019 Summer</td>\n      <td>4266391.0</td>\n      <td>Undergraduate</td>\n      <td>Design Innovation</td>\n      <td>Design Innovation</td>\n      <td>22</td>\n      <td>Primary</td>\n      <td>1</td>\n      <td>14718</td>\n      <td>14718.0</td>\n      <td>Prototype &amp; Fab</td>\n      <td>NaN</td>\n      <td>B</td>\n      <td>Letter Grade</td>\n      <td>B</td>\n      <td>3.0</td>\n      <td>3.0</td>\n    </tr>\n  </tbody>\n</table>\n<p>19037 rows × 17 columns</p>\n</div>"
     },
     "metadata": {},
     "execution_count": 54
    }
   ],
   "source": [
    "student_passes"
   ]
  },
  {
   "cell_type": "code",
   "execution_count": 46,
   "metadata": {},
   "outputs": [
    {
     "output_type": "execute_result",
     "data": {
      "text/plain": [
       "Index(['year.name', 'ppsk', 'undergrad.status', 'course.department',\n",
       "       'course.subject', 'course.number', 'offering.type', 'section.number',\n",
       "       'ccn', 'room.share', 'course.title', 'instructor.name', 'grade.subtype',\n",
       "       'grade.type', 'grade.name', 'grade.points', 'student.credit.hours'],\n",
       "      dtype='object')"
      ]
     },
     "metadata": {},
     "execution_count": 46
    }
   ],
   "source": [
    "student_courses.columns"
   ]
  }
 ],
 "metadata": {
  "kernelspec": {
   "name": "python3",
   "display_name": "Python 3.8.2 64-bit",
   "metadata": {
    "interpreter": {
     "hash": "31f2aee4e71d21fbe5cf8b01ff0e069b9275f58929596ceb00d14d90e3e16cd6"
    }
   }
  },
  "language_info": {
   "codemirror_mode": {
    "name": "ipython",
    "version": 3
   },
   "file_extension": ".py",
   "mimetype": "text/x-python",
   "name": "python",
   "nbconvert_exporter": "python",
   "pygments_lexer": "ipython3",
   "version": "3.8.2-final"
  }
 },
 "nbformat": 4,
 "nbformat_minor": 2
}