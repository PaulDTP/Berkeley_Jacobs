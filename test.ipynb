{
 "cells": [
  {
   "cell_type": "code",
   "execution_count": 1,
   "metadata": {},
   "outputs": [],
   "source": [
    "import pandas as pd\n",
    "import numpy as np\n",
    "import seaborn as sns\n",
    "import matplotlib.pyplot as plt"
   ]
  },
  {
   "cell_type": "code",
   "execution_count": 2,
   "metadata": {},
   "outputs": [],
   "source": [
    "%store -r student_courses\n",
    "%store -r student_majors\n",
    "%store -r stem_paths\n",
    "%store -r maker_passes\n",
    "%store -r jacobs_ethnicities\n",
    "%store -r bcdi\n",
    "%store -r waivers"
   ]
  },
  {
   "cell_type": "code",
   "execution_count": 18,
   "metadata": {},
   "outputs": [],
   "source": [
    "# ppsks of everyone who (in data) uses Jacobs for something\n",
    "ppsks = maker_passes['ppsk']\n",
    "ppsks = ppsks.append(jacobs_ethnicities['ppsk']).unique()\n",
    "\n",
    "# all Jacobs students' academic career, either with DESINV course or MakerPass\n",
    "all_jacobs = student_courses[(student_courses['ppsk'].isin(ppsks)) & (student_courses['undergrad.status'] == 'Undergraduate')]"
   ]
  },
  {
   "cell_type": "code",
   "execution_count": 4,
   "metadata": {},
   "outputs": [
    {
     "output_type": "execute_result",
     "data": {
      "text/plain": [
       "198    143\n",
       "15      61\n",
       "10      43\n",
       "190     39\n",
       "22      32\n",
       "21      28\n",
       "Name: course.number, dtype: int64"
      ]
     },
     "metadata": {},
     "execution_count": 4
    }
   ],
   "source": [
    "jacobs_ethnicities[jacobs_ethnicities['year.name'] == '2016 Fall']['course.number'].value_counts()"
   ]
  },
  {
   "cell_type": "code",
   "execution_count": 17,
   "metadata": {},
   "outputs": [
    {
     "output_type": "execute_result",
     "data": {
      "text/plain": [
       "         year.name     ppsk  ... grade.points student.credit.hours\n",
       "93     2007 Summer    31341  ...          4.0                 10.0\n",
       "94     2007 Summer    33827  ...          4.0                 10.0\n",
       "95     2007 Summer   169335  ...          4.0                  4.0\n",
       "96     2007 Summer   194536  ...          4.0                  4.0\n",
       "97     2007 Summer   198873  ...          4.0                  6.0\n",
       "...            ...      ...  ...          ...                  ...\n",
       "23102  2019 Summer  4271436  ...          2.7                  3.0\n",
       "23103  2019 Summer  4271494  ...          4.0                  3.0\n",
       "23104  2019 Summer  4271527  ...          4.0                  3.0\n",
       "23105  2019 Summer  4271531  ...          4.0                  4.0\n",
       "23106  2019 Summer  4271995  ...          0.0                  2.0\n",
       "\n",
       "[5597609 rows x 17 columns]"
      ],
      "text/html": "<div>\n<style scoped>\n    .dataframe tbody tr th:only-of-type {\n        vertical-align: middle;\n    }\n\n    .dataframe tbody tr th {\n        vertical-align: top;\n    }\n\n    .dataframe thead th {\n        text-align: right;\n    }\n</style>\n<table border=\"1\" class=\"dataframe\">\n  <thead>\n    <tr style=\"text-align: right;\">\n      <th></th>\n      <th>year.name</th>\n      <th>ppsk</th>\n      <th>undergrad.status</th>\n      <th>course.department</th>\n      <th>course.subject</th>\n      <th>course.number</th>\n      <th>offering.type</th>\n      <th>section.number</th>\n      <th>ccn</th>\n      <th>room.share</th>\n      <th>course.title</th>\n      <th>instructor.name</th>\n      <th>grade.subtype</th>\n      <th>grade.type</th>\n      <th>grade.name</th>\n      <th>grade.points</th>\n      <th>student.credit.hours</th>\n    </tr>\n  </thead>\n  <tbody>\n    <tr>\n      <th>93</th>\n      <td>2007 Summer</td>\n      <td>31341</td>\n      <td>Graduate</td>\n      <td>Near Eastern Studies</td>\n      <td>Persian</td>\n      <td>20</td>\n      <td>Primary</td>\n      <td>1</td>\n      <td>70310</td>\n      <td>70310.0</td>\n      <td>Inten Inter Persian</td>\n      <td>Jaleh Pirnazar</td>\n      <td>A</td>\n      <td>Letter Grade</td>\n      <td>A+</td>\n      <td>4.0</td>\n      <td>10.0</td>\n    </tr>\n    <tr>\n      <th>94</th>\n      <td>2007 Summer</td>\n      <td>33827</td>\n      <td>Graduate</td>\n      <td>German</td>\n      <td>German</td>\n      <td>10</td>\n      <td>Primary</td>\n      <td>1</td>\n      <td>48655</td>\n      <td>48655.0</td>\n      <td>Elem German Wrkshp</td>\n      <td>Meredith Kolar; Nikolaus Euba</td>\n      <td>A</td>\n      <td>Letter Grade</td>\n      <td>A+</td>\n      <td>4.0</td>\n      <td>10.0</td>\n    </tr>\n    <tr>\n      <th>95</th>\n      <td>2007 Summer</td>\n      <td>169335</td>\n      <td>Graduate</td>\n      <td>Near Eastern Studies</td>\n      <td>Near Eastern Studies</td>\n      <td>290A</td>\n      <td>Independent Study</td>\n      <td>3</td>\n      <td>66140</td>\n      <td>66140.0</td>\n      <td>Special Studies</td>\n      <td>Hatem Bazian</td>\n      <td>A</td>\n      <td>Letter Grade</td>\n      <td>A+</td>\n      <td>4.0</td>\n      <td>4.0</td>\n    </tr>\n    <tr>\n      <th>96</th>\n      <td>2007 Summer</td>\n      <td>194536</td>\n      <td>Graduate</td>\n      <td>Ethnic Studies</td>\n      <td>Ethnic Studies</td>\n      <td>135AC</td>\n      <td>Primary</td>\n      <td>2</td>\n      <td>45245</td>\n      <td>45245.0</td>\n      <td>U.S. Immigration</td>\n      <td>Catherine Choy</td>\n      <td>A</td>\n      <td>Letter Grade</td>\n      <td>A+</td>\n      <td>4.0</td>\n      <td>4.0</td>\n    </tr>\n    <tr>\n      <th>97</th>\n      <td>2007 Summer</td>\n      <td>198873</td>\n      <td>Undergraduate</td>\n      <td>Near Eastern Studies</td>\n      <td>Hebrew</td>\n      <td>N106</td>\n      <td>Primary</td>\n      <td>1</td>\n      <td>50010</td>\n      <td>50010.0</td>\n      <td>Elem Bibl Hebrew</td>\n      <td>Chava Boyarin</td>\n      <td>A</td>\n      <td>Letter Grade</td>\n      <td>A+</td>\n      <td>4.0</td>\n      <td>6.0</td>\n    </tr>\n    <tr>\n      <th>...</th>\n      <td>...</td>\n      <td>...</td>\n      <td>...</td>\n      <td>...</td>\n      <td>...</td>\n      <td>...</td>\n      <td>...</td>\n      <td>...</td>\n      <td>...</td>\n      <td>...</td>\n      <td>...</td>\n      <td>...</td>\n      <td>...</td>\n      <td>...</td>\n      <td>...</td>\n      <td>...</td>\n      <td>...</td>\n    </tr>\n    <tr>\n      <th>23102</th>\n      <td>2019 Summer</td>\n      <td>4271436</td>\n      <td>Undergraduate</td>\n      <td>Nutritional Sciences &amp; Tox</td>\n      <td>Nutritional Science &amp; Tox</td>\n      <td>10</td>\n      <td>Primary</td>\n      <td>2</td>\n      <td>14561</td>\n      <td>14561.0</td>\n      <td>Intro Human Nutr</td>\n      <td>NaN</td>\n      <td>B</td>\n      <td>Letter Grade</td>\n      <td>B-</td>\n      <td>2.7</td>\n      <td>3.0</td>\n    </tr>\n    <tr>\n      <th>23103</th>\n      <td>2019 Summer</td>\n      <td>4271494</td>\n      <td>Undergraduate</td>\n      <td>Psychology</td>\n      <td>Psychology</td>\n      <td>166AC</td>\n      <td>Primary</td>\n      <td>1</td>\n      <td>14105</td>\n      <td>14105.0</td>\n      <td>Cultural Psychology</td>\n      <td>NaN</td>\n      <td>A</td>\n      <td>Letter Grade</td>\n      <td>A+</td>\n      <td>4.0</td>\n      <td>3.0</td>\n    </tr>\n    <tr>\n      <th>23104</th>\n      <td>2019 Summer</td>\n      <td>4271527</td>\n      <td>Undergraduate</td>\n      <td>Theater Dance &amp; Perf Stds</td>\n      <td>Theater Dance &amp; Perf Stds</td>\n      <td>10</td>\n      <td>Primary</td>\n      <td>1</td>\n      <td>14043</td>\n      <td>14043.0</td>\n      <td>Fund. Of Acting I</td>\n      <td>NaN</td>\n      <td>A</td>\n      <td>Letter Grade</td>\n      <td>A</td>\n      <td>4.0</td>\n      <td>3.0</td>\n    </tr>\n    <tr>\n      <th>23105</th>\n      <td>2019 Summer</td>\n      <td>4271531</td>\n      <td>Undergraduate</td>\n      <td>Interdisc Social Science Pgms</td>\n      <td>Global Studies</td>\n      <td>154M</td>\n      <td>Primary</td>\n      <td>3</td>\n      <td>15353</td>\n      <td>15353.0</td>\n      <td>Topics Middle East</td>\n      <td>NaN</td>\n      <td>A</td>\n      <td>Letter Grade</td>\n      <td>A</td>\n      <td>4.0</td>\n      <td>4.0</td>\n    </tr>\n    <tr>\n      <th>23106</th>\n      <td>2019 Summer</td>\n      <td>4271995</td>\n      <td>Undergraduate</td>\n      <td>College Writing Programs</td>\n      <td>College Writing Programs</td>\n      <td>6H</td>\n      <td>Primary</td>\n      <td>2</td>\n      <td>14281</td>\n      <td>14281.0</td>\n      <td>Esl Writing</td>\n      <td>NaN</td>\n      <td>F</td>\n      <td>Letter Grade</td>\n      <td>F</td>\n      <td>0.0</td>\n      <td>2.0</td>\n    </tr>\n  </tbody>\n</table>\n<p>5597609 rows × 17 columns</p>\n</div>"
     },
     "metadata": {},
     "execution_count": 17
    }
   ],
   "source": [
    "all_jacobs"
   ]
  },
  {
   "cell_type": "code",
   "execution_count": 14,
   "metadata": {},
   "outputs": [
    {
     "output_type": "error",
     "ename": "KeyboardInterrupt",
     "evalue": "",
     "traceback": [
      "\u001b[0;31m---------------------------------------------------------------------------\u001b[0m",
      "\u001b[0;31mKeyboardInterrupt\u001b[0m                         Traceback (most recent call last)",
      "\u001b[0;32m<ipython-input-14-f007a32345ec>\u001b[0m in \u001b[0;36m<module>\u001b[0;34m()\u001b[0m\n\u001b[0;32m----> 1\u001b[0;31m \u001b[0mall_jacobs\u001b[0m \u001b[0;34m=\u001b[0m \u001b[0mall_jacobs\u001b[0m\u001b[0;34m.\u001b[0m\u001b[0mgroupby\u001b[0m\u001b[0;34m(\u001b[0m\u001b[0;34m[\u001b[0m\u001b[0;34m'ppsk'\u001b[0m\u001b[0;34m,\u001b[0m\u001b[0;34m'year.name'\u001b[0m\u001b[0;34m]\u001b[0m\u001b[0;34m)\u001b[0m\u001b[0;34m.\u001b[0m\u001b[0mfilter\u001b[0m\u001b[0;34m(\u001b[0m\u001b[0;32mlambda\u001b[0m \u001b[0mx\u001b[0m\u001b[0;34m:\u001b[0m \u001b[0;34m(\u001b[0m\u001b[0mx\u001b[0m\u001b[0;34m[\u001b[0m\u001b[0;34m'course.subject'\u001b[0m\u001b[0;34m]\u001b[0m\u001b[0;34m.\u001b[0m\u001b[0misin\u001b[0m\u001b[0;34m(\u001b[0m\u001b[0;34m[\u001b[0m\u001b[0;34m'Design Innovation'\u001b[0m\u001b[0;34m]\u001b[0m\u001b[0;34m)\u001b[0m\u001b[0;34m.\u001b[0m\u001b[0many\u001b[0m\u001b[0;34m(\u001b[0m\u001b[0;34m)\u001b[0m\u001b[0;34m)\u001b[0m\u001b[0;34m)\u001b[0m\u001b[0;34m\u001b[0m\u001b[0;34m\u001b[0m\u001b[0m\n\u001b[0m\u001b[1;32m      2\u001b[0m \u001b[0;31m#single_students = all_jacobs.groupby('ppsk')\u001b[0m\u001b[0;34m\u001b[0m\u001b[0;34m\u001b[0m\u001b[0;34m\u001b[0m\u001b[0m\n",
      "\u001b[0;32m/usr/local/lib/python3.7/dist-packages/pandas/core/groupby/generic.py\u001b[0m in \u001b[0;36mfilter\u001b[0;34m(self, func, dropna, *args, **kwargs)\u001b[0m\n\u001b[1;32m   1577\u001b[0m             \u001b[0mobject\u001b[0m\u001b[0;34m.\u001b[0m\u001b[0m__setattr__\u001b[0m\u001b[0;34m(\u001b[0m\u001b[0mgroup\u001b[0m\u001b[0;34m,\u001b[0m \u001b[0;34m\"name\"\u001b[0m\u001b[0;34m,\u001b[0m \u001b[0mname\u001b[0m\u001b[0;34m)\u001b[0m\u001b[0;34m\u001b[0m\u001b[0;34m\u001b[0m\u001b[0m\n\u001b[1;32m   1578\u001b[0m \u001b[0;34m\u001b[0m\u001b[0m\n\u001b[0;32m-> 1579\u001b[0;31m             \u001b[0mres\u001b[0m \u001b[0;34m=\u001b[0m \u001b[0mfunc\u001b[0m\u001b[0;34m(\u001b[0m\u001b[0mgroup\u001b[0m\u001b[0;34m,\u001b[0m \u001b[0;34m*\u001b[0m\u001b[0margs\u001b[0m\u001b[0;34m,\u001b[0m \u001b[0;34m**\u001b[0m\u001b[0mkwargs\u001b[0m\u001b[0;34m)\u001b[0m\u001b[0;34m\u001b[0m\u001b[0;34m\u001b[0m\u001b[0m\n\u001b[0m\u001b[1;32m   1580\u001b[0m \u001b[0;34m\u001b[0m\u001b[0m\n\u001b[1;32m   1581\u001b[0m             \u001b[0;32mtry\u001b[0m\u001b[0;34m:\u001b[0m\u001b[0;34m\u001b[0m\u001b[0;34m\u001b[0m\u001b[0m\n",
      "\u001b[0;32m<ipython-input-14-f007a32345ec>\u001b[0m in \u001b[0;36m<lambda>\u001b[0;34m(x)\u001b[0m\n\u001b[0;32m----> 1\u001b[0;31m \u001b[0mall_jacobs\u001b[0m \u001b[0;34m=\u001b[0m \u001b[0mall_jacobs\u001b[0m\u001b[0;34m.\u001b[0m\u001b[0mgroupby\u001b[0m\u001b[0;34m(\u001b[0m\u001b[0;34m[\u001b[0m\u001b[0;34m'ppsk'\u001b[0m\u001b[0;34m,\u001b[0m\u001b[0;34m'year.name'\u001b[0m\u001b[0;34m]\u001b[0m\u001b[0;34m)\u001b[0m\u001b[0;34m.\u001b[0m\u001b[0mfilter\u001b[0m\u001b[0;34m(\u001b[0m\u001b[0;32mlambda\u001b[0m \u001b[0mx\u001b[0m\u001b[0;34m:\u001b[0m \u001b[0;34m(\u001b[0m\u001b[0mx\u001b[0m\u001b[0;34m[\u001b[0m\u001b[0;34m'course.subject'\u001b[0m\u001b[0;34m]\u001b[0m\u001b[0;34m.\u001b[0m\u001b[0misin\u001b[0m\u001b[0;34m(\u001b[0m\u001b[0;34m[\u001b[0m\u001b[0;34m'Design Innovation'\u001b[0m\u001b[0;34m]\u001b[0m\u001b[0;34m)\u001b[0m\u001b[0;34m.\u001b[0m\u001b[0many\u001b[0m\u001b[0;34m(\u001b[0m\u001b[0;34m)\u001b[0m\u001b[0;34m)\u001b[0m\u001b[0;34m)\u001b[0m\u001b[0;34m\u001b[0m\u001b[0;34m\u001b[0m\u001b[0m\n\u001b[0m\u001b[1;32m      2\u001b[0m \u001b[0;31m#single_students = all_jacobs.groupby('ppsk')\u001b[0m\u001b[0;34m\u001b[0m\u001b[0;34m\u001b[0m\u001b[0;34m\u001b[0m\u001b[0m\n",
      "\u001b[0;32m/usr/local/lib/python3.7/dist-packages/pandas/core/series.py\u001b[0m in \u001b[0;36misin\u001b[0;34m(self, values)\u001b[0m\n\u001b[1;32m   4696\u001b[0m         \u001b[0mName\u001b[0m\u001b[0;34m:\u001b[0m \u001b[0manimal\u001b[0m\u001b[0;34m,\u001b[0m \u001b[0mdtype\u001b[0m\u001b[0;34m:\u001b[0m \u001b[0mbool\u001b[0m\u001b[0;34m\u001b[0m\u001b[0;34m\u001b[0m\u001b[0m\n\u001b[1;32m   4697\u001b[0m         \"\"\"\n\u001b[0;32m-> 4698\u001b[0;31m         \u001b[0mresult\u001b[0m \u001b[0;34m=\u001b[0m \u001b[0malgorithms\u001b[0m\u001b[0;34m.\u001b[0m\u001b[0misin\u001b[0m\u001b[0;34m(\u001b[0m\u001b[0mself\u001b[0m\u001b[0;34m,\u001b[0m \u001b[0mvalues\u001b[0m\u001b[0;34m)\u001b[0m\u001b[0;34m\u001b[0m\u001b[0;34m\u001b[0m\u001b[0m\n\u001b[0m\u001b[1;32m   4699\u001b[0m         return self._constructor(result, index=self.index).__finalize__(\n\u001b[1;32m   4700\u001b[0m             \u001b[0mself\u001b[0m\u001b[0;34m,\u001b[0m \u001b[0mmethod\u001b[0m\u001b[0;34m=\u001b[0m\u001b[0;34m\"isin\"\u001b[0m\u001b[0;34m\u001b[0m\u001b[0;34m\u001b[0m\u001b[0m\n",
      "\u001b[0;32m/usr/local/lib/python3.7/dist-packages/pandas/core/algorithms.py\u001b[0m in \u001b[0;36misin\u001b[0;34m(comps, values)\u001b[0m\n\u001b[1;32m    473\u001b[0m             \u001b[0mcomps\u001b[0m \u001b[0;34m=\u001b[0m \u001b[0mcomps\u001b[0m\u001b[0;34m.\u001b[0m\u001b[0mastype\u001b[0m\u001b[0;34m(\u001b[0m\u001b[0mobject\u001b[0m\u001b[0;34m)\u001b[0m\u001b[0;34m\u001b[0m\u001b[0;34m\u001b[0m\u001b[0m\n\u001b[1;32m    474\u001b[0m \u001b[0;34m\u001b[0m\u001b[0m\n\u001b[0;32m--> 475\u001b[0;31m     \u001b[0;32mreturn\u001b[0m \u001b[0mf\u001b[0m\u001b[0;34m(\u001b[0m\u001b[0mcomps\u001b[0m\u001b[0;34m,\u001b[0m \u001b[0mvalues\u001b[0m\u001b[0;34m)\u001b[0m\u001b[0;34m\u001b[0m\u001b[0;34m\u001b[0m\u001b[0m\n\u001b[0m\u001b[1;32m    476\u001b[0m \u001b[0;34m\u001b[0m\u001b[0m\n\u001b[1;32m    477\u001b[0m \u001b[0;34m\u001b[0m\u001b[0m\n",
      "\u001b[0;31mKeyboardInterrupt\u001b[0m: "
     ]
    }
   ],
   "source": [
    "all_jacobs = all_jacobs.groupby(['ppsk','year.name']).filter(lambda x: (x['course.subject'].isin(['Design Innovation']).any())) \n",
    "#single_students = all_jacobs.groupby('ppsk')"
   ]
  },
  {
   "cell_type": "code",
   "execution_count": 8,
   "metadata": {},
   "outputs": [
    {
     "output_type": "execute_result",
     "data": {
      "text/plain": [
       "         year.name     ppsk  ... grade.points student.credit.hours\n",
       "93     2007 Summer    31341  ...          4.0                 10.0\n",
       "94     2007 Summer    33827  ...          4.0                 10.0\n",
       "95     2007 Summer   169335  ...          4.0                  4.0\n",
       "96     2007 Summer   194536  ...          4.0                  4.0\n",
       "97     2007 Summer   198873  ...          4.0                  6.0\n",
       "...            ...      ...  ...          ...                  ...\n",
       "23102  2019 Summer  4271436  ...          2.7                  3.0\n",
       "23103  2019 Summer  4271494  ...          4.0                  3.0\n",
       "23104  2019 Summer  4271527  ...          4.0                  3.0\n",
       "23105  2019 Summer  4271531  ...          4.0                  4.0\n",
       "23106  2019 Summer  4271995  ...          0.0                  2.0\n",
       "\n",
       "[5597609 rows x 17 columns]"
      ],
      "text/html": "<div>\n<style scoped>\n    .dataframe tbody tr th:only-of-type {\n        vertical-align: middle;\n    }\n\n    .dataframe tbody tr th {\n        vertical-align: top;\n    }\n\n    .dataframe thead th {\n        text-align: right;\n    }\n</style>\n<table border=\"1\" class=\"dataframe\">\n  <thead>\n    <tr style=\"text-align: right;\">\n      <th></th>\n      <th>year.name</th>\n      <th>ppsk</th>\n      <th>undergrad.status</th>\n      <th>course.department</th>\n      <th>course.subject</th>\n      <th>course.number</th>\n      <th>offering.type</th>\n      <th>section.number</th>\n      <th>ccn</th>\n      <th>room.share</th>\n      <th>course.title</th>\n      <th>instructor.name</th>\n      <th>grade.subtype</th>\n      <th>grade.type</th>\n      <th>grade.name</th>\n      <th>grade.points</th>\n      <th>student.credit.hours</th>\n    </tr>\n  </thead>\n  <tbody>\n    <tr>\n      <th>93</th>\n      <td>2007 Summer</td>\n      <td>31341</td>\n      <td>Graduate</td>\n      <td>Near Eastern Studies</td>\n      <td>Persian</td>\n      <td>20</td>\n      <td>Primary</td>\n      <td>1</td>\n      <td>70310</td>\n      <td>70310.0</td>\n      <td>Inten Inter Persian</td>\n      <td>Jaleh Pirnazar</td>\n      <td>A</td>\n      <td>Letter Grade</td>\n      <td>A+</td>\n      <td>4.0</td>\n      <td>10.0</td>\n    </tr>\n    <tr>\n      <th>94</th>\n      <td>2007 Summer</td>\n      <td>33827</td>\n      <td>Graduate</td>\n      <td>German</td>\n      <td>German</td>\n      <td>10</td>\n      <td>Primary</td>\n      <td>1</td>\n      <td>48655</td>\n      <td>48655.0</td>\n      <td>Elem German Wrkshp</td>\n      <td>Meredith Kolar; Nikolaus Euba</td>\n      <td>A</td>\n      <td>Letter Grade</td>\n      <td>A+</td>\n      <td>4.0</td>\n      <td>10.0</td>\n    </tr>\n    <tr>\n      <th>95</th>\n      <td>2007 Summer</td>\n      <td>169335</td>\n      <td>Graduate</td>\n      <td>Near Eastern Studies</td>\n      <td>Near Eastern Studies</td>\n      <td>290A</td>\n      <td>Independent Study</td>\n      <td>3</td>\n      <td>66140</td>\n      <td>66140.0</td>\n      <td>Special Studies</td>\n      <td>Hatem Bazian</td>\n      <td>A</td>\n      <td>Letter Grade</td>\n      <td>A+</td>\n      <td>4.0</td>\n      <td>4.0</td>\n    </tr>\n    <tr>\n      <th>96</th>\n      <td>2007 Summer</td>\n      <td>194536</td>\n      <td>Graduate</td>\n      <td>Ethnic Studies</td>\n      <td>Ethnic Studies</td>\n      <td>135AC</td>\n      <td>Primary</td>\n      <td>2</td>\n      <td>45245</td>\n      <td>45245.0</td>\n      <td>U.S. Immigration</td>\n      <td>Catherine Choy</td>\n      <td>A</td>\n      <td>Letter Grade</td>\n      <td>A+</td>\n      <td>4.0</td>\n      <td>4.0</td>\n    </tr>\n    <tr>\n      <th>97</th>\n      <td>2007 Summer</td>\n      <td>198873</td>\n      <td>Undergraduate</td>\n      <td>Near Eastern Studies</td>\n      <td>Hebrew</td>\n      <td>N106</td>\n      <td>Primary</td>\n      <td>1</td>\n      <td>50010</td>\n      <td>50010.0</td>\n      <td>Elem Bibl Hebrew</td>\n      <td>Chava Boyarin</td>\n      <td>A</td>\n      <td>Letter Grade</td>\n      <td>A+</td>\n      <td>4.0</td>\n      <td>6.0</td>\n    </tr>\n    <tr>\n      <th>...</th>\n      <td>...</td>\n      <td>...</td>\n      <td>...</td>\n      <td>...</td>\n      <td>...</td>\n      <td>...</td>\n      <td>...</td>\n      <td>...</td>\n      <td>...</td>\n      <td>...</td>\n      <td>...</td>\n      <td>...</td>\n      <td>...</td>\n      <td>...</td>\n      <td>...</td>\n      <td>...</td>\n      <td>...</td>\n    </tr>\n    <tr>\n      <th>23102</th>\n      <td>2019 Summer</td>\n      <td>4271436</td>\n      <td>Undergraduate</td>\n      <td>Nutritional Sciences &amp; Tox</td>\n      <td>Nutritional Science &amp; Tox</td>\n      <td>10</td>\n      <td>Primary</td>\n      <td>2</td>\n      <td>14561</td>\n      <td>14561.0</td>\n      <td>Intro Human Nutr</td>\n      <td>NaN</td>\n      <td>B</td>\n      <td>Letter Grade</td>\n      <td>B-</td>\n      <td>2.7</td>\n      <td>3.0</td>\n    </tr>\n    <tr>\n      <th>23103</th>\n      <td>2019 Summer</td>\n      <td>4271494</td>\n      <td>Undergraduate</td>\n      <td>Psychology</td>\n      <td>Psychology</td>\n      <td>166AC</td>\n      <td>Primary</td>\n      <td>1</td>\n      <td>14105</td>\n      <td>14105.0</td>\n      <td>Cultural Psychology</td>\n      <td>NaN</td>\n      <td>A</td>\n      <td>Letter Grade</td>\n      <td>A+</td>\n      <td>4.0</td>\n      <td>3.0</td>\n    </tr>\n    <tr>\n      <th>23104</th>\n      <td>2019 Summer</td>\n      <td>4271527</td>\n      <td>Undergraduate</td>\n      <td>Theater Dance &amp; Perf Stds</td>\n      <td>Theater Dance &amp; Perf Stds</td>\n      <td>10</td>\n      <td>Primary</td>\n      <td>1</td>\n      <td>14043</td>\n      <td>14043.0</td>\n      <td>Fund. Of Acting I</td>\n      <td>NaN</td>\n      <td>A</td>\n      <td>Letter Grade</td>\n      <td>A</td>\n      <td>4.0</td>\n      <td>3.0</td>\n    </tr>\n    <tr>\n      <th>23105</th>\n      <td>2019 Summer</td>\n      <td>4271531</td>\n      <td>Undergraduate</td>\n      <td>Interdisc Social Science Pgms</td>\n      <td>Global Studies</td>\n      <td>154M</td>\n      <td>Primary</td>\n      <td>3</td>\n      <td>15353</td>\n      <td>15353.0</td>\n      <td>Topics Middle East</td>\n      <td>NaN</td>\n      <td>A</td>\n      <td>Letter Grade</td>\n      <td>A</td>\n      <td>4.0</td>\n      <td>4.0</td>\n    </tr>\n    <tr>\n      <th>23106</th>\n      <td>2019 Summer</td>\n      <td>4271995</td>\n      <td>Undergraduate</td>\n      <td>College Writing Programs</td>\n      <td>College Writing Programs</td>\n      <td>6H</td>\n      <td>Primary</td>\n      <td>2</td>\n      <td>14281</td>\n      <td>14281.0</td>\n      <td>Esl Writing</td>\n      <td>NaN</td>\n      <td>F</td>\n      <td>Letter Grade</td>\n      <td>F</td>\n      <td>0.0</td>\n      <td>2.0</td>\n    </tr>\n  </tbody>\n</table>\n<p>5597609 rows × 17 columns</p>\n</div>"
     },
     "metadata": {},
     "execution_count": 8
    }
   ],
   "source": [
    "#get ppsks of students from jacobs and find other classes they take\n",
    "# how many units students take\n",
    "#all_jacobs = student_courses\n",
    "all_jacobs"
   ]
  },
  {
   "cell_type": "code",
   "execution_count": null,
   "metadata": {},
   "outputs": [],
   "source": []
  }
 ],
 "metadata": {
  "kernelspec": {
   "name": "python3",
   "display_name": "Python 3",
   "language": "python"
  },
  "language_info": {
   "codemirror_mode": {
    "name": "ipython",
    "version": 3
   },
   "file_extension": ".py",
   "mimetype": "text/x-python",
   "name": "python",
   "nbconvert_exporter": "python",
   "pygments_lexer": "ipython3",
   "version": "3.8.2-final"
  }
 },
 "nbformat": 4,
 "nbformat_minor": 2
}