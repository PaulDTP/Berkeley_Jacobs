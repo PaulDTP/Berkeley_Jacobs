{
 "cells": [
  {
   "cell_type": "code",
   "execution_count": 11,
   "metadata": {},
   "outputs": [],
   "source": [
    "import pandas as pd\n",
    "import numpy as np\n",
    "import seaborn as sns\n",
    "import matplotlib.pyplot as plt"
   ]
  },
  {
   "cell_type": "code",
   "execution_count": 12,
   "metadata": {},
   "outputs": [],
   "source": [
    "%store -r student_courses\n",
    "%store -r student_majors\n",
    "%store -r stem_paths\n",
    "%store -r maker_passes\n",
    "%store -r jacobs_ethnicities\n",
    "%store -r bcdi\n",
    "%store -r waivers"
   ]
  },
  {
   "cell_type": "code",
   "execution_count": 13,
   "metadata": {},
   "outputs": [],
   "source": [
    "# ppsks of everyone who (in data) uses Jacobs for something\n",
    "ppsks = maker_passes['ppsk']\n",
    "ppsks = ppsks.append(jacobs_ethnicities['ppsk']).unique()\n",
    "\n",
    "# all Jacobs students' academic career, either with DESINV course or MakerPass\n",
    "all_jacobs = student_courses[student_courses['ppsk'].isin(ppsks)]"
   ]
  },
  {
   "cell_type": "code",
   "execution_count": 14,
   "metadata": {},
   "outputs": [
    {
     "output_type": "execute_result",
     "data": {
      "text/plain": [
       "course.number  section.number\n",
       "198            2                 121\n",
       "15             1                  61\n",
       "10             1                  43\n",
       "22             1                  32\n",
       "21             1                  28\n",
       "198            1                  22\n",
       "190            1                  16\n",
       "               3                  14\n",
       "               2                   9\n",
       "dtype: int64"
      ]
     },
     "metadata": {},
     "execution_count": 14
    }
   ],
   "source": [
    "jacobs_ethnicities[jacobs_ethnicities['year.name'] == '2016 Fall'][['course.number','section.number']].value_counts()"
   ]
  },
  {
   "cell_type": "code",
   "execution_count": 43,
   "metadata": {},
   "outputs": [],
   "source": [
    "maker_passes['year'] = maker_passes['year'].astype(int)#.groupby(['year','term']).count()\n",
    "maker_passes['term'] = maker_passes['term'].astype(str)\n",
    "maker_passes['ppsk'] = maker_passes['ppsk'].astype(int)"
   ]
  },
  {
   "cell_type": "code",
   "execution_count": 45,
   "metadata": {},
   "outputs": [
    {
     "output_type": "execute_result",
     "data": {
      "text/plain": [
       "year  term  \n",
       "2015  Fall       735\n",
       "2016  Fall      1348\n",
       "      Spring     964\n",
       "2017  Fall      1307\n",
       "      Spring    1407\n",
       "2018  Fall      1206\n",
       "      Spring    1368\n",
       "2019  Fall      1463\n",
       "      Spring    1569\n",
       "2020  Fall       754\n",
       "      Spring    1697\n",
       "dtype: int64"
      ]
     },
     "metadata": {},
     "execution_count": 45
    }
   ],
   "source": [
    "maker_passes.groupby(['year','term']).count()[['DES INV Students']].sum(axis=1)"
   ]
  },
  {
   "cell_type": "code",
   "execution_count": 56,
   "metadata": {},
   "outputs": [],
   "source": [
    "checking = maker_passes.merge(student_courses, on='ppsk', how='left')"
   ]
  },
  {
   "cell_type": "code",
   "execution_count": 52,
   "metadata": {},
   "outputs": [],
   "source": [
    "checking['DES INV Students'] = checking['DES INV Students'].astype(str) "
   ]
  },
  {
   "cell_type": "code",
   "execution_count": 57,
   "metadata": {},
   "outputs": [
    {
     "output_type": "execute_result",
     "data": {
      "text/plain": [
       "           ppsk  year  term  ... grade.name grade.points student.credit.hours\n",
       "0        724096  2015  Fall  ...         A+          4.0                  4.0\n",
       "1        724096  2015  Fall  ...         A+          4.0                  3.0\n",
       "2        724096  2015  Fall  ...         A+          4.0                  3.0\n",
       "3        724096  2015  Fall  ...          A          4.0                  3.0\n",
       "4        724096  2015  Fall  ...         A-          3.7                  2.0\n",
       "...         ...   ...   ...  ...        ...          ...                  ...\n",
       "552379  4348181  2020  Fall  ...        NaN          NaN                  NaN\n",
       "552404  4356250  2020  Fall  ...        NaN          NaN                  NaN\n",
       "552406  4357716  2020  Fall  ...        NaN          NaN                  NaN\n",
       "552415  4362319  2020  Fall  ...        NaN          NaN                  NaN\n",
       "552423  4478634  2020  Fall  ...        NaN          NaN                  NaN\n",
       "\n",
       "[65899 rows x 22 columns]"
      ],
      "text/html": "<div>\n<style scoped>\n    .dataframe tbody tr th:only-of-type {\n        vertical-align: middle;\n    }\n\n    .dataframe tbody tr th {\n        vertical-align: top;\n    }\n\n    .dataframe thead th {\n        text-align: right;\n    }\n</style>\n<table border=\"1\" class=\"dataframe\">\n  <thead>\n    <tr style=\"text-align: right;\">\n      <th></th>\n      <th>ppsk</th>\n      <th>year</th>\n      <th>term</th>\n      <th>DES INV Students</th>\n      <th>All Courses Students</th>\n      <th>Maker Pass Holders</th>\n      <th>year.name</th>\n      <th>undergrad.status</th>\n      <th>course.department</th>\n      <th>course.subject</th>\n      <th>course.number</th>\n      <th>offering.type</th>\n      <th>section.number</th>\n      <th>ccn</th>\n      <th>room.share</th>\n      <th>course.title</th>\n      <th>instructor.name</th>\n      <th>grade.subtype</th>\n      <th>grade.type</th>\n      <th>grade.name</th>\n      <th>grade.points</th>\n      <th>student.credit.hours</th>\n    </tr>\n  </thead>\n  <tbody>\n    <tr>\n      <th>0</th>\n      <td>724096</td>\n      <td>2015</td>\n      <td>Fall</td>\n      <td>Y</td>\n      <td>Y</td>\n      <td>Y</td>\n      <td>2007 Fall</td>\n      <td>Undergraduate</td>\n      <td>Business</td>\n      <td>Business Admin-Undergrad</td>\n      <td>103</td>\n      <td>Primary</td>\n      <td>1</td>\n      <td>8553</td>\n      <td>8553.0</td>\n      <td>Intro To Finance</td>\n      <td>Jonathan Berk</td>\n      <td>A</td>\n      <td>Letter Grade</td>\n      <td>A+</td>\n      <td>4.0</td>\n      <td>4.0</td>\n    </tr>\n    <tr>\n      <th>1</th>\n      <td>724096</td>\n      <td>2015</td>\n      <td>Fall</td>\n      <td>Y</td>\n      <td>Y</td>\n      <td>Y</td>\n      <td>2007 Fall</td>\n      <td>Undergraduate</td>\n      <td>Psychology</td>\n      <td>Psychology</td>\n      <td>141</td>\n      <td>Primary</td>\n      <td>1</td>\n      <td>74426</td>\n      <td>74426.0</td>\n      <td>Devel Dur Infancy</td>\n      <td>Joseph Campos</td>\n      <td>A</td>\n      <td>Letter Grade</td>\n      <td>A+</td>\n      <td>4.0</td>\n      <td>3.0</td>\n    </tr>\n    <tr>\n      <th>2</th>\n      <td>724096</td>\n      <td>2015</td>\n      <td>Fall</td>\n      <td>Y</td>\n      <td>Y</td>\n      <td>Y</td>\n      <td>2007 Fall</td>\n      <td>Undergraduate</td>\n      <td>Psychology</td>\n      <td>Psychology</td>\n      <td>150</td>\n      <td>Primary</td>\n      <td>1</td>\n      <td>74453</td>\n      <td>74453.0</td>\n      <td>Personality Psych</td>\n      <td>Meg Jay</td>\n      <td>A</td>\n      <td>Letter Grade</td>\n      <td>A+</td>\n      <td>4.0</td>\n      <td>3.0</td>\n    </tr>\n    <tr>\n      <th>3</th>\n      <td>724096</td>\n      <td>2015</td>\n      <td>Fall</td>\n      <td>Y</td>\n      <td>Y</td>\n      <td>Y</td>\n      <td>2007 Fall</td>\n      <td>Undergraduate</td>\n      <td>Psychology</td>\n      <td>Psychology</td>\n      <td>130</td>\n      <td>Primary</td>\n      <td>1</td>\n      <td>74360</td>\n      <td>74360.0</td>\n      <td>Clinical Psychology</td>\n      <td>Robert Levenson</td>\n      <td>A</td>\n      <td>Letter Grade</td>\n      <td>A</td>\n      <td>4.0</td>\n      <td>3.0</td>\n    </tr>\n    <tr>\n      <th>4</th>\n      <td>724096</td>\n      <td>2015</td>\n      <td>Fall</td>\n      <td>Y</td>\n      <td>Y</td>\n      <td>Y</td>\n      <td>2007 Summer</td>\n      <td>Undergraduate</td>\n      <td>Business</td>\n      <td>Business Admin-Undergrad</td>\n      <td>100</td>\n      <td>Primary</td>\n      <td>9</td>\n      <td>20045</td>\n      <td>20045.0</td>\n      <td>Business Comm</td>\n      <td>Arturo Perez-Reyes</td>\n      <td>A</td>\n      <td>Letter Grade</td>\n      <td>A-</td>\n      <td>3.7</td>\n      <td>2.0</td>\n    </tr>\n    <tr>\n      <th>...</th>\n      <td>...</td>\n      <td>...</td>\n      <td>...</td>\n      <td>...</td>\n      <td>...</td>\n      <td>...</td>\n      <td>...</td>\n      <td>...</td>\n      <td>...</td>\n      <td>...</td>\n      <td>...</td>\n      <td>...</td>\n      <td>...</td>\n      <td>...</td>\n      <td>...</td>\n      <td>...</td>\n      <td>...</td>\n      <td>...</td>\n      <td>...</td>\n      <td>...</td>\n      <td>...</td>\n      <td>...</td>\n    </tr>\n    <tr>\n      <th>552379</th>\n      <td>4348181</td>\n      <td>2020</td>\n      <td>Fall</td>\n      <td>Y</td>\n      <td>Y</td>\n      <td>N</td>\n      <td>NaN</td>\n      <td>NaN</td>\n      <td>NaN</td>\n      <td>NaN</td>\n      <td>NaN</td>\n      <td>NaN</td>\n      <td>NaN</td>\n      <td>NaN</td>\n      <td>NaN</td>\n      <td>NaN</td>\n      <td>NaN</td>\n      <td>NaN</td>\n      <td>NaN</td>\n      <td>NaN</td>\n      <td>NaN</td>\n      <td>NaN</td>\n    </tr>\n    <tr>\n      <th>552404</th>\n      <td>4356250</td>\n      <td>2020</td>\n      <td>Fall</td>\n      <td>Y</td>\n      <td>Y</td>\n      <td>N</td>\n      <td>NaN</td>\n      <td>NaN</td>\n      <td>NaN</td>\n      <td>NaN</td>\n      <td>NaN</td>\n      <td>NaN</td>\n      <td>NaN</td>\n      <td>NaN</td>\n      <td>NaN</td>\n      <td>NaN</td>\n      <td>NaN</td>\n      <td>NaN</td>\n      <td>NaN</td>\n      <td>NaN</td>\n      <td>NaN</td>\n      <td>NaN</td>\n    </tr>\n    <tr>\n      <th>552406</th>\n      <td>4357716</td>\n      <td>2020</td>\n      <td>Fall</td>\n      <td>Y</td>\n      <td>Y</td>\n      <td>N</td>\n      <td>NaN</td>\n      <td>NaN</td>\n      <td>NaN</td>\n      <td>NaN</td>\n      <td>NaN</td>\n      <td>NaN</td>\n      <td>NaN</td>\n      <td>NaN</td>\n      <td>NaN</td>\n      <td>NaN</td>\n      <td>NaN</td>\n      <td>NaN</td>\n      <td>NaN</td>\n      <td>NaN</td>\n      <td>NaN</td>\n      <td>NaN</td>\n    </tr>\n    <tr>\n      <th>552415</th>\n      <td>4362319</td>\n      <td>2020</td>\n      <td>Fall</td>\n      <td>Y</td>\n      <td>Y</td>\n      <td>N</td>\n      <td>NaN</td>\n      <td>NaN</td>\n      <td>NaN</td>\n      <td>NaN</td>\n      <td>NaN</td>\n      <td>NaN</td>\n      <td>NaN</td>\n      <td>NaN</td>\n      <td>NaN</td>\n      <td>NaN</td>\n      <td>NaN</td>\n      <td>NaN</td>\n      <td>NaN</td>\n      <td>NaN</td>\n      <td>NaN</td>\n      <td>NaN</td>\n    </tr>\n    <tr>\n      <th>552423</th>\n      <td>4478634</td>\n      <td>2020</td>\n      <td>Fall</td>\n      <td>Y</td>\n      <td>Y</td>\n      <td>N</td>\n      <td>NaN</td>\n      <td>NaN</td>\n      <td>NaN</td>\n      <td>NaN</td>\n      <td>NaN</td>\n      <td>NaN</td>\n      <td>NaN</td>\n      <td>NaN</td>\n      <td>NaN</td>\n      <td>NaN</td>\n      <td>NaN</td>\n      <td>NaN</td>\n      <td>NaN</td>\n      <td>NaN</td>\n      <td>NaN</td>\n      <td>NaN</td>\n    </tr>\n  </tbody>\n</table>\n<p>65899 rows × 22 columns</p>\n</div>"
     },
     "metadata": {},
     "execution_count": 57
    }
   ],
   "source": [
    "checking[checking['DES INV Students'] == 'Y']"
   ]
  },
  {
   "cell_type": "code",
   "execution_count": 18,
   "metadata": {},
   "outputs": [
    {
     "output_type": "execute_result",
     "data": {
      "text/plain": [
       "         year.name     ppsk  ... grade.points student.credit.hours\n",
       "181    2015 Spring   723198  ...          4.0                  6.0\n",
       "182    2015 Spring   723198  ...          4.0                  3.0\n",
       "834    2015 Spring  1029128  ...          4.0                  3.0\n",
       "1159   2015 Spring  1031223  ...          4.0                  4.0\n",
       "1163   2015 Spring  1031253  ...          4.0                  3.0\n",
       "...            ...      ...  ...          ...                  ...\n",
       "22125  2019 Summer  4264306  ...          4.0                  3.0\n",
       "22126  2019 Summer  4264306  ...          4.0                  4.0\n",
       "22572  2019 Summer  4265873  ...          3.0                  2.0\n",
       "22573  2019 Summer  4265873  ...          4.0                  4.0\n",
       "22697  2019 Summer  4266391  ...          3.0                  3.0\n",
       "\n",
       "[12520 rows x 17 columns]"
      ],
      "text/html": "<div>\n<style scoped>\n    .dataframe tbody tr th:only-of-type {\n        vertical-align: middle;\n    }\n\n    .dataframe tbody tr th {\n        vertical-align: top;\n    }\n\n    .dataframe thead th {\n        text-align: right;\n    }\n</style>\n<table border=\"1\" class=\"dataframe\">\n  <thead>\n    <tr style=\"text-align: right;\">\n      <th></th>\n      <th>year.name</th>\n      <th>ppsk</th>\n      <th>undergrad.status</th>\n      <th>course.department</th>\n      <th>course.subject</th>\n      <th>course.number</th>\n      <th>offering.type</th>\n      <th>section.number</th>\n      <th>ccn</th>\n      <th>room.share</th>\n      <th>course.title</th>\n      <th>instructor.name</th>\n      <th>grade.subtype</th>\n      <th>grade.type</th>\n      <th>grade.name</th>\n      <th>grade.points</th>\n      <th>student.credit.hours</th>\n    </tr>\n  </thead>\n  <tbody>\n    <tr>\n      <th>181</th>\n      <td>2015 Spring</td>\n      <td>723198</td>\n      <td>Graduate</td>\n      <td>Public Policy</td>\n      <td>Public Policy</td>\n      <td>205</td>\n      <td>Primary</td>\n      <td>6</td>\n      <td>77337</td>\n      <td>100998.0</td>\n      <td>Adv Pol Anal</td>\n      <td>Jennifer Granholm</td>\n      <td>A</td>\n      <td>Letter Grade</td>\n      <td>A+</td>\n      <td>4.0</td>\n      <td>6.0</td>\n    </tr>\n    <tr>\n      <th>182</th>\n      <td>2015 Spring</td>\n      <td>723198</td>\n      <td>Graduate</td>\n      <td>Public Policy</td>\n      <td>Public Policy</td>\n      <td>299</td>\n      <td>Independent Study</td>\n      <td>6</td>\n      <td>77571</td>\n      <td>100998.0</td>\n      <td>Ind Stdy Mst Essay</td>\n      <td>Jennifer Granholm</td>\n      <td>A</td>\n      <td>Letter Grade</td>\n      <td>A+</td>\n      <td>4.0</td>\n      <td>3.0</td>\n    </tr>\n    <tr>\n      <th>834</th>\n      <td>2015 Spring</td>\n      <td>1029128</td>\n      <td>Undergraduate</td>\n      <td>Ag &amp; Resource Econ &amp; Pol</td>\n      <td>Environ Econ &amp; Policy</td>\n      <td>143</td>\n      <td>Primary</td>\n      <td>1</td>\n      <td>1278</td>\n      <td>1278.0</td>\n      <td>Econ Of Innovation</td>\n      <td>Brian Wright</td>\n      <td>A</td>\n      <td>Letter Grade</td>\n      <td>A+</td>\n      <td>4.0</td>\n      <td>3.0</td>\n    </tr>\n    <tr>\n      <th>1159</th>\n      <td>2015 Spring</td>\n      <td>1031223</td>\n      <td>Undergraduate</td>\n      <td>Geography</td>\n      <td>Geography</td>\n      <td>164</td>\n      <td>Primary</td>\n      <td>1</td>\n      <td>36338</td>\n      <td>36338.0</td>\n      <td>Geog Of China</td>\n      <td>You-Tien Hsing</td>\n      <td>A</td>\n      <td>Letter Grade</td>\n      <td>A+</td>\n      <td>4.0</td>\n      <td>4.0</td>\n    </tr>\n    <tr>\n      <th>1163</th>\n      <td>2015 Spring</td>\n      <td>1031253</td>\n      <td>Undergraduate</td>\n      <td>Psychology</td>\n      <td>Psychology</td>\n      <td>C162</td>\n      <td>Primary</td>\n      <td>1</td>\n      <td>74176</td>\n      <td>208279.0</td>\n      <td>Human Happiness</td>\n      <td>Dacher Keltner</td>\n      <td>A</td>\n      <td>Letter Grade</td>\n      <td>A+</td>\n      <td>4.0</td>\n      <td>3.0</td>\n    </tr>\n    <tr>\n      <th>...</th>\n      <td>...</td>\n      <td>...</td>\n      <td>...</td>\n      <td>...</td>\n      <td>...</td>\n      <td>...</td>\n      <td>...</td>\n      <td>...</td>\n      <td>...</td>\n      <td>...</td>\n      <td>...</td>\n      <td>...</td>\n      <td>...</td>\n      <td>...</td>\n      <td>...</td>\n      <td>...</td>\n      <td>...</td>\n    </tr>\n    <tr>\n      <th>22125</th>\n      <td>2019 Summer</td>\n      <td>4264306</td>\n      <td>Undergraduate</td>\n      <td>Design Innovation</td>\n      <td>Design Innovation</td>\n      <td>190</td>\n      <td>Primary</td>\n      <td>8</td>\n      <td>15779</td>\n      <td>15779.0</td>\n      <td>Spec Topics Des Inv</td>\n      <td>NaN</td>\n      <td>A</td>\n      <td>Letter Grade</td>\n      <td>A+</td>\n      <td>4.0</td>\n      <td>3.0</td>\n    </tr>\n    <tr>\n      <th>22126</th>\n      <td>2019 Summer</td>\n      <td>4264306</td>\n      <td>Undergraduate</td>\n      <td>Electrical Eng &amp; Computer Sci</td>\n      <td>Computer Science</td>\n      <td>C8</td>\n      <td>Primary</td>\n      <td>1</td>\n      <td>14720</td>\n      <td>25.0</td>\n      <td>Foundation Data Sci</td>\n      <td>NaN</td>\n      <td>A</td>\n      <td>Letter Grade</td>\n      <td>A</td>\n      <td>4.0</td>\n      <td>4.0</td>\n    </tr>\n    <tr>\n      <th>22572</th>\n      <td>2019 Summer</td>\n      <td>4265873</td>\n      <td>Undergraduate</td>\n      <td>Design Innovation</td>\n      <td>Design Innovation</td>\n      <td>190</td>\n      <td>Primary</td>\n      <td>7</td>\n      <td>11577</td>\n      <td>11577.0</td>\n      <td>Spec Topics Des Inv</td>\n      <td>NaN</td>\n      <td>B</td>\n      <td>Letter Grade</td>\n      <td>B</td>\n      <td>3.0</td>\n      <td>2.0</td>\n    </tr>\n    <tr>\n      <th>22573</th>\n      <td>2019 Summer</td>\n      <td>4265873</td>\n      <td>Undergraduate</td>\n      <td>Gender &amp; Womens Studies</td>\n      <td>Gender &amp; Womens Studies</td>\n      <td>111</td>\n      <td>Primary</td>\n      <td>2</td>\n      <td>14306</td>\n      <td>14306.0</td>\n      <td>Special Topics</td>\n      <td>NaN</td>\n      <td>A</td>\n      <td>Letter Grade</td>\n      <td>A</td>\n      <td>4.0</td>\n      <td>4.0</td>\n    </tr>\n    <tr>\n      <th>22697</th>\n      <td>2019 Summer</td>\n      <td>4266391</td>\n      <td>Undergraduate</td>\n      <td>Design Innovation</td>\n      <td>Design Innovation</td>\n      <td>22</td>\n      <td>Primary</td>\n      <td>1</td>\n      <td>14718</td>\n      <td>14718.0</td>\n      <td>Prototype &amp; Fab</td>\n      <td>NaN</td>\n      <td>B</td>\n      <td>Letter Grade</td>\n      <td>B</td>\n      <td>3.0</td>\n      <td>3.0</td>\n    </tr>\n  </tbody>\n</table>\n<p>12520 rows × 17 columns</p>\n</div>"
     },
     "metadata": {},
     "execution_count": 18
    }
   ],
   "source": [
    "all_jacobs"
   ]
  },
  {
   "cell_type": "code",
   "execution_count": 16,
   "metadata": {},
   "outputs": [],
   "source": [
    "all_jacobs = all_jacobs.groupby(['ppsk','year.name']).filter(lambda x: (x['course.subject'].isin(['Design Innovation']).any())) \n",
    "#single_students = all_jacobs.groupby('ppsk')"
   ]
  },
  {
   "cell_type": "code",
   "execution_count": 17,
   "metadata": {},
   "outputs": [
    {
     "output_type": "execute_result",
     "data": {
      "text/plain": [
       "         year.name     ppsk  ... grade.points student.credit.hours\n",
       "181    2015 Spring   723198  ...          4.0                  6.0\n",
       "182    2015 Spring   723198  ...          4.0                  3.0\n",
       "834    2015 Spring  1029128  ...          4.0                  3.0\n",
       "1159   2015 Spring  1031223  ...          4.0                  4.0\n",
       "1163   2015 Spring  1031253  ...          4.0                  3.0\n",
       "...            ...      ...  ...          ...                  ...\n",
       "22125  2019 Summer  4264306  ...          4.0                  3.0\n",
       "22126  2019 Summer  4264306  ...          4.0                  4.0\n",
       "22572  2019 Summer  4265873  ...          3.0                  2.0\n",
       "22573  2019 Summer  4265873  ...          4.0                  4.0\n",
       "22697  2019 Summer  4266391  ...          3.0                  3.0\n",
       "\n",
       "[12520 rows x 17 columns]"
      ],
      "text/html": "<div>\n<style scoped>\n    .dataframe tbody tr th:only-of-type {\n        vertical-align: middle;\n    }\n\n    .dataframe tbody tr th {\n        vertical-align: top;\n    }\n\n    .dataframe thead th {\n        text-align: right;\n    }\n</style>\n<table border=\"1\" class=\"dataframe\">\n  <thead>\n    <tr style=\"text-align: right;\">\n      <th></th>\n      <th>year.name</th>\n      <th>ppsk</th>\n      <th>undergrad.status</th>\n      <th>course.department</th>\n      <th>course.subject</th>\n      <th>course.number</th>\n      <th>offering.type</th>\n      <th>section.number</th>\n      <th>ccn</th>\n      <th>room.share</th>\n      <th>course.title</th>\n      <th>instructor.name</th>\n      <th>grade.subtype</th>\n      <th>grade.type</th>\n      <th>grade.name</th>\n      <th>grade.points</th>\n      <th>student.credit.hours</th>\n    </tr>\n  </thead>\n  <tbody>\n    <tr>\n      <th>181</th>\n      <td>2015 Spring</td>\n      <td>723198</td>\n      <td>Graduate</td>\n      <td>Public Policy</td>\n      <td>Public Policy</td>\n      <td>205</td>\n      <td>Primary</td>\n      <td>6</td>\n      <td>77337</td>\n      <td>100998.0</td>\n      <td>Adv Pol Anal</td>\n      <td>Jennifer Granholm</td>\n      <td>A</td>\n      <td>Letter Grade</td>\n      <td>A+</td>\n      <td>4.0</td>\n      <td>6.0</td>\n    </tr>\n    <tr>\n      <th>182</th>\n      <td>2015 Spring</td>\n      <td>723198</td>\n      <td>Graduate</td>\n      <td>Public Policy</td>\n      <td>Public Policy</td>\n      <td>299</td>\n      <td>Independent Study</td>\n      <td>6</td>\n      <td>77571</td>\n      <td>100998.0</td>\n      <td>Ind Stdy Mst Essay</td>\n      <td>Jennifer Granholm</td>\n      <td>A</td>\n      <td>Letter Grade</td>\n      <td>A+</td>\n      <td>4.0</td>\n      <td>3.0</td>\n    </tr>\n    <tr>\n      <th>834</th>\n      <td>2015 Spring</td>\n      <td>1029128</td>\n      <td>Undergraduate</td>\n      <td>Ag &amp; Resource Econ &amp; Pol</td>\n      <td>Environ Econ &amp; Policy</td>\n      <td>143</td>\n      <td>Primary</td>\n      <td>1</td>\n      <td>1278</td>\n      <td>1278.0</td>\n      <td>Econ Of Innovation</td>\n      <td>Brian Wright</td>\n      <td>A</td>\n      <td>Letter Grade</td>\n      <td>A+</td>\n      <td>4.0</td>\n      <td>3.0</td>\n    </tr>\n    <tr>\n      <th>1159</th>\n      <td>2015 Spring</td>\n      <td>1031223</td>\n      <td>Undergraduate</td>\n      <td>Geography</td>\n      <td>Geography</td>\n      <td>164</td>\n      <td>Primary</td>\n      <td>1</td>\n      <td>36338</td>\n      <td>36338.0</td>\n      <td>Geog Of China</td>\n      <td>You-Tien Hsing</td>\n      <td>A</td>\n      <td>Letter Grade</td>\n      <td>A+</td>\n      <td>4.0</td>\n      <td>4.0</td>\n    </tr>\n    <tr>\n      <th>1163</th>\n      <td>2015 Spring</td>\n      <td>1031253</td>\n      <td>Undergraduate</td>\n      <td>Psychology</td>\n      <td>Psychology</td>\n      <td>C162</td>\n      <td>Primary</td>\n      <td>1</td>\n      <td>74176</td>\n      <td>208279.0</td>\n      <td>Human Happiness</td>\n      <td>Dacher Keltner</td>\n      <td>A</td>\n      <td>Letter Grade</td>\n      <td>A+</td>\n      <td>4.0</td>\n      <td>3.0</td>\n    </tr>\n    <tr>\n      <th>...</th>\n      <td>...</td>\n      <td>...</td>\n      <td>...</td>\n      <td>...</td>\n      <td>...</td>\n      <td>...</td>\n      <td>...</td>\n      <td>...</td>\n      <td>...</td>\n      <td>...</td>\n      <td>...</td>\n      <td>...</td>\n      <td>...</td>\n      <td>...</td>\n      <td>...</td>\n      <td>...</td>\n      <td>...</td>\n    </tr>\n    <tr>\n      <th>22125</th>\n      <td>2019 Summer</td>\n      <td>4264306</td>\n      <td>Undergraduate</td>\n      <td>Design Innovation</td>\n      <td>Design Innovation</td>\n      <td>190</td>\n      <td>Primary</td>\n      <td>8</td>\n      <td>15779</td>\n      <td>15779.0</td>\n      <td>Spec Topics Des Inv</td>\n      <td>NaN</td>\n      <td>A</td>\n      <td>Letter Grade</td>\n      <td>A+</td>\n      <td>4.0</td>\n      <td>3.0</td>\n    </tr>\n    <tr>\n      <th>22126</th>\n      <td>2019 Summer</td>\n      <td>4264306</td>\n      <td>Undergraduate</td>\n      <td>Electrical Eng &amp; Computer Sci</td>\n      <td>Computer Science</td>\n      <td>C8</td>\n      <td>Primary</td>\n      <td>1</td>\n      <td>14720</td>\n      <td>25.0</td>\n      <td>Foundation Data Sci</td>\n      <td>NaN</td>\n      <td>A</td>\n      <td>Letter Grade</td>\n      <td>A</td>\n      <td>4.0</td>\n      <td>4.0</td>\n    </tr>\n    <tr>\n      <th>22572</th>\n      <td>2019 Summer</td>\n      <td>4265873</td>\n      <td>Undergraduate</td>\n      <td>Design Innovation</td>\n      <td>Design Innovation</td>\n      <td>190</td>\n      <td>Primary</td>\n      <td>7</td>\n      <td>11577</td>\n      <td>11577.0</td>\n      <td>Spec Topics Des Inv</td>\n      <td>NaN</td>\n      <td>B</td>\n      <td>Letter Grade</td>\n      <td>B</td>\n      <td>3.0</td>\n      <td>2.0</td>\n    </tr>\n    <tr>\n      <th>22573</th>\n      <td>2019 Summer</td>\n      <td>4265873</td>\n      <td>Undergraduate</td>\n      <td>Gender &amp; Womens Studies</td>\n      <td>Gender &amp; Womens Studies</td>\n      <td>111</td>\n      <td>Primary</td>\n      <td>2</td>\n      <td>14306</td>\n      <td>14306.0</td>\n      <td>Special Topics</td>\n      <td>NaN</td>\n      <td>A</td>\n      <td>Letter Grade</td>\n      <td>A</td>\n      <td>4.0</td>\n      <td>4.0</td>\n    </tr>\n    <tr>\n      <th>22697</th>\n      <td>2019 Summer</td>\n      <td>4266391</td>\n      <td>Undergraduate</td>\n      <td>Design Innovation</td>\n      <td>Design Innovation</td>\n      <td>22</td>\n      <td>Primary</td>\n      <td>1</td>\n      <td>14718</td>\n      <td>14718.0</td>\n      <td>Prototype &amp; Fab</td>\n      <td>NaN</td>\n      <td>B</td>\n      <td>Letter Grade</td>\n      <td>B</td>\n      <td>3.0</td>\n      <td>3.0</td>\n    </tr>\n  </tbody>\n</table>\n<p>12520 rows × 17 columns</p>\n</div>"
     },
     "metadata": {},
     "execution_count": 17
    }
   ],
   "source": [
    "#get ppsks of students from jacobs and find other classes they take\n",
    "# how many units students take\n",
    "#all_jacobs = student_courses\n",
    "all_jacobs"
   ]
  },
  {
   "cell_type": "code",
   "execution_count": null,
   "metadata": {},
   "outputs": [],
   "source": []
  }
 ],
 "metadata": {
  "kernelspec": {
   "name": "python3",
   "display_name": "Python 3",
   "language": "python"
  },
  "language_info": {
   "codemirror_mode": {
    "name": "ipython",
    "version": 3
   },
   "file_extension": ".py",
   "mimetype": "text/x-python",
   "name": "python",
   "nbconvert_exporter": "python",
   "pygments_lexer": "ipython3",
   "version": "3.8.2"
  }
 },
 "nbformat": 4,
 "nbformat_minor": 2
}