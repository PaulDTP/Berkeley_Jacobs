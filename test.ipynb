{
 "cells": [
  {
   "cell_type": "code",
   "execution_count": 1,
   "metadata": {},
   "outputs": [],
   "source": [
    "import pandas as pd\n",
    "import numpy as np\n",
    "import seaborn as sns\n",
    "import matplotlib.pyplot as plt\n",
    "import glob"
   ]
  },
  {
   "cell_type": "code",
   "execution_count": 2,
   "metadata": {},
   "outputs": [],
   "source": [
    "#if you upload a zip file to JupyterLab:\n",
    "#import zipfile as zf\n",
    "#files = zf.ZipFile(\"/home/jovyan/data.zip\", 'r')\n",
    "#files.extractall('/home/jovyan/')\n",
    "#files.close()"
   ]
  },
  {
   "cell_type": "code",
   "execution_count": 3,
   "metadata": {},
   "outputs": [],
   "source": [
    "df = pd.DataFrame()\n",
    "initial = \"/content/drive/MyDrive/Colab Notebooks/\" \n",
    "#initial = \"\"\n",
    "all_files = glob.glob(initial + \"data/*\")\n",
    "course_data = glob.glob(initial + \"data/uc.berkeley.student.course.data.*.txt\")\n",
    "majors = glob.glob(initial + \"data/uc.berkeley.student.majors.*.txt\")\n",
    "pathways = glob.glob(initial + \"data/uc.berkeley.stem.*.txt\")\n",
    "passes = glob.glob(initial + \"data/jacobs.*\")"
   ]
  },
  {
   "cell_type": "code",
   "execution_count": 4,
   "metadata": {},
   "outputs": [
    {
     "output_type": "execute_result",
     "data": {
      "text/plain": [
       "['/content/drive/MyDrive/Colab Notebooks/data/jacobs.participants.txt']"
      ]
     },
     "metadata": {},
     "execution_count": 4
    }
   ],
   "source": [
    "# cell to check files added to variables\n",
    "passes"
   ]
  },
  {
   "cell_type": "code",
   "execution_count": 5,
   "metadata": {},
   "outputs": [
    {
     "output_type": "stream",
     "name": "stderr",
     "text": [
      "/usr/local/lib/python3.7/dist-packages/IPython/core/interactiveshell.py:2822: DtypeWarning: Columns (33,43,44,50,51,53,55,56,57,58,59,60,61,62,63,64,65,66,67,72,73,74,75,76,77,78,79,80,81,82,83,89,90,92,93,94,95,96,97,98,99,100,101,102,103) have mixed types.Specify dtype option on import or set low_memory=False.\n  if self.run_code(code, result):\n"
     ]
    },
    {
     "output_type": "execute_result",
     "data": {
      "text/plain": [
       "          ppsk  count  ...  degree.department.4 degree.major.4\n",
       "0      1023906      1  ...                  NaN            NaN\n",
       "1       161295      1  ...                  NaN            NaN\n",
       "2       183848      1  ...                  NaN            NaN\n",
       "3       232294      1  ...                  NaN            NaN\n",
       "4       225526      1  ...                  NaN            NaN\n",
       "...        ...    ...  ...                  ...            ...\n",
       "80503  2854707      1  ...                  NaN            NaN\n",
       "80504  2855617      1  ...                  NaN            NaN\n",
       "80505  2855618      1  ...                  NaN            NaN\n",
       "80506  2855940      1  ...                  NaN            NaN\n",
       "80507  2855983      1  ...                  NaN            NaN\n",
       "\n",
       "[80508 rows x 108 columns]"
      ],
      "text/html": "<div>\n<style scoped>\n    .dataframe tbody tr th:only-of-type {\n        vertical-align: middle;\n    }\n\n    .dataframe tbody tr th {\n        vertical-align: top;\n    }\n\n    .dataframe thead th {\n        text-align: right;\n    }\n</style>\n<table border=\"1\" class=\"dataframe\">\n  <thead>\n    <tr style=\"text-align: right;\">\n      <th></th>\n      <th>ppsk</th>\n      <th>count</th>\n      <th>year</th>\n      <th>term</th>\n      <th>entry</th>\n      <th>residency</th>\n      <th>gender</th>\n      <th>ethnic.l1</th>\n      <th>ethnic.l2</th>\n      <th>ethnic.l3</th>\n      <th>probation.year.1</th>\n      <th>GradYr</th>\n      <th>RetainY1</th>\n      <th>RetainY2</th>\n      <th>RetainY3</th>\n      <th>RetainY4</th>\n      <th>RetainY5</th>\n      <th>RetainY6</th>\n      <th>hs.gpa.unweighted</th>\n      <th>hs.gpa.weighted</th>\n      <th>sat.total</th>\n      <th>sat.math</th>\n      <th>sat.verbal</th>\n      <th>sat.writing</th>\n      <th>act.composite</th>\n      <th>act.english</th>\n      <th>act.writing</th>\n      <th>act.math</th>\n      <th>act.reading</th>\n      <th>act.science</th>\n      <th>first.generation.college.1</th>\n      <th>first.generation.college.2</th>\n      <th>hs.api</th>\n      <th>ceeb</th>\n      <th>income.parent</th>\n      <th>income.student</th>\n      <th>major.intended.college</th>\n      <th>major.intended.division</th>\n      <th>major.intended.department</th>\n      <th>esl</th>\n      <th>...</th>\n      <th>final.major.college.2</th>\n      <th>final.major.division.2</th>\n      <th>final.major.department.2</th>\n      <th>final.major.major.2</th>\n      <th>first.major.college.3</th>\n      <th>first.major.division.3</th>\n      <th>first.major.department.3</th>\n      <th>first.major.major.3</th>\n      <th>final.major.college.3</th>\n      <th>final.major.division.3</th>\n      <th>final.major.department.3</th>\n      <th>final.major.major.3</th>\n      <th>first.major.college.4</th>\n      <th>first.major.division.4</th>\n      <th>first.major.department.4</th>\n      <th>first.major.major.4</th>\n      <th>final.major.college.4</th>\n      <th>final.major.division.4</th>\n      <th>final.major.department.4</th>\n      <th>final.major.major.4</th>\n      <th>year.degree</th>\n      <th>term.degree</th>\n      <th>academic.year.degree</th>\n      <th>gpa.cum.degree</th>\n      <th>degree.college.1</th>\n      <th>degree.division.1</th>\n      <th>degree.department.1</th>\n      <th>degree.major.1</th>\n      <th>degree.college.2</th>\n      <th>degree.division.2</th>\n      <th>degree.department.2</th>\n      <th>degree.major.2</th>\n      <th>degree.college.3</th>\n      <th>degree.division.3</th>\n      <th>degree.department.3</th>\n      <th>degree.major.3</th>\n      <th>degree.college.4</th>\n      <th>degree.division.4</th>\n      <th>degree.department.4</th>\n      <th>degree.major.4</th>\n    </tr>\n  </thead>\n  <tbody>\n    <tr>\n      <th>0</th>\n      <td>1023906</td>\n      <td>1</td>\n      <td>2011</td>\n      <td>Fall</td>\n      <td>ADVANCED STANDING</td>\n      <td>Resident</td>\n      <td>Female</td>\n      <td>Underrepresented Minority</td>\n      <td>African American</td>\n      <td>African American/Black</td>\n      <td>N</td>\n      <td>3.0</td>\n      <td>Y</td>\n      <td>Y</td>\n      <td>Y</td>\n      <td>Y</td>\n      <td>Y</td>\n      <td>N</td>\n      <td>NaN</td>\n      <td>NaN</td>\n      <td>NaN</td>\n      <td>NaN</td>\n      <td>NaN</td>\n      <td>NaN</td>\n      <td>NaN</td>\n      <td>NaN</td>\n      <td>NaN</td>\n      <td>NaN</td>\n      <td>NaN</td>\n      <td>NaN</td>\n      <td>N</td>\n      <td>N</td>\n      <td>NaN</td>\n      <td>4052</td>\n      <td>NaN</td>\n      <td>26000.0</td>\n      <td>Clg of Environmental Design</td>\n      <td>Clg of Environmental Design</td>\n      <td>Landscape Arch &amp; Env Plan</td>\n      <td>English+Other</td>\n      <td>...</td>\n      <td>NaN</td>\n      <td>NaN</td>\n      <td>NaN</td>\n      <td>NaN</td>\n      <td>Clg of Env Design</td>\n      <td>Clg of Env Design</td>\n      <td>Landscape Arch &amp; Env Plan</td>\n      <td>Landscape Architecture</td>\n      <td>Clg of Natural Resources</td>\n      <td>Clg of Natural Resources</td>\n      <td>Env Sci, Policy, &amp; Mgmt</td>\n      <td>Conserv &amp; Resource Stds</td>\n      <td>NaN</td>\n      <td>NaN</td>\n      <td>NaN</td>\n      <td>NaN</td>\n      <td>NaN</td>\n      <td>NaN</td>\n      <td>NaN</td>\n      <td>NaN</td>\n      <td>2014.0</td>\n      <td>Spring</td>\n      <td>2013-14</td>\n      <td>3.871</td>\n      <td>Clg of Environmental Design</td>\n      <td>Clg of Environmental Design</td>\n      <td>Landscape Arch &amp; Env Plan</td>\n      <td>Landscape Architecture</td>\n      <td>Clg of Natural Resources</td>\n      <td>Clg of Natural Resources</td>\n      <td>Env Sci, Policy, &amp; Mgmt</td>\n      <td>Conserv &amp; Resource Stds</td>\n      <td>NaN</td>\n      <td>NaN</td>\n      <td>NaN</td>\n      <td>NaN</td>\n      <td>NaN</td>\n      <td>NaN</td>\n      <td>NaN</td>\n      <td>NaN</td>\n    </tr>\n    <tr>\n      <th>1</th>\n      <td>161295</td>\n      <td>1</td>\n      <td>2015</td>\n      <td>Fall</td>\n      <td>ADVANCED STANDING</td>\n      <td>Resident</td>\n      <td>Male</td>\n      <td>White/Other</td>\n      <td>White</td>\n      <td>White</td>\n      <td>N</td>\n      <td>NaN</td>\n      <td>Y</td>\n      <td>N</td>\n      <td>N</td>\n      <td>N</td>\n      <td>N</td>\n      <td>N</td>\n      <td>NaN</td>\n      <td>NaN</td>\n      <td>NaN</td>\n      <td>NaN</td>\n      <td>NaN</td>\n      <td>NaN</td>\n      <td>NaN</td>\n      <td>NaN</td>\n      <td>NaN</td>\n      <td>NaN</td>\n      <td>NaN</td>\n      <td>NaN</td>\n      <td>N</td>\n      <td>N</td>\n      <td>NaN</td>\n      <td>7711</td>\n      <td>NaN</td>\n      <td>90000.0</td>\n      <td>Clg of Environmental Design</td>\n      <td>Clg of Environmental Design</td>\n      <td>City &amp; Regional Planning</td>\n      <td>English</td>\n      <td>...</td>\n      <td>NaN</td>\n      <td>NaN</td>\n      <td>NaN</td>\n      <td>NaN</td>\n      <td>NaN</td>\n      <td>NaN</td>\n      <td>NaN</td>\n      <td>NaN</td>\n      <td>NaN</td>\n      <td>NaN</td>\n      <td>NaN</td>\n      <td>NaN</td>\n      <td>NaN</td>\n      <td>NaN</td>\n      <td>NaN</td>\n      <td>NaN</td>\n      <td>NaN</td>\n      <td>NaN</td>\n      <td>NaN</td>\n      <td>NaN</td>\n      <td>NaN</td>\n      <td>NaN</td>\n      <td>NaN</td>\n      <td>NaN</td>\n      <td>NaN</td>\n      <td>NaN</td>\n      <td>NaN</td>\n      <td>NaN</td>\n      <td>NaN</td>\n      <td>NaN</td>\n      <td>NaN</td>\n      <td>NaN</td>\n      <td>NaN</td>\n      <td>NaN</td>\n      <td>NaN</td>\n      <td>NaN</td>\n      <td>NaN</td>\n      <td>NaN</td>\n      <td>NaN</td>\n      <td>NaN</td>\n    </tr>\n    <tr>\n      <th>2</th>\n      <td>183848</td>\n      <td>1</td>\n      <td>2010</td>\n      <td>Spring</td>\n      <td>ADVANCED STANDING</td>\n      <td>Resident</td>\n      <td>Male</td>\n      <td>White/Other</td>\n      <td>White</td>\n      <td>White</td>\n      <td>N</td>\n      <td>2.0</td>\n      <td>Y</td>\n      <td>Y</td>\n      <td>Y</td>\n      <td>Y</td>\n      <td>Y</td>\n      <td>Y</td>\n      <td>NaN</td>\n      <td>NaN</td>\n      <td>NaN</td>\n      <td>NaN</td>\n      <td>NaN</td>\n      <td>NaN</td>\n      <td>NaN</td>\n      <td>NaN</td>\n      <td>NaN</td>\n      <td>NaN</td>\n      <td>NaN</td>\n      <td>NaN</td>\n      <td>U</td>\n      <td>U</td>\n      <td>NaN</td>\n      <td>4061</td>\n      <td>NaN</td>\n      <td>32000.0</td>\n      <td>Clg of Letters &amp; Science</td>\n      <td>L&amp;S Arts &amp; Humanities Division</td>\n      <td>Art Practice</td>\n      <td>-</td>\n      <td>...</td>\n      <td>NaN</td>\n      <td>NaN</td>\n      <td>NaN</td>\n      <td>NaN</td>\n      <td>Clg of Letters &amp; Science</td>\n      <td>L&amp;S-Arts &amp; Humanities Div</td>\n      <td>Art Practice</td>\n      <td>Art Practice</td>\n      <td>NaN</td>\n      <td>NaN</td>\n      <td>NaN</td>\n      <td>NaN</td>\n      <td>NaN</td>\n      <td>NaN</td>\n      <td>NaN</td>\n      <td>NaN</td>\n      <td>NaN</td>\n      <td>NaN</td>\n      <td>NaN</td>\n      <td>NaN</td>\n      <td>2011.0</td>\n      <td>Fall</td>\n      <td>2011-12</td>\n      <td>3.977</td>\n      <td>Clg of Letters &amp; Science</td>\n      <td>L&amp;S Arts &amp; Humanities Division</td>\n      <td>Art Practice</td>\n      <td>Art</td>\n      <td>NaN</td>\n      <td>NaN</td>\n      <td>NaN</td>\n      <td>NaN</td>\n      <td>NaN</td>\n      <td>NaN</td>\n      <td>NaN</td>\n      <td>NaN</td>\n      <td>NaN</td>\n      <td>NaN</td>\n      <td>NaN</td>\n      <td>NaN</td>\n    </tr>\n    <tr>\n      <th>3</th>\n      <td>232294</td>\n      <td>1</td>\n      <td>2009</td>\n      <td>Fall</td>\n      <td>ADVANCED STANDING</td>\n      <td>Resident</td>\n      <td>Female</td>\n      <td>White/Other</td>\n      <td>Other/Decline to State</td>\n      <td>Decline to State</td>\n      <td>N</td>\n      <td>2.5</td>\n      <td>Y</td>\n      <td>Y</td>\n      <td>Y</td>\n      <td>Y</td>\n      <td>Y</td>\n      <td>Y</td>\n      <td>NaN</td>\n      <td>NaN</td>\n      <td>NaN</td>\n      <td>NaN</td>\n      <td>NaN</td>\n      <td>NaN</td>\n      <td>NaN</td>\n      <td>NaN</td>\n      <td>NaN</td>\n      <td>NaN</td>\n      <td>NaN</td>\n      <td>NaN</td>\n      <td>N</td>\n      <td>N</td>\n      <td>NaN</td>\n      <td>4052</td>\n      <td>NaN</td>\n      <td>39003.0</td>\n      <td>Clg of Letters &amp; Science</td>\n      <td>L&amp;S Arts &amp; Humanities Division</td>\n      <td>Slavic Languages &amp; Literatures</td>\n      <td>-</td>\n      <td>...</td>\n      <td>NaN</td>\n      <td>NaN</td>\n      <td>NaN</td>\n      <td>NaN</td>\n      <td>Clg of Letters &amp; Science</td>\n      <td>L&amp;S-Arts &amp; Humanities Div</td>\n      <td>Slavic Languages &amp; Lit</td>\n      <td>Slavic Lang &amp; Lit</td>\n      <td>NaN</td>\n      <td>NaN</td>\n      <td>NaN</td>\n      <td>NaN</td>\n      <td>NaN</td>\n      <td>NaN</td>\n      <td>NaN</td>\n      <td>NaN</td>\n      <td>NaN</td>\n      <td>NaN</td>\n      <td>NaN</td>\n      <td>NaN</td>\n      <td>2011.0</td>\n      <td>Fall</td>\n      <td>2011-12</td>\n      <td>3.939</td>\n      <td>Clg of Letters &amp; Science</td>\n      <td>L&amp;S Arts &amp; Humanities Division</td>\n      <td>Slavic Languages &amp; Literatures</td>\n      <td>Slavic Lang &amp; Lit</td>\n      <td>NaN</td>\n      <td>NaN</td>\n      <td>NaN</td>\n      <td>NaN</td>\n      <td>NaN</td>\n      <td>NaN</td>\n      <td>NaN</td>\n      <td>NaN</td>\n      <td>NaN</td>\n      <td>NaN</td>\n      <td>NaN</td>\n      <td>NaN</td>\n    </tr>\n    <tr>\n      <th>4</th>\n      <td>225526</td>\n      <td>1</td>\n      <td>2010</td>\n      <td>Fall</td>\n      <td>ADVANCED STANDING</td>\n      <td>Resident</td>\n      <td>Female</td>\n      <td>White/Other</td>\n      <td>White</td>\n      <td>White</td>\n      <td>N</td>\n      <td>2.0</td>\n      <td>Y</td>\n      <td>Y</td>\n      <td>Y</td>\n      <td>Y</td>\n      <td>Y</td>\n      <td>Y</td>\n      <td>NaN</td>\n      <td>NaN</td>\n      <td>NaN</td>\n      <td>NaN</td>\n      <td>NaN</td>\n      <td>NaN</td>\n      <td>NaN</td>\n      <td>NaN</td>\n      <td>NaN</td>\n      <td>NaN</td>\n      <td>NaN</td>\n      <td>NaN</td>\n      <td>N</td>\n      <td>N</td>\n      <td>NaN</td>\n      <td>7711</td>\n      <td>NaN</td>\n      <td>NaN</td>\n      <td>Clg of Environmental Design</td>\n      <td>Clg of Environmental Design</td>\n      <td>Architecture</td>\n      <td>English</td>\n      <td>...</td>\n      <td>NaN</td>\n      <td>NaN</td>\n      <td>NaN</td>\n      <td>NaN</td>\n      <td>Clg of Env Design</td>\n      <td>Clg of Env Design</td>\n      <td>Architecture</td>\n      <td>Architecture</td>\n      <td>NaN</td>\n      <td>NaN</td>\n      <td>NaN</td>\n      <td>NaN</td>\n      <td>NaN</td>\n      <td>NaN</td>\n      <td>NaN</td>\n      <td>NaN</td>\n      <td>NaN</td>\n      <td>NaN</td>\n      <td>NaN</td>\n      <td>NaN</td>\n      <td>2012.0</td>\n      <td>Spring</td>\n      <td>2011-12</td>\n      <td>2.972</td>\n      <td>Clg of Environmental Design</td>\n      <td>Clg of Environmental Design</td>\n      <td>Architecture</td>\n      <td>Architecture</td>\n      <td>NaN</td>\n      <td>NaN</td>\n      <td>NaN</td>\n      <td>NaN</td>\n      <td>NaN</td>\n      <td>NaN</td>\n      <td>NaN</td>\n      <td>NaN</td>\n      <td>NaN</td>\n      <td>NaN</td>\n      <td>NaN</td>\n      <td>NaN</td>\n    </tr>\n    <tr>\n      <th>...</th>\n      <td>...</td>\n      <td>...</td>\n      <td>...</td>\n      <td>...</td>\n      <td>...</td>\n      <td>...</td>\n      <td>...</td>\n      <td>...</td>\n      <td>...</td>\n      <td>...</td>\n      <td>...</td>\n      <td>...</td>\n      <td>...</td>\n      <td>...</td>\n      <td>...</td>\n      <td>...</td>\n      <td>...</td>\n      <td>...</td>\n      <td>...</td>\n      <td>...</td>\n      <td>...</td>\n      <td>...</td>\n      <td>...</td>\n      <td>...</td>\n      <td>...</td>\n      <td>...</td>\n      <td>...</td>\n      <td>...</td>\n      <td>...</td>\n      <td>...</td>\n      <td>...</td>\n      <td>...</td>\n      <td>...</td>\n      <td>...</td>\n      <td>...</td>\n      <td>...</td>\n      <td>...</td>\n      <td>...</td>\n      <td>...</td>\n      <td>...</td>\n      <td>...</td>\n      <td>...</td>\n      <td>...</td>\n      <td>...</td>\n      <td>...</td>\n      <td>...</td>\n      <td>...</td>\n      <td>...</td>\n      <td>...</td>\n      <td>...</td>\n      <td>...</td>\n      <td>...</td>\n      <td>...</td>\n      <td>...</td>\n      <td>...</td>\n      <td>...</td>\n      <td>...</td>\n      <td>...</td>\n      <td>...</td>\n      <td>...</td>\n      <td>...</td>\n      <td>...</td>\n      <td>...</td>\n      <td>...</td>\n      <td>...</td>\n      <td>...</td>\n      <td>...</td>\n      <td>...</td>\n      <td>...</td>\n      <td>...</td>\n      <td>...</td>\n      <td>...</td>\n      <td>...</td>\n      <td>...</td>\n      <td>...</td>\n      <td>...</td>\n      <td>...</td>\n      <td>...</td>\n      <td>...</td>\n      <td>...</td>\n      <td>...</td>\n    </tr>\n    <tr>\n      <th>80503</th>\n      <td>2854707</td>\n      <td>1</td>\n      <td>2016</td>\n      <td>Fall</td>\n      <td>NEW FRESHMEN</td>\n      <td>Nonresident</td>\n      <td>Male</td>\n      <td>International</td>\n      <td>International</td>\n      <td>International</td>\n      <td>N</td>\n      <td>NaN</td>\n      <td>N</td>\n      <td>N</td>\n      <td>N</td>\n      <td>N</td>\n      <td>N</td>\n      <td>N</td>\n      <td>3.00</td>\n      <td>3.33</td>\n      <td>1050.0</td>\n      <td>560.0</td>\n      <td>500.0</td>\n      <td>420.0</td>\n      <td>NaN</td>\n      <td>NaN</td>\n      <td>NaN</td>\n      <td>NaN</td>\n      <td>NaN</td>\n      <td>NaN</td>\n      <td>N</td>\n      <td>N</td>\n      <td>NaN</td>\n      <td>825997</td>\n      <td>110000.0</td>\n      <td>NaN</td>\n      <td>Clg of Letters &amp; Science</td>\n      <td>L&amp;S Undeclared</td>\n      <td>L&amp;S Undeclared</td>\n      <td>Other</td>\n      <td>...</td>\n      <td>NaN</td>\n      <td>NaN</td>\n      <td>NaN</td>\n      <td>NaN</td>\n      <td>NaN</td>\n      <td>NaN</td>\n      <td>NaN</td>\n      <td>NaN</td>\n      <td>NaN</td>\n      <td>NaN</td>\n      <td>NaN</td>\n      <td>NaN</td>\n      <td>NaN</td>\n      <td>NaN</td>\n      <td>NaN</td>\n      <td>NaN</td>\n      <td>NaN</td>\n      <td>NaN</td>\n      <td>NaN</td>\n      <td>NaN</td>\n      <td>NaN</td>\n      <td>NaN</td>\n      <td>NaN</td>\n      <td>NaN</td>\n      <td>NaN</td>\n      <td>NaN</td>\n      <td>NaN</td>\n      <td>NaN</td>\n      <td>NaN</td>\n      <td>NaN</td>\n      <td>NaN</td>\n      <td>NaN</td>\n      <td>NaN</td>\n      <td>NaN</td>\n      <td>NaN</td>\n      <td>NaN</td>\n      <td>NaN</td>\n      <td>NaN</td>\n      <td>NaN</td>\n      <td>NaN</td>\n    </tr>\n    <tr>\n      <th>80504</th>\n      <td>2855617</td>\n      <td>1</td>\n      <td>2016</td>\n      <td>Fall</td>\n      <td>NEW FRESHMEN</td>\n      <td>Resident</td>\n      <td>Female</td>\n      <td>Underrepresented Minority</td>\n      <td>African American</td>\n      <td>African American/Black</td>\n      <td>N</td>\n      <td>NaN</td>\n      <td>N</td>\n      <td>N</td>\n      <td>N</td>\n      <td>N</td>\n      <td>N</td>\n      <td>N</td>\n      <td>2.89</td>\n      <td>2.89</td>\n      <td>830.0</td>\n      <td>430.0</td>\n      <td>400.0</td>\n      <td>410.0</td>\n      <td>NaN</td>\n      <td>NaN</td>\n      <td>NaN</td>\n      <td>NaN</td>\n      <td>NaN</td>\n      <td>NaN</td>\n      <td>N</td>\n      <td>N</td>\n      <td>NaN</td>\n      <td>53435</td>\n      <td>80000.0</td>\n      <td>NaN</td>\n      <td>Clg of Letters &amp; Science</td>\n      <td>L&amp;S Undeclared</td>\n      <td>L&amp;S Undeclared</td>\n      <td>English</td>\n      <td>...</td>\n      <td>NaN</td>\n      <td>NaN</td>\n      <td>NaN</td>\n      <td>NaN</td>\n      <td>NaN</td>\n      <td>NaN</td>\n      <td>NaN</td>\n      <td>NaN</td>\n      <td>NaN</td>\n      <td>NaN</td>\n      <td>NaN</td>\n      <td>NaN</td>\n      <td>NaN</td>\n      <td>NaN</td>\n      <td>NaN</td>\n      <td>NaN</td>\n      <td>NaN</td>\n      <td>NaN</td>\n      <td>NaN</td>\n      <td>NaN</td>\n      <td>NaN</td>\n      <td>NaN</td>\n      <td>NaN</td>\n      <td>NaN</td>\n      <td>NaN</td>\n      <td>NaN</td>\n      <td>NaN</td>\n      <td>NaN</td>\n      <td>NaN</td>\n      <td>NaN</td>\n      <td>NaN</td>\n      <td>NaN</td>\n      <td>NaN</td>\n      <td>NaN</td>\n      <td>NaN</td>\n      <td>NaN</td>\n      <td>NaN</td>\n      <td>NaN</td>\n      <td>NaN</td>\n      <td>NaN</td>\n    </tr>\n    <tr>\n      <th>80505</th>\n      <td>2855618</td>\n      <td>1</td>\n      <td>2016</td>\n      <td>Fall</td>\n      <td>ADVANCED STANDING</td>\n      <td>Nonresident</td>\n      <td>Male</td>\n      <td>International</td>\n      <td>International</td>\n      <td>International</td>\n      <td>N</td>\n      <td>NaN</td>\n      <td>N</td>\n      <td>N</td>\n      <td>N</td>\n      <td>N</td>\n      <td>N</td>\n      <td>N</td>\n      <td>NaN</td>\n      <td>NaN</td>\n      <td>NaN</td>\n      <td>NaN</td>\n      <td>NaN</td>\n      <td>NaN</td>\n      <td>NaN</td>\n      <td>NaN</td>\n      <td>NaN</td>\n      <td>NaN</td>\n      <td>NaN</td>\n      <td>NaN</td>\n      <td>N</td>\n      <td>N</td>\n      <td>NaN</td>\n      <td>6043</td>\n      <td>NaN</td>\n      <td>88810.0</td>\n      <td>Clg of Letters &amp; Science</td>\n      <td>L&amp;S Undeclared</td>\n      <td>L&amp;S Undeclared</td>\n      <td>English+Other</td>\n      <td>...</td>\n      <td>NaN</td>\n      <td>NaN</td>\n      <td>NaN</td>\n      <td>NaN</td>\n      <td>NaN</td>\n      <td>NaN</td>\n      <td>NaN</td>\n      <td>NaN</td>\n      <td>NaN</td>\n      <td>NaN</td>\n      <td>NaN</td>\n      <td>NaN</td>\n      <td>NaN</td>\n      <td>NaN</td>\n      <td>NaN</td>\n      <td>NaN</td>\n      <td>NaN</td>\n      <td>NaN</td>\n      <td>NaN</td>\n      <td>NaN</td>\n      <td>NaN</td>\n      <td>NaN</td>\n      <td>NaN</td>\n      <td>NaN</td>\n      <td>NaN</td>\n      <td>NaN</td>\n      <td>NaN</td>\n      <td>NaN</td>\n      <td>NaN</td>\n      <td>NaN</td>\n      <td>NaN</td>\n      <td>NaN</td>\n      <td>NaN</td>\n      <td>NaN</td>\n      <td>NaN</td>\n      <td>NaN</td>\n      <td>NaN</td>\n      <td>NaN</td>\n      <td>NaN</td>\n      <td>NaN</td>\n    </tr>\n    <tr>\n      <th>80506</th>\n      <td>2855940</td>\n      <td>1</td>\n      <td>2016</td>\n      <td>Fall</td>\n      <td>ADVANCED STANDING</td>\n      <td>Resident</td>\n      <td>Male</td>\n      <td>Underrepresented Minority</td>\n      <td>Chicano/Latino</td>\n      <td>Mexican American/Chicano</td>\n      <td>N</td>\n      <td>NaN</td>\n      <td>N</td>\n      <td>N</td>\n      <td>N</td>\n      <td>N</td>\n      <td>N</td>\n      <td>N</td>\n      <td>NaN</td>\n      <td>NaN</td>\n      <td>NaN</td>\n      <td>NaN</td>\n      <td>NaN</td>\n      <td>NaN</td>\n      <td>NaN</td>\n      <td>NaN</td>\n      <td>NaN</td>\n      <td>NaN</td>\n      <td>NaN</td>\n      <td>NaN</td>\n      <td>Y</td>\n      <td>Y</td>\n      <td>NaN</td>\n      <td>7587</td>\n      <td>108000.0</td>\n      <td>NaN</td>\n      <td>Clg of Letters &amp; Science</td>\n      <td>L&amp;S Undergrad Studies Division</td>\n      <td>UG Interdisciplinary Studies</td>\n      <td>English</td>\n      <td>...</td>\n      <td>NaN</td>\n      <td>NaN</td>\n      <td>NaN</td>\n      <td>NaN</td>\n      <td>NaN</td>\n      <td>NaN</td>\n      <td>NaN</td>\n      <td>NaN</td>\n      <td>NaN</td>\n      <td>NaN</td>\n      <td>NaN</td>\n      <td>NaN</td>\n      <td>NaN</td>\n      <td>NaN</td>\n      <td>NaN</td>\n      <td>NaN</td>\n      <td>NaN</td>\n      <td>NaN</td>\n      <td>NaN</td>\n      <td>NaN</td>\n      <td>NaN</td>\n      <td>NaN</td>\n      <td>NaN</td>\n      <td>NaN</td>\n      <td>NaN</td>\n      <td>NaN</td>\n      <td>NaN</td>\n      <td>NaN</td>\n      <td>NaN</td>\n      <td>NaN</td>\n      <td>NaN</td>\n      <td>NaN</td>\n      <td>NaN</td>\n      <td>NaN</td>\n      <td>NaN</td>\n      <td>NaN</td>\n      <td>NaN</td>\n      <td>NaN</td>\n      <td>NaN</td>\n      <td>NaN</td>\n    </tr>\n    <tr>\n      <th>80507</th>\n      <td>2855983</td>\n      <td>1</td>\n      <td>2016</td>\n      <td>Fall</td>\n      <td>ADVANCED STANDING</td>\n      <td>Resident</td>\n      <td>Male</td>\n      <td>White/Other</td>\n      <td>White</td>\n      <td>White</td>\n      <td>N</td>\n      <td>NaN</td>\n      <td>N</td>\n      <td>N</td>\n      <td>N</td>\n      <td>N</td>\n      <td>N</td>\n      <td>N</td>\n      <td>NaN</td>\n      <td>NaN</td>\n      <td>NaN</td>\n      <td>NaN</td>\n      <td>NaN</td>\n      <td>NaN</td>\n      <td>NaN</td>\n      <td>NaN</td>\n      <td>NaN</td>\n      <td>NaN</td>\n      <td>NaN</td>\n      <td>NaN</td>\n      <td>N</td>\n      <td>N</td>\n      <td>NaN</td>\n      <td>4837</td>\n      <td>NaN</td>\n      <td>NaN</td>\n      <td>Clg of Letters &amp; Science</td>\n      <td>L&amp;S Undeclared</td>\n      <td>L&amp;S Undeclared</td>\n      <td>English</td>\n      <td>...</td>\n      <td>NaN</td>\n      <td>NaN</td>\n      <td>NaN</td>\n      <td>NaN</td>\n      <td>NaN</td>\n      <td>NaN</td>\n      <td>NaN</td>\n      <td>NaN</td>\n      <td>NaN</td>\n      <td>NaN</td>\n      <td>NaN</td>\n      <td>NaN</td>\n      <td>NaN</td>\n      <td>NaN</td>\n      <td>NaN</td>\n      <td>NaN</td>\n      <td>NaN</td>\n      <td>NaN</td>\n      <td>NaN</td>\n      <td>NaN</td>\n      <td>NaN</td>\n      <td>NaN</td>\n      <td>NaN</td>\n      <td>NaN</td>\n      <td>NaN</td>\n      <td>NaN</td>\n      <td>NaN</td>\n      <td>NaN</td>\n      <td>NaN</td>\n      <td>NaN</td>\n      <td>NaN</td>\n      <td>NaN</td>\n      <td>NaN</td>\n      <td>NaN</td>\n      <td>NaN</td>\n      <td>NaN</td>\n      <td>NaN</td>\n      <td>NaN</td>\n      <td>NaN</td>\n      <td>NaN</td>\n    </tr>\n  </tbody>\n</table>\n<p>80508 rows × 108 columns</p>\n</div>"
     },
     "metadata": {},
     "execution_count": 5
    }
   ],
   "source": [
    "stem_path = pd.read_table(pathways[0])\n",
    "stem_path"
   ]
  },
  {
   "cell_type": "code",
   "execution_count": 7,
   "metadata": {},
   "outputs": [
    {
     "output_type": "stream",
     "name": "stderr",
     "text": [
      "/usr/local/lib/python3.7/dist-packages/IPython/core/interactiveshell.py:2822: DtypeWarning: Columns (7) have mixed types.Specify dtype option on import or set low_memory=False.\n",
      "  if self.run_code(code, result):\n",
      "/usr/local/lib/python3.7/dist-packages/IPython/core/interactiveshell.py:2822: DtypeWarning: Columns (8) have mixed types.Specify dtype option on import or set low_memory=False.\n",
      "  if self.run_code(code, result):\n"
     ]
    }
   ],
   "source": [
    "# Be aware, this cell is very resource intensive\n",
    "course_data.sort()\n",
    "student_courses = pd.DataFrame()\n",
    "for f in course_data:\n",
    "    #temp = pd.read_table(f)\n",
    "    # looking at only DESINV courses\n",
    "    #if(temp['year'] >= 2015):\n",
    "    student_courses = student_courses.append(pd.read_table(f))\n",
    "\n",
    "# minor data cleaning and storing student_courses\n",
    "student_courses = student_courses[~student_courses['ppsk'].isnull()]\n",
    "student_courses = student_courses[student_courses['ppsk'] != -1]\n",
    "for i in student_courses.columns:\n",
    "    if student_courses[i].isnull().all():\n",
    "        student_courses.drop(i,axis=1,inplace=True)\n",
    "student_courses['ppsk'] = student_courses['ppsk'].astype(int)\n",
    "%store student_courses"
   ]
  },
  {
   "cell_type": "code",
   "execution_count": 33,
   "metadata": {},
   "outputs": [
    {
     "output_type": "execute_result",
     "data": {
      "text/plain": [
       "['/content/drive/MyDrive/Colab Notebooks/data/uc.berkeley.student.majors.2007.2017.txt',\n",
       " '/content/drive/MyDrive/Colab Notebooks/data/uc.berkeley.student.majors.2018.txt',\n",
       " '/content/drive/MyDrive/Colab Notebooks/data/uc.berkeley.student.majors.2019.txt',\n",
       " '/content/drive/MyDrive/Colab Notebooks/data/uc.berkeley.student.majors.2020.txt']"
      ]
     },
     "metadata": {},
     "execution_count": 33
    }
   ],
   "source": [
    "majors"
   ]
  },
  {
   "cell_type": "code",
   "execution_count": 32,
   "metadata": {},
   "outputs": [
    {
     "output_type": "execute_result",
     "data": {
      "text/plain": [
       "['/content/drive/MyDrive/Colab Notebooks/data/uc.berkeley.student.majors.2007.2017.txt',\n",
       " '/content/drive/MyDrive/Colab Notebooks/data/uc.berkeley.student.majors.2018.txt',\n",
       " '/content/drive/MyDrive/Colab Notebooks/data/uc.berkeley.student.majors.2019.txt',\n",
       " '/content/drive/MyDrive/Colab Notebooks/data/uc.berkeley.student.majors.2020.txt']"
      ]
     },
     "metadata": {},
     "execution_count": 32
    }
   ],
   "source": [
    "# Be aware, this cell is very resource intensive\n",
    "course_data.sort()\n",
    "student_majors = pd.DataFrame()\n",
    "for f in majors:\n",
    "    student_courses = student_courses.append(pd.read_table(f))\n",
    "\n",
    "# minor data cleaning and storing student_courses\n",
    "student_majors = student_majors[~student_majors['ppsk'].isnull()]\n",
    "student_majors = student_majors[student_majors['ppsk'] != -1]\n",
    "for i in student_majors.columns:\n",
    "    if student_majors[i].isnull().all():\n",
    "        student_majors.drop(i,axis=1,inplace=True)\n",
    "student_majors['ppsk'] = student_majors['ppsk'].astype(int)\n",
    "%store student_majors"
   ]
  },
  {
   "cell_type": "code",
   "execution_count": 29,
   "metadata": {},
   "outputs": [],
   "source": [
    "# every student who holds a maker pass\n",
    "maker_passes = pd.read_table(passes[0])\n",
    "maker_passes = maker_passes[maker_passes['ppsk'] != 'MISSING']\n",
    "#maker_passes = maker_passes['ppsk'].unique()\n",
    "\n",
    "# all students who took design innovation course\n",
    "jacobs = student_courses[student_courses[\"course.department\"] == \"Design Innovation\"]"
   ]
  },
  {
   "cell_type": "code",
   "execution_count": 30,
   "metadata": {},
   "outputs": [
    {
     "output_type": "execute_result",
     "data": {
      "text/plain": [
       "164       974383\n",
       "605      1474045\n",
       "1910     2418191\n",
       "2380     2420051\n",
       "2915     2423832\n",
       "          ...   \n",
       "21309    4262284\n",
       "21441    4262621\n",
       "22125    4264306\n",
       "22572    4265873\n",
       "22697    4266391\n",
       "Name: ppsk, Length: 783, dtype: int64"
      ]
     },
     "metadata": {},
     "execution_count": 30
    }
   ],
   "source": [
    "jacobs['ppsk']"
   ]
  },
  {
   "cell_type": "code",
   "execution_count": 11,
   "metadata": {},
   "outputs": [],
   "source": [
    "#temp = student_courses[student_courses['year.name'].str.split(\" \", expand=True)[0].astype(int) >= 2015]"
   ]
  },
  {
   "cell_type": "code",
   "execution_count": 31,
   "metadata": {},
   "outputs": [],
   "source": [
    "ppsks = maker_passes['ppsk']\n",
    "ppsks = ppsks.append(jacobs['ppsk']).unique()"
   ]
  },
  {
   "cell_type": "code",
   "execution_count": 28,
   "metadata": {},
   "outputs": [
    {
     "output_type": "execute_result",
     "data": {
      "text/plain": [
       "9096"
      ]
     },
     "metadata": {},
     "execution_count": 28
    }
   ],
   "source": [
    "all_jacobs = student_courses"
   ]
  },
  {
   "cell_type": "code",
   "execution_count": 13,
   "metadata": {},
   "outputs": [
    {
     "output_type": "execute_result",
     "data": {
      "text/plain": [
       "8449"
      ]
     },
     "metadata": {},
     "execution_count": 13
    }
   ],
   "source": [
    "len(maker_passes['ppsk'].unique())"
   ]
  },
  {
   "cell_type": "code",
   "execution_count": 14,
   "metadata": {},
   "outputs": [
    {
     "output_type": "execute_result",
     "data": {
      "text/plain": [
       "array(['2015 Fall', '2015 Spring', '2016 Spring', '2016 Fall',\n",
       "       '2017 Spring', '2017 Summer', '2017 Fall', '2018 Fall',\n",
       "       '2018 Spring', '2018 Summer', '2019 Fall', '2019 Spring',\n",
       "       '2019 Summer'], dtype=object)"
      ]
     },
     "metadata": {},
     "execution_count": 14
    }
   ],
   "source": [
    "student_courses[student_courses[\"course.subject\"] == \"Design Innovation\"]['year.name'].unique()"
   ]
  },
  {
   "cell_type": "code",
   "execution_count": 15,
   "metadata": {},
   "outputs": [
    {
     "output_type": "execute_result",
     "data": {
      "text/plain": [
       "93       2007 Summer\n",
       "94       2007 Summer\n",
       "95       2007 Summer\n",
       "96       2007 Summer\n",
       "97       2007 Summer\n",
       "            ...     \n",
       "23102    2019 Summer\n",
       "23103    2019 Summer\n",
       "23104    2019 Summer\n",
       "23105    2019 Summer\n",
       "23106    2019 Summer\n",
       "Name: year.name, Length: 5597609, dtype: object"
      ]
     },
     "metadata": {},
     "execution_count": 15
    }
   ],
   "source": [
    "student_courses['year.name']#.query('year >= 2015')"
   ]
  },
  {
   "cell_type": "code",
   "execution_count": 17,
   "metadata": {},
   "outputs": [
    {
     "output_type": "execute_result",
     "data": {
      "text/plain": [
       "array(['High Honors', 'Honors', 'Pass', 'Pass Conditional', 'Credit',\n",
       "       'Satisfactory', 'No Credit', 'Not Pass', 'Unsatisfactory'],\n",
       "      dtype=object)"
      ]
     },
     "metadata": {},
     "execution_count": 17
    }
   ],
   "source": [
    "student_courses[student_courses[['grade.subtype', 'grade.type', 'grade.name']]['grade.type'] == 'Non-Letter Grade']['grade.name'].unique()"
   ]
  },
  {
   "cell_type": "code",
   "execution_count": null,
   "metadata": {},
   "outputs": [],
   "source": []
  }
 ],
 "metadata": {
  "kernelspec": {
   "name": "python3",
   "display_name": "Python 3",
   "language": "python"
  },
  "language_info": {
   "codemirror_mode": {
    "name": "ipython",
    "version": 3
   },
   "file_extension": ".py",
   "mimetype": "text/x-python",
   "name": "python",
   "nbconvert_exporter": "python",
   "pygments_lexer": "ipython3",
   "version": "3.8.2-final"
  }
 },
 "nbformat": 4,
 "nbformat_minor": 2
}