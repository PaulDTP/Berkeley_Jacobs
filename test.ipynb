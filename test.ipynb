{
 "cells": [
  {
   "cell_type": "code",
   "execution_count": 1,
   "metadata": {},
   "outputs": [],
   "source": [
    "import pandas as pd\n",
    "import numpy as np\n",
    "import seaborn as sns\n",
    "import matplotlib.pyplot as plt"
   ]
  },
  {
   "cell_type": "code",
   "execution_count": 25,
   "metadata": {},
   "outputs": [],
   "source": [
    "%store -r student_courses\n",
    "%store -r student_majors\n",
    "%store -r stem_paths\n",
    "%store -r maker_passes\n",
    "%store -r jacobs"
   ]
  },
  {
   "cell_type": "code",
   "execution_count": 26,
   "metadata": {},
   "outputs": [
    {
     "output_type": "execute_result",
     "data": {
      "text/plain": [
       "['/content/drive/MyDrive/Colab Notebooks/data/uc.berkeley.student.majors.2007to2017.csv',\n",
       " '/content/drive/MyDrive/Colab Notebooks/data/uc.berkeley.student.majors.2018.csv',\n",
       " '/content/drive/MyDrive/Colab Notebooks/data/uc.berkeley.student.majors.2020.csv',\n",
       " '/content/drive/MyDrive/Colab Notebooks/data/uc.berkeley.student.majors.2019.csv']"
      ]
     },
     "metadata": {},
     "execution_count": 26
    }
   ],
   "source": [
    "majors"
   ]
  },
  {
   "cell_type": "code",
   "execution_count": 34,
   "metadata": {},
   "outputs": [],
   "source": [
    "student_majors = pd.DataFrame()\n",
    "for i in majors:\n",
    "    student_majors = student_majors.append(pd.read_csv(i))"
   ]
  },
  {
   "cell_type": "code",
   "execution_count": 36,
   "metadata": {},
   "outputs": [
    {
     "output_type": "execute_result",
     "data": {
      "text/plain": [
       "   ppsk undergrad.status  ...              major  exam.units\n",
       "0  6417                U  ...  Political Science         0.0\n",
       "1  6417                U  ...  Political Science         0.0\n",
       "\n",
       "[2 rows x 10 columns]"
      ],
      "text/html": "<div>\n<style scoped>\n    .dataframe tbody tr th:only-of-type {\n        vertical-align: middle;\n    }\n\n    .dataframe tbody tr th {\n        vertical-align: top;\n    }\n\n    .dataframe thead th {\n        text-align: right;\n    }\n</style>\n<table border=\"1\" class=\"dataframe\">\n  <thead>\n    <tr style=\"text-align: right;\">\n      <th></th>\n      <th>ppsk</th>\n      <th>undergrad.status</th>\n      <th>term.majors</th>\n      <th>year.majors</th>\n      <th>Count of Students</th>\n      <th>college</th>\n      <th>division</th>\n      <th>department</th>\n      <th>major</th>\n      <th>exam.units</th>\n    </tr>\n  </thead>\n  <tbody>\n    <tr>\n      <th>0</th>\n      <td>6417</td>\n      <td>U</td>\n      <td>Fall</td>\n      <td>2013</td>\n      <td>1</td>\n      <td>Clg of Letters &amp; Science</td>\n      <td>L&amp;S Social Sciences Division</td>\n      <td>Political Science</td>\n      <td>Political Science</td>\n      <td>0.0</td>\n    </tr>\n    <tr>\n      <th>1</th>\n      <td>6417</td>\n      <td>U</td>\n      <td>Spring</td>\n      <td>2014</td>\n      <td>1</td>\n      <td>Clg of Letters &amp; Science</td>\n      <td>L&amp;S Social Sciences Division</td>\n      <td>Political Science</td>\n      <td>Political Science</td>\n      <td>0.0</td>\n    </tr>\n  </tbody>\n</table>\n</div>"
     },
     "metadata": {},
     "execution_count": 36
    }
   ],
   "source": [
    "student_majors.query('ppsk == 6417')"
   ]
  },
  {
   "cell_type": "code",
   "execution_count": 6,
   "metadata": {},
   "outputs": [
    {
     "output_type": "execute_result",
     "data": {
      "text/plain": [
       "9995     1474600\n",
       "12946    2631969\n",
       "15727     723198\n",
       "16929     917618\n",
       "18297    1025236\n",
       "          ...   \n",
       "21309    4262284\n",
       "21441    4262621\n",
       "22125    4264306\n",
       "22572    4265873\n",
       "22697    4266391\n",
       "Name: ppsk, Length: 2255, dtype: int64"
      ]
     },
     "metadata": {},
     "execution_count": 6
    }
   ],
   "source": [
    "jacobs['ppsk']"
   ]
  },
  {
   "cell_type": "code",
   "execution_count": 7,
   "metadata": {},
   "outputs": [],
   "source": [
    "#temp = student_courses[student_courses['year.name'].str.split(\" \", expand=True)[0].astype(int) >= 2015]"
   ]
  },
  {
   "cell_type": "code",
   "execution_count": 8,
   "metadata": {},
   "outputs": [],
   "source": [
    "ppsks = maker_passes['ppsk']\n",
    "ppsks = ppsks.append(jacobs['ppsk']).unique()"
   ]
  },
  {
   "cell_type": "code",
   "execution_count": 9,
   "metadata": {},
   "outputs": [],
   "source": [
    "#get ppsks of students from jacobs and find other classes they take\n",
    "#all_jacobs = student_courses"
   ]
  },
  {
   "cell_type": "code",
   "execution_count": 10,
   "metadata": {},
   "outputs": [
    {
     "output_type": "execute_result",
     "data": {
      "text/plain": [
       "         year.name     ppsk  ... grade.points student.credit.hours\n",
       "9995     2015 Fall  1474600  ...          4.0                  2.0\n",
       "12946    2015 Fall  2631969  ...          4.0                  2.0\n",
       "15727  2015 Spring   723198  ...          4.0                  2.0\n",
       "16929  2015 Spring   917618  ...          4.0                  2.0\n",
       "18297  2015 Spring  1025236  ...          4.0                  2.0\n",
       "...            ...      ...  ...          ...                  ...\n",
       "21309  2019 Summer  4262284  ...          3.7                  2.0\n",
       "21441  2019 Summer  4262621  ...          3.7                  2.0\n",
       "22125  2019 Summer  4264306  ...          4.0                  3.0\n",
       "22572  2019 Summer  4265873  ...          3.0                  2.0\n",
       "22697  2019 Summer  4266391  ...          3.0                  3.0\n",
       "\n",
       "[2255 rows x 16 columns]"
      ],
      "text/html": "<div>\n<style scoped>\n    .dataframe tbody tr th:only-of-type {\n        vertical-align: middle;\n    }\n\n    .dataframe tbody tr th {\n        vertical-align: top;\n    }\n\n    .dataframe thead th {\n        text-align: right;\n    }\n</style>\n<table border=\"1\" class=\"dataframe\">\n  <thead>\n    <tr style=\"text-align: right;\">\n      <th></th>\n      <th>year.name</th>\n      <th>ppsk</th>\n      <th>undergrad.status</th>\n      <th>course.department</th>\n      <th>course.subject</th>\n      <th>course.number</th>\n      <th>offering.type</th>\n      <th>section.number</th>\n      <th>ccn</th>\n      <th>room.share</th>\n      <th>course.title</th>\n      <th>grade.subtype</th>\n      <th>grade.type</th>\n      <th>grade.name</th>\n      <th>grade.points</th>\n      <th>student.credit.hours</th>\n    </tr>\n  </thead>\n  <tbody>\n    <tr>\n      <th>9995</th>\n      <td>2015 Fall</td>\n      <td>1474600</td>\n      <td>Undergraduate</td>\n      <td>Engineering Science</td>\n      <td>Design Innovation</td>\n      <td>90</td>\n      <td>Primary</td>\n      <td>1</td>\n      <td>18400</td>\n      <td>101548.0</td>\n      <td>Spec Topics Des Inv</td>\n      <td>A</td>\n      <td>Letter Grade</td>\n      <td>A+</td>\n      <td>4.0</td>\n      <td>2.0</td>\n    </tr>\n    <tr>\n      <th>12946</th>\n      <td>2015 Fall</td>\n      <td>2631969</td>\n      <td>Undergraduate</td>\n      <td>Engineering Science</td>\n      <td>Design Innovation</td>\n      <td>90</td>\n      <td>Primary</td>\n      <td>1</td>\n      <td>18400</td>\n      <td>101548.0</td>\n      <td>Spec Topics Des Inv</td>\n      <td>A</td>\n      <td>Letter Grade</td>\n      <td>A+</td>\n      <td>4.0</td>\n      <td>2.0</td>\n    </tr>\n    <tr>\n      <th>15727</th>\n      <td>2015 Spring</td>\n      <td>723198</td>\n      <td>Graduate</td>\n      <td>Engineering Science</td>\n      <td>Design Innovation</td>\n      <td>190</td>\n      <td>Primary</td>\n      <td>2</td>\n      <td>18406</td>\n      <td>18406.0</td>\n      <td>Spec Topics Des Inv</td>\n      <td>A</td>\n      <td>Letter Grade</td>\n      <td>A</td>\n      <td>4.0</td>\n      <td>2.0</td>\n    </tr>\n    <tr>\n      <th>16929</th>\n      <td>2015 Spring</td>\n      <td>917618</td>\n      <td>Undergraduate</td>\n      <td>Engineering Science</td>\n      <td>Design Innovation</td>\n      <td>190</td>\n      <td>Primary</td>\n      <td>1</td>\n      <td>18403</td>\n      <td>18403.0</td>\n      <td>Spec Topics Des Inv</td>\n      <td>A</td>\n      <td>Letter Grade</td>\n      <td>A</td>\n      <td>4.0</td>\n      <td>2.0</td>\n    </tr>\n    <tr>\n      <th>18297</th>\n      <td>2015 Spring</td>\n      <td>1025236</td>\n      <td>Graduate</td>\n      <td>Engineering Science</td>\n      <td>Design Innovation</td>\n      <td>190</td>\n      <td>Primary</td>\n      <td>1</td>\n      <td>18403</td>\n      <td>18403.0</td>\n      <td>Spec Topics Des Inv</td>\n      <td>A</td>\n      <td>Letter Grade</td>\n      <td>A</td>\n      <td>4.0</td>\n      <td>2.0</td>\n    </tr>\n    <tr>\n      <th>...</th>\n      <td>...</td>\n      <td>...</td>\n      <td>...</td>\n      <td>...</td>\n      <td>...</td>\n      <td>...</td>\n      <td>...</td>\n      <td>...</td>\n      <td>...</td>\n      <td>...</td>\n      <td>...</td>\n      <td>...</td>\n      <td>...</td>\n      <td>...</td>\n      <td>...</td>\n      <td>...</td>\n    </tr>\n    <tr>\n      <th>21309</th>\n      <td>2019 Summer</td>\n      <td>4262284</td>\n      <td>Undergraduate</td>\n      <td>Design Innovation</td>\n      <td>Design Innovation</td>\n      <td>190</td>\n      <td>Primary</td>\n      <td>7</td>\n      <td>11577</td>\n      <td>11577.0</td>\n      <td>Spec Topics Des Inv</td>\n      <td>A</td>\n      <td>Letter Grade</td>\n      <td>A-</td>\n      <td>3.7</td>\n      <td>2.0</td>\n    </tr>\n    <tr>\n      <th>21441</th>\n      <td>2019 Summer</td>\n      <td>4262621</td>\n      <td>Undergraduate</td>\n      <td>Design Innovation</td>\n      <td>Design Innovation</td>\n      <td>190</td>\n      <td>Primary</td>\n      <td>7</td>\n      <td>11577</td>\n      <td>11577.0</td>\n      <td>Spec Topics Des Inv</td>\n      <td>A</td>\n      <td>Letter Grade</td>\n      <td>A-</td>\n      <td>3.7</td>\n      <td>2.0</td>\n    </tr>\n    <tr>\n      <th>22125</th>\n      <td>2019 Summer</td>\n      <td>4264306</td>\n      <td>Undergraduate</td>\n      <td>Design Innovation</td>\n      <td>Design Innovation</td>\n      <td>190</td>\n      <td>Primary</td>\n      <td>8</td>\n      <td>15779</td>\n      <td>15779.0</td>\n      <td>Spec Topics Des Inv</td>\n      <td>A</td>\n      <td>Letter Grade</td>\n      <td>A+</td>\n      <td>4.0</td>\n      <td>3.0</td>\n    </tr>\n    <tr>\n      <th>22572</th>\n      <td>2019 Summer</td>\n      <td>4265873</td>\n      <td>Undergraduate</td>\n      <td>Design Innovation</td>\n      <td>Design Innovation</td>\n      <td>190</td>\n      <td>Primary</td>\n      <td>7</td>\n      <td>11577</td>\n      <td>11577.0</td>\n      <td>Spec Topics Des Inv</td>\n      <td>B</td>\n      <td>Letter Grade</td>\n      <td>B</td>\n      <td>3.0</td>\n      <td>2.0</td>\n    </tr>\n    <tr>\n      <th>22697</th>\n      <td>2019 Summer</td>\n      <td>4266391</td>\n      <td>Undergraduate</td>\n      <td>Design Innovation</td>\n      <td>Design Innovation</td>\n      <td>22</td>\n      <td>Primary</td>\n      <td>1</td>\n      <td>14718</td>\n      <td>14718.0</td>\n      <td>Prototype &amp; Fab</td>\n      <td>B</td>\n      <td>Letter Grade</td>\n      <td>B</td>\n      <td>3.0</td>\n      <td>3.0</td>\n    </tr>\n  </tbody>\n</table>\n<p>2255 rows × 16 columns</p>\n</div>"
     },
     "metadata": {},
     "execution_count": 10
    }
   ],
   "source": [
    "jacobs"
   ]
  },
  {
   "cell_type": "code",
   "execution_count": 11,
   "metadata": {},
   "outputs": [],
   "source": [
    "jacobs_ethnicities = jacobs.merge(stem_paths[['ppsk', 'ethnic.l1']], on='ppsk', how='left')\n",
    "jacobs_ethnicities['ethnic.l1'].fillna('Unknown', inplace=True)"
   ]
  },
  {
   "cell_type": "code",
   "execution_count": 12,
   "metadata": {},
   "outputs": [
    {
     "output_type": "execute_result",
     "data": {
      "text/plain": [
       "        year.name     ppsk  ...                  Ethnicity  year\n",
       "0       2015 Fall  1474600  ...              International  2015\n",
       "1       2015 Fall  2631969  ...     Asian/Pacific Islander  2015\n",
       "2     2015 Spring   723198  ...                    Unknown  2015\n",
       "3     2015 Spring   917618  ...  Underrepresented Minority  2015\n",
       "4     2015 Spring  1025236  ...                    Unknown  2015\n",
       "...           ...      ...  ...                        ...   ...\n",
       "2250  2019 Summer  4262284  ...                    Unknown  2019\n",
       "2251  2019 Summer  4262621  ...                    Unknown  2019\n",
       "2252  2019 Summer  4264306  ...                    Unknown  2019\n",
       "2253  2019 Summer  4265873  ...                    Unknown  2019\n",
       "2254  2019 Summer  4266391  ...                    Unknown  2019\n",
       "\n",
       "[2255 rows x 18 columns]"
      ],
      "text/html": "<div>\n<style scoped>\n    .dataframe tbody tr th:only-of-type {\n        vertical-align: middle;\n    }\n\n    .dataframe tbody tr th {\n        vertical-align: top;\n    }\n\n    .dataframe thead th {\n        text-align: right;\n    }\n</style>\n<table border=\"1\" class=\"dataframe\">\n  <thead>\n    <tr style=\"text-align: right;\">\n      <th></th>\n      <th>year.name</th>\n      <th>ppsk</th>\n      <th>undergrad.status</th>\n      <th>course.department</th>\n      <th>course.subject</th>\n      <th>course.number</th>\n      <th>offering.type</th>\n      <th>section.number</th>\n      <th>ccn</th>\n      <th>room.share</th>\n      <th>course.title</th>\n      <th>grade.subtype</th>\n      <th>grade.type</th>\n      <th>grade.name</th>\n      <th>grade.points</th>\n      <th>student.credit.hours</th>\n      <th>Ethnicity</th>\n      <th>year</th>\n    </tr>\n  </thead>\n  <tbody>\n    <tr>\n      <th>0</th>\n      <td>2015 Fall</td>\n      <td>1474600</td>\n      <td>Undergraduate</td>\n      <td>Engineering Science</td>\n      <td>Design Innovation</td>\n      <td>90</td>\n      <td>Primary</td>\n      <td>1</td>\n      <td>18400</td>\n      <td>101548.0</td>\n      <td>Spec Topics Des Inv</td>\n      <td>A</td>\n      <td>Letter Grade</td>\n      <td>A+</td>\n      <td>4.0</td>\n      <td>2.0</td>\n      <td>International</td>\n      <td>2015</td>\n    </tr>\n    <tr>\n      <th>1</th>\n      <td>2015 Fall</td>\n      <td>2631969</td>\n      <td>Undergraduate</td>\n      <td>Engineering Science</td>\n      <td>Design Innovation</td>\n      <td>90</td>\n      <td>Primary</td>\n      <td>1</td>\n      <td>18400</td>\n      <td>101548.0</td>\n      <td>Spec Topics Des Inv</td>\n      <td>A</td>\n      <td>Letter Grade</td>\n      <td>A+</td>\n      <td>4.0</td>\n      <td>2.0</td>\n      <td>Asian/Pacific Islander</td>\n      <td>2015</td>\n    </tr>\n    <tr>\n      <th>2</th>\n      <td>2015 Spring</td>\n      <td>723198</td>\n      <td>Graduate</td>\n      <td>Engineering Science</td>\n      <td>Design Innovation</td>\n      <td>190</td>\n      <td>Primary</td>\n      <td>2</td>\n      <td>18406</td>\n      <td>18406.0</td>\n      <td>Spec Topics Des Inv</td>\n      <td>A</td>\n      <td>Letter Grade</td>\n      <td>A</td>\n      <td>4.0</td>\n      <td>2.0</td>\n      <td>Unknown</td>\n      <td>2015</td>\n    </tr>\n    <tr>\n      <th>3</th>\n      <td>2015 Spring</td>\n      <td>917618</td>\n      <td>Undergraduate</td>\n      <td>Engineering Science</td>\n      <td>Design Innovation</td>\n      <td>190</td>\n      <td>Primary</td>\n      <td>1</td>\n      <td>18403</td>\n      <td>18403.0</td>\n      <td>Spec Topics Des Inv</td>\n      <td>A</td>\n      <td>Letter Grade</td>\n      <td>A</td>\n      <td>4.0</td>\n      <td>2.0</td>\n      <td>Underrepresented Minority</td>\n      <td>2015</td>\n    </tr>\n    <tr>\n      <th>4</th>\n      <td>2015 Spring</td>\n      <td>1025236</td>\n      <td>Graduate</td>\n      <td>Engineering Science</td>\n      <td>Design Innovation</td>\n      <td>190</td>\n      <td>Primary</td>\n      <td>1</td>\n      <td>18403</td>\n      <td>18403.0</td>\n      <td>Spec Topics Des Inv</td>\n      <td>A</td>\n      <td>Letter Grade</td>\n      <td>A</td>\n      <td>4.0</td>\n      <td>2.0</td>\n      <td>Unknown</td>\n      <td>2015</td>\n    </tr>\n    <tr>\n      <th>...</th>\n      <td>...</td>\n      <td>...</td>\n      <td>...</td>\n      <td>...</td>\n      <td>...</td>\n      <td>...</td>\n      <td>...</td>\n      <td>...</td>\n      <td>...</td>\n      <td>...</td>\n      <td>...</td>\n      <td>...</td>\n      <td>...</td>\n      <td>...</td>\n      <td>...</td>\n      <td>...</td>\n      <td>...</td>\n      <td>...</td>\n    </tr>\n    <tr>\n      <th>2250</th>\n      <td>2019 Summer</td>\n      <td>4262284</td>\n      <td>Undergraduate</td>\n      <td>Design Innovation</td>\n      <td>Design Innovation</td>\n      <td>190</td>\n      <td>Primary</td>\n      <td>7</td>\n      <td>11577</td>\n      <td>11577.0</td>\n      <td>Spec Topics Des Inv</td>\n      <td>A</td>\n      <td>Letter Grade</td>\n      <td>A-</td>\n      <td>3.7</td>\n      <td>2.0</td>\n      <td>Unknown</td>\n      <td>2019</td>\n    </tr>\n    <tr>\n      <th>2251</th>\n      <td>2019 Summer</td>\n      <td>4262621</td>\n      <td>Undergraduate</td>\n      <td>Design Innovation</td>\n      <td>Design Innovation</td>\n      <td>190</td>\n      <td>Primary</td>\n      <td>7</td>\n      <td>11577</td>\n      <td>11577.0</td>\n      <td>Spec Topics Des Inv</td>\n      <td>A</td>\n      <td>Letter Grade</td>\n      <td>A-</td>\n      <td>3.7</td>\n      <td>2.0</td>\n      <td>Unknown</td>\n      <td>2019</td>\n    </tr>\n    <tr>\n      <th>2252</th>\n      <td>2019 Summer</td>\n      <td>4264306</td>\n      <td>Undergraduate</td>\n      <td>Design Innovation</td>\n      <td>Design Innovation</td>\n      <td>190</td>\n      <td>Primary</td>\n      <td>8</td>\n      <td>15779</td>\n      <td>15779.0</td>\n      <td>Spec Topics Des Inv</td>\n      <td>A</td>\n      <td>Letter Grade</td>\n      <td>A+</td>\n      <td>4.0</td>\n      <td>3.0</td>\n      <td>Unknown</td>\n      <td>2019</td>\n    </tr>\n    <tr>\n      <th>2253</th>\n      <td>2019 Summer</td>\n      <td>4265873</td>\n      <td>Undergraduate</td>\n      <td>Design Innovation</td>\n      <td>Design Innovation</td>\n      <td>190</td>\n      <td>Primary</td>\n      <td>7</td>\n      <td>11577</td>\n      <td>11577.0</td>\n      <td>Spec Topics Des Inv</td>\n      <td>B</td>\n      <td>Letter Grade</td>\n      <td>B</td>\n      <td>3.0</td>\n      <td>2.0</td>\n      <td>Unknown</td>\n      <td>2019</td>\n    </tr>\n    <tr>\n      <th>2254</th>\n      <td>2019 Summer</td>\n      <td>4266391</td>\n      <td>Undergraduate</td>\n      <td>Design Innovation</td>\n      <td>Design Innovation</td>\n      <td>22</td>\n      <td>Primary</td>\n      <td>1</td>\n      <td>14718</td>\n      <td>14718.0</td>\n      <td>Prototype &amp; Fab</td>\n      <td>B</td>\n      <td>Letter Grade</td>\n      <td>B</td>\n      <td>3.0</td>\n      <td>3.0</td>\n      <td>Unknown</td>\n      <td>2019</td>\n    </tr>\n  </tbody>\n</table>\n<p>2255 rows × 18 columns</p>\n</div>"
     },
     "metadata": {},
     "execution_count": 12
    }
   ],
   "source": [
    "jacobs_ethnicities['year'] = jacobs_ethnicities['year.name'].str.split(\" \", expand=True)[0]\n",
    "jacobs_ethnicities = jacobs_ethnicities.rename({'ethnic.l1': \"Ethnicity\"}, axis=1)\n",
    "jacobs_ethnicities"
   ]
  }
 ],
 "metadata": {
  "kernelspec": {
   "name": "python3",
   "display_name": "Python 3",
   "language": "python"
  },
  "language_info": {
   "codemirror_mode": {
    "name": "ipython",
    "version": 3
   },
   "file_extension": ".py",
   "mimetype": "text/x-python",
   "name": "python",
   "nbconvert_exporter": "python",
   "pygments_lexer": "ipython3",
   "version": "3.8.2-final"
  }
 },
 "nbformat": 4,
 "nbformat_minor": 2
}