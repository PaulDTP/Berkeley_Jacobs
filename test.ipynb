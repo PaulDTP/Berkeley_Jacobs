{
 "cells": [
  {
   "cell_type": "code",
   "execution_count": 2,
   "metadata": {},
   "outputs": [],
   "source": [
    "import pandas as pd\n",
    "import numpy as np\n",
    "import seaborn as sns\n",
    "import matplotlib.pyplot as plt\n",
    "import glob"
   ]
  },
  {
   "cell_type": "code",
   "execution_count": 3,
   "metadata": {},
   "outputs": [],
   "source": [
    "#majors2020 = pd.read_table(\"data/uc.berkeley.student.majors.2020.txt\")\n",
    "df = pd.DataFrame()\n",
    "files = glob.glob(\"data/*.txt\")\n",
    "course_data = glob.glob(\"data/uc.berkeley.student.course.data.*.txt\")\n",
    "majors = glob.glob(\"data/uc.berkeley.student.majors.*.txt\")\n",
    "pathways = glob.glob(\"data/uc.berkeley.stem.*.txt\")\n"
   ]
  },
  {
   "cell_type": "code",
   "execution_count": 4,
   "metadata": {},
   "outputs": [
    {
     "output_type": "stream",
     "name": "stderr",
     "text": [
      "/Users/paulterrell-perica/Library/Python/3.8/lib/python/site-packages/IPython/core/interactiveshell.py:3165: DtypeWarning: Columns (7) have mixed types.Specify dtype option on import or set low_memory=False.\n",
      "  has_raised = await self.run_ast_nodes(code_ast.body, cell_name,\n",
      "/Users/paulterrell-perica/Library/Python/3.8/lib/python/site-packages/IPython/core/interactiveshell.py:3165: DtypeWarning: Columns (8) have mixed types.Specify dtype option on import or set low_memory=False.\n",
      "  has_raised = await self.run_ast_nodes(code_ast.body, cell_name,\n"
     ]
    }
   ],
   "source": [
    "# putting course data in one variable which might \n",
    "# DS\n",
    "course_data.sort()\n",
    "student_courses = pd.DataFrame()\n",
    "for f in course_data:\n",
    "    student_courses = student_courses.append(pd.read_table(f))"
   ]
  },
  {
   "cell_type": "code",
   "execution_count": 5,
   "metadata": {},
   "outputs": [
    {
     "output_type": "error",
     "ename": "KeyboardInterrupt",
     "evalue": "",
     "traceback": [
      "\u001b[0;31m---------------------------------------------------------------------------\u001b[0m",
      "\u001b[0;31mKeyboardInterrupt\u001b[0m                         Traceback (most recent call last)",
      "\u001b[0;32m<ipython-input-5-4578bae3dd7f>\u001b[0m in \u001b[0;36m<module>\u001b[0;34m\u001b[0m\n\u001b[1;32m      1\u001b[0m \u001b[0;31m# minor data cleaning\u001b[0m\u001b[0;34m\u001b[0m\u001b[0;34m\u001b[0m\u001b[0;34m\u001b[0m\u001b[0m\n\u001b[0;32m----> 2\u001b[0;31m \u001b[0mstudent_courses\u001b[0m \u001b[0;34m=\u001b[0m \u001b[0mstudent_courses\u001b[0m\u001b[0;34m[\u001b[0m\u001b[0;34m~\u001b[0m\u001b[0mstudent_courses\u001b[0m\u001b[0;34m[\u001b[0m\u001b[0;34m'ppsk'\u001b[0m\u001b[0;34m]\u001b[0m\u001b[0;34m.\u001b[0m\u001b[0misnull\u001b[0m\u001b[0;34m(\u001b[0m\u001b[0;34m)\u001b[0m\u001b[0;34m]\u001b[0m\u001b[0;34m\u001b[0m\u001b[0;34m\u001b[0m\u001b[0m\n\u001b[0m\u001b[1;32m      3\u001b[0m \u001b[0mstudent_courses\u001b[0m \u001b[0;34m=\u001b[0m \u001b[0mstudent_courses\u001b[0m\u001b[0;34m\u001b[0m\u001b[0;34m\u001b[0m\u001b[0m\n\u001b[1;32m      4\u001b[0m \u001b[0mstudent_courses\u001b[0m \u001b[0;34m=\u001b[0m \u001b[0mstudent_courses\u001b[0m\u001b[0;34m[\u001b[0m\u001b[0mstudent_courses\u001b[0m\u001b[0;34m[\u001b[0m\u001b[0;34m'ppsk'\u001b[0m\u001b[0;34m]\u001b[0m \u001b[0;34m!=\u001b[0m \u001b[0;34m-\u001b[0m\u001b[0;36m1\u001b[0m\u001b[0;34m]\u001b[0m\u001b[0;34m\u001b[0m\u001b[0;34m\u001b[0m\u001b[0m\n",
      "\u001b[0;31mKeyboardInterrupt\u001b[0m: "
     ]
    }
   ],
   "source": [
    "# minor data cleaning\n",
    "student_courses = student_courses[~student_courses['ppsk'].isnull()]\n",
    "student_courses = student_courses\n",
    "student_courses = student_courses[student_courses['ppsk'] != -1]"
   ]
  },
  {
   "cell_type": "code",
   "execution_count": 6,
   "metadata": {},
   "outputs": [],
   "source": [
    "maker_passes = student_courses[student_courses[\"course.department\"] == \"Design Innovation\"]['ppsk'].unique()"
   ]
  },
  {
   "cell_type": "code",
   "execution_count": 7,
   "metadata": {},
   "outputs": [
    {
     "output_type": "stream",
     "name": "stdout",
     "text": [
      "['-' 'African American Studies' 'Ag & Env Chem Grad Grp'\n 'Ag & Resource Econ & Pol' 'Anc Hist Med Arc Grad Grp' 'Anthropology'\n 'Applied Sci & Tech Grad Grp' 'Architecture' 'Art Practice' 'Astronomy'\n 'Bioengineering' 'Biophysics Grad Grp' 'Buddhist Studies Grad Grp'\n 'Business' 'Chem & Biomolecular Eng' 'Chemistry'\n 'City & Regional Planning' 'Civil & Environmental Eng' 'Classics'\n 'College Writing Programs' 'Comparative Biochem Grad Grp'\n 'Comparative Literature' 'Computational Biology Grad Grp'\n 'Critical Theory Grad Grp' 'Data Science' 'Demography'\n 'Design Innovation' 'Development Eng Grad Grp'\n 'Development Practice Grad Grp' 'Earth & Planetary Science'\n 'East Asian Lang & Culture' 'Economics' 'Education'\n 'Electrical Eng & Computer Sci' 'Energy & Resources Grad Grp'\n 'Engineering Science' 'English' 'Env Sci, Policy, & Mgmt'\n 'Ethnic Studies' 'European Studies Grad Grp'\n 'FPF-African American Studies' 'FPF-Anthropology' 'FPF-Art Practice'\n 'FPF-Astronomy' 'FPF-Chemistry' 'FPF-Classics'\n 'FPF-College Writing Program' 'FPF-Comparative Literature'\n 'FPF-Earth & Planetary Science' 'FPF-English'\n 'FPF-Env Sci, Policy, & Mgmt' 'FPF-Ethnic Studies' 'FPF-Film & Media'\n 'FPF-Gender & Womens Studies' 'FPF-Geography' 'FPF-History'\n 'FPF-History of Art' 'FPF-IAS Teaching Program' 'FPF-Integrative Biology'\n 'FPF-Interdisc Social Sci Pgms' 'FPF-Legal Studies'\n 'FPF-Letters & Science' 'FPF-Linguistics' 'FPF-Mathematics'\n 'FPF-Molecular & Cell Biology' 'FPF-Music' 'FPF-Philosophy'\n 'FPF-Political Science' 'FPF-Psychology' 'FPF-Rhetoric' 'FPF-Sociology'\n 'FPF-Statistics' 'Film and Media' 'Folklore Grad Grp' 'French'\n 'Gender & Womens Studies' 'Geography' 'German'\n 'Global Metro Std Grad Grp' 'Health & Medical Sci Grad Grp' 'History'\n 'History of Art' 'Industrial Eng & Ops Research' 'Information'\n 'Integrative Biology' 'Interdisc Social Science Pgms' 'Italian Studies'\n 'Jewish Studies Program' 'Journalism' 'Landscape Arch & Env Plan' 'Law'\n 'Linguistics' 'Materials Science & Eng' 'Mathematics'\n 'Mechanical Engineering' 'Medieval Studies Program'\n 'Military Affairs Program' 'Molecular & Cell Biology' 'Music'\n 'Nano Sci & Eng Grad Grp' 'Near Eastern Studies'\n 'Neuroscience Graduate Program' 'New Media Grad Grp'\n 'Nuclear Engineering' 'Nutritional Sciences & Tox' 'Optometry'\n 'Other Arts & Humanities Pgms' 'Other Bio Sciences Pgms'\n 'Other Clg of Natural Res Pgms' 'Other EVCP Programs' 'Philosophy'\n 'Physical Education' 'Physics' 'Plant & Microbial Biology'\n 'Political Science' 'Psychology' 'Public Health' 'Public Policy'\n 'Rhetoric' 'Scandinavian' 'Sci & Tech Stds Grad Grp'\n 'Science & Math Educ Grad Grp' 'Slavic Languages & Literatures'\n 'Social Welfare' 'Sociology' 'South & SE Asian Studies'\n 'Spanish & Portuguese' 'Statistics' 'Theater Dance & Perf Stds'\n 'UG Interdisciplinary Studies' 'Vision Science Grad Grp']\n"
     ]
    }
   ],
   "source": [
    "print(np.sort(student_courses['course.department'].unique()))"
   ]
  },
  {
   "cell_type": "code",
   "execution_count": 8,
   "metadata": {},
   "outputs": [],
   "source": [
    "maker_passes = pd.Series(maker_passes)\n",
    "student_passes = student_courses[student_courses['ppsk'].isin(maker_passes)]"
   ]
  },
  {
   "cell_type": "code",
   "execution_count": 17,
   "metadata": {},
   "outputs": [
    {
     "output_type": "error",
     "ename": "NameError",
     "evalue": "name 'student_passes' is not defined",
     "traceback": [
      "\u001b[0;31m---------------------------------------------------------------------------\u001b[0m",
      "\u001b[0;31mNameError\u001b[0m                                 Traceback (most recent call last)",
      "\u001b[0;32m<ipython-input-17-d4c3dcfc3d0a>\u001b[0m in \u001b[0;36m<module>\u001b[0;34m\u001b[0m\n\u001b[0;32m----> 1\u001b[0;31m \u001b[0mstudent_passes\u001b[0m\u001b[0;34m\u001b[0m\u001b[0;34m\u001b[0m\u001b[0m\n\u001b[0m",
      "\u001b[0;31mNameError\u001b[0m: name 'student_passes' is not defined"
     ]
    }
   ],
   "source": [
    "student_passes"
   ]
  },
  {
   "cell_type": "code",
   "execution_count": 10,
   "metadata": {},
   "outputs": [
    {
     "output_type": "execute_result",
     "data": {
      "text/plain": [
       "array(['High Honors', 'Honors', 'Pass', 'Pass Conditional', 'Credit',\n",
       "       'Satisfactory', 'No Credit', 'Not Pass', 'Unsatisfactory'],\n",
       "      dtype=object)"
      ]
     },
     "metadata": {},
     "execution_count": 10
    }
   ],
   "source": [
    "student_courses[student_courses[['grade.subtype', 'grade.type', 'grade.name']]['grade.type'] == 'Non-Letter Grade']['grade.name'].unique()"
   ]
  },
  {
   "cell_type": "code",
   "execution_count": 11,
   "metadata": {},
   "outputs": [
    {
     "output_type": "execute_result",
     "data": {
      "text/plain": [
       "      year.name  ppsk undergrad.status course.department course.subject  \\\n",
       "93          NaN   NaN              NaN               NaN            NaN   \n",
       "94          NaN   NaN              NaN               NaN            NaN   \n",
       "95          NaN   NaN              NaN               NaN            NaN   \n",
       "96          NaN   NaN              NaN               NaN            NaN   \n",
       "97          NaN   NaN              NaN               NaN            NaN   \n",
       "...         ...   ...              ...               ...            ...   \n",
       "23102       NaN   NaN              NaN               NaN            NaN   \n",
       "23103       NaN   NaN              NaN               NaN            NaN   \n",
       "23104       NaN   NaN              NaN               NaN            NaN   \n",
       "23105       NaN   NaN              NaN               NaN            NaN   \n",
       "23106       NaN   NaN              NaN               NaN            NaN   \n",
       "\n",
       "      course.number offering.type section.number  ccn  room.share  ...  \\\n",
       "93              NaN           NaN            NaN  NaN         NaN  ...   \n",
       "94              NaN           NaN            NaN  NaN         NaN  ...   \n",
       "95              NaN           NaN            NaN  NaN         NaN  ...   \n",
       "96              NaN           NaN            NaN  NaN         NaN  ...   \n",
       "97              NaN           NaN            NaN  NaN         NaN  ...   \n",
       "...             ...           ...            ...  ...         ...  ...   \n",
       "23102           NaN           NaN            NaN  NaN         NaN  ...   \n",
       "23103           NaN           NaN            NaN  NaN         NaN  ...   \n",
       "23104           NaN           NaN            NaN  NaN         NaN  ...   \n",
       "23105           NaN           NaN            NaN  NaN         NaN  ...   \n",
       "23106           NaN           NaN            NaN  NaN         NaN  ...   \n",
       "\n",
       "      Section Nbr Course Control Nbr Room Share Bundle Nbr Course Title Nm  \\\n",
       "93            NaN                NaN                   NaN             NaN   \n",
       "94            NaN                NaN                   NaN             NaN   \n",
       "95            NaN                NaN                   NaN             NaN   \n",
       "96            NaN                NaN                   NaN             NaN   \n",
       "97            NaN                NaN                   NaN             NaN   \n",
       "...           ...                ...                   ...             ...   \n",
       "23102         NaN                NaN                   NaN             NaN   \n",
       "23103         NaN                NaN                   NaN             NaN   \n",
       "23104         NaN                NaN                   NaN             NaN   \n",
       "23105         NaN                NaN                   NaN             NaN   \n",
       "23106         NaN                NaN                   NaN             NaN   \n",
       "\n",
       "      Instr Name Concat  Grade Subtype Desc  Grade Type Desc Grade Nm  \\\n",
       "93                  NaN                 NaN              NaN      NaN   \n",
       "94                  NaN                 NaN              NaN      NaN   \n",
       "95                  NaN                 NaN              NaN      NaN   \n",
       "96                  NaN                 NaN              NaN      NaN   \n",
       "97                  NaN                 NaN              NaN      NaN   \n",
       "...                 ...                 ...              ...      ...   \n",
       "23102               NaN                 NaN              NaN      NaN   \n",
       "23103               NaN                 NaN              NaN      NaN   \n",
       "23104               NaN                 NaN              NaN      NaN   \n",
       "23105               NaN                 NaN              NaN      NaN   \n",
       "23106               NaN                 NaN              NaN      NaN   \n",
       "\n",
       "       Grade Points Nbr Student Credit Hrs Nbr  \n",
       "93                  NaN                    NaN  \n",
       "94                  NaN                    NaN  \n",
       "95                  NaN                    NaN  \n",
       "96                  NaN                    NaN  \n",
       "97                  NaN                    NaN  \n",
       "...                 ...                    ...  \n",
       "23102               NaN                    NaN  \n",
       "23103               NaN                    NaN  \n",
       "23104               NaN                    NaN  \n",
       "23105               NaN                    NaN  \n",
       "23106               NaN                    NaN  \n",
       "\n",
       "[5597609 rows x 34 columns]"
      ],
      "text/html": "<div>\n<style scoped>\n    .dataframe tbody tr th:only-of-type {\n        vertical-align: middle;\n    }\n\n    .dataframe tbody tr th {\n        vertical-align: top;\n    }\n\n    .dataframe thead th {\n        text-align: right;\n    }\n</style>\n<table border=\"1\" class=\"dataframe\">\n  <thead>\n    <tr style=\"text-align: right;\">\n      <th></th>\n      <th>year.name</th>\n      <th>ppsk</th>\n      <th>undergrad.status</th>\n      <th>course.department</th>\n      <th>course.subject</th>\n      <th>course.number</th>\n      <th>offering.type</th>\n      <th>section.number</th>\n      <th>ccn</th>\n      <th>room.share</th>\n      <th>...</th>\n      <th>Section Nbr</th>\n      <th>Course Control Nbr</th>\n      <th>Room Share Bundle Nbr</th>\n      <th>Course Title Nm</th>\n      <th>Instr Name Concat</th>\n      <th>Grade Subtype Desc</th>\n      <th>Grade Type Desc</th>\n      <th>Grade Nm</th>\n      <th>Grade Points Nbr</th>\n      <th>Student Credit Hrs Nbr</th>\n    </tr>\n  </thead>\n  <tbody>\n    <tr>\n      <th>93</th>\n      <td>NaN</td>\n      <td>NaN</td>\n      <td>NaN</td>\n      <td>NaN</td>\n      <td>NaN</td>\n      <td>NaN</td>\n      <td>NaN</td>\n      <td>NaN</td>\n      <td>NaN</td>\n      <td>NaN</td>\n      <td>...</td>\n      <td>NaN</td>\n      <td>NaN</td>\n      <td>NaN</td>\n      <td>NaN</td>\n      <td>NaN</td>\n      <td>NaN</td>\n      <td>NaN</td>\n      <td>NaN</td>\n      <td>NaN</td>\n      <td>NaN</td>\n    </tr>\n    <tr>\n      <th>94</th>\n      <td>NaN</td>\n      <td>NaN</td>\n      <td>NaN</td>\n      <td>NaN</td>\n      <td>NaN</td>\n      <td>NaN</td>\n      <td>NaN</td>\n      <td>NaN</td>\n      <td>NaN</td>\n      <td>NaN</td>\n      <td>...</td>\n      <td>NaN</td>\n      <td>NaN</td>\n      <td>NaN</td>\n      <td>NaN</td>\n      <td>NaN</td>\n      <td>NaN</td>\n      <td>NaN</td>\n      <td>NaN</td>\n      <td>NaN</td>\n      <td>NaN</td>\n    </tr>\n    <tr>\n      <th>95</th>\n      <td>NaN</td>\n      <td>NaN</td>\n      <td>NaN</td>\n      <td>NaN</td>\n      <td>NaN</td>\n      <td>NaN</td>\n      <td>NaN</td>\n      <td>NaN</td>\n      <td>NaN</td>\n      <td>NaN</td>\n      <td>...</td>\n      <td>NaN</td>\n      <td>NaN</td>\n      <td>NaN</td>\n      <td>NaN</td>\n      <td>NaN</td>\n      <td>NaN</td>\n      <td>NaN</td>\n      <td>NaN</td>\n      <td>NaN</td>\n      <td>NaN</td>\n    </tr>\n    <tr>\n      <th>96</th>\n      <td>NaN</td>\n      <td>NaN</td>\n      <td>NaN</td>\n      <td>NaN</td>\n      <td>NaN</td>\n      <td>NaN</td>\n      <td>NaN</td>\n      <td>NaN</td>\n      <td>NaN</td>\n      <td>NaN</td>\n      <td>...</td>\n      <td>NaN</td>\n      <td>NaN</td>\n      <td>NaN</td>\n      <td>NaN</td>\n      <td>NaN</td>\n      <td>NaN</td>\n      <td>NaN</td>\n      <td>NaN</td>\n      <td>NaN</td>\n      <td>NaN</td>\n    </tr>\n    <tr>\n      <th>97</th>\n      <td>NaN</td>\n      <td>NaN</td>\n      <td>NaN</td>\n      <td>NaN</td>\n      <td>NaN</td>\n      <td>NaN</td>\n      <td>NaN</td>\n      <td>NaN</td>\n      <td>NaN</td>\n      <td>NaN</td>\n      <td>...</td>\n      <td>NaN</td>\n      <td>NaN</td>\n      <td>NaN</td>\n      <td>NaN</td>\n      <td>NaN</td>\n      <td>NaN</td>\n      <td>NaN</td>\n      <td>NaN</td>\n      <td>NaN</td>\n      <td>NaN</td>\n    </tr>\n    <tr>\n      <th>...</th>\n      <td>...</td>\n      <td>...</td>\n      <td>...</td>\n      <td>...</td>\n      <td>...</td>\n      <td>...</td>\n      <td>...</td>\n      <td>...</td>\n      <td>...</td>\n      <td>...</td>\n      <td>...</td>\n      <td>...</td>\n      <td>...</td>\n      <td>...</td>\n      <td>...</td>\n      <td>...</td>\n      <td>...</td>\n      <td>...</td>\n      <td>...</td>\n      <td>...</td>\n      <td>...</td>\n    </tr>\n    <tr>\n      <th>23102</th>\n      <td>NaN</td>\n      <td>NaN</td>\n      <td>NaN</td>\n      <td>NaN</td>\n      <td>NaN</td>\n      <td>NaN</td>\n      <td>NaN</td>\n      <td>NaN</td>\n      <td>NaN</td>\n      <td>NaN</td>\n      <td>...</td>\n      <td>NaN</td>\n      <td>NaN</td>\n      <td>NaN</td>\n      <td>NaN</td>\n      <td>NaN</td>\n      <td>NaN</td>\n      <td>NaN</td>\n      <td>NaN</td>\n      <td>NaN</td>\n      <td>NaN</td>\n    </tr>\n    <tr>\n      <th>23103</th>\n      <td>NaN</td>\n      <td>NaN</td>\n      <td>NaN</td>\n      <td>NaN</td>\n      <td>NaN</td>\n      <td>NaN</td>\n      <td>NaN</td>\n      <td>NaN</td>\n      <td>NaN</td>\n      <td>NaN</td>\n      <td>...</td>\n      <td>NaN</td>\n      <td>NaN</td>\n      <td>NaN</td>\n      <td>NaN</td>\n      <td>NaN</td>\n      <td>NaN</td>\n      <td>NaN</td>\n      <td>NaN</td>\n      <td>NaN</td>\n      <td>NaN</td>\n    </tr>\n    <tr>\n      <th>23104</th>\n      <td>NaN</td>\n      <td>NaN</td>\n      <td>NaN</td>\n      <td>NaN</td>\n      <td>NaN</td>\n      <td>NaN</td>\n      <td>NaN</td>\n      <td>NaN</td>\n      <td>NaN</td>\n      <td>NaN</td>\n      <td>...</td>\n      <td>NaN</td>\n      <td>NaN</td>\n      <td>NaN</td>\n      <td>NaN</td>\n      <td>NaN</td>\n      <td>NaN</td>\n      <td>NaN</td>\n      <td>NaN</td>\n      <td>NaN</td>\n      <td>NaN</td>\n    </tr>\n    <tr>\n      <th>23105</th>\n      <td>NaN</td>\n      <td>NaN</td>\n      <td>NaN</td>\n      <td>NaN</td>\n      <td>NaN</td>\n      <td>NaN</td>\n      <td>NaN</td>\n      <td>NaN</td>\n      <td>NaN</td>\n      <td>NaN</td>\n      <td>...</td>\n      <td>NaN</td>\n      <td>NaN</td>\n      <td>NaN</td>\n      <td>NaN</td>\n      <td>NaN</td>\n      <td>NaN</td>\n      <td>NaN</td>\n      <td>NaN</td>\n      <td>NaN</td>\n      <td>NaN</td>\n    </tr>\n    <tr>\n      <th>23106</th>\n      <td>NaN</td>\n      <td>NaN</td>\n      <td>NaN</td>\n      <td>NaN</td>\n      <td>NaN</td>\n      <td>NaN</td>\n      <td>NaN</td>\n      <td>NaN</td>\n      <td>NaN</td>\n      <td>NaN</td>\n      <td>...</td>\n      <td>NaN</td>\n      <td>NaN</td>\n      <td>NaN</td>\n      <td>NaN</td>\n      <td>NaN</td>\n      <td>NaN</td>\n      <td>NaN</td>\n      <td>NaN</td>\n      <td>NaN</td>\n      <td>NaN</td>\n    </tr>\n  </tbody>\n</table>\n<p>5597609 rows × 34 columns</p>\n</div>"
     },
     "metadata": {},
     "execution_count": 11
    }
   ],
   "source": [
    "student_courses[student_courses[['grade.subtype', 'grade.type', 'grade.name']] < 'D']"
   ]
  },
  {
   "cell_type": "code",
   "execution_count": 1,
   "metadata": {},
   "outputs": [
    {
     "output_type": "error",
     "ename": "NameError",
     "evalue": "name 'student_courses' is not defined",
     "traceback": [
      "\u001b[0;31m---------------------------------------------------------------------------\u001b[0m",
      "\u001b[0;31mNameError\u001b[0m                                 Traceback (most recent call last)",
      "\u001b[0;32m<ipython-input-1-dae8dc07a03c>\u001b[0m in \u001b[0;36m<module>\u001b[0;34m\u001b[0m\n\u001b[0;32m----> 1\u001b[0;31m \u001b[0mlen\u001b[0m\u001b[0;34m(\u001b[0m\u001b[0mstudent_courses\u001b[0m\u001b[0;34m[\u001b[0m\u001b[0;34m'ppsk'\u001b[0m\u001b[0;34m]\u001b[0m\u001b[0;34m.\u001b[0m\u001b[0munique\u001b[0m\u001b[0;34m(\u001b[0m\u001b[0;34m)\u001b[0m\u001b[0;34m)\u001b[0m\u001b[0;34m\u001b[0m\u001b[0;34m\u001b[0m\u001b[0m\n\u001b[0m",
      "\u001b[0;31mNameError\u001b[0m: name 'student_courses' is not defined"
     ]
    }
   ],
   "source": [
    "len(student_courses['ppsk'].unique())"
   ]
  },
  {
   "cell_type": "code",
   "execution_count": null,
   "metadata": {},
   "outputs": [],
   "source": []
  }
 ],
 "metadata": {
  "kernelspec": {
   "name": "python3",
   "display_name": "Python 3.8.2 64-bit",
   "metadata": {
    "interpreter": {
     "hash": "31f2aee4e71d21fbe5cf8b01ff0e069b9275f58929596ceb00d14d90e3e16cd6"
    }
   }
  },
  "language_info": {
   "codemirror_mode": {
    "name": "ipython",
    "version": 3
   },
   "file_extension": ".py",
   "mimetype": "text/x-python",
   "name": "python",
   "nbconvert_exporter": "python",
   "pygments_lexer": "ipython3",
   "version": "3.8.2-final"
  }
 },
 "nbformat": 4,
 "nbformat_minor": 2
}