{
 "cells": [
  {
   "cell_type": "code",
   "execution_count": 4,
   "metadata": {},
   "outputs": [],
   "source": [
    "import pandas as pd\n",
    "import numpy as np\n",
    "import seaborn as sns\n",
    "import matplotlib.pyplot as plt\n",
    "import glob"
   ]
  },
  {
   "cell_type": "code",
   "execution_count": 5,
   "metadata": {},
   "outputs": [],
   "source": [
    "#tea-investor-ex-communist.trycloudflare.com"
   ]
  },
  {
   "cell_type": "code",
   "execution_count": 6,
   "metadata": {},
   "outputs": [],
   "source": [
    "#if you upload a unzip file to JupyterLab\n",
    "#import zipfile as zf\n",
    "#files = zf.ZipFile(\"/home/jovyan/data.zip\", 'r')\n",
    "#files.extractall('/home/jovyan/')\n",
    "#files.close()"
   ]
  },
  {
   "cell_type": "code",
   "execution_count": 7,
   "metadata": {},
   "outputs": [],
   "source": [
    "df = pd.DataFrame()\n",
    "initial = \"/content/drive/MyDrive/Colab Notebooks/\" \n",
    "#initial = \"\"\n",
    "files = glob.glob(initial + \"data/*\")\n",
    "course_data = glob.glob(initial + \"data/uc.berkeley.student.course.data.*.txt\")\n",
    "majors = glob.glob(initial + \"data/uc.berkeley.student.majors.*.txt\")\n",
    "pathways = glob.glob(initial + \"data/uc.berkeley.stem.*.txt\")\n",
    "passes = glob.glob(initial + \"data/jacobs.*\")\n"
   ]
  },
  {
   "cell_type": "code",
   "execution_count": 8,
   "metadata": {},
   "outputs": [
    {
     "output_type": "execute_result",
     "data": {
      "text/plain": [
       "['/content/drive/MyDrive/Colab Notebooks/data/jacobs.participants.txt']"
      ]
     },
     "metadata": {},
     "execution_count": 8
    }
   ],
   "source": [
    "# cell to check files added to variables\n",
    "passes"
   ]
  },
  {
   "cell_type": "code",
   "execution_count": 9,
   "metadata": {},
   "outputs": [
    {
     "output_type": "stream",
     "name": "stderr",
     "text": [
      "/usr/local/lib/python3.7/dist-packages/IPython/core/interactiveshell.py:2822: DtypeWarning: Columns (33,43,44,50,51,53,55,56,57,58,59,60,61,62,63,64,65,66,67,72,73,74,75,76,77,78,79,80,81,82,83,89,90,92,93,94,95,96,97,98,99,100,101,102,103) have mixed types.Specify dtype option on import or set low_memory=False.\n  if self.run_code(code, result):\n"
     ]
    }
   ],
   "source": [
    "stem_path = pd.read_table(pathways[0])"
   ]
  },
  {
   "cell_type": "code",
   "execution_count": 10,
   "metadata": {},
   "outputs": [
    {
     "output_type": "execute_result",
     "data": {
      "text/plain": [
       "['/content/drive/MyDrive/Colab Notebooks/data/uc.berkeley.stem.pathways.2007.2017.txt',\n",
       " '/content/drive/MyDrive/Colab Notebooks/data/uc.berkeley.stem.pathways.2007.2018.txt']"
      ]
     },
     "metadata": {},
     "execution_count": 10
    }
   ],
   "source": [
    "pathways"
   ]
  },
  {
   "cell_type": "code",
   "execution_count": 11,
   "metadata": {},
   "outputs": [
    {
     "output_type": "execute_result",
     "data": {
      "text/plain": [
       "          ppsk  count  ...  degree.department.4 degree.major.4\n",
       "0      1023906      1  ...                  NaN            NaN\n",
       "1       161295      1  ...                  NaN            NaN\n",
       "2       183848      1  ...                  NaN            NaN\n",
       "3       232294      1  ...                  NaN            NaN\n",
       "4       225526      1  ...                  NaN            NaN\n",
       "...        ...    ...  ...                  ...            ...\n",
       "80503  2854707      1  ...                  NaN            NaN\n",
       "80504  2855617      1  ...                  NaN            NaN\n",
       "80505  2855618      1  ...                  NaN            NaN\n",
       "80506  2855940      1  ...                  NaN            NaN\n",
       "80507  2855983      1  ...                  NaN            NaN\n",
       "\n",
       "[80508 rows x 108 columns]"
      ],
      "text/html": "<div>\n<style scoped>\n    .dataframe tbody tr th:only-of-type {\n        vertical-align: middle;\n    }\n\n    .dataframe tbody tr th {\n        vertical-align: top;\n    }\n\n    .dataframe thead th {\n        text-align: right;\n    }\n</style>\n<table border=\"1\" class=\"dataframe\">\n  <thead>\n    <tr style=\"text-align: right;\">\n      <th></th>\n      <th>ppsk</th>\n      <th>count</th>\n      <th>year</th>\n      <th>term</th>\n      <th>entry</th>\n      <th>residency</th>\n      <th>gender</th>\n      <th>ethnic.l1</th>\n      <th>ethnic.l2</th>\n      <th>ethnic.l3</th>\n      <th>probation.year.1</th>\n      <th>GradYr</th>\n      <th>RetainY1</th>\n      <th>RetainY2</th>\n      <th>RetainY3</th>\n      <th>RetainY4</th>\n      <th>RetainY5</th>\n      <th>RetainY6</th>\n      <th>hs.gpa.unweighted</th>\n      <th>hs.gpa.weighted</th>\n      <th>sat.total</th>\n      <th>sat.math</th>\n      <th>sat.verbal</th>\n      <th>sat.writing</th>\n      <th>act.composite</th>\n      <th>act.english</th>\n      <th>act.writing</th>\n      <th>act.math</th>\n      <th>act.reading</th>\n      <th>act.science</th>\n      <th>first.generation.college.1</th>\n      <th>first.generation.college.2</th>\n      <th>hs.api</th>\n      <th>ceeb</th>\n      <th>income.parent</th>\n      <th>income.student</th>\n      <th>major.intended.college</th>\n      <th>major.intended.division</th>\n      <th>major.intended.department</th>\n      <th>esl</th>\n      <th>...</th>\n      <th>final.major.college.2</th>\n      <th>final.major.division.2</th>\n      <th>final.major.department.2</th>\n      <th>final.major.major.2</th>\n      <th>first.major.college.3</th>\n      <th>first.major.division.3</th>\n      <th>first.major.department.3</th>\n      <th>first.major.major.3</th>\n      <th>final.major.college.3</th>\n      <th>final.major.division.3</th>\n      <th>final.major.department.3</th>\n      <th>final.major.major.3</th>\n      <th>first.major.college.4</th>\n      <th>first.major.division.4</th>\n      <th>first.major.department.4</th>\n      <th>first.major.major.4</th>\n      <th>final.major.college.4</th>\n      <th>final.major.division.4</th>\n      <th>final.major.department.4</th>\n      <th>final.major.major.4</th>\n      <th>year.degree</th>\n      <th>term.degree</th>\n      <th>academic.year.degree</th>\n      <th>gpa.cum.degree</th>\n      <th>degree.college.1</th>\n      <th>degree.division.1</th>\n      <th>degree.department.1</th>\n      <th>degree.major.1</th>\n      <th>degree.college.2</th>\n      <th>degree.division.2</th>\n      <th>degree.department.2</th>\n      <th>degree.major.2</th>\n      <th>degree.college.3</th>\n      <th>degree.division.3</th>\n      <th>degree.department.3</th>\n      <th>degree.major.3</th>\n      <th>degree.college.4</th>\n      <th>degree.division.4</th>\n      <th>degree.department.4</th>\n      <th>degree.major.4</th>\n    </tr>\n  </thead>\n  <tbody>\n    <tr>\n      <th>0</th>\n      <td>1023906</td>\n      <td>1</td>\n      <td>2011</td>\n      <td>Fall</td>\n      <td>ADVANCED STANDING</td>\n      <td>Resident</td>\n      <td>Female</td>\n      <td>Underrepresented Minority</td>\n      <td>African American</td>\n      <td>African American/Black</td>\n      <td>N</td>\n      <td>3.0</td>\n      <td>Y</td>\n      <td>Y</td>\n      <td>Y</td>\n      <td>Y</td>\n      <td>Y</td>\n      <td>N</td>\n      <td>NaN</td>\n      <td>NaN</td>\n      <td>NaN</td>\n      <td>NaN</td>\n      <td>NaN</td>\n      <td>NaN</td>\n      <td>NaN</td>\n      <td>NaN</td>\n      <td>NaN</td>\n      <td>NaN</td>\n      <td>NaN</td>\n      <td>NaN</td>\n      <td>N</td>\n      <td>N</td>\n      <td>NaN</td>\n      <td>4052</td>\n      <td>NaN</td>\n      <td>26000.0</td>\n      <td>Clg of Environmental Design</td>\n      <td>Clg of Environmental Design</td>\n      <td>Landscape Arch &amp; Env Plan</td>\n      <td>English+Other</td>\n      <td>...</td>\n      <td>NaN</td>\n      <td>NaN</td>\n      <td>NaN</td>\n      <td>NaN</td>\n      <td>Clg of Env Design</td>\n      <td>Clg of Env Design</td>\n      <td>Landscape Arch &amp; Env Plan</td>\n      <td>Landscape Architecture</td>\n      <td>Clg of Natural Resources</td>\n      <td>Clg of Natural Resources</td>\n      <td>Env Sci, Policy, &amp; Mgmt</td>\n      <td>Conserv &amp; Resource Stds</td>\n      <td>NaN</td>\n      <td>NaN</td>\n      <td>NaN</td>\n      <td>NaN</td>\n      <td>NaN</td>\n      <td>NaN</td>\n      <td>NaN</td>\n      <td>NaN</td>\n      <td>2014.0</td>\n      <td>Spring</td>\n      <td>2013-14</td>\n      <td>3.871</td>\n      <td>Clg of Environmental Design</td>\n      <td>Clg of Environmental Design</td>\n      <td>Landscape Arch &amp; Env Plan</td>\n      <td>Landscape Architecture</td>\n      <td>Clg of Natural Resources</td>\n      <td>Clg of Natural Resources</td>\n      <td>Env Sci, Policy, &amp; Mgmt</td>\n      <td>Conserv &amp; Resource Stds</td>\n      <td>NaN</td>\n      <td>NaN</td>\n      <td>NaN</td>\n      <td>NaN</td>\n      <td>NaN</td>\n      <td>NaN</td>\n      <td>NaN</td>\n      <td>NaN</td>\n    </tr>\n    <tr>\n      <th>1</th>\n      <td>161295</td>\n      <td>1</td>\n      <td>2015</td>\n      <td>Fall</td>\n      <td>ADVANCED STANDING</td>\n      <td>Resident</td>\n      <td>Male</td>\n      <td>White/Other</td>\n      <td>White</td>\n      <td>White</td>\n      <td>N</td>\n      <td>NaN</td>\n      <td>Y</td>\n      <td>N</td>\n      <td>N</td>\n      <td>N</td>\n      <td>N</td>\n      <td>N</td>\n      <td>NaN</td>\n      <td>NaN</td>\n      <td>NaN</td>\n      <td>NaN</td>\n      <td>NaN</td>\n      <td>NaN</td>\n      <td>NaN</td>\n      <td>NaN</td>\n      <td>NaN</td>\n      <td>NaN</td>\n      <td>NaN</td>\n      <td>NaN</td>\n      <td>N</td>\n      <td>N</td>\n      <td>NaN</td>\n      <td>7711</td>\n      <td>NaN</td>\n      <td>90000.0</td>\n      <td>Clg of Environmental Design</td>\n      <td>Clg of Environmental Design</td>\n      <td>City &amp; Regional Planning</td>\n      <td>English</td>\n      <td>...</td>\n      <td>NaN</td>\n      <td>NaN</td>\n      <td>NaN</td>\n      <td>NaN</td>\n      <td>NaN</td>\n      <td>NaN</td>\n      <td>NaN</td>\n      <td>NaN</td>\n      <td>NaN</td>\n      <td>NaN</td>\n      <td>NaN</td>\n      <td>NaN</td>\n      <td>NaN</td>\n      <td>NaN</td>\n      <td>NaN</td>\n      <td>NaN</td>\n      <td>NaN</td>\n      <td>NaN</td>\n      <td>NaN</td>\n      <td>NaN</td>\n      <td>NaN</td>\n      <td>NaN</td>\n      <td>NaN</td>\n      <td>NaN</td>\n      <td>NaN</td>\n      <td>NaN</td>\n      <td>NaN</td>\n      <td>NaN</td>\n      <td>NaN</td>\n      <td>NaN</td>\n      <td>NaN</td>\n      <td>NaN</td>\n      <td>NaN</td>\n      <td>NaN</td>\n      <td>NaN</td>\n      <td>NaN</td>\n      <td>NaN</td>\n      <td>NaN</td>\n      <td>NaN</td>\n      <td>NaN</td>\n    </tr>\n    <tr>\n      <th>2</th>\n      <td>183848</td>\n      <td>1</td>\n      <td>2010</td>\n      <td>Spring</td>\n      <td>ADVANCED STANDING</td>\n      <td>Resident</td>\n      <td>Male</td>\n      <td>White/Other</td>\n      <td>White</td>\n      <td>White</td>\n      <td>N</td>\n      <td>2.0</td>\n      <td>Y</td>\n      <td>Y</td>\n      <td>Y</td>\n      <td>Y</td>\n      <td>Y</td>\n      <td>Y</td>\n      <td>NaN</td>\n      <td>NaN</td>\n      <td>NaN</td>\n      <td>NaN</td>\n      <td>NaN</td>\n      <td>NaN</td>\n      <td>NaN</td>\n      <td>NaN</td>\n      <td>NaN</td>\n      <td>NaN</td>\n      <td>NaN</td>\n      <td>NaN</td>\n      <td>U</td>\n      <td>U</td>\n      <td>NaN</td>\n      <td>4061</td>\n      <td>NaN</td>\n      <td>32000.0</td>\n      <td>Clg of Letters &amp; Science</td>\n      <td>L&amp;S Arts &amp; Humanities Division</td>\n      <td>Art Practice</td>\n      <td>-</td>\n      <td>...</td>\n      <td>NaN</td>\n      <td>NaN</td>\n      <td>NaN</td>\n      <td>NaN</td>\n      <td>Clg of Letters &amp; Science</td>\n      <td>L&amp;S-Arts &amp; Humanities Div</td>\n      <td>Art Practice</td>\n      <td>Art Practice</td>\n      <td>NaN</td>\n      <td>NaN</td>\n      <td>NaN</td>\n      <td>NaN</td>\n      <td>NaN</td>\n      <td>NaN</td>\n      <td>NaN</td>\n      <td>NaN</td>\n      <td>NaN</td>\n      <td>NaN</td>\n      <td>NaN</td>\n      <td>NaN</td>\n      <td>2011.0</td>\n      <td>Fall</td>\n      <td>2011-12</td>\n      <td>3.977</td>\n      <td>Clg of Letters &amp; Science</td>\n      <td>L&amp;S Arts &amp; Humanities Division</td>\n      <td>Art Practice</td>\n      <td>Art</td>\n      <td>NaN</td>\n      <td>NaN</td>\n      <td>NaN</td>\n      <td>NaN</td>\n      <td>NaN</td>\n      <td>NaN</td>\n      <td>NaN</td>\n      <td>NaN</td>\n      <td>NaN</td>\n      <td>NaN</td>\n      <td>NaN</td>\n      <td>NaN</td>\n    </tr>\n    <tr>\n      <th>3</th>\n      <td>232294</td>\n      <td>1</td>\n      <td>2009</td>\n      <td>Fall</td>\n      <td>ADVANCED STANDING</td>\n      <td>Resident</td>\n      <td>Female</td>\n      <td>White/Other</td>\n      <td>Other/Decline to State</td>\n      <td>Decline to State</td>\n      <td>N</td>\n      <td>2.5</td>\n      <td>Y</td>\n      <td>Y</td>\n      <td>Y</td>\n      <td>Y</td>\n      <td>Y</td>\n      <td>Y</td>\n      <td>NaN</td>\n      <td>NaN</td>\n      <td>NaN</td>\n      <td>NaN</td>\n      <td>NaN</td>\n      <td>NaN</td>\n      <td>NaN</td>\n      <td>NaN</td>\n      <td>NaN</td>\n      <td>NaN</td>\n      <td>NaN</td>\n      <td>NaN</td>\n      <td>N</td>\n      <td>N</td>\n      <td>NaN</td>\n      <td>4052</td>\n      <td>NaN</td>\n      <td>39003.0</td>\n      <td>Clg of Letters &amp; Science</td>\n      <td>L&amp;S Arts &amp; Humanities Division</td>\n      <td>Slavic Languages &amp; Literatures</td>\n      <td>-</td>\n      <td>...</td>\n      <td>NaN</td>\n      <td>NaN</td>\n      <td>NaN</td>\n      <td>NaN</td>\n      <td>Clg of Letters &amp; Science</td>\n      <td>L&amp;S-Arts &amp; Humanities Div</td>\n      <td>Slavic Languages &amp; Lit</td>\n      <td>Slavic Lang &amp; Lit</td>\n      <td>NaN</td>\n      <td>NaN</td>\n      <td>NaN</td>\n      <td>NaN</td>\n      <td>NaN</td>\n      <td>NaN</td>\n      <td>NaN</td>\n      <td>NaN</td>\n      <td>NaN</td>\n      <td>NaN</td>\n      <td>NaN</td>\n      <td>NaN</td>\n      <td>2011.0</td>\n      <td>Fall</td>\n      <td>2011-12</td>\n      <td>3.939</td>\n      <td>Clg of Letters &amp; Science</td>\n      <td>L&amp;S Arts &amp; Humanities Division</td>\n      <td>Slavic Languages &amp; Literatures</td>\n      <td>Slavic Lang &amp; Lit</td>\n      <td>NaN</td>\n      <td>NaN</td>\n      <td>NaN</td>\n      <td>NaN</td>\n      <td>NaN</td>\n      <td>NaN</td>\n      <td>NaN</td>\n      <td>NaN</td>\n      <td>NaN</td>\n      <td>NaN</td>\n      <td>NaN</td>\n      <td>NaN</td>\n    </tr>\n    <tr>\n      <th>4</th>\n      <td>225526</td>\n      <td>1</td>\n      <td>2010</td>\n      <td>Fall</td>\n      <td>ADVANCED STANDING</td>\n      <td>Resident</td>\n      <td>Female</td>\n      <td>White/Other</td>\n      <td>White</td>\n      <td>White</td>\n      <td>N</td>\n      <td>2.0</td>\n      <td>Y</td>\n      <td>Y</td>\n      <td>Y</td>\n      <td>Y</td>\n      <td>Y</td>\n      <td>Y</td>\n      <td>NaN</td>\n      <td>NaN</td>\n      <td>NaN</td>\n      <td>NaN</td>\n      <td>NaN</td>\n      <td>NaN</td>\n      <td>NaN</td>\n      <td>NaN</td>\n      <td>NaN</td>\n      <td>NaN</td>\n      <td>NaN</td>\n      <td>NaN</td>\n      <td>N</td>\n      <td>N</td>\n      <td>NaN</td>\n      <td>7711</td>\n      <td>NaN</td>\n      <td>NaN</td>\n      <td>Clg of Environmental Design</td>\n      <td>Clg of Environmental Design</td>\n      <td>Architecture</td>\n      <td>English</td>\n      <td>...</td>\n      <td>NaN</td>\n      <td>NaN</td>\n      <td>NaN</td>\n      <td>NaN</td>\n      <td>Clg of Env Design</td>\n      <td>Clg of Env Design</td>\n      <td>Architecture</td>\n      <td>Architecture</td>\n      <td>NaN</td>\n      <td>NaN</td>\n      <td>NaN</td>\n      <td>NaN</td>\n      <td>NaN</td>\n      <td>NaN</td>\n      <td>NaN</td>\n      <td>NaN</td>\n      <td>NaN</td>\n      <td>NaN</td>\n      <td>NaN</td>\n      <td>NaN</td>\n      <td>2012.0</td>\n      <td>Spring</td>\n      <td>2011-12</td>\n      <td>2.972</td>\n      <td>Clg of Environmental Design</td>\n      <td>Clg of Environmental Design</td>\n      <td>Architecture</td>\n      <td>Architecture</td>\n      <td>NaN</td>\n      <td>NaN</td>\n      <td>NaN</td>\n      <td>NaN</td>\n      <td>NaN</td>\n      <td>NaN</td>\n      <td>NaN</td>\n      <td>NaN</td>\n      <td>NaN</td>\n      <td>NaN</td>\n      <td>NaN</td>\n      <td>NaN</td>\n    </tr>\n    <tr>\n      <th>...</th>\n      <td>...</td>\n      <td>...</td>\n      <td>...</td>\n      <td>...</td>\n      <td>...</td>\n      <td>...</td>\n      <td>...</td>\n      <td>...</td>\n      <td>...</td>\n      <td>...</td>\n      <td>...</td>\n      <td>...</td>\n      <td>...</td>\n      <td>...</td>\n      <td>...</td>\n      <td>...</td>\n      <td>...</td>\n      <td>...</td>\n      <td>...</td>\n      <td>...</td>\n      <td>...</td>\n      <td>...</td>\n      <td>...</td>\n      <td>...</td>\n      <td>...</td>\n      <td>...</td>\n      <td>...</td>\n      <td>...</td>\n      <td>...</td>\n      <td>...</td>\n      <td>...</td>\n      <td>...</td>\n      <td>...</td>\n      <td>...</td>\n      <td>...</td>\n      <td>...</td>\n      <td>...</td>\n      <td>...</td>\n      <td>...</td>\n      <td>...</td>\n      <td>...</td>\n      <td>...</td>\n      <td>...</td>\n      <td>...</td>\n      <td>...</td>\n      <td>...</td>\n      <td>...</td>\n      <td>...</td>\n      <td>...</td>\n      <td>...</td>\n      <td>...</td>\n      <td>...</td>\n      <td>...</td>\n      <td>...</td>\n      <td>...</td>\n      <td>...</td>\n      <td>...</td>\n      <td>...</td>\n      <td>...</td>\n      <td>...</td>\n      <td>...</td>\n      <td>...</td>\n      <td>...</td>\n      <td>...</td>\n      <td>...</td>\n      <td>...</td>\n      <td>...</td>\n      <td>...</td>\n      <td>...</td>\n      <td>...</td>\n      <td>...</td>\n      <td>...</td>\n      <td>...</td>\n      <td>...</td>\n      <td>...</td>\n      <td>...</td>\n      <td>...</td>\n      <td>...</td>\n      <td>...</td>\n      <td>...</td>\n      <td>...</td>\n    </tr>\n    <tr>\n      <th>80503</th>\n      <td>2854707</td>\n      <td>1</td>\n      <td>2016</td>\n      <td>Fall</td>\n      <td>NEW FRESHMEN</td>\n      <td>Nonresident</td>\n      <td>Male</td>\n      <td>International</td>\n      <td>International</td>\n      <td>International</td>\n      <td>N</td>\n      <td>NaN</td>\n      <td>N</td>\n      <td>N</td>\n      <td>N</td>\n      <td>N</td>\n      <td>N</td>\n      <td>N</td>\n      <td>3.00</td>\n      <td>3.33</td>\n      <td>1050.0</td>\n      <td>560.0</td>\n      <td>500.0</td>\n      <td>420.0</td>\n      <td>NaN</td>\n      <td>NaN</td>\n      <td>NaN</td>\n      <td>NaN</td>\n      <td>NaN</td>\n      <td>NaN</td>\n      <td>N</td>\n      <td>N</td>\n      <td>NaN</td>\n      <td>825997</td>\n      <td>110000.0</td>\n      <td>NaN</td>\n      <td>Clg of Letters &amp; Science</td>\n      <td>L&amp;S Undeclared</td>\n      <td>L&amp;S Undeclared</td>\n      <td>Other</td>\n      <td>...</td>\n      <td>NaN</td>\n      <td>NaN</td>\n      <td>NaN</td>\n      <td>NaN</td>\n      <td>NaN</td>\n      <td>NaN</td>\n      <td>NaN</td>\n      <td>NaN</td>\n      <td>NaN</td>\n      <td>NaN</td>\n      <td>NaN</td>\n      <td>NaN</td>\n      <td>NaN</td>\n      <td>NaN</td>\n      <td>NaN</td>\n      <td>NaN</td>\n      <td>NaN</td>\n      <td>NaN</td>\n      <td>NaN</td>\n      <td>NaN</td>\n      <td>NaN</td>\n      <td>NaN</td>\n      <td>NaN</td>\n      <td>NaN</td>\n      <td>NaN</td>\n      <td>NaN</td>\n      <td>NaN</td>\n      <td>NaN</td>\n      <td>NaN</td>\n      <td>NaN</td>\n      <td>NaN</td>\n      <td>NaN</td>\n      <td>NaN</td>\n      <td>NaN</td>\n      <td>NaN</td>\n      <td>NaN</td>\n      <td>NaN</td>\n      <td>NaN</td>\n      <td>NaN</td>\n      <td>NaN</td>\n    </tr>\n    <tr>\n      <th>80504</th>\n      <td>2855617</td>\n      <td>1</td>\n      <td>2016</td>\n      <td>Fall</td>\n      <td>NEW FRESHMEN</td>\n      <td>Resident</td>\n      <td>Female</td>\n      <td>Underrepresented Minority</td>\n      <td>African American</td>\n      <td>African American/Black</td>\n      <td>N</td>\n      <td>NaN</td>\n      <td>N</td>\n      <td>N</td>\n      <td>N</td>\n      <td>N</td>\n      <td>N</td>\n      <td>N</td>\n      <td>2.89</td>\n      <td>2.89</td>\n      <td>830.0</td>\n      <td>430.0</td>\n      <td>400.0</td>\n      <td>410.0</td>\n      <td>NaN</td>\n      <td>NaN</td>\n      <td>NaN</td>\n      <td>NaN</td>\n      <td>NaN</td>\n      <td>NaN</td>\n      <td>N</td>\n      <td>N</td>\n      <td>NaN</td>\n      <td>53435</td>\n      <td>80000.0</td>\n      <td>NaN</td>\n      <td>Clg of Letters &amp; Science</td>\n      <td>L&amp;S Undeclared</td>\n      <td>L&amp;S Undeclared</td>\n      <td>English</td>\n      <td>...</td>\n      <td>NaN</td>\n      <td>NaN</td>\n      <td>NaN</td>\n      <td>NaN</td>\n      <td>NaN</td>\n      <td>NaN</td>\n      <td>NaN</td>\n      <td>NaN</td>\n      <td>NaN</td>\n      <td>NaN</td>\n      <td>NaN</td>\n      <td>NaN</td>\n      <td>NaN</td>\n      <td>NaN</td>\n      <td>NaN</td>\n      <td>NaN</td>\n      <td>NaN</td>\n      <td>NaN</td>\n      <td>NaN</td>\n      <td>NaN</td>\n      <td>NaN</td>\n      <td>NaN</td>\n      <td>NaN</td>\n      <td>NaN</td>\n      <td>NaN</td>\n      <td>NaN</td>\n      <td>NaN</td>\n      <td>NaN</td>\n      <td>NaN</td>\n      <td>NaN</td>\n      <td>NaN</td>\n      <td>NaN</td>\n      <td>NaN</td>\n      <td>NaN</td>\n      <td>NaN</td>\n      <td>NaN</td>\n      <td>NaN</td>\n      <td>NaN</td>\n      <td>NaN</td>\n      <td>NaN</td>\n    </tr>\n    <tr>\n      <th>80505</th>\n      <td>2855618</td>\n      <td>1</td>\n      <td>2016</td>\n      <td>Fall</td>\n      <td>ADVANCED STANDING</td>\n      <td>Nonresident</td>\n      <td>Male</td>\n      <td>International</td>\n      <td>International</td>\n      <td>International</td>\n      <td>N</td>\n      <td>NaN</td>\n      <td>N</td>\n      <td>N</td>\n      <td>N</td>\n      <td>N</td>\n      <td>N</td>\n      <td>N</td>\n      <td>NaN</td>\n      <td>NaN</td>\n      <td>NaN</td>\n      <td>NaN</td>\n      <td>NaN</td>\n      <td>NaN</td>\n      <td>NaN</td>\n      <td>NaN</td>\n      <td>NaN</td>\n      <td>NaN</td>\n      <td>NaN</td>\n      <td>NaN</td>\n      <td>N</td>\n      <td>N</td>\n      <td>NaN</td>\n      <td>6043</td>\n      <td>NaN</td>\n      <td>88810.0</td>\n      <td>Clg of Letters &amp; Science</td>\n      <td>L&amp;S Undeclared</td>\n      <td>L&amp;S Undeclared</td>\n      <td>English+Other</td>\n      <td>...</td>\n      <td>NaN</td>\n      <td>NaN</td>\n      <td>NaN</td>\n      <td>NaN</td>\n      <td>NaN</td>\n      <td>NaN</td>\n      <td>NaN</td>\n      <td>NaN</td>\n      <td>NaN</td>\n      <td>NaN</td>\n      <td>NaN</td>\n      <td>NaN</td>\n      <td>NaN</td>\n      <td>NaN</td>\n      <td>NaN</td>\n      <td>NaN</td>\n      <td>NaN</td>\n      <td>NaN</td>\n      <td>NaN</td>\n      <td>NaN</td>\n      <td>NaN</td>\n      <td>NaN</td>\n      <td>NaN</td>\n      <td>NaN</td>\n      <td>NaN</td>\n      <td>NaN</td>\n      <td>NaN</td>\n      <td>NaN</td>\n      <td>NaN</td>\n      <td>NaN</td>\n      <td>NaN</td>\n      <td>NaN</td>\n      <td>NaN</td>\n      <td>NaN</td>\n      <td>NaN</td>\n      <td>NaN</td>\n      <td>NaN</td>\n      <td>NaN</td>\n      <td>NaN</td>\n      <td>NaN</td>\n    </tr>\n    <tr>\n      <th>80506</th>\n      <td>2855940</td>\n      <td>1</td>\n      <td>2016</td>\n      <td>Fall</td>\n      <td>ADVANCED STANDING</td>\n      <td>Resident</td>\n      <td>Male</td>\n      <td>Underrepresented Minority</td>\n      <td>Chicano/Latino</td>\n      <td>Mexican American/Chicano</td>\n      <td>N</td>\n      <td>NaN</td>\n      <td>N</td>\n      <td>N</td>\n      <td>N</td>\n      <td>N</td>\n      <td>N</td>\n      <td>N</td>\n      <td>NaN</td>\n      <td>NaN</td>\n      <td>NaN</td>\n      <td>NaN</td>\n      <td>NaN</td>\n      <td>NaN</td>\n      <td>NaN</td>\n      <td>NaN</td>\n      <td>NaN</td>\n      <td>NaN</td>\n      <td>NaN</td>\n      <td>NaN</td>\n      <td>Y</td>\n      <td>Y</td>\n      <td>NaN</td>\n      <td>7587</td>\n      <td>108000.0</td>\n      <td>NaN</td>\n      <td>Clg of Letters &amp; Science</td>\n      <td>L&amp;S Undergrad Studies Division</td>\n      <td>UG Interdisciplinary Studies</td>\n      <td>English</td>\n      <td>...</td>\n      <td>NaN</td>\n      <td>NaN</td>\n      <td>NaN</td>\n      <td>NaN</td>\n      <td>NaN</td>\n      <td>NaN</td>\n      <td>NaN</td>\n      <td>NaN</td>\n      <td>NaN</td>\n      <td>NaN</td>\n      <td>NaN</td>\n      <td>NaN</td>\n      <td>NaN</td>\n      <td>NaN</td>\n      <td>NaN</td>\n      <td>NaN</td>\n      <td>NaN</td>\n      <td>NaN</td>\n      <td>NaN</td>\n      <td>NaN</td>\n      <td>NaN</td>\n      <td>NaN</td>\n      <td>NaN</td>\n      <td>NaN</td>\n      <td>NaN</td>\n      <td>NaN</td>\n      <td>NaN</td>\n      <td>NaN</td>\n      <td>NaN</td>\n      <td>NaN</td>\n      <td>NaN</td>\n      <td>NaN</td>\n      <td>NaN</td>\n      <td>NaN</td>\n      <td>NaN</td>\n      <td>NaN</td>\n      <td>NaN</td>\n      <td>NaN</td>\n      <td>NaN</td>\n      <td>NaN</td>\n    </tr>\n    <tr>\n      <th>80507</th>\n      <td>2855983</td>\n      <td>1</td>\n      <td>2016</td>\n      <td>Fall</td>\n      <td>ADVANCED STANDING</td>\n      <td>Resident</td>\n      <td>Male</td>\n      <td>White/Other</td>\n      <td>White</td>\n      <td>White</td>\n      <td>N</td>\n      <td>NaN</td>\n      <td>N</td>\n      <td>N</td>\n      <td>N</td>\n      <td>N</td>\n      <td>N</td>\n      <td>N</td>\n      <td>NaN</td>\n      <td>NaN</td>\n      <td>NaN</td>\n      <td>NaN</td>\n      <td>NaN</td>\n      <td>NaN</td>\n      <td>NaN</td>\n      <td>NaN</td>\n      <td>NaN</td>\n      <td>NaN</td>\n      <td>NaN</td>\n      <td>NaN</td>\n      <td>N</td>\n      <td>N</td>\n      <td>NaN</td>\n      <td>4837</td>\n      <td>NaN</td>\n      <td>NaN</td>\n      <td>Clg of Letters &amp; Science</td>\n      <td>L&amp;S Undeclared</td>\n      <td>L&amp;S Undeclared</td>\n      <td>English</td>\n      <td>...</td>\n      <td>NaN</td>\n      <td>NaN</td>\n      <td>NaN</td>\n      <td>NaN</td>\n      <td>NaN</td>\n      <td>NaN</td>\n      <td>NaN</td>\n      <td>NaN</td>\n      <td>NaN</td>\n      <td>NaN</td>\n      <td>NaN</td>\n      <td>NaN</td>\n      <td>NaN</td>\n      <td>NaN</td>\n      <td>NaN</td>\n      <td>NaN</td>\n      <td>NaN</td>\n      <td>NaN</td>\n      <td>NaN</td>\n      <td>NaN</td>\n      <td>NaN</td>\n      <td>NaN</td>\n      <td>NaN</td>\n      <td>NaN</td>\n      <td>NaN</td>\n      <td>NaN</td>\n      <td>NaN</td>\n      <td>NaN</td>\n      <td>NaN</td>\n      <td>NaN</td>\n      <td>NaN</td>\n      <td>NaN</td>\n      <td>NaN</td>\n      <td>NaN</td>\n      <td>NaN</td>\n      <td>NaN</td>\n      <td>NaN</td>\n      <td>NaN</td>\n      <td>NaN</td>\n      <td>NaN</td>\n    </tr>\n  </tbody>\n</table>\n<p>80508 rows × 108 columns</p>\n</div>"
     },
     "metadata": {},
     "execution_count": 11
    }
   ],
   "source": [
    "stem_path"
   ]
  },
  {
   "cell_type": "code",
   "execution_count": 9,
   "metadata": {},
   "outputs": [
    {
     "output_type": "stream",
     "name": "stderr",
     "text": [
      "/usr/local/lib/python3.7/dist-packages/IPython/core/interactiveshell.py:2822: DtypeWarning: Columns (7) have mixed types.Specify dtype option on import or set low_memory=False.\n",
      "  if self.run_code(code, result):\n",
      "/usr/local/lib/python3.7/dist-packages/IPython/core/interactiveshell.py:2822: DtypeWarning: Columns (8) have mixed types.Specify dtype option on import or set low_memory=False.\n",
      "  if self.run_code(code, result):\n"
     ]
    }
   ],
   "source": [
    "# Be aware, this cell is very resource intensive\n",
    "course_data.sort()\n",
    "student_courses = pd.DataFrame()\n",
    "for f in course_data:\n",
    "    student_courses = student_courses.append(pd.read_table(f))"
   ]
  },
  {
   "cell_type": "code",
   "execution_count": 10,
   "metadata": {},
   "outputs": [
    {
     "output_type": "execute_result",
     "data": {
      "text/plain": [
       "['/content/drive/MyDrive/Colab Notebooks/data/uc.berkeley.student.course.data.2007.txt',\n",
       " '/content/drive/MyDrive/Colab Notebooks/data/uc.berkeley.student.course.data.2008.txt',\n",
       " '/content/drive/MyDrive/Colab Notebooks/data/uc.berkeley.student.course.data.2009.txt',\n",
       " '/content/drive/MyDrive/Colab Notebooks/data/uc.berkeley.student.course.data.2010.txt',\n",
       " '/content/drive/MyDrive/Colab Notebooks/data/uc.berkeley.student.course.data.2011.txt',\n",
       " '/content/drive/MyDrive/Colab Notebooks/data/uc.berkeley.student.course.data.2012.txt',\n",
       " '/content/drive/MyDrive/Colab Notebooks/data/uc.berkeley.student.course.data.2013.txt',\n",
       " '/content/drive/MyDrive/Colab Notebooks/data/uc.berkeley.student.course.data.2014.txt',\n",
       " '/content/drive/MyDrive/Colab Notebooks/data/uc.berkeley.student.course.data.2015.txt',\n",
       " '/content/drive/MyDrive/Colab Notebooks/data/uc.berkeley.student.course.data.2016.txt',\n",
       " '/content/drive/MyDrive/Colab Notebooks/data/uc.berkeley.student.course.data.2017.txt',\n",
       " '/content/drive/MyDrive/Colab Notebooks/data/uc.berkeley.student.course.data.2018.fall.txt',\n",
       " '/content/drive/MyDrive/Colab Notebooks/data/uc.berkeley.student.course.data.2018.spring.txt',\n",
       " '/content/drive/MyDrive/Colab Notebooks/data/uc.berkeley.student.course.data.2018.summer.txt',\n",
       " '/content/drive/MyDrive/Colab Notebooks/data/uc.berkeley.student.course.data.2019.fall.txt',\n",
       " '/content/drive/MyDrive/Colab Notebooks/data/uc.berkeley.student.course.data.2019.spring.txt',\n",
       " '/content/drive/MyDrive/Colab Notebooks/data/uc.berkeley.student.course.data.2019.summer.txt',\n",
       " '/content/drive/MyDrive/Colab Notebooks/data/uc.berkeley.student.course.data.2020.fall.txt',\n",
       " '/content/drive/MyDrive/Colab Notebooks/data/uc.berkeley.student.course.data.2020.spring.txt',\n",
       " '/content/drive/MyDrive/Colab Notebooks/data/uc.berkeley.student.course.data.2020.summer.txt']"
      ]
     },
     "metadata": {},
     "execution_count": 10
    }
   ],
   "source": [
    "course_data"
   ]
  },
  {
   "cell_type": "code",
   "execution_count": 3,
   "metadata": {},
   "outputs": [
    {
     "output_type": "error",
     "ename": "NameError",
     "evalue": "name 'student_courses' is not defined",
     "traceback": [
      "\u001b[0;31m---------------------------------------------------------------------------\u001b[0m",
      "\u001b[0;31mNameError\u001b[0m                                 Traceback (most recent call last)",
      "\u001b[0;32m<ipython-input-3-e54f805416c6>\u001b[0m in \u001b[0;36m<module>\u001b[0;34m()\u001b[0m\n\u001b[1;32m      1\u001b[0m \u001b[0;31m# minor data cleaning\u001b[0m\u001b[0;34m\u001b[0m\u001b[0;34m\u001b[0m\u001b[0;34m\u001b[0m\u001b[0m\n\u001b[0;32m----> 2\u001b[0;31m \u001b[0mstudent_courses\u001b[0m \u001b[0;34m=\u001b[0m \u001b[0mstudent_courses\u001b[0m\u001b[0;34m[\u001b[0m\u001b[0;34m~\u001b[0m\u001b[0mstudent_courses\u001b[0m\u001b[0;34m[\u001b[0m\u001b[0;34m'ppsk'\u001b[0m\u001b[0;34m]\u001b[0m\u001b[0;34m.\u001b[0m\u001b[0misnull\u001b[0m\u001b[0;34m(\u001b[0m\u001b[0;34m)\u001b[0m\u001b[0;34m]\u001b[0m\u001b[0;34m\u001b[0m\u001b[0;34m\u001b[0m\u001b[0m\n\u001b[0m\u001b[1;32m      3\u001b[0m \u001b[0mstudent_courses\u001b[0m \u001b[0;34m=\u001b[0m \u001b[0mstudent_courses\u001b[0m\u001b[0;34m[\u001b[0m\u001b[0mstudent_courses\u001b[0m\u001b[0;34m[\u001b[0m\u001b[0;34m'ppsk'\u001b[0m\u001b[0;34m]\u001b[0m \u001b[0;34m!=\u001b[0m \u001b[0;34m-\u001b[0m\u001b[0;36m1\u001b[0m\u001b[0;34m]\u001b[0m\u001b[0;34m\u001b[0m\u001b[0;34m\u001b[0m\u001b[0m\n\u001b[1;32m      4\u001b[0m \u001b[0;32mfor\u001b[0m \u001b[0mi\u001b[0m \u001b[0;32min\u001b[0m \u001b[0mstudent_courses\u001b[0m\u001b[0;34m.\u001b[0m\u001b[0mcolumns\u001b[0m\u001b[0;34m:\u001b[0m\u001b[0;34m\u001b[0m\u001b[0;34m\u001b[0m\u001b[0m\n\u001b[1;32m      5\u001b[0m     \u001b[0;32mif\u001b[0m \u001b[0mstudent_courses\u001b[0m\u001b[0;34m[\u001b[0m\u001b[0mi\u001b[0m\u001b[0;34m]\u001b[0m\u001b[0;34m.\u001b[0m\u001b[0misnull\u001b[0m\u001b[0;34m(\u001b[0m\u001b[0;34m)\u001b[0m\u001b[0;34m.\u001b[0m\u001b[0mall\u001b[0m\u001b[0;34m(\u001b[0m\u001b[0;34m)\u001b[0m\u001b[0;34m:\u001b[0m\u001b[0;34m\u001b[0m\u001b[0;34m\u001b[0m\u001b[0m\n",
      "\u001b[0;31mNameError\u001b[0m: name 'student_courses' is not defined"
     ]
    }
   ],
   "source": [
    "# minor data cleaning\n",
    "student_courses = student_courses[~student_courses['ppsk'].isnull()]\n",
    "student_courses = student_courses[student_courses['ppsk'] != -1]\n",
    "for i in student_courses.columns:\n",
    "    if student_courses[i].isnull().all():\n",
    "        student_courses.drop(i,axis=1,inplace=True)"
   ]
  },
  {
   "cell_type": "code",
   "execution_count": 12,
   "metadata": {},
   "outputs": [
    {
     "output_type": "execute_result",
     "data": {
      "text/plain": [
       "array(['724096', '687168', '781707', ..., '4365425', '4365890', '4478634'],\n",
       "      dtype=object)"
      ]
     },
     "metadata": {},
     "execution_count": 12
    }
   ],
   "source": [
    "# every student who holds a maker pass\n",
    "maker_passes = pd.read_table(passes[0])\n",
    "maker_passes = maker_passes[maker_passes['ppsk'] != 'MISSING']\n",
    "maker_passes = maker_passes['ppsk'].unique()\n",
    "maker_passes"
   ]
  },
  {
   "cell_type": "code",
   "execution_count": 13,
   "metadata": {},
   "outputs": [
    {
     "output_type": "execute_result",
     "data": {
      "text/plain": [
       "         year.name       ppsk  ... grade.points student.credit.hours\n",
       "93     2007 Summer    31341.0  ...          4.0                 10.0\n",
       "94     2007 Summer    33827.0  ...          4.0                 10.0\n",
       "95     2007 Summer   169335.0  ...          4.0                  4.0\n",
       "96     2007 Summer   194536.0  ...          4.0                  4.0\n",
       "97     2007 Summer   198873.0  ...          4.0                  6.0\n",
       "...            ...        ...  ...          ...                  ...\n",
       "23102  2019 Summer  4271436.0  ...          2.7                  3.0\n",
       "23103  2019 Summer  4271494.0  ...          4.0                  3.0\n",
       "23104  2019 Summer  4271527.0  ...          4.0                  3.0\n",
       "23105  2019 Summer  4271531.0  ...          4.0                  4.0\n",
       "23106  2019 Summer  4271995.0  ...          0.0                  2.0\n",
       "\n",
       "[5597609 rows x 17 columns]"
      ],
      "text/html": "<div>\n<style scoped>\n    .dataframe tbody tr th:only-of-type {\n        vertical-align: middle;\n    }\n\n    .dataframe tbody tr th {\n        vertical-align: top;\n    }\n\n    .dataframe thead th {\n        text-align: right;\n    }\n</style>\n<table border=\"1\" class=\"dataframe\">\n  <thead>\n    <tr style=\"text-align: right;\">\n      <th></th>\n      <th>year.name</th>\n      <th>ppsk</th>\n      <th>undergrad.status</th>\n      <th>course.department</th>\n      <th>course.subject</th>\n      <th>course.number</th>\n      <th>offering.type</th>\n      <th>section.number</th>\n      <th>ccn</th>\n      <th>room.share</th>\n      <th>course.title</th>\n      <th>instructor.name</th>\n      <th>grade.subtype</th>\n      <th>grade.type</th>\n      <th>grade.name</th>\n      <th>grade.points</th>\n      <th>student.credit.hours</th>\n    </tr>\n  </thead>\n  <tbody>\n    <tr>\n      <th>93</th>\n      <td>2007 Summer</td>\n      <td>31341.0</td>\n      <td>Graduate</td>\n      <td>Near Eastern Studies</td>\n      <td>Persian</td>\n      <td>20</td>\n      <td>Primary</td>\n      <td>1</td>\n      <td>70310</td>\n      <td>70310.0</td>\n      <td>Inten Inter Persian</td>\n      <td>Jaleh Pirnazar</td>\n      <td>A</td>\n      <td>Letter Grade</td>\n      <td>A+</td>\n      <td>4.0</td>\n      <td>10.0</td>\n    </tr>\n    <tr>\n      <th>94</th>\n      <td>2007 Summer</td>\n      <td>33827.0</td>\n      <td>Graduate</td>\n      <td>German</td>\n      <td>German</td>\n      <td>10</td>\n      <td>Primary</td>\n      <td>1</td>\n      <td>48655</td>\n      <td>48655.0</td>\n      <td>Elem German Wrkshp</td>\n      <td>Meredith Kolar; Nikolaus Euba</td>\n      <td>A</td>\n      <td>Letter Grade</td>\n      <td>A+</td>\n      <td>4.0</td>\n      <td>10.0</td>\n    </tr>\n    <tr>\n      <th>95</th>\n      <td>2007 Summer</td>\n      <td>169335.0</td>\n      <td>Graduate</td>\n      <td>Near Eastern Studies</td>\n      <td>Near Eastern Studies</td>\n      <td>290A</td>\n      <td>Independent Study</td>\n      <td>3</td>\n      <td>66140</td>\n      <td>66140.0</td>\n      <td>Special Studies</td>\n      <td>Hatem Bazian</td>\n      <td>A</td>\n      <td>Letter Grade</td>\n      <td>A+</td>\n      <td>4.0</td>\n      <td>4.0</td>\n    </tr>\n    <tr>\n      <th>96</th>\n      <td>2007 Summer</td>\n      <td>194536.0</td>\n      <td>Graduate</td>\n      <td>Ethnic Studies</td>\n      <td>Ethnic Studies</td>\n      <td>135AC</td>\n      <td>Primary</td>\n      <td>2</td>\n      <td>45245</td>\n      <td>45245.0</td>\n      <td>U.S. Immigration</td>\n      <td>Catherine Choy</td>\n      <td>A</td>\n      <td>Letter Grade</td>\n      <td>A+</td>\n      <td>4.0</td>\n      <td>4.0</td>\n    </tr>\n    <tr>\n      <th>97</th>\n      <td>2007 Summer</td>\n      <td>198873.0</td>\n      <td>Undergraduate</td>\n      <td>Near Eastern Studies</td>\n      <td>Hebrew</td>\n      <td>N106</td>\n      <td>Primary</td>\n      <td>1</td>\n      <td>50010</td>\n      <td>50010.0</td>\n      <td>Elem Bibl Hebrew</td>\n      <td>Chava Boyarin</td>\n      <td>A</td>\n      <td>Letter Grade</td>\n      <td>A+</td>\n      <td>4.0</td>\n      <td>6.0</td>\n    </tr>\n    <tr>\n      <th>...</th>\n      <td>...</td>\n      <td>...</td>\n      <td>...</td>\n      <td>...</td>\n      <td>...</td>\n      <td>...</td>\n      <td>...</td>\n      <td>...</td>\n      <td>...</td>\n      <td>...</td>\n      <td>...</td>\n      <td>...</td>\n      <td>...</td>\n      <td>...</td>\n      <td>...</td>\n      <td>...</td>\n      <td>...</td>\n    </tr>\n    <tr>\n      <th>23102</th>\n      <td>2019 Summer</td>\n      <td>4271436.0</td>\n      <td>Undergraduate</td>\n      <td>Nutritional Sciences &amp; Tox</td>\n      <td>Nutritional Science &amp; Tox</td>\n      <td>10</td>\n      <td>Primary</td>\n      <td>2</td>\n      <td>14561</td>\n      <td>14561.0</td>\n      <td>Intro Human Nutr</td>\n      <td>NaN</td>\n      <td>B</td>\n      <td>Letter Grade</td>\n      <td>B-</td>\n      <td>2.7</td>\n      <td>3.0</td>\n    </tr>\n    <tr>\n      <th>23103</th>\n      <td>2019 Summer</td>\n      <td>4271494.0</td>\n      <td>Undergraduate</td>\n      <td>Psychology</td>\n      <td>Psychology</td>\n      <td>166AC</td>\n      <td>Primary</td>\n      <td>1</td>\n      <td>14105</td>\n      <td>14105.0</td>\n      <td>Cultural Psychology</td>\n      <td>NaN</td>\n      <td>A</td>\n      <td>Letter Grade</td>\n      <td>A+</td>\n      <td>4.0</td>\n      <td>3.0</td>\n    </tr>\n    <tr>\n      <th>23104</th>\n      <td>2019 Summer</td>\n      <td>4271527.0</td>\n      <td>Undergraduate</td>\n      <td>Theater Dance &amp; Perf Stds</td>\n      <td>Theater Dance &amp; Perf Stds</td>\n      <td>10</td>\n      <td>Primary</td>\n      <td>1</td>\n      <td>14043</td>\n      <td>14043.0</td>\n      <td>Fund. Of Acting I</td>\n      <td>NaN</td>\n      <td>A</td>\n      <td>Letter Grade</td>\n      <td>A</td>\n      <td>4.0</td>\n      <td>3.0</td>\n    </tr>\n    <tr>\n      <th>23105</th>\n      <td>2019 Summer</td>\n      <td>4271531.0</td>\n      <td>Undergraduate</td>\n      <td>Interdisc Social Science Pgms</td>\n      <td>Global Studies</td>\n      <td>154M</td>\n      <td>Primary</td>\n      <td>3</td>\n      <td>15353</td>\n      <td>15353.0</td>\n      <td>Topics Middle East</td>\n      <td>NaN</td>\n      <td>A</td>\n      <td>Letter Grade</td>\n      <td>A</td>\n      <td>4.0</td>\n      <td>4.0</td>\n    </tr>\n    <tr>\n      <th>23106</th>\n      <td>2019 Summer</td>\n      <td>4271995.0</td>\n      <td>Undergraduate</td>\n      <td>College Writing Programs</td>\n      <td>College Writing Programs</td>\n      <td>6H</td>\n      <td>Primary</td>\n      <td>2</td>\n      <td>14281</td>\n      <td>14281.0</td>\n      <td>Esl Writing</td>\n      <td>NaN</td>\n      <td>F</td>\n      <td>Letter Grade</td>\n      <td>F</td>\n      <td>0.0</td>\n      <td>2.0</td>\n    </tr>\n  </tbody>\n</table>\n<p>5597609 rows × 17 columns</p>\n</div>"
     },
     "metadata": {},
     "execution_count": 13
    }
   ],
   "source": [
    "student_courses"
   ]
  },
  {
   "cell_type": "code",
   "execution_count": 14,
   "metadata": {},
   "outputs": [],
   "source": [
    "# all students who took design innovation course\n",
    "all_jacobs = student_courses[student_courses[\"course.department\"] == \"Design Innovation\"]['ppsk'].unique()"
   ]
  },
  {
   "cell_type": "code",
   "execution_count": 15,
   "metadata": {},
   "outputs": [
    {
     "output_type": "execute_result",
     "data": {
      "text/plain": [
       "647"
      ]
     },
     "metadata": {},
     "execution_count": 15
    }
   ],
   "source": [
    "len(all_jacobs)"
   ]
  },
  {
   "cell_type": "code",
   "execution_count": 16,
   "metadata": {},
   "outputs": [
    {
     "output_type": "execute_result",
     "data": {
      "text/plain": [
       "8449"
      ]
     },
     "metadata": {},
     "execution_count": 16
    }
   ],
   "source": [
    "len(maker_passes)"
   ]
  },
  {
   "cell_type": "code",
   "execution_count": 17,
   "metadata": {},
   "outputs": [
    {
     "output_type": "stream",
     "name": "stdout",
     "text": [
      "Stored 'student_courses' (DataFrame)\n"
     ]
    }
   ],
   "source": [
    "%store student_courses"
   ]
  },
  {
   "cell_type": "code",
   "execution_count": 18,
   "metadata": {},
   "outputs": [
    {
     "output_type": "execute_result",
     "data": {
      "text/plain": [
       "array(['2015 Fall', '2015 Spring', '2016 Spring', '2016 Fall',\n",
       "       '2017 Spring', '2017 Summer', '2017 Fall', '2018 Fall',\n",
       "       '2018 Spring', '2018 Summer', '2019 Fall', '2019 Spring',\n",
       "       '2019 Summer'], dtype=object)"
      ]
     },
     "metadata": {},
     "execution_count": 18
    }
   ],
   "source": [
    "student_courses[student_courses[\"course.subject\"] == \"Design Innovation\"]['year.name'].unique()"
   ]
  },
  {
   "cell_type": "code",
   "execution_count": 19,
   "metadata": {},
   "outputs": [
    {
     "output_type": "error",
     "ename": "TypeError",
     "evalue": "Can only merge Series or DataFrame objects, a <class 'list'> was passed",
     "traceback": [
      "\u001b[0;31m---------------------------------------------------------------------------\u001b[0m",
      "\u001b[0;31mTypeError\u001b[0m                                 Traceback (most recent call last)",
      "\u001b[0;32m<ipython-input-19-e25f509fa5fd>\u001b[0m in \u001b[0;36m<module>\u001b[0;34m()\u001b[0m\n\u001b[0;32m----> 1\u001b[0;31m \u001b[0mfull_info\u001b[0m \u001b[0;34m=\u001b[0m \u001b[0mstudent_courses\u001b[0m\u001b[0;34m.\u001b[0m\u001b[0mmerge\u001b[0m\u001b[0;34m(\u001b[0m\u001b[0mpathways\u001b[0m\u001b[0;34m,\u001b[0m \u001b[0mleft_on\u001b[0m\u001b[0;34m=\u001b[0m \u001b[0;34m[\u001b[0m\u001b[0;34m'ppsk'\u001b[0m\u001b[0;34m]\u001b[0m\u001b[0;34m)\u001b[0m\u001b[0;34m\u001b[0m\u001b[0;34m\u001b[0m\u001b[0m\n\u001b[0m\u001b[1;32m      2\u001b[0m \u001b[0mfull_info\u001b[0m\u001b[0;34m\u001b[0m\u001b[0;34m\u001b[0m\u001b[0m\n",
      "\u001b[0;32m/usr/local/lib/python3.7/dist-packages/pandas/core/frame.py\u001b[0m in \u001b[0;36mmerge\u001b[0;34m(self, right, how, on, left_on, right_on, left_index, right_index, sort, suffixes, copy, indicator, validate)\u001b[0m\n\u001b[1;32m   7961\u001b[0m             \u001b[0mcopy\u001b[0m\u001b[0;34m=\u001b[0m\u001b[0mcopy\u001b[0m\u001b[0;34m,\u001b[0m\u001b[0;34m\u001b[0m\u001b[0;34m\u001b[0m\u001b[0m\n\u001b[1;32m   7962\u001b[0m             \u001b[0mindicator\u001b[0m\u001b[0;34m=\u001b[0m\u001b[0mindicator\u001b[0m\u001b[0;34m,\u001b[0m\u001b[0;34m\u001b[0m\u001b[0;34m\u001b[0m\u001b[0m\n\u001b[0;32m-> 7963\u001b[0;31m             \u001b[0mvalidate\u001b[0m\u001b[0;34m=\u001b[0m\u001b[0mvalidate\u001b[0m\u001b[0;34m,\u001b[0m\u001b[0;34m\u001b[0m\u001b[0;34m\u001b[0m\u001b[0m\n\u001b[0m\u001b[1;32m   7964\u001b[0m         )\n\u001b[1;32m   7965\u001b[0m \u001b[0;34m\u001b[0m\u001b[0m\n",
      "\u001b[0;32m/usr/local/lib/python3.7/dist-packages/pandas/core/reshape/merge.py\u001b[0m in \u001b[0;36mmerge\u001b[0;34m(left, right, how, on, left_on, right_on, left_index, right_index, sort, suffixes, copy, indicator, validate)\u001b[0m\n\u001b[1;32m     85\u001b[0m         \u001b[0mcopy\u001b[0m\u001b[0;34m=\u001b[0m\u001b[0mcopy\u001b[0m\u001b[0;34m,\u001b[0m\u001b[0;34m\u001b[0m\u001b[0;34m\u001b[0m\u001b[0m\n\u001b[1;32m     86\u001b[0m         \u001b[0mindicator\u001b[0m\u001b[0;34m=\u001b[0m\u001b[0mindicator\u001b[0m\u001b[0;34m,\u001b[0m\u001b[0;34m\u001b[0m\u001b[0;34m\u001b[0m\u001b[0m\n\u001b[0;32m---> 87\u001b[0;31m         \u001b[0mvalidate\u001b[0m\u001b[0;34m=\u001b[0m\u001b[0mvalidate\u001b[0m\u001b[0;34m,\u001b[0m\u001b[0;34m\u001b[0m\u001b[0;34m\u001b[0m\u001b[0m\n\u001b[0m\u001b[1;32m     88\u001b[0m     )\n\u001b[1;32m     89\u001b[0m     \u001b[0;32mreturn\u001b[0m \u001b[0mop\u001b[0m\u001b[0;34m.\u001b[0m\u001b[0mget_result\u001b[0m\u001b[0;34m(\u001b[0m\u001b[0;34m)\u001b[0m\u001b[0;34m\u001b[0m\u001b[0;34m\u001b[0m\u001b[0m\n",
      "\u001b[0;32m/usr/local/lib/python3.7/dist-packages/pandas/core/reshape/merge.py\u001b[0m in \u001b[0;36m__init__\u001b[0;34m(self, left, right, how, on, left_on, right_on, axis, left_index, right_index, sort, suffixes, copy, indicator, validate)\u001b[0m\n\u001b[1;32m    592\u001b[0m     ):\n\u001b[1;32m    593\u001b[0m         \u001b[0m_left\u001b[0m \u001b[0;34m=\u001b[0m \u001b[0m_validate_operand\u001b[0m\u001b[0;34m(\u001b[0m\u001b[0mleft\u001b[0m\u001b[0;34m)\u001b[0m\u001b[0;34m\u001b[0m\u001b[0;34m\u001b[0m\u001b[0m\n\u001b[0;32m--> 594\u001b[0;31m         \u001b[0m_right\u001b[0m \u001b[0;34m=\u001b[0m \u001b[0m_validate_operand\u001b[0m\u001b[0;34m(\u001b[0m\u001b[0mright\u001b[0m\u001b[0;34m)\u001b[0m\u001b[0;34m\u001b[0m\u001b[0;34m\u001b[0m\u001b[0m\n\u001b[0m\u001b[1;32m    595\u001b[0m         \u001b[0mself\u001b[0m\u001b[0;34m.\u001b[0m\u001b[0mleft\u001b[0m \u001b[0;34m=\u001b[0m \u001b[0mself\u001b[0m\u001b[0;34m.\u001b[0m\u001b[0morig_left\u001b[0m \u001b[0;34m=\u001b[0m \u001b[0m_left\u001b[0m\u001b[0;34m\u001b[0m\u001b[0;34m\u001b[0m\u001b[0m\n\u001b[1;32m    596\u001b[0m         \u001b[0mself\u001b[0m\u001b[0;34m.\u001b[0m\u001b[0mright\u001b[0m \u001b[0;34m=\u001b[0m \u001b[0mself\u001b[0m\u001b[0;34m.\u001b[0m\u001b[0morig_right\u001b[0m \u001b[0;34m=\u001b[0m \u001b[0m_right\u001b[0m\u001b[0;34m\u001b[0m\u001b[0;34m\u001b[0m\u001b[0m\n",
      "\u001b[0;32m/usr/local/lib/python3.7/dist-packages/pandas/core/reshape/merge.py\u001b[0m in \u001b[0;36m_validate_operand\u001b[0;34m(obj)\u001b[0m\n\u001b[1;32m   2065\u001b[0m     \u001b[0;32melse\u001b[0m\u001b[0;34m:\u001b[0m\u001b[0;34m\u001b[0m\u001b[0;34m\u001b[0m\u001b[0m\n\u001b[1;32m   2066\u001b[0m         raise TypeError(\n\u001b[0;32m-> 2067\u001b[0;31m             \u001b[0;34mf\"Can only merge Series or DataFrame objects, a {type(obj)} was passed\"\u001b[0m\u001b[0;34m\u001b[0m\u001b[0;34m\u001b[0m\u001b[0m\n\u001b[0m\u001b[1;32m   2068\u001b[0m         )\n\u001b[1;32m   2069\u001b[0m \u001b[0;34m\u001b[0m\u001b[0m\n",
      "\u001b[0;31mTypeError\u001b[0m: Can only merge Series or DataFrame objects, a <class 'list'> was passed"
     ]
    }
   ],
   "source": [
    "full_info = student_courses.merge(pathways, left_on= ['ppsk'])\n",
    "full_info"
   ]
  },
  {
   "cell_type": "code",
   "execution_count": 1,
   "metadata": {},
   "outputs": [
    {
     "output_type": "error",
     "ename": "NameError",
     "evalue": "name 'student_courses' is not defined",
     "traceback": [
      "\u001b[0;31m---------------------------------------------------------------------------\u001b[0m",
      "\u001b[0;31mNameError\u001b[0m                                 Traceback (most recent call last)",
      "\u001b[0;32m<ipython-input-1-aa5502cf3afd>\u001b[0m in \u001b[0;36m<module>\u001b[0;34m()\u001b[0m\n\u001b[1;32m      1\u001b[0m \u001b[0;31m# data exploration for student courses\u001b[0m\u001b[0;34m\u001b[0m\u001b[0;34m\u001b[0m\u001b[0;34m\u001b[0m\u001b[0m\n\u001b[0;32m----> 2\u001b[0;31m \u001b[0msorted\u001b[0m\u001b[0;34m(\u001b[0m\u001b[0mstudent_courses\u001b[0m\u001b[0;34m[\u001b[0m\u001b[0;34m'course.subject'\u001b[0m\u001b[0;34m]\u001b[0m\u001b[0;34m.\u001b[0m\u001b[0munique\u001b[0m\u001b[0;34m(\u001b[0m\u001b[0;34m)\u001b[0m\u001b[0;34m)\u001b[0m\u001b[0;34m\u001b[0m\u001b[0;34m\u001b[0m\u001b[0m\n\u001b[0m",
      "\u001b[0;31mNameError\u001b[0m: name 'student_courses' is not defined"
     ]
    }
   ],
   "source": [
    "# data exploration for student courses\n",
    "sorted(student_courses['course.subject'].unique())"
   ]
  },
  {
   "cell_type": "code",
   "execution_count": 2,
   "metadata": {},
   "outputs": [
    {
     "output_type": "error",
     "ename": "NameError",
     "evalue": "name 'student_courses' is not defined",
     "traceback": [
      "\u001b[0;31m---------------------------------------------------------------------------\u001b[0m",
      "\u001b[0;31mNameError\u001b[0m                                 Traceback (most recent call last)",
      "\u001b[0;32m<ipython-input-2-1db1730e05a9>\u001b[0m in \u001b[0;36m<module>\u001b[0;34m()\u001b[0m\n\u001b[0;32m----> 1\u001b[0;31m \u001b[0mstudent_courses\u001b[0m\u001b[0;34m[\u001b[0m\u001b[0mstudent_courses\u001b[0m\u001b[0;34m[\u001b[0m\u001b[0;34m[\u001b[0m\u001b[0;34m'grade.subtype'\u001b[0m\u001b[0;34m,\u001b[0m \u001b[0;34m'grade.type'\u001b[0m\u001b[0;34m,\u001b[0m \u001b[0;34m'grade.name'\u001b[0m\u001b[0;34m]\u001b[0m\u001b[0;34m]\u001b[0m\u001b[0;34m[\u001b[0m\u001b[0;34m'grade.type'\u001b[0m\u001b[0;34m]\u001b[0m \u001b[0;34m==\u001b[0m \u001b[0;34m'Non-Letter Grade'\u001b[0m\u001b[0;34m]\u001b[0m\u001b[0;34m[\u001b[0m\u001b[0;34m'grade.name'\u001b[0m\u001b[0;34m]\u001b[0m\u001b[0;34m.\u001b[0m\u001b[0munique\u001b[0m\u001b[0;34m(\u001b[0m\u001b[0;34m)\u001b[0m\u001b[0;34m\u001b[0m\u001b[0;34m\u001b[0m\u001b[0m\n\u001b[0m",
      "\u001b[0;31mNameError\u001b[0m: name 'student_courses' is not defined"
     ]
    }
   ],
   "source": [
    "student_courses[student_courses[['grade.subtype', 'grade.type', 'grade.name']]['grade.type'] == 'Non-Letter Grade']['grade.name'].unique()"
   ]
  },
  {
   "cell_type": "code",
   "execution_count": null,
   "metadata": {},
   "outputs": [],
   "source": []
  }
 ],
 "metadata": {
  "kernelspec": {
   "name": "python3",
   "display_name": "Python 3",
   "language": "python"
  },
  "language_info": {
   "codemirror_mode": {
    "name": "ipython",
    "version": 3
   },
   "file_extension": ".py",
   "mimetype": "text/x-python",
   "name": "python",
   "nbconvert_exporter": "python",
   "pygments_lexer": "ipython3",
   "version": "3.8.2-final"
  }
 },
 "nbformat": 4,
 "nbformat_minor": 2
}