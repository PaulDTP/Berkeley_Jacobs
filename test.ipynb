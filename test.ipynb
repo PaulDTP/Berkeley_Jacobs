{
 "cells": [
  {
   "cell_type": "code",
   "execution_count": 2,
   "metadata": {},
   "outputs": [],
   "source": [
    "import pandas as pd\n",
    "import numpy as np\n",
    "import seaborn as sns\n",
    "import matplotlib.pyplot as plt\n",
    "import glob"
   ]
  },
  {
   "cell_type": "code",
   "execution_count": 14,
   "metadata": {},
   "outputs": [],
   "source": [
    "#tea-investor-ex-communist.trycloudflare.com"
   ]
  },
  {
   "cell_type": "code",
   "execution_count": 16,
   "metadata": {},
   "outputs": [
    {
     "output_type": "stream",
     "name": "stdout",
     "text": [
      "/content\n"
     ]
    }
   ],
   "source": [
    "#if you upload a unzip file to JupyterLab\n",
    "#import zipfile as zf\n",
    "#files = zf.ZipFile(\"/home/jovyan/data.zip\", 'r')\n",
    "#files.extractall('/home/jovyan/')\n",
    "#files.close()"
   ]
  },
  {
   "cell_type": "code",
   "execution_count": 3,
   "metadata": {},
   "outputs": [],
   "source": [
    "df = pd.DataFrame()\n",
    "initial = \"/content/drive/MyDrive/Colab Notebooks/\"\n",
    "files = glob.glob(initial + \"data/*\")\n",
    "course_data = glob.glob(\"data/uc.berkeley.student.course.data.*.txt\")\n",
    "majors = glob.glob(\"data/uc.berkeley.student.majors.*.txt\")\n",
    "pathways = glob.glob(\"data/uc.berkeley.stem.*.txt\")\n",
    "participants = glob.glob(\"data/jacobs.*\")\n"
   ]
  },
  {
   "cell_type": "code",
   "execution_count": 20,
   "metadata": {},
   "outputs": [
    {
     "output_type": "execute_result",
     "data": {
      "text/plain": [
       "'/content/drive/MyDrive/Colab Notebooks/datadata/*'"
      ],
      "application/vnd.google.colaboratory.intrinsic+json": {
       "type": "string"
      }
     },
     "metadata": {},
     "execution_count": 20
    }
   ],
   "source": [
    "initial + \"data/*\""
   ]
  },
  {
   "cell_type": "code",
   "execution_count": 4,
   "metadata": {},
   "outputs": [
    {
     "output_type": "execute_result",
     "data": {
      "text/plain": [
       "['/content/drive/MyDrive/Colab Notebooks/data/STEM Pathways Data Dictionary.xlsx',\n",
       " '/content/drive/MyDrive/Colab Notebooks/data/jacobs.participants.txt',\n",
       " '/content/drive/MyDrive/Colab Notebooks/data/Previous Research',\n",
       " '/content/drive/MyDrive/Colab Notebooks/data/uc.berkeley.student.course.data.2012.txt',\n",
       " '/content/drive/MyDrive/Colab Notebooks/data/uc.berkeley.student.course.data.2007.txt']"
      ]
     },
     "metadata": {},
     "execution_count": 4
    }
   ],
   "source": [
    "files"
   ]
  },
  {
   "cell_type": "code",
   "execution_count": 5,
   "metadata": {},
   "outputs": [
    {
     "output_type": "execute_result",
     "data": {
      "text/plain": [
       "[]"
      ]
     },
     "metadata": {},
     "execution_count": 5
    }
   ],
   "source": [
    "course_data"
   ]
  },
  {
   "cell_type": "code",
   "execution_count": 10,
   "metadata": {},
   "outputs": [],
   "source": [
    "course_data.sort()\n",
    "student_courses = pd.DataFrame()\n",
    "for f in course_data:\n",
    "    student_courses = student_courses.append(pd.read_table(f))"
   ]
  },
  {
   "cell_type": "code",
   "execution_count": 11,
   "metadata": {},
   "outputs": [
    {
     "output_type": "execute_result",
     "data": {
      "text/plain": [
       "[]"
      ]
     },
     "metadata": {},
     "execution_count": 11
    }
   ],
   "source": [
    "course_data"
   ]
  },
  {
   "cell_type": "code",
   "execution_count": 12,
   "metadata": {},
   "outputs": [
    {
     "output_type": "execute_result",
     "data": {
      "text/plain": [
       "Empty DataFrame\n",
       "Columns: []\n",
       "Index: []"
      ],
      "text/html": "<div>\n<style scoped>\n    .dataframe tbody tr th:only-of-type {\n        vertical-align: middle;\n    }\n\n    .dataframe tbody tr th {\n        vertical-align: top;\n    }\n\n    .dataframe thead th {\n        text-align: right;\n    }\n</style>\n<table border=\"1\" class=\"dataframe\">\n  <thead>\n    <tr style=\"text-align: right;\">\n      <th></th>\n    </tr>\n  </thead>\n  <tbody>\n  </tbody>\n</table>\n</div>"
     },
     "metadata": {},
     "execution_count": 12
    }
   ],
   "source": [
    "student_courses"
   ]
  },
  {
   "cell_type": "code",
   "execution_count": 9,
   "metadata": {},
   "outputs": [
    {
     "output_type": "error",
     "ename": "KeyError",
     "evalue": "'ppsk'",
     "traceback": [
      "\u001b[0;31m---------------------------------------------------------------------------\u001b[0m",
      "\u001b[0;31mKeyError\u001b[0m                                  Traceback (most recent call last)",
      "\u001b[0;32m/usr/local/lib/python3.7/dist-packages/pandas/core/indexes/base.py\u001b[0m in \u001b[0;36mget_loc\u001b[0;34m(self, key, method, tolerance)\u001b[0m\n\u001b[1;32m   2897\u001b[0m             \u001b[0;32mtry\u001b[0m\u001b[0;34m:\u001b[0m\u001b[0;34m\u001b[0m\u001b[0;34m\u001b[0m\u001b[0m\n\u001b[0;32m-> 2898\u001b[0;31m                 \u001b[0;32mreturn\u001b[0m \u001b[0mself\u001b[0m\u001b[0;34m.\u001b[0m\u001b[0m_engine\u001b[0m\u001b[0;34m.\u001b[0m\u001b[0mget_loc\u001b[0m\u001b[0;34m(\u001b[0m\u001b[0mcasted_key\u001b[0m\u001b[0;34m)\u001b[0m\u001b[0;34m\u001b[0m\u001b[0;34m\u001b[0m\u001b[0m\n\u001b[0m\u001b[1;32m   2899\u001b[0m             \u001b[0;32mexcept\u001b[0m \u001b[0mKeyError\u001b[0m \u001b[0;32mas\u001b[0m \u001b[0merr\u001b[0m\u001b[0;34m:\u001b[0m\u001b[0;34m\u001b[0m\u001b[0;34m\u001b[0m\u001b[0m\n",
      "\u001b[0;32mpandas/_libs/index.pyx\u001b[0m in \u001b[0;36mpandas._libs.index.IndexEngine.get_loc\u001b[0;34m()\u001b[0m\n",
      "\u001b[0;32mpandas/_libs/index.pyx\u001b[0m in \u001b[0;36mpandas._libs.index.IndexEngine.get_loc\u001b[0;34m()\u001b[0m\n",
      "\u001b[0;32mpandas/_libs/hashtable_class_helper.pxi\u001b[0m in \u001b[0;36mpandas._libs.hashtable.PyObjectHashTable.get_item\u001b[0;34m()\u001b[0m\n",
      "\u001b[0;32mpandas/_libs/hashtable_class_helper.pxi\u001b[0m in \u001b[0;36mpandas._libs.hashtable.PyObjectHashTable.get_item\u001b[0;34m()\u001b[0m\n",
      "\u001b[0;31mKeyError\u001b[0m: 'ppsk'",
      "\nThe above exception was the direct cause of the following exception:\n",
      "\u001b[0;31mKeyError\u001b[0m                                  Traceback (most recent call last)",
      "\u001b[0;32m<ipython-input-9-e54f805416c6>\u001b[0m in \u001b[0;36m<module>\u001b[0;34m()\u001b[0m\n\u001b[1;32m      1\u001b[0m \u001b[0;31m# minor data cleaning\u001b[0m\u001b[0;34m\u001b[0m\u001b[0;34m\u001b[0m\u001b[0;34m\u001b[0m\u001b[0m\n\u001b[0;32m----> 2\u001b[0;31m \u001b[0mstudent_courses\u001b[0m \u001b[0;34m=\u001b[0m \u001b[0mstudent_courses\u001b[0m\u001b[0;34m[\u001b[0m\u001b[0;34m~\u001b[0m\u001b[0mstudent_courses\u001b[0m\u001b[0;34m[\u001b[0m\u001b[0;34m'ppsk'\u001b[0m\u001b[0;34m]\u001b[0m\u001b[0;34m.\u001b[0m\u001b[0misnull\u001b[0m\u001b[0;34m(\u001b[0m\u001b[0;34m)\u001b[0m\u001b[0;34m]\u001b[0m\u001b[0;34m\u001b[0m\u001b[0;34m\u001b[0m\u001b[0m\n\u001b[0m\u001b[1;32m      3\u001b[0m \u001b[0mstudent_courses\u001b[0m \u001b[0;34m=\u001b[0m \u001b[0mstudent_courses\u001b[0m\u001b[0;34m[\u001b[0m\u001b[0mstudent_courses\u001b[0m\u001b[0;34m[\u001b[0m\u001b[0;34m'ppsk'\u001b[0m\u001b[0;34m]\u001b[0m \u001b[0;34m!=\u001b[0m \u001b[0;34m-\u001b[0m\u001b[0;36m1\u001b[0m\u001b[0;34m]\u001b[0m\u001b[0;34m\u001b[0m\u001b[0;34m\u001b[0m\u001b[0m\n\u001b[1;32m      4\u001b[0m \u001b[0;32mfor\u001b[0m \u001b[0mi\u001b[0m \u001b[0;32min\u001b[0m \u001b[0mstudent_courses\u001b[0m\u001b[0;34m.\u001b[0m\u001b[0mcolumns\u001b[0m\u001b[0;34m:\u001b[0m\u001b[0;34m\u001b[0m\u001b[0;34m\u001b[0m\u001b[0m\n\u001b[1;32m      5\u001b[0m     \u001b[0;32mif\u001b[0m \u001b[0mstudent_courses\u001b[0m\u001b[0;34m[\u001b[0m\u001b[0mi\u001b[0m\u001b[0;34m]\u001b[0m\u001b[0;34m.\u001b[0m\u001b[0misnull\u001b[0m\u001b[0;34m(\u001b[0m\u001b[0;34m)\u001b[0m\u001b[0;34m.\u001b[0m\u001b[0mall\u001b[0m\u001b[0;34m(\u001b[0m\u001b[0;34m)\u001b[0m\u001b[0;34m:\u001b[0m\u001b[0;34m\u001b[0m\u001b[0;34m\u001b[0m\u001b[0m\n",
      "\u001b[0;32m/usr/local/lib/python3.7/dist-packages/pandas/core/frame.py\u001b[0m in \u001b[0;36m__getitem__\u001b[0;34m(self, key)\u001b[0m\n\u001b[1;32m   2904\u001b[0m             \u001b[0;32mif\u001b[0m \u001b[0mself\u001b[0m\u001b[0;34m.\u001b[0m\u001b[0mcolumns\u001b[0m\u001b[0;34m.\u001b[0m\u001b[0mnlevels\u001b[0m \u001b[0;34m>\u001b[0m \u001b[0;36m1\u001b[0m\u001b[0;34m:\u001b[0m\u001b[0;34m\u001b[0m\u001b[0;34m\u001b[0m\u001b[0m\n\u001b[1;32m   2905\u001b[0m                 \u001b[0;32mreturn\u001b[0m \u001b[0mself\u001b[0m\u001b[0;34m.\u001b[0m\u001b[0m_getitem_multilevel\u001b[0m\u001b[0;34m(\u001b[0m\u001b[0mkey\u001b[0m\u001b[0;34m)\u001b[0m\u001b[0;34m\u001b[0m\u001b[0;34m\u001b[0m\u001b[0m\n\u001b[0;32m-> 2906\u001b[0;31m             \u001b[0mindexer\u001b[0m \u001b[0;34m=\u001b[0m \u001b[0mself\u001b[0m\u001b[0;34m.\u001b[0m\u001b[0mcolumns\u001b[0m\u001b[0;34m.\u001b[0m\u001b[0mget_loc\u001b[0m\u001b[0;34m(\u001b[0m\u001b[0mkey\u001b[0m\u001b[0;34m)\u001b[0m\u001b[0;34m\u001b[0m\u001b[0;34m\u001b[0m\u001b[0m\n\u001b[0m\u001b[1;32m   2907\u001b[0m             \u001b[0;32mif\u001b[0m \u001b[0mis_integer\u001b[0m\u001b[0;34m(\u001b[0m\u001b[0mindexer\u001b[0m\u001b[0;34m)\u001b[0m\u001b[0;34m:\u001b[0m\u001b[0;34m\u001b[0m\u001b[0;34m\u001b[0m\u001b[0m\n\u001b[1;32m   2908\u001b[0m                 \u001b[0mindexer\u001b[0m \u001b[0;34m=\u001b[0m \u001b[0;34m[\u001b[0m\u001b[0mindexer\u001b[0m\u001b[0;34m]\u001b[0m\u001b[0;34m\u001b[0m\u001b[0;34m\u001b[0m\u001b[0m\n",
      "\u001b[0;32m/usr/local/lib/python3.7/dist-packages/pandas/core/indexes/base.py\u001b[0m in \u001b[0;36mget_loc\u001b[0;34m(self, key, method, tolerance)\u001b[0m\n\u001b[1;32m   2898\u001b[0m                 \u001b[0;32mreturn\u001b[0m \u001b[0mself\u001b[0m\u001b[0;34m.\u001b[0m\u001b[0m_engine\u001b[0m\u001b[0;34m.\u001b[0m\u001b[0mget_loc\u001b[0m\u001b[0;34m(\u001b[0m\u001b[0mcasted_key\u001b[0m\u001b[0;34m)\u001b[0m\u001b[0;34m\u001b[0m\u001b[0;34m\u001b[0m\u001b[0m\n\u001b[1;32m   2899\u001b[0m             \u001b[0;32mexcept\u001b[0m \u001b[0mKeyError\u001b[0m \u001b[0;32mas\u001b[0m \u001b[0merr\u001b[0m\u001b[0;34m:\u001b[0m\u001b[0;34m\u001b[0m\u001b[0;34m\u001b[0m\u001b[0m\n\u001b[0;32m-> 2900\u001b[0;31m                 \u001b[0;32mraise\u001b[0m \u001b[0mKeyError\u001b[0m\u001b[0;34m(\u001b[0m\u001b[0mkey\u001b[0m\u001b[0;34m)\u001b[0m \u001b[0;32mfrom\u001b[0m \u001b[0merr\u001b[0m\u001b[0;34m\u001b[0m\u001b[0;34m\u001b[0m\u001b[0m\n\u001b[0m\u001b[1;32m   2901\u001b[0m \u001b[0;34m\u001b[0m\u001b[0m\n\u001b[1;32m   2902\u001b[0m         \u001b[0;32mif\u001b[0m \u001b[0mtolerance\u001b[0m \u001b[0;32mis\u001b[0m \u001b[0;32mnot\u001b[0m \u001b[0;32mNone\u001b[0m\u001b[0;34m:\u001b[0m\u001b[0;34m\u001b[0m\u001b[0;34m\u001b[0m\u001b[0m\n",
      "\u001b[0;31mKeyError\u001b[0m: 'ppsk'"
     ]
    }
   ],
   "source": [
    "# minor data cleaning\n",
    "student_courses = student_courses[~student_courses['ppsk'].isnull()]\n",
    "student_courses = student_courses[student_courses['ppsk'] != -1]\n",
    "for i in student_courses.columns:\n",
    "    if student_courses[i].isnull().all():\n",
    "        student_courses.drop(i,axis=1,inplace=True)"
   ]
  },
  {
   "cell_type": "code",
   "execution_count": 9,
   "metadata": {},
   "outputs": [],
   "source": [
    "maker_passes = student_courses[student_courses[\"course.department\"] == \"Design Innovation\"]['ppsk'].unique()"
   ]
  },
  {
   "cell_type": "code",
   "execution_count": 10,
   "metadata": {},
   "outputs": [
    {
     "output_type": "stream",
     "name": "stdout",
     "text": [
      "['-' 'African American Studies' 'Ag & Env Chem Grad Grp'\n 'Ag & Resource Econ & Pol' 'Anc Hist Med Arc Grad Grp' 'Anthropology'\n 'Applied Sci & Tech Grad Grp' 'Architecture' 'Art Practice' 'Astronomy'\n 'Bioengineering' 'Biophysics Grad Grp' 'Buddhist Studies Grad Grp'\n 'Business' 'Chem & Biomolecular Eng' 'Chemistry'\n 'City & Regional Planning' 'Civil & Environmental Eng' 'Classics'\n 'College Writing Programs' 'Comparative Biochem Grad Grp'\n 'Comparative Literature' 'Computational Biology Grad Grp'\n 'Critical Theory Grad Grp' 'Data Science' 'Demography'\n 'Design Innovation' 'Development Eng Grad Grp'\n 'Development Practice Grad Grp' 'Earth & Planetary Science'\n 'East Asian Lang & Culture' 'Economics' 'Education'\n 'Electrical Eng & Computer Sci' 'Energy & Resources Grad Grp'\n 'Engineering Science' 'English' 'Env Sci, Policy, & Mgmt'\n 'Ethnic Studies' 'European Studies Grad Grp'\n 'FPF-African American Studies' 'FPF-Anthropology' 'FPF-Art Practice'\n 'FPF-Astronomy' 'FPF-Chemistry' 'FPF-Classics'\n 'FPF-College Writing Program' 'FPF-Comparative Literature'\n 'FPF-Earth & Planetary Science' 'FPF-English'\n 'FPF-Env Sci, Policy, & Mgmt' 'FPF-Ethnic Studies' 'FPF-Film & Media'\n 'FPF-Gender & Womens Studies' 'FPF-Geography' 'FPF-History'\n 'FPF-History of Art' 'FPF-IAS Teaching Program' 'FPF-Integrative Biology'\n 'FPF-Interdisc Social Sci Pgms' 'FPF-Legal Studies'\n 'FPF-Letters & Science' 'FPF-Linguistics' 'FPF-Mathematics'\n 'FPF-Molecular & Cell Biology' 'FPF-Music' 'FPF-Philosophy'\n 'FPF-Political Science' 'FPF-Psychology' 'FPF-Rhetoric' 'FPF-Sociology'\n 'FPF-Statistics' 'Film and Media' 'Folklore Grad Grp' 'French'\n 'Gender & Womens Studies' 'Geography' 'German'\n 'Global Metro Std Grad Grp' 'Health & Medical Sci Grad Grp' 'History'\n 'History of Art' 'Industrial Eng & Ops Research' 'Information'\n 'Integrative Biology' 'Interdisc Social Science Pgms' 'Italian Studies'\n 'Jewish Studies Program' 'Journalism' 'Landscape Arch & Env Plan' 'Law'\n 'Linguistics' 'Materials Science & Eng' 'Mathematics'\n 'Mechanical Engineering' 'Medieval Studies Program'\n 'Military Affairs Program' 'Molecular & Cell Biology' 'Music'\n 'Nano Sci & Eng Grad Grp' 'Near Eastern Studies'\n 'Neuroscience Graduate Program' 'New Media Grad Grp'\n 'Nuclear Engineering' 'Nutritional Sciences & Tox' 'Optometry'\n 'Other Arts & Humanities Pgms' 'Other Bio Sciences Pgms'\n 'Other Clg of Natural Res Pgms' 'Other EVCP Programs' 'Philosophy'\n 'Physical Education' 'Physics' 'Plant & Microbial Biology'\n 'Political Science' 'Psychology' 'Public Health' 'Public Policy'\n 'Rhetoric' 'Scandinavian' 'Sci & Tech Stds Grad Grp'\n 'Science & Math Educ Grad Grp' 'Slavic Languages & Literatures'\n 'Social Welfare' 'Sociology' 'South & SE Asian Studies'\n 'Spanish & Portuguese' 'Statistics' 'Theater Dance & Perf Stds'\n 'UG Interdisciplinary Studies' 'Vision Science Grad Grp']\n"
     ]
    }
   ],
   "source": [
    "print(np.sort(student_courses['course.department'].unique()))"
   ]
  },
  {
   "cell_type": "code",
   "execution_count": 11,
   "metadata": {},
   "outputs": [],
   "source": [
    "maker_passes = pd.Series(maker_passes)\n",
    "student_passes = student_courses[student_courses['ppsk'].isin(maker_passes)]"
   ]
  },
  {
   "cell_type": "code",
   "execution_count": 12,
   "metadata": {},
   "outputs": [
    {
     "output_type": "execute_result",
     "data": {
      "text/plain": [
       "Empty DataFrame\n",
       "Columns: [year.name, ppsk, undergrad.status, course.department, course.subject, course.number, offering.type, section.number, ccn, room.share, course.title, instructor.name, grade.subtype, grade.type, grade.name, grade.points, student.credit.hours]\n",
       "Index: []"
      ],
      "text/html": "<div>\n<style scoped>\n    .dataframe tbody tr th:only-of-type {\n        vertical-align: middle;\n    }\n\n    .dataframe tbody tr th {\n        vertical-align: top;\n    }\n\n    .dataframe thead th {\n        text-align: right;\n    }\n</style>\n<table border=\"1\" class=\"dataframe\">\n  <thead>\n    <tr style=\"text-align: right;\">\n      <th></th>\n      <th>year.name</th>\n      <th>ppsk</th>\n      <th>undergrad.status</th>\n      <th>course.department</th>\n      <th>course.subject</th>\n      <th>course.number</th>\n      <th>offering.type</th>\n      <th>section.number</th>\n      <th>ccn</th>\n      <th>room.share</th>\n      <th>course.title</th>\n      <th>instructor.name</th>\n      <th>grade.subtype</th>\n      <th>grade.type</th>\n      <th>grade.name</th>\n      <th>grade.points</th>\n      <th>student.credit.hours</th>\n    </tr>\n  </thead>\n  <tbody>\n  </tbody>\n</table>\n</div>"
     },
     "metadata": {},
     "execution_count": 12
    }
   ],
   "source": [
    "denero = student_courses[student_courses['instructor.name'] == 'John DeNero']\n",
    "hilfinger = student_courses[student_courses['instructor.name'] == 'Paul Hilfinger']\n",
    "garcia = student_courses[student_courses['instructor.name'] == 'Dan Garcia']\n",
    "garcia"
   ]
  },
  {
   "cell_type": "code",
   "execution_count": 13,
   "metadata": {},
   "outputs": [],
   "source": [
    "instructors = student_courses[~student_courses['instructor.name'].isnull()]"
   ]
  },
  {
   "cell_type": "code",
   "execution_count": 14,
   "metadata": {},
   "outputs": [],
   "source": [
    "#Str Interp Cmp Prgs\n",
    "garcia = instructors[(instructors['course.number'] == '61A') & (instructors['instructor.name'].str.contains('Daniel Garcia'))]\n",
    "denero = instructors[(instructors['course.number'] == '61A') & (instructors['instructor.name'].str.contains('John DeNero'))]\n",
    "hilfinger = instructors[(instructors['course.number'] == '61A') & (instructors['instructor.name'].str.contains('Paul Hilfinger'))]"
   ]
  },
  {
   "cell_type": "code",
   "execution_count": 15,
   "metadata": {},
   "outputs": [],
   "source": [
    "# Pipeline"
   ]
  },
  {
   "cell_type": "code",
   "execution_count": 16,
   "metadata": {},
   "outputs": [
    {
     "output_type": "execute_result",
     "data": {
      "text/plain": [
       "93           20\n",
       "94           10\n",
       "95         290A\n",
       "96        135AC\n",
       "97         N106\n",
       "          ...  \n",
       "573019    C231A\n",
       "573020    167AC\n",
       "573021       1A\n",
       "573022    128AC\n",
       "573023      W1X\n",
       "Name: course.number, Length: 5097768, dtype: object"
      ]
     },
     "metadata": {},
     "execution_count": 16
    }
   ],
   "source": [
    "instructors['course.number']"
   ]
  },
  {
   "cell_type": "code",
   "execution_count": 17,
   "metadata": {},
   "outputs": [
    {
     "output_type": "execute_result",
     "data": {
      "text/plain": [
       "        year.name       ppsk undergrad.status              course.department  \\\n",
       "126845  2007 Fall   574802.0    Undergraduate  Electrical Eng & Computer Sci   \n",
       "127485  2007 Fall   607659.0    Undergraduate  Electrical Eng & Computer Sci   \n",
       "128150  2007 Fall   633927.0    Undergraduate  Electrical Eng & Computer Sci   \n",
       "128472  2007 Fall   636993.0    Undergraduate  Electrical Eng & Computer Sci   \n",
       "128785  2007 Fall   639802.0    Undergraduate  Electrical Eng & Computer Sci   \n",
       "...           ...        ...              ...                            ...   \n",
       "380676  2017 Fall  2743795.0    Undergraduate  Electrical Eng & Computer Sci   \n",
       "380997  2017 Fall  2756608.0    Undergraduate  Electrical Eng & Computer Sci   \n",
       "381392  2017 Fall  2869216.0    Undergraduate  Electrical Eng & Computer Sci   \n",
       "381466  2017 Fall  2876282.0    Undergraduate  Electrical Eng & Computer Sci   \n",
       "381990  2017 Fall  3131120.0    Undergraduate  Electrical Eng & Computer Sci   \n",
       "\n",
       "          course.subject course.number      offering.type section.number  \\\n",
       "126845  Computer Science           198            Primary              3   \n",
       "127485  Computer Science           198            Primary              1   \n",
       "128150  Computer Science           198            Primary              2   \n",
       "128472  Computer Science           198            Primary              1   \n",
       "128785  Computer Science           399  Independent Study              6   \n",
       "...                  ...           ...                ...            ...   \n",
       "380676  Computer Science            10            Primary              1   \n",
       "380997  Computer Science            10            Primary              1   \n",
       "381392  Computer Science           198            Primary              1   \n",
       "381466  Computer Science            10            Primary              1   \n",
       "381990  Computer Science            10            Primary              1   \n",
       "\n",
       "          ccn  room.share         course.title  \\\n",
       "126845  26614    109612.0  Directed Group Stdy   \n",
       "127485  26608    109607.0  Directed Group Stdy   \n",
       "128150  26611    109832.0  Directed Group Stdy   \n",
       "128472  26608    109607.0  Directed Group Stdy   \n",
       "128785  27211     27211.0  Supervised Teaching   \n",
       "...       ...         ...                  ...   \n",
       "380676  38549     38549.0  Beauty Joy Computng   \n",
       "380997  38549     38549.0  Beauty Joy Computng   \n",
       "381392  38795     38795.0  Directed Group Stdy   \n",
       "381466  38549     38549.0  Beauty Joy Computng   \n",
       "381990  38549     38549.0  Beauty Joy Computng   \n",
       "\n",
       "                          instructor.name        grade.subtype  \\\n",
       "126845    Daniel Gallagher; Daniel Garcia               Credit   \n",
       "127485  Daniel Garcia; Matthew Mieckowski               Credit   \n",
       "128150                      Daniel Garcia               Credit   \n",
       "128472  Daniel Garcia; Matthew Mieckowski               Credit   \n",
       "128785                      Daniel Garcia               Credit   \n",
       "...                                   ...                  ...   \n",
       "380676                      Daniel Garcia  Administrative Code   \n",
       "380997                      Daniel Garcia  Administrative Code   \n",
       "381392                      Daniel Garcia  Administrative Code   \n",
       "381466                      Daniel Garcia  Administrative Code   \n",
       "381990                      Daniel Garcia  Administrative Code   \n",
       "\n",
       "                 grade.type grade.name  grade.points  student.credit.hours  \n",
       "126845     Non-Letter Grade       Pass           NaN                   2.0  \n",
       "127485     Non-Letter Grade       Pass           NaN                   2.0  \n",
       "128150     Non-Letter Grade       Pass           NaN                   2.0  \n",
       "128472     Non-Letter Grade       Pass           NaN                   1.0  \n",
       "128785     Non-Letter Grade       Pass           NaN                   1.0  \n",
       "...                     ...        ...           ...                   ...  \n",
       "380676  Administrative Code  Withdrawn           NaN                   4.0  \n",
       "380997  Administrative Code  Withdrawn           NaN                   4.0  \n",
       "381392  Administrative Code  Withdrawn           NaN                   2.0  \n",
       "381466  Administrative Code  Withdrawn           NaN                   4.0  \n",
       "381990  Administrative Code  Withdrawn           NaN                   4.0  \n",
       "\n",
       "[14608 rows x 17 columns]"
      ],
      "text/html": "<div>\n<style scoped>\n    .dataframe tbody tr th:only-of-type {\n        vertical-align: middle;\n    }\n\n    .dataframe tbody tr th {\n        vertical-align: top;\n    }\n\n    .dataframe thead th {\n        text-align: right;\n    }\n</style>\n<table border=\"1\" class=\"dataframe\">\n  <thead>\n    <tr style=\"text-align: right;\">\n      <th></th>\n      <th>year.name</th>\n      <th>ppsk</th>\n      <th>undergrad.status</th>\n      <th>course.department</th>\n      <th>course.subject</th>\n      <th>course.number</th>\n      <th>offering.type</th>\n      <th>section.number</th>\n      <th>ccn</th>\n      <th>room.share</th>\n      <th>course.title</th>\n      <th>instructor.name</th>\n      <th>grade.subtype</th>\n      <th>grade.type</th>\n      <th>grade.name</th>\n      <th>grade.points</th>\n      <th>student.credit.hours</th>\n    </tr>\n  </thead>\n  <tbody>\n    <tr>\n      <th>126845</th>\n      <td>2007 Fall</td>\n      <td>574802.0</td>\n      <td>Undergraduate</td>\n      <td>Electrical Eng &amp; Computer Sci</td>\n      <td>Computer Science</td>\n      <td>198</td>\n      <td>Primary</td>\n      <td>3</td>\n      <td>26614</td>\n      <td>109612.0</td>\n      <td>Directed Group Stdy</td>\n      <td>Daniel Gallagher; Daniel Garcia</td>\n      <td>Credit</td>\n      <td>Non-Letter Grade</td>\n      <td>Pass</td>\n      <td>NaN</td>\n      <td>2.0</td>\n    </tr>\n    <tr>\n      <th>127485</th>\n      <td>2007 Fall</td>\n      <td>607659.0</td>\n      <td>Undergraduate</td>\n      <td>Electrical Eng &amp; Computer Sci</td>\n      <td>Computer Science</td>\n      <td>198</td>\n      <td>Primary</td>\n      <td>1</td>\n      <td>26608</td>\n      <td>109607.0</td>\n      <td>Directed Group Stdy</td>\n      <td>Daniel Garcia; Matthew Mieckowski</td>\n      <td>Credit</td>\n      <td>Non-Letter Grade</td>\n      <td>Pass</td>\n      <td>NaN</td>\n      <td>2.0</td>\n    </tr>\n    <tr>\n      <th>128150</th>\n      <td>2007 Fall</td>\n      <td>633927.0</td>\n      <td>Undergraduate</td>\n      <td>Electrical Eng &amp; Computer Sci</td>\n      <td>Computer Science</td>\n      <td>198</td>\n      <td>Primary</td>\n      <td>2</td>\n      <td>26611</td>\n      <td>109832.0</td>\n      <td>Directed Group Stdy</td>\n      <td>Daniel Garcia</td>\n      <td>Credit</td>\n      <td>Non-Letter Grade</td>\n      <td>Pass</td>\n      <td>NaN</td>\n      <td>2.0</td>\n    </tr>\n    <tr>\n      <th>128472</th>\n      <td>2007 Fall</td>\n      <td>636993.0</td>\n      <td>Undergraduate</td>\n      <td>Electrical Eng &amp; Computer Sci</td>\n      <td>Computer Science</td>\n      <td>198</td>\n      <td>Primary</td>\n      <td>1</td>\n      <td>26608</td>\n      <td>109607.0</td>\n      <td>Directed Group Stdy</td>\n      <td>Daniel Garcia; Matthew Mieckowski</td>\n      <td>Credit</td>\n      <td>Non-Letter Grade</td>\n      <td>Pass</td>\n      <td>NaN</td>\n      <td>1.0</td>\n    </tr>\n    <tr>\n      <th>128785</th>\n      <td>2007 Fall</td>\n      <td>639802.0</td>\n      <td>Undergraduate</td>\n      <td>Electrical Eng &amp; Computer Sci</td>\n      <td>Computer Science</td>\n      <td>399</td>\n      <td>Independent Study</td>\n      <td>6</td>\n      <td>27211</td>\n      <td>27211.0</td>\n      <td>Supervised Teaching</td>\n      <td>Daniel Garcia</td>\n      <td>Credit</td>\n      <td>Non-Letter Grade</td>\n      <td>Pass</td>\n      <td>NaN</td>\n      <td>1.0</td>\n    </tr>\n    <tr>\n      <th>...</th>\n      <td>...</td>\n      <td>...</td>\n      <td>...</td>\n      <td>...</td>\n      <td>...</td>\n      <td>...</td>\n      <td>...</td>\n      <td>...</td>\n      <td>...</td>\n      <td>...</td>\n      <td>...</td>\n      <td>...</td>\n      <td>...</td>\n      <td>...</td>\n      <td>...</td>\n      <td>...</td>\n      <td>...</td>\n    </tr>\n    <tr>\n      <th>380676</th>\n      <td>2017 Fall</td>\n      <td>2743795.0</td>\n      <td>Undergraduate</td>\n      <td>Electrical Eng &amp; Computer Sci</td>\n      <td>Computer Science</td>\n      <td>10</td>\n      <td>Primary</td>\n      <td>1</td>\n      <td>38549</td>\n      <td>38549.0</td>\n      <td>Beauty Joy Computng</td>\n      <td>Daniel Garcia</td>\n      <td>Administrative Code</td>\n      <td>Administrative Code</td>\n      <td>Withdrawn</td>\n      <td>NaN</td>\n      <td>4.0</td>\n    </tr>\n    <tr>\n      <th>380997</th>\n      <td>2017 Fall</td>\n      <td>2756608.0</td>\n      <td>Undergraduate</td>\n      <td>Electrical Eng &amp; Computer Sci</td>\n      <td>Computer Science</td>\n      <td>10</td>\n      <td>Primary</td>\n      <td>1</td>\n      <td>38549</td>\n      <td>38549.0</td>\n      <td>Beauty Joy Computng</td>\n      <td>Daniel Garcia</td>\n      <td>Administrative Code</td>\n      <td>Administrative Code</td>\n      <td>Withdrawn</td>\n      <td>NaN</td>\n      <td>4.0</td>\n    </tr>\n    <tr>\n      <th>381392</th>\n      <td>2017 Fall</td>\n      <td>2869216.0</td>\n      <td>Undergraduate</td>\n      <td>Electrical Eng &amp; Computer Sci</td>\n      <td>Computer Science</td>\n      <td>198</td>\n      <td>Primary</td>\n      <td>1</td>\n      <td>38795</td>\n      <td>38795.0</td>\n      <td>Directed Group Stdy</td>\n      <td>Daniel Garcia</td>\n      <td>Administrative Code</td>\n      <td>Administrative Code</td>\n      <td>Withdrawn</td>\n      <td>NaN</td>\n      <td>2.0</td>\n    </tr>\n    <tr>\n      <th>381466</th>\n      <td>2017 Fall</td>\n      <td>2876282.0</td>\n      <td>Undergraduate</td>\n      <td>Electrical Eng &amp; Computer Sci</td>\n      <td>Computer Science</td>\n      <td>10</td>\n      <td>Primary</td>\n      <td>1</td>\n      <td>38549</td>\n      <td>38549.0</td>\n      <td>Beauty Joy Computng</td>\n      <td>Daniel Garcia</td>\n      <td>Administrative Code</td>\n      <td>Administrative Code</td>\n      <td>Withdrawn</td>\n      <td>NaN</td>\n      <td>4.0</td>\n    </tr>\n    <tr>\n      <th>381990</th>\n      <td>2017 Fall</td>\n      <td>3131120.0</td>\n      <td>Undergraduate</td>\n      <td>Electrical Eng &amp; Computer Sci</td>\n      <td>Computer Science</td>\n      <td>10</td>\n      <td>Primary</td>\n      <td>1</td>\n      <td>38549</td>\n      <td>38549.0</td>\n      <td>Beauty Joy Computng</td>\n      <td>Daniel Garcia</td>\n      <td>Administrative Code</td>\n      <td>Administrative Code</td>\n      <td>Withdrawn</td>\n      <td>NaN</td>\n      <td>4.0</td>\n    </tr>\n  </tbody>\n</table>\n<p>14608 rows × 17 columns</p>\n</div>"
     },
     "metadata": {},
     "execution_count": 17
    }
   ],
   "source": [
    "instructors[(instructors['instructor.name'].str.contains('Daniel Garcia')) & (instructors['course.department'] == 'Electrical Eng & Computer Sci')]"
   ]
  },
  {
   "cell_type": "code",
   "execution_count": 18,
   "metadata": {},
   "outputs": [
    {
     "output_type": "execute_result",
     "data": {
      "text/plain": [
       "['-',\n",
       " 'African American Studies',\n",
       " 'Ag & Env Chem Grad Grp',\n",
       " 'Ag & Resource Econ & Pol',\n",
       " 'Anc Hist Med Arc Grad Grp',\n",
       " 'Anthropology',\n",
       " 'Applied Sci & Tech Grad Grp',\n",
       " 'Architecture',\n",
       " 'Art Practice',\n",
       " 'Astronomy',\n",
       " 'Bioengineering',\n",
       " 'Biophysics Grad Grp',\n",
       " 'Buddhist Studies Grad Grp',\n",
       " 'Business',\n",
       " 'Chem & Biomolecular Eng',\n",
       " 'Chemistry',\n",
       " 'City & Regional Planning',\n",
       " 'Civil & Environmental Eng',\n",
       " 'Classics',\n",
       " 'College Writing Programs',\n",
       " 'Comparative Biochem Grad Grp',\n",
       " 'Comparative Literature',\n",
       " 'Computational Biology Grad Grp',\n",
       " 'Critical Theory Grad Grp',\n",
       " 'Data Science',\n",
       " 'Demography',\n",
       " 'Design Innovation',\n",
       " 'Development Eng Grad Grp',\n",
       " 'Development Practice Grad Grp',\n",
       " 'Earth & Planetary Science',\n",
       " 'East Asian Lang & Culture',\n",
       " 'Economics',\n",
       " 'Education',\n",
       " 'Electrical Eng & Computer Sci',\n",
       " 'Energy & Resources Grad Grp',\n",
       " 'Engineering Science',\n",
       " 'English',\n",
       " 'Env Sci, Policy, & Mgmt',\n",
       " 'Ethnic Studies',\n",
       " 'European Studies Grad Grp',\n",
       " 'FPF-African American Studies',\n",
       " 'FPF-Anthropology',\n",
       " 'FPF-Art Practice',\n",
       " 'FPF-Astronomy',\n",
       " 'FPF-Chemistry',\n",
       " 'FPF-Classics',\n",
       " 'FPF-College Writing Program',\n",
       " 'FPF-Comparative Literature',\n",
       " 'FPF-Earth & Planetary Science',\n",
       " 'FPF-English',\n",
       " 'FPF-Env Sci, Policy, & Mgmt',\n",
       " 'FPF-Ethnic Studies',\n",
       " 'FPF-Film & Media',\n",
       " 'FPF-Gender & Womens Studies',\n",
       " 'FPF-Geography',\n",
       " 'FPF-History',\n",
       " 'FPF-History of Art',\n",
       " 'FPF-IAS Teaching Program',\n",
       " 'FPF-Integrative Biology',\n",
       " 'FPF-Interdisc Social Sci Pgms',\n",
       " 'FPF-Legal Studies',\n",
       " 'FPF-Letters & Science',\n",
       " 'FPF-Linguistics',\n",
       " 'FPF-Mathematics',\n",
       " 'FPF-Molecular & Cell Biology',\n",
       " 'FPF-Music',\n",
       " 'FPF-Philosophy',\n",
       " 'FPF-Political Science',\n",
       " 'FPF-Psychology',\n",
       " 'FPF-Rhetoric',\n",
       " 'FPF-Sociology',\n",
       " 'FPF-Statistics',\n",
       " 'Film and Media',\n",
       " 'Folklore Grad Grp',\n",
       " 'French',\n",
       " 'Gender & Womens Studies',\n",
       " 'Geography',\n",
       " 'German',\n",
       " 'Global Metro Std Grad Grp',\n",
       " 'Health & Medical Sci Grad Grp',\n",
       " 'History',\n",
       " 'History of Art',\n",
       " 'Industrial Eng & Ops Research',\n",
       " 'Information',\n",
       " 'Integrative Biology',\n",
       " 'Interdisc Social Science Pgms',\n",
       " 'Italian Studies',\n",
       " 'Jewish Studies Program',\n",
       " 'Journalism',\n",
       " 'Landscape Arch & Env Plan',\n",
       " 'Law',\n",
       " 'Linguistics',\n",
       " 'Materials Science & Eng',\n",
       " 'Mathematics',\n",
       " 'Mechanical Engineering',\n",
       " 'Medieval Studies Program',\n",
       " 'Military Affairs Program',\n",
       " 'Molecular & Cell Biology',\n",
       " 'Music',\n",
       " 'Nano Sci & Eng Grad Grp',\n",
       " 'Near Eastern Studies',\n",
       " 'Neuroscience Graduate Program',\n",
       " 'New Media Grad Grp',\n",
       " 'Nuclear Engineering',\n",
       " 'Nutritional Sciences & Tox',\n",
       " 'Optometry',\n",
       " 'Other Arts & Humanities Pgms',\n",
       " 'Other Bio Sciences Pgms',\n",
       " 'Other Clg of Natural Res Pgms',\n",
       " 'Other EVCP Programs',\n",
       " 'Philosophy',\n",
       " 'Physical Education',\n",
       " 'Physics',\n",
       " 'Plant & Microbial Biology',\n",
       " 'Political Science',\n",
       " 'Psychology',\n",
       " 'Public Health',\n",
       " 'Public Policy',\n",
       " 'Rhetoric',\n",
       " 'Scandinavian',\n",
       " 'Sci & Tech Stds Grad Grp',\n",
       " 'Science & Math Educ Grad Grp',\n",
       " 'Slavic Languages & Literatures',\n",
       " 'Social Welfare',\n",
       " 'Sociology',\n",
       " 'South & SE Asian Studies',\n",
       " 'Spanish & Portuguese',\n",
       " 'Statistics',\n",
       " 'Theater Dance & Perf Stds',\n",
       " 'UG Interdisciplinary Studies',\n",
       " 'Vision Science Grad Grp']"
      ]
     },
     "metadata": {},
     "execution_count": 18
    }
   ],
   "source": [
    "sorted(student_courses['course.department'].unique())"
   ]
  },
  {
   "cell_type": "code",
   "execution_count": 19,
   "metadata": {},
   "outputs": [
    {
     "output_type": "execute_result",
     "data": {
      "text/plain": [
       "array(['High Honors', 'Honors', 'Pass', 'Pass Conditional', 'Credit',\n",
       "       'Satisfactory', 'No Credit', 'Not Pass', 'Unsatisfactory'],\n",
       "      dtype=object)"
      ]
     },
     "metadata": {},
     "execution_count": 19
    }
   ],
   "source": [
    "student_courses[student_courses[['grade.subtype', 'grade.type', 'grade.name']]['grade.type'] == 'Non-Letter Grade']['grade.name'].unique()"
   ]
  },
  {
   "cell_type": "code",
   "execution_count": 25,
   "metadata": {},
   "outputs": [
    {
     "output_type": "error",
     "ename": "ModuleNotFoundError",
     "evalue": "No module named 'apt'",
     "traceback": [
      "\u001b[0;31m---------------------------------------------------------------------------\u001b[0m",
      "\u001b[0;31mModuleNotFoundError\u001b[0m                       Traceback (most recent call last)",
      "\u001b[0;32m<ipython-input-25-c3d5199eb113>\u001b[0m in \u001b[0;36m<module>\u001b[0;34m\u001b[0m\n\u001b[0;32m----> 1\u001b[0;31m \u001b[0;32mfrom\u001b[0m \u001b[0mcolab_ssh\u001b[0m \u001b[0;32mimport\u001b[0m \u001b[0mlaunch_ssh_cloudflared\u001b[0m\u001b[0;34m,\u001b[0m \u001b[0minit_git_cloudflared\u001b[0m\u001b[0;34m\u001b[0m\u001b[0;34m\u001b[0m\u001b[0m\n\u001b[0m\u001b[1;32m      2\u001b[0m \u001b[0mlaunch_ssh_cloudflared\u001b[0m\u001b[0;34m(\u001b[0m\u001b[0mpassword\u001b[0m\u001b[0;34m=\u001b[0m\u001b[0;34m\"keonis\"\u001b[0m\u001b[0;34m)\u001b[0m\u001b[0;34m\u001b[0m\u001b[0;34m\u001b[0m\u001b[0m\n",
      "\u001b[0;32m~/Library/Python/3.8/lib/python/site-packages/colab_ssh/__init__.py\u001b[0m in \u001b[0;36m<module>\u001b[0;34m\u001b[0m\n\u001b[1;32m      6\u001b[0m \u001b[0;32mfrom\u001b[0m \u001b[0mcolab_ssh\u001b[0m\u001b[0;34m.\u001b[0m\u001b[0mset_private_key\u001b[0m \u001b[0;32mimport\u001b[0m \u001b[0mset_private_key\u001b[0m\u001b[0;34m\u001b[0m\u001b[0;34m\u001b[0m\u001b[0m\n\u001b[1;32m      7\u001b[0m \u001b[0;32mfrom\u001b[0m \u001b[0mcolab_ssh\u001b[0m\u001b[0;34m.\u001b[0m\u001b[0mget_tunnel_config\u001b[0m \u001b[0;32mimport\u001b[0m \u001b[0mget_tunnel_config\u001b[0m\u001b[0;34m\u001b[0m\u001b[0;34m\u001b[0m\u001b[0m\n\u001b[0;32m----> 8\u001b[0;31m \u001b[0;32mfrom\u001b[0m \u001b[0mcolab_ssh\u001b[0m\u001b[0;34m.\u001b[0m\u001b[0mlaunch_ssh_cloudflared\u001b[0m \u001b[0;32mimport\u001b[0m \u001b[0mlaunch_ssh_cloudflared\u001b[0m\u001b[0;34m\u001b[0m\u001b[0;34m\u001b[0m\u001b[0m\n\u001b[0m\u001b[1;32m      9\u001b[0m \u001b[0;32mfrom\u001b[0m \u001b[0mcolab_ssh\u001b[0m\u001b[0;34m.\u001b[0m\u001b[0minit_git_cloudflared\u001b[0m \u001b[0;32mimport\u001b[0m \u001b[0minit_git_cloudflared\u001b[0m\u001b[0;34m\u001b[0m\u001b[0;34m\u001b[0m\u001b[0m\n",
      "\u001b[0;32m~/Library/Python/3.8/lib/python/site-packages/colab_ssh/launch_ssh_cloudflared.py\u001b[0m in \u001b[0;36m<module>\u001b[0;34m\u001b[0m\n\u001b[0;32m----> 1\u001b[0;31m \u001b[0;32mfrom\u001b[0m \u001b[0mcolab_ssh\u001b[0m\u001b[0;34m.\u001b[0m\u001b[0mutils\u001b[0m\u001b[0;34m.\u001b[0m\u001b[0mpackages\u001b[0m\u001b[0;34m.\u001b[0m\u001b[0minstaller\u001b[0m \u001b[0;32mimport\u001b[0m \u001b[0mcreate_deb_installer\u001b[0m\u001b[0;34m\u001b[0m\u001b[0;34m\u001b[0m\u001b[0m\n\u001b[0m\u001b[1;32m      2\u001b[0m \u001b[0;32mfrom\u001b[0m \u001b[0mcolab_ssh\u001b[0m\u001b[0;34m.\u001b[0m\u001b[0mutils\u001b[0m\u001b[0;34m.\u001b[0m\u001b[0mui\u001b[0m\u001b[0;34m.\u001b[0m\u001b[0mrender_html\u001b[0m \u001b[0;32mimport\u001b[0m \u001b[0mrender_template\u001b[0m\u001b[0;34m\u001b[0m\u001b[0;34m\u001b[0m\u001b[0m\n\u001b[1;32m      3\u001b[0m \u001b[0;32mfrom\u001b[0m \u001b[0msubprocess\u001b[0m \u001b[0;32mimport\u001b[0m \u001b[0mPopen\u001b[0m\u001b[0;34m,\u001b[0m \u001b[0mPIPE\u001b[0m\u001b[0;34m\u001b[0m\u001b[0;34m\u001b[0m\u001b[0m\n\u001b[1;32m      4\u001b[0m \u001b[0;32mimport\u001b[0m \u001b[0mshlex\u001b[0m\u001b[0;34m\u001b[0m\u001b[0;34m\u001b[0m\u001b[0m\n\u001b[1;32m      5\u001b[0m \u001b[0;32mfrom\u001b[0m \u001b[0mcolab_ssh\u001b[0m\u001b[0;34m.\u001b[0m\u001b[0m_command\u001b[0m \u001b[0;32mimport\u001b[0m \u001b[0mrun_command\u001b[0m\u001b[0;34m,\u001b[0m \u001b[0mrun_with_pipe\u001b[0m\u001b[0;34m\u001b[0m\u001b[0;34m\u001b[0m\u001b[0m\n",
      "\u001b[0;32m~/Library/Python/3.8/lib/python/site-packages/colab_ssh/utils/packages/installer.py\u001b[0m in \u001b[0;36m<module>\u001b[0;34m\u001b[0m\n\u001b[0;32m----> 1\u001b[0;31m \u001b[0;32mimport\u001b[0m \u001b[0mapt\u001b[0m\u001b[0;34m\u001b[0m\u001b[0;34m\u001b[0m\u001b[0m\n\u001b[0m\u001b[1;32m      2\u001b[0m \u001b[0;32mimport\u001b[0m \u001b[0mos\u001b[0m\u001b[0;34m\u001b[0m\u001b[0;34m\u001b[0m\u001b[0m\n\u001b[1;32m      3\u001b[0m \u001b[0;34m\u001b[0m\u001b[0m\n\u001b[1;32m      4\u001b[0m \u001b[0;34m\u001b[0m\u001b[0m\n\u001b[1;32m      5\u001b[0m \u001b[0;34m\u001b[0m\u001b[0m\n",
      "\u001b[0;31mModuleNotFoundError\u001b[0m: No module named 'apt'"
     ]
    }
   ],
   "source": [
    "∏"
   ]
  },
  {
   "cell_type": "code",
   "execution_count": 20,
   "metadata": {},
   "outputs": [
    {
     "output_type": "execute_result",
     "data": {
      "text/plain": [
       "          year.name       ppsk undergrad.status  \\\n",
       "81628     2010 Fall   974383.0    Undergraduate   \n",
       "162228    2010 Fall   974383.0    Undergraduate   \n",
       "226728    2010 Fall   974383.0    Undergraduate   \n",
       "226877    2010 Fall   985534.0    Undergraduate   \n",
       "231463    2010 Fall   974383.0    Undergraduate   \n",
       "...             ...        ...              ...   \n",
       "22125   2019 Summer  4264306.0    Undergraduate   \n",
       "22126   2019 Summer  4264306.0    Undergraduate   \n",
       "22572   2019 Summer  4265873.0    Undergraduate   \n",
       "22573   2019 Summer  4265873.0    Undergraduate   \n",
       "22697   2019 Summer  4266391.0    Undergraduate   \n",
       "\n",
       "                    course.department           course.subject course.number  \\\n",
       "81628              Physical Education       Physical Education             1   \n",
       "162228         Comparative Literature   Comparative Literature           R1A   \n",
       "226728              Political Science        Political Science             5   \n",
       "226877   UG Interdisciplinary Studies        Letters & Science           R44   \n",
       "231463                    Mathematics              Mathematics            1A   \n",
       "...                               ...                      ...           ...   \n",
       "22125               Design Innovation        Design Innovation           190   \n",
       "22126   Electrical Eng & Computer Sci         Computer Science            C8   \n",
       "22572               Design Innovation        Design Innovation           190   \n",
       "22573         Gender & Womens Studies  Gender & Womens Studies           111   \n",
       "22697               Design Innovation        Design Innovation            22   \n",
       "\n",
       "       offering.type section.number    ccn  room.share         course.title  \\\n",
       "81628        Primary             14  68042     68042.0        Pe Activities   \n",
       "162228       Primary              2  17206     17206.0  Engl Comp World Lit   \n",
       "226728       Primary              1  71447     71447.0  Intro To Intern Rel   \n",
       "226877       Primary              1  51932     51932.0          Western Civ   \n",
       "231463       Primary              2  53642     53642.0             Calculus   \n",
       "...              ...            ...    ...         ...                  ...   \n",
       "22125        Primary              8  15779     15779.0  Spec Topics Des Inv   \n",
       "22126        Primary              1  14720        25.0  Foundation Data Sci   \n",
       "22572        Primary              7  11577     11577.0  Spec Topics Des Inv   \n",
       "22573        Primary              2  14306     14306.0       Special Topics   \n",
       "22697        Primary              1  14718     14718.0      Prototype & Fab   \n",
       "\n",
       "                                   instructor.name grade.subtype  \\\n",
       "81628                                Jason Britton             A   \n",
       "162228  Francine Masiello; Kfir Cohen; Paul Haacke             B   \n",
       "226728                                Amy Gurowitz             C   \n",
       "226877                 Anthony Long; Trevor Murphy             C   \n",
       "231463                               James Sethian             C   \n",
       "...                                            ...           ...   \n",
       "22125                                          NaN             A   \n",
       "22126                                          NaN             A   \n",
       "22572                                          NaN             B   \n",
       "22573                                          NaN             A   \n",
       "22697                                          NaN             B   \n",
       "\n",
       "          grade.type grade.name  grade.points  student.credit.hours  \n",
       "81628   Letter Grade          A           4.0                   0.5  \n",
       "162228  Letter Grade         B+           3.3                   4.0  \n",
       "226728  Letter Grade          C           2.0                   4.0  \n",
       "226877  Letter Grade          C           2.0                   5.0  \n",
       "231463  Letter Grade         C-           1.7                   4.0  \n",
       "...              ...        ...           ...                   ...  \n",
       "22125   Letter Grade         A+           4.0                   3.0  \n",
       "22126   Letter Grade          A           4.0                   4.0  \n",
       "22572   Letter Grade          B           3.0                   2.0  \n",
       "22573   Letter Grade          A           4.0                   4.0  \n",
       "22697   Letter Grade          B           3.0                   3.0  \n",
       "\n",
       "[19037 rows x 17 columns]"
      ],
      "text/html": "<div>\n<style scoped>\n    .dataframe tbody tr th:only-of-type {\n        vertical-align: middle;\n    }\n\n    .dataframe tbody tr th {\n        vertical-align: top;\n    }\n\n    .dataframe thead th {\n        text-align: right;\n    }\n</style>\n<table border=\"1\" class=\"dataframe\">\n  <thead>\n    <tr style=\"text-align: right;\">\n      <th></th>\n      <th>year.name</th>\n      <th>ppsk</th>\n      <th>undergrad.status</th>\n      <th>course.department</th>\n      <th>course.subject</th>\n      <th>course.number</th>\n      <th>offering.type</th>\n      <th>section.number</th>\n      <th>ccn</th>\n      <th>room.share</th>\n      <th>course.title</th>\n      <th>instructor.name</th>\n      <th>grade.subtype</th>\n      <th>grade.type</th>\n      <th>grade.name</th>\n      <th>grade.points</th>\n      <th>student.credit.hours</th>\n    </tr>\n  </thead>\n  <tbody>\n    <tr>\n      <th>81628</th>\n      <td>2010 Fall</td>\n      <td>974383.0</td>\n      <td>Undergraduate</td>\n      <td>Physical Education</td>\n      <td>Physical Education</td>\n      <td>1</td>\n      <td>Primary</td>\n      <td>14</td>\n      <td>68042</td>\n      <td>68042.0</td>\n      <td>Pe Activities</td>\n      <td>Jason Britton</td>\n      <td>A</td>\n      <td>Letter Grade</td>\n      <td>A</td>\n      <td>4.0</td>\n      <td>0.5</td>\n    </tr>\n    <tr>\n      <th>162228</th>\n      <td>2010 Fall</td>\n      <td>974383.0</td>\n      <td>Undergraduate</td>\n      <td>Comparative Literature</td>\n      <td>Comparative Literature</td>\n      <td>R1A</td>\n      <td>Primary</td>\n      <td>2</td>\n      <td>17206</td>\n      <td>17206.0</td>\n      <td>Engl Comp World Lit</td>\n      <td>Francine Masiello; Kfir Cohen; Paul Haacke</td>\n      <td>B</td>\n      <td>Letter Grade</td>\n      <td>B+</td>\n      <td>3.3</td>\n      <td>4.0</td>\n    </tr>\n    <tr>\n      <th>226728</th>\n      <td>2010 Fall</td>\n      <td>974383.0</td>\n      <td>Undergraduate</td>\n      <td>Political Science</td>\n      <td>Political Science</td>\n      <td>5</td>\n      <td>Primary</td>\n      <td>1</td>\n      <td>71447</td>\n      <td>71447.0</td>\n      <td>Intro To Intern Rel</td>\n      <td>Amy Gurowitz</td>\n      <td>C</td>\n      <td>Letter Grade</td>\n      <td>C</td>\n      <td>2.0</td>\n      <td>4.0</td>\n    </tr>\n    <tr>\n      <th>226877</th>\n      <td>2010 Fall</td>\n      <td>985534.0</td>\n      <td>Undergraduate</td>\n      <td>UG Interdisciplinary Studies</td>\n      <td>Letters &amp; Science</td>\n      <td>R44</td>\n      <td>Primary</td>\n      <td>1</td>\n      <td>51932</td>\n      <td>51932.0</td>\n      <td>Western Civ</td>\n      <td>Anthony Long; Trevor Murphy</td>\n      <td>C</td>\n      <td>Letter Grade</td>\n      <td>C</td>\n      <td>2.0</td>\n      <td>5.0</td>\n    </tr>\n    <tr>\n      <th>231463</th>\n      <td>2010 Fall</td>\n      <td>974383.0</td>\n      <td>Undergraduate</td>\n      <td>Mathematics</td>\n      <td>Mathematics</td>\n      <td>1A</td>\n      <td>Primary</td>\n      <td>2</td>\n      <td>53642</td>\n      <td>53642.0</td>\n      <td>Calculus</td>\n      <td>James Sethian</td>\n      <td>C</td>\n      <td>Letter Grade</td>\n      <td>C-</td>\n      <td>1.7</td>\n      <td>4.0</td>\n    </tr>\n    <tr>\n      <th>...</th>\n      <td>...</td>\n      <td>...</td>\n      <td>...</td>\n      <td>...</td>\n      <td>...</td>\n      <td>...</td>\n      <td>...</td>\n      <td>...</td>\n      <td>...</td>\n      <td>...</td>\n      <td>...</td>\n      <td>...</td>\n      <td>...</td>\n      <td>...</td>\n      <td>...</td>\n      <td>...</td>\n      <td>...</td>\n    </tr>\n    <tr>\n      <th>22125</th>\n      <td>2019 Summer</td>\n      <td>4264306.0</td>\n      <td>Undergraduate</td>\n      <td>Design Innovation</td>\n      <td>Design Innovation</td>\n      <td>190</td>\n      <td>Primary</td>\n      <td>8</td>\n      <td>15779</td>\n      <td>15779.0</td>\n      <td>Spec Topics Des Inv</td>\n      <td>NaN</td>\n      <td>A</td>\n      <td>Letter Grade</td>\n      <td>A+</td>\n      <td>4.0</td>\n      <td>3.0</td>\n    </tr>\n    <tr>\n      <th>22126</th>\n      <td>2019 Summer</td>\n      <td>4264306.0</td>\n      <td>Undergraduate</td>\n      <td>Electrical Eng &amp; Computer Sci</td>\n      <td>Computer Science</td>\n      <td>C8</td>\n      <td>Primary</td>\n      <td>1</td>\n      <td>14720</td>\n      <td>25.0</td>\n      <td>Foundation Data Sci</td>\n      <td>NaN</td>\n      <td>A</td>\n      <td>Letter Grade</td>\n      <td>A</td>\n      <td>4.0</td>\n      <td>4.0</td>\n    </tr>\n    <tr>\n      <th>22572</th>\n      <td>2019 Summer</td>\n      <td>4265873.0</td>\n      <td>Undergraduate</td>\n      <td>Design Innovation</td>\n      <td>Design Innovation</td>\n      <td>190</td>\n      <td>Primary</td>\n      <td>7</td>\n      <td>11577</td>\n      <td>11577.0</td>\n      <td>Spec Topics Des Inv</td>\n      <td>NaN</td>\n      <td>B</td>\n      <td>Letter Grade</td>\n      <td>B</td>\n      <td>3.0</td>\n      <td>2.0</td>\n    </tr>\n    <tr>\n      <th>22573</th>\n      <td>2019 Summer</td>\n      <td>4265873.0</td>\n      <td>Undergraduate</td>\n      <td>Gender &amp; Womens Studies</td>\n      <td>Gender &amp; Womens Studies</td>\n      <td>111</td>\n      <td>Primary</td>\n      <td>2</td>\n      <td>14306</td>\n      <td>14306.0</td>\n      <td>Special Topics</td>\n      <td>NaN</td>\n      <td>A</td>\n      <td>Letter Grade</td>\n      <td>A</td>\n      <td>4.0</td>\n      <td>4.0</td>\n    </tr>\n    <tr>\n      <th>22697</th>\n      <td>2019 Summer</td>\n      <td>4266391.0</td>\n      <td>Undergraduate</td>\n      <td>Design Innovation</td>\n      <td>Design Innovation</td>\n      <td>22</td>\n      <td>Primary</td>\n      <td>1</td>\n      <td>14718</td>\n      <td>14718.0</td>\n      <td>Prototype &amp; Fab</td>\n      <td>NaN</td>\n      <td>B</td>\n      <td>Letter Grade</td>\n      <td>B</td>\n      <td>3.0</td>\n      <td>3.0</td>\n    </tr>\n  </tbody>\n</table>\n<p>19037 rows × 17 columns</p>\n</div>"
     },
     "metadata": {},
     "execution_count": 20
    }
   ],
   "source": [
    "student_passes"
   ]
  },
  {
   "cell_type": "code",
   "execution_count": 21,
   "metadata": {},
   "outputs": [
    {
     "output_type": "execute_result",
     "data": {
      "text/plain": [
       "Index(['year.name', 'ppsk', 'undergrad.status', 'course.department',\n",
       "       'course.subject', 'course.number', 'offering.type', 'section.number',\n",
       "       'ccn', 'room.share', 'course.title', 'instructor.name', 'grade.subtype',\n",
       "       'grade.type', 'grade.name', 'grade.points', 'student.credit.hours'],\n",
       "      dtype='object')"
      ]
     },
     "metadata": {},
     "execution_count": 21
    }
   ],
   "source": [
    "student_courses.columns"
   ]
  }
 ],
 "metadata": {
  "kernelspec": {
   "name": "python3",
   "display_name": "Python 3",
   "language": "python"
  },
  "language_info": {
   "codemirror_mode": {
    "name": "ipython",
    "version": 3
   },
   "file_extension": ".py",
   "mimetype": "text/x-python",
   "name": "python",
   "nbconvert_exporter": "python",
   "pygments_lexer": "ipython3",
   "version": "3.8.2-final"
  }
 },
 "nbformat": 4,
 "nbformat_minor": 2
}