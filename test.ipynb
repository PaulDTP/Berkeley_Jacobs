{
 "cells": [
  {
   "cell_type": "code",
   "execution_count": 2,
   "metadata": {},
   "outputs": [],
   "source": [
    "import pandas as pd\n",
    "import numpy as np\n",
    "import seaborn as sns\n",
    "import matplotlib.pyplot as plt\n",
    "import glob"
   ]
  },
  {
   "cell_type": "code",
   "execution_count": 3,
   "metadata": {},
   "outputs": [],
   "source": [
    "#majors2020 = pd.read_table(\"data/uc.berkeley.student.majors.2020.txt\")\n",
    "df = pd.DataFrame()\n",
    "files = glob.glob(\"data/*.txt\")\n",
    "course_data = glob.glob(\"data/uc.berkeley.student.course.data.*.txt\")\n",
    "majors = glob.glob(\"data/uc.berkeley.student.majors.*.txt\")\n",
    "pathways = glob.glob(\"data/uc.berkeley.stem.*.txt\")\n"
   ]
  },
  {
   "cell_type": "code",
   "execution_count": 10,
   "metadata": {},
   "outputs": [],
   "source": [
    "course_data.sort()\n",
    "student_courses = pd.DataFrame()\n",
    "for f in course_data:\n",
    "    student_courses = student_courses.append(pd.read_table(f))"
   ]
  },
  {
   "cell_type": "code",
   "execution_count": 33,
   "metadata": {},
   "outputs": [
    {
     "output_type": "error",
     "ename": "TypeError",
     "evalue": "ufunc 'invert' not supported for the input types, and the inputs could not be safely coerced to any supported types according to the casting rule ''safe''",
     "traceback": [
      "\u001b[0;31m---------------------------------------------------------------------------\u001b[0m",
      "\u001b[0;31mTypeError\u001b[0m                                 Traceback (most recent call last)",
      "\u001b[0;32m<ipython-input-33-6a3fab6ce513>\u001b[0m in \u001b[0;36m<module>\u001b[0;34m\u001b[0m\n\u001b[1;32m      1\u001b[0m \u001b[0mstudent_courses\u001b[0m \u001b[0;34m=\u001b[0m \u001b[0mstudent_courses\u001b[0m\u001b[0;34m[\u001b[0m\u001b[0;34m~\u001b[0m\u001b[0mstudent_courses\u001b[0m\u001b[0;34m[\u001b[0m\u001b[0;34m'ppsk'\u001b[0m\u001b[0;34m]\u001b[0m\u001b[0;34m.\u001b[0m\u001b[0misnull\u001b[0m\u001b[0;34m(\u001b[0m\u001b[0;34m)\u001b[0m\u001b[0;34m]\u001b[0m\u001b[0;34m\u001b[0m\u001b[0;34m\u001b[0m\u001b[0m\n\u001b[0;32m----> 2\u001b[0;31m \u001b[0mstudent_courses\u001b[0m \u001b[0;34m=\u001b[0m \u001b[0mstudent_courses\u001b[0m\u001b[0;34m[\u001b[0m\u001b[0;34m~\u001b[0m\u001b[0mstudent_courses\u001b[0m\u001b[0;34m[\u001b[0m\u001b[0;34m'ppsk'\u001b[0m\u001b[0;34m]\u001b[0m \u001b[0;34m==\u001b[0m \u001b[0;34m-\u001b[0m\u001b[0;36m1\u001b[0m\u001b[0;34m]\u001b[0m\u001b[0;34m\u001b[0m\u001b[0;34m\u001b[0m\u001b[0m\n\u001b[0m",
      "\u001b[0;32m~/Library/Python/3.8/lib/python/site-packages/pandas/core/generic.py\u001b[0m in \u001b[0;36m__invert__\u001b[0;34m(self)\u001b[0m\n\u001b[1;32m   1433\u001b[0m             \u001b[0;32mreturn\u001b[0m \u001b[0mself\u001b[0m\u001b[0;34m\u001b[0m\u001b[0;34m\u001b[0m\u001b[0m\n\u001b[1;32m   1434\u001b[0m \u001b[0;34m\u001b[0m\u001b[0m\n\u001b[0;32m-> 1435\u001b[0;31m         \u001b[0mnew_data\u001b[0m \u001b[0;34m=\u001b[0m \u001b[0mself\u001b[0m\u001b[0;34m.\u001b[0m\u001b[0m_mgr\u001b[0m\u001b[0;34m.\u001b[0m\u001b[0mapply\u001b[0m\u001b[0;34m(\u001b[0m\u001b[0moperator\u001b[0m\u001b[0;34m.\u001b[0m\u001b[0minvert\u001b[0m\u001b[0;34m)\u001b[0m\u001b[0;34m\u001b[0m\u001b[0;34m\u001b[0m\u001b[0m\n\u001b[0m\u001b[1;32m   1436\u001b[0m         \u001b[0mresult\u001b[0m \u001b[0;34m=\u001b[0m \u001b[0mself\u001b[0m\u001b[0;34m.\u001b[0m\u001b[0m_constructor\u001b[0m\u001b[0;34m(\u001b[0m\u001b[0mnew_data\u001b[0m\u001b[0;34m)\u001b[0m\u001b[0;34m.\u001b[0m\u001b[0m__finalize__\u001b[0m\u001b[0;34m(\u001b[0m\u001b[0mself\u001b[0m\u001b[0;34m,\u001b[0m \u001b[0mmethod\u001b[0m\u001b[0;34m=\u001b[0m\u001b[0;34m\"__invert__\"\u001b[0m\u001b[0;34m)\u001b[0m\u001b[0;34m\u001b[0m\u001b[0;34m\u001b[0m\u001b[0m\n\u001b[1;32m   1437\u001b[0m         \u001b[0;32mreturn\u001b[0m \u001b[0mresult\u001b[0m\u001b[0;34m\u001b[0m\u001b[0;34m\u001b[0m\u001b[0m\n",
      "\u001b[0;32m~/Library/Python/3.8/lib/python/site-packages/pandas/core/internals/managers.py\u001b[0m in \u001b[0;36mapply\u001b[0;34m(self, f, align_keys, ignore_failures, **kwargs)\u001b[0m\n\u001b[1;32m    423\u001b[0m             \u001b[0;32mtry\u001b[0m\u001b[0;34m:\u001b[0m\u001b[0;34m\u001b[0m\u001b[0;34m\u001b[0m\u001b[0m\n\u001b[1;32m    424\u001b[0m                 \u001b[0;32mif\u001b[0m \u001b[0mcallable\u001b[0m\u001b[0;34m(\u001b[0m\u001b[0mf\u001b[0m\u001b[0;34m)\u001b[0m\u001b[0;34m:\u001b[0m\u001b[0;34m\u001b[0m\u001b[0;34m\u001b[0m\u001b[0m\n\u001b[0;32m--> 425\u001b[0;31m                     \u001b[0mapplied\u001b[0m \u001b[0;34m=\u001b[0m \u001b[0mb\u001b[0m\u001b[0;34m.\u001b[0m\u001b[0mapply\u001b[0m\u001b[0;34m(\u001b[0m\u001b[0mf\u001b[0m\u001b[0;34m,\u001b[0m \u001b[0;34m**\u001b[0m\u001b[0mkwargs\u001b[0m\u001b[0;34m)\u001b[0m\u001b[0;34m\u001b[0m\u001b[0;34m\u001b[0m\u001b[0m\n\u001b[0m\u001b[1;32m    426\u001b[0m                 \u001b[0;32melse\u001b[0m\u001b[0;34m:\u001b[0m\u001b[0;34m\u001b[0m\u001b[0;34m\u001b[0m\u001b[0m\n\u001b[1;32m    427\u001b[0m                     \u001b[0mapplied\u001b[0m \u001b[0;34m=\u001b[0m \u001b[0mgetattr\u001b[0m\u001b[0;34m(\u001b[0m\u001b[0mb\u001b[0m\u001b[0;34m,\u001b[0m \u001b[0mf\u001b[0m\u001b[0;34m)\u001b[0m\u001b[0;34m(\u001b[0m\u001b[0;34m**\u001b[0m\u001b[0mkwargs\u001b[0m\u001b[0;34m)\u001b[0m\u001b[0;34m\u001b[0m\u001b[0;34m\u001b[0m\u001b[0m\n",
      "\u001b[0;32m~/Library/Python/3.8/lib/python/site-packages/pandas/core/internals/blocks.py\u001b[0m in \u001b[0;36mapply\u001b[0;34m(self, func, **kwargs)\u001b[0m\n\u001b[1;32m    376\u001b[0m         \"\"\"\n\u001b[1;32m    377\u001b[0m         \u001b[0;32mwith\u001b[0m \u001b[0mnp\u001b[0m\u001b[0;34m.\u001b[0m\u001b[0merrstate\u001b[0m\u001b[0;34m(\u001b[0m\u001b[0mall\u001b[0m\u001b[0;34m=\u001b[0m\u001b[0;34m\"ignore\"\u001b[0m\u001b[0;34m)\u001b[0m\u001b[0;34m:\u001b[0m\u001b[0;34m\u001b[0m\u001b[0;34m\u001b[0m\u001b[0m\n\u001b[0;32m--> 378\u001b[0;31m             \u001b[0mresult\u001b[0m \u001b[0;34m=\u001b[0m \u001b[0mfunc\u001b[0m\u001b[0;34m(\u001b[0m\u001b[0mself\u001b[0m\u001b[0;34m.\u001b[0m\u001b[0mvalues\u001b[0m\u001b[0;34m,\u001b[0m \u001b[0;34m**\u001b[0m\u001b[0mkwargs\u001b[0m\u001b[0;34m)\u001b[0m\u001b[0;34m\u001b[0m\u001b[0;34m\u001b[0m\u001b[0m\n\u001b[0m\u001b[1;32m    379\u001b[0m \u001b[0;34m\u001b[0m\u001b[0m\n\u001b[1;32m    380\u001b[0m         \u001b[0;32mreturn\u001b[0m \u001b[0mself\u001b[0m\u001b[0;34m.\u001b[0m\u001b[0m_split_op_result\u001b[0m\u001b[0;34m(\u001b[0m\u001b[0mresult\u001b[0m\u001b[0;34m)\u001b[0m\u001b[0;34m\u001b[0m\u001b[0;34m\u001b[0m\u001b[0m\n",
      "\u001b[0;31mTypeError\u001b[0m: ufunc 'invert' not supported for the input types, and the inputs could not be safely coerced to any supported types according to the casting rule ''safe''"
     ]
    }
   ],
   "source": [
    "student_courses = student_courses[~student_courses['ppsk'].isnull()]\n",
    "student_courses = student_courses[student_courses['ppsk'] != -1]"
   ]
  },
  {
   "cell_type": "code",
   "execution_count": 32,
   "metadata": {},
   "outputs": [
    {
     "output_type": "execute_result",
     "data": {
      "text/plain": [
       "          year.name  ppsk undergrad.status             course.department  \\\n",
       "0       2007 Summer  -1.0         Graduate                  Anthropology   \n",
       "1       2007 Summer  -1.0         Graduate                  Anthropology   \n",
       "2       2007 Summer  -1.0         Graduate     Buddhist Studies Grad Grp   \n",
       "3       2007 Summer  -1.0         Graduate                      Business   \n",
       "4       2007 Summer  -1.0         Graduate                      Business   \n",
       "...             ...   ...              ...                           ...   \n",
       "372773  2008 Summer  -1.0    Undergraduate                    Statistics   \n",
       "372774  2008 Summer  -1.0    Undergraduate                    Statistics   \n",
       "372775  2008 Summer  -1.0    Undergraduate                    Statistics   \n",
       "372776  2008 Summer  -1.0    Undergraduate  UG Interdisciplinary Studies   \n",
       "372777  2008 Summer  -1.0    Undergraduate  UG Interdisciplinary Studies   \n",
       "\n",
       "                  course.subject course.number offering.type section.number  \\\n",
       "0                   Anthropology           3AC       Primary              1   \n",
       "1                   Anthropology          136B       Primary              1   \n",
       "2               Buddhist Studies           C50       Primary              1   \n",
       "3       Business Admin-Undergrad          102A       Primary              5   \n",
       "4       Business Admin-Undergrad           106       Primary              4   \n",
       "...                          ...           ...           ...            ...   \n",
       "372773                Statistics             2     Secondary            103   \n",
       "372774                Statistics            20     Secondary            102   \n",
       "372775                Statistics            21     Secondary            101   \n",
       "372776          American Studies         179AC     Secondary            101   \n",
       "372777             Media Studies           N10     Secondary            101   \n",
       "\n",
       "          ccn  room.share  ... Section Nbr Course Control Nbr  \\\n",
       "0       12030     12030.0  ...         NaN                NaN   \n",
       "1       12120     12120.0  ...         NaN                NaN   \n",
       "2       18905    200018.0  ...         NaN                NaN   \n",
       "3       20150     20150.0  ...         NaN                NaN   \n",
       "4       20235     20235.0  ...         NaN                NaN   \n",
       "...       ...         ...  ...         ...                ...   \n",
       "372773  83540     83540.0  ...         NaN                NaN   \n",
       "372774  83560     83560.0  ...         NaN                NaN   \n",
       "372775  83570     83570.0  ...         NaN                NaN   \n",
       "372776  11309     11309.0  ...         NaN                NaN   \n",
       "372777  59810     59810.0  ...         NaN                NaN   \n",
       "\n",
       "       Room Share Bundle Nbr Course Title Nm Instr Name Concat  \\\n",
       "0                        NaN             NaN               NaN   \n",
       "1                        NaN             NaN               NaN   \n",
       "2                        NaN             NaN               NaN   \n",
       "3                        NaN             NaN               NaN   \n",
       "4                        NaN             NaN               NaN   \n",
       "...                      ...             ...               ...   \n",
       "372773                   NaN             NaN               NaN   \n",
       "372774                   NaN             NaN               NaN   \n",
       "372775                   NaN             NaN               NaN   \n",
       "372776                   NaN             NaN               NaN   \n",
       "372777                   NaN             NaN               NaN   \n",
       "\n",
       "        Grade Subtype Desc  Grade Type Desc Grade Nm  Grade Points Nbr  \\\n",
       "0                      NaN              NaN      NaN               NaN   \n",
       "1                      NaN              NaN      NaN               NaN   \n",
       "2                      NaN              NaN      NaN               NaN   \n",
       "3                      NaN              NaN      NaN               NaN   \n",
       "4                      NaN              NaN      NaN               NaN   \n",
       "...                    ...              ...      ...               ...   \n",
       "372773                 NaN              NaN      NaN               NaN   \n",
       "372774                 NaN              NaN      NaN               NaN   \n",
       "372775                 NaN              NaN      NaN               NaN   \n",
       "372776                 NaN              NaN      NaN               NaN   \n",
       "372777                 NaN              NaN      NaN               NaN   \n",
       "\n",
       "       Student Credit Hrs Nbr  \n",
       "0                         NaN  \n",
       "1                         NaN  \n",
       "2                         NaN  \n",
       "3                         NaN  \n",
       "4                         NaN  \n",
       "...                       ...  \n",
       "372773                    NaN  \n",
       "372774                    NaN  \n",
       "372775                    NaN  \n",
       "372776                    NaN  \n",
       "372777                    NaN  \n",
       "\n",
       "[4845 rows x 34 columns]"
      ],
      "text/html": "<div>\n<style scoped>\n    .dataframe tbody tr th:only-of-type {\n        vertical-align: middle;\n    }\n\n    .dataframe tbody tr th {\n        vertical-align: top;\n    }\n\n    .dataframe thead th {\n        text-align: right;\n    }\n</style>\n<table border=\"1\" class=\"dataframe\">\n  <thead>\n    <tr style=\"text-align: right;\">\n      <th></th>\n      <th>year.name</th>\n      <th>ppsk</th>\n      <th>undergrad.status</th>\n      <th>course.department</th>\n      <th>course.subject</th>\n      <th>course.number</th>\n      <th>offering.type</th>\n      <th>section.number</th>\n      <th>ccn</th>\n      <th>room.share</th>\n      <th>...</th>\n      <th>Section Nbr</th>\n      <th>Course Control Nbr</th>\n      <th>Room Share Bundle Nbr</th>\n      <th>Course Title Nm</th>\n      <th>Instr Name Concat</th>\n      <th>Grade Subtype Desc</th>\n      <th>Grade Type Desc</th>\n      <th>Grade Nm</th>\n      <th>Grade Points Nbr</th>\n      <th>Student Credit Hrs Nbr</th>\n    </tr>\n  </thead>\n  <tbody>\n    <tr>\n      <th>0</th>\n      <td>2007 Summer</td>\n      <td>-1.0</td>\n      <td>Graduate</td>\n      <td>Anthropology</td>\n      <td>Anthropology</td>\n      <td>3AC</td>\n      <td>Primary</td>\n      <td>1</td>\n      <td>12030</td>\n      <td>12030.0</td>\n      <td>...</td>\n      <td>NaN</td>\n      <td>NaN</td>\n      <td>NaN</td>\n      <td>NaN</td>\n      <td>NaN</td>\n      <td>NaN</td>\n      <td>NaN</td>\n      <td>NaN</td>\n      <td>NaN</td>\n      <td>NaN</td>\n    </tr>\n    <tr>\n      <th>1</th>\n      <td>2007 Summer</td>\n      <td>-1.0</td>\n      <td>Graduate</td>\n      <td>Anthropology</td>\n      <td>Anthropology</td>\n      <td>136B</td>\n      <td>Primary</td>\n      <td>1</td>\n      <td>12120</td>\n      <td>12120.0</td>\n      <td>...</td>\n      <td>NaN</td>\n      <td>NaN</td>\n      <td>NaN</td>\n      <td>NaN</td>\n      <td>NaN</td>\n      <td>NaN</td>\n      <td>NaN</td>\n      <td>NaN</td>\n      <td>NaN</td>\n      <td>NaN</td>\n    </tr>\n    <tr>\n      <th>2</th>\n      <td>2007 Summer</td>\n      <td>-1.0</td>\n      <td>Graduate</td>\n      <td>Buddhist Studies Grad Grp</td>\n      <td>Buddhist Studies</td>\n      <td>C50</td>\n      <td>Primary</td>\n      <td>1</td>\n      <td>18905</td>\n      <td>200018.0</td>\n      <td>...</td>\n      <td>NaN</td>\n      <td>NaN</td>\n      <td>NaN</td>\n      <td>NaN</td>\n      <td>NaN</td>\n      <td>NaN</td>\n      <td>NaN</td>\n      <td>NaN</td>\n      <td>NaN</td>\n      <td>NaN</td>\n    </tr>\n    <tr>\n      <th>3</th>\n      <td>2007 Summer</td>\n      <td>-1.0</td>\n      <td>Graduate</td>\n      <td>Business</td>\n      <td>Business Admin-Undergrad</td>\n      <td>102A</td>\n      <td>Primary</td>\n      <td>5</td>\n      <td>20150</td>\n      <td>20150.0</td>\n      <td>...</td>\n      <td>NaN</td>\n      <td>NaN</td>\n      <td>NaN</td>\n      <td>NaN</td>\n      <td>NaN</td>\n      <td>NaN</td>\n      <td>NaN</td>\n      <td>NaN</td>\n      <td>NaN</td>\n      <td>NaN</td>\n    </tr>\n    <tr>\n      <th>4</th>\n      <td>2007 Summer</td>\n      <td>-1.0</td>\n      <td>Graduate</td>\n      <td>Business</td>\n      <td>Business Admin-Undergrad</td>\n      <td>106</td>\n      <td>Primary</td>\n      <td>4</td>\n      <td>20235</td>\n      <td>20235.0</td>\n      <td>...</td>\n      <td>NaN</td>\n      <td>NaN</td>\n      <td>NaN</td>\n      <td>NaN</td>\n      <td>NaN</td>\n      <td>NaN</td>\n      <td>NaN</td>\n      <td>NaN</td>\n      <td>NaN</td>\n      <td>NaN</td>\n    </tr>\n    <tr>\n      <th>...</th>\n      <td>...</td>\n      <td>...</td>\n      <td>...</td>\n      <td>...</td>\n      <td>...</td>\n      <td>...</td>\n      <td>...</td>\n      <td>...</td>\n      <td>...</td>\n      <td>...</td>\n      <td>...</td>\n      <td>...</td>\n      <td>...</td>\n      <td>...</td>\n      <td>...</td>\n      <td>...</td>\n      <td>...</td>\n      <td>...</td>\n      <td>...</td>\n      <td>...</td>\n      <td>...</td>\n    </tr>\n    <tr>\n      <th>372773</th>\n      <td>2008 Summer</td>\n      <td>-1.0</td>\n      <td>Undergraduate</td>\n      <td>Statistics</td>\n      <td>Statistics</td>\n      <td>2</td>\n      <td>Secondary</td>\n      <td>103</td>\n      <td>83540</td>\n      <td>83540.0</td>\n      <td>...</td>\n      <td>NaN</td>\n      <td>NaN</td>\n      <td>NaN</td>\n      <td>NaN</td>\n      <td>NaN</td>\n      <td>NaN</td>\n      <td>NaN</td>\n      <td>NaN</td>\n      <td>NaN</td>\n      <td>NaN</td>\n    </tr>\n    <tr>\n      <th>372774</th>\n      <td>2008 Summer</td>\n      <td>-1.0</td>\n      <td>Undergraduate</td>\n      <td>Statistics</td>\n      <td>Statistics</td>\n      <td>20</td>\n      <td>Secondary</td>\n      <td>102</td>\n      <td>83560</td>\n      <td>83560.0</td>\n      <td>...</td>\n      <td>NaN</td>\n      <td>NaN</td>\n      <td>NaN</td>\n      <td>NaN</td>\n      <td>NaN</td>\n      <td>NaN</td>\n      <td>NaN</td>\n      <td>NaN</td>\n      <td>NaN</td>\n      <td>NaN</td>\n    </tr>\n    <tr>\n      <th>372775</th>\n      <td>2008 Summer</td>\n      <td>-1.0</td>\n      <td>Undergraduate</td>\n      <td>Statistics</td>\n      <td>Statistics</td>\n      <td>21</td>\n      <td>Secondary</td>\n      <td>101</td>\n      <td>83570</td>\n      <td>83570.0</td>\n      <td>...</td>\n      <td>NaN</td>\n      <td>NaN</td>\n      <td>NaN</td>\n      <td>NaN</td>\n      <td>NaN</td>\n      <td>NaN</td>\n      <td>NaN</td>\n      <td>NaN</td>\n      <td>NaN</td>\n      <td>NaN</td>\n    </tr>\n    <tr>\n      <th>372776</th>\n      <td>2008 Summer</td>\n      <td>-1.0</td>\n      <td>Undergraduate</td>\n      <td>UG Interdisciplinary Studies</td>\n      <td>American Studies</td>\n      <td>179AC</td>\n      <td>Secondary</td>\n      <td>101</td>\n      <td>11309</td>\n      <td>11309.0</td>\n      <td>...</td>\n      <td>NaN</td>\n      <td>NaN</td>\n      <td>NaN</td>\n      <td>NaN</td>\n      <td>NaN</td>\n      <td>NaN</td>\n      <td>NaN</td>\n      <td>NaN</td>\n      <td>NaN</td>\n      <td>NaN</td>\n    </tr>\n    <tr>\n      <th>372777</th>\n      <td>2008 Summer</td>\n      <td>-1.0</td>\n      <td>Undergraduate</td>\n      <td>UG Interdisciplinary Studies</td>\n      <td>Media Studies</td>\n      <td>N10</td>\n      <td>Secondary</td>\n      <td>101</td>\n      <td>59810</td>\n      <td>59810.0</td>\n      <td>...</td>\n      <td>NaN</td>\n      <td>NaN</td>\n      <td>NaN</td>\n      <td>NaN</td>\n      <td>NaN</td>\n      <td>NaN</td>\n      <td>NaN</td>\n      <td>NaN</td>\n      <td>NaN</td>\n      <td>NaN</td>\n    </tr>\n  </tbody>\n</table>\n<p>4845 rows × 34 columns</p>\n</div>"
     },
     "metadata": {},
     "execution_count": 32
    }
   ],
   "source": [
    "student_courses"
   ]
  },
  {
   "cell_type": "code",
   "execution_count": 25,
   "metadata": {},
   "outputs": [
    {
     "output_type": "stream",
     "name": "stdout",
     "text": [
      "['-' 'African American Studies' 'Ag & Env Chem Grad Grp'\n 'Ag & Resource Econ & Pol' 'Anc Hist Med Arc Grad Grp' 'Anthropology'\n 'Applied Sci & Tech Grad Grp' 'Architecture' 'Art Practice' 'Astronomy'\n 'Bioengineering' 'Biophysics Grad Grp' 'Buddhist Studies Grad Grp'\n 'Business' 'Chem & Biomolecular Eng' 'Chemistry'\n 'City & Regional Planning' 'Civil & Environmental Eng' 'Classics'\n 'College Writing Programs' 'Comparative Biochem Grad Grp'\n 'Comparative Literature' 'Computational Biology Grad Grp'\n 'Critical Theory Grad Grp' 'Data Science' 'Demography'\n 'Design Innovation' 'Development Eng Grad Grp'\n 'Development Practice Grad Grp' 'Earth & Planetary Science'\n 'East Asian Lang & Culture' 'Economics' 'Education'\n 'Electrical Eng & Computer Sci' 'Energy & Resources Grad Grp'\n 'Engineering Science' 'English' 'Env Sci, Policy, & Mgmt'\n 'Ethnic Studies' 'European Studies Grad Grp'\n 'FPF-African American Studies' 'FPF-Anthropology' 'FPF-Art Practice'\n 'FPF-Astronomy' 'FPF-Chemistry' 'FPF-Classics'\n 'FPF-College Writing Program' 'FPF-Comparative Literature'\n 'FPF-Earth & Planetary Science' 'FPF-English'\n 'FPF-Env Sci, Policy, & Mgmt' 'FPF-Ethnic Studies' 'FPF-Film & Media'\n 'FPF-Gender & Womens Studies' 'FPF-Geography' 'FPF-History'\n 'FPF-History of Art' 'FPF-IAS Teaching Program' 'FPF-Integrative Biology'\n 'FPF-Interdisc Social Sci Pgms' 'FPF-Legal Studies'\n 'FPF-Letters & Science' 'FPF-Linguistics' 'FPF-Mathematics'\n 'FPF-Molecular & Cell Biology' 'FPF-Music' 'FPF-Philosophy'\n 'FPF-Political Science' 'FPF-Psychology' 'FPF-Rhetoric' 'FPF-Sociology'\n 'FPF-Statistics' 'Film and Media' 'Folklore Grad Grp' 'French'\n 'Gender & Womens Studies' 'Geography' 'German'\n 'Global Metro Std Grad Grp' 'Health & Medical Sci Grad Grp' 'History'\n 'History of Art' 'Industrial Eng & Ops Research' 'Information'\n 'Integrative Biology' 'Interdisc Social Science Pgms' 'Italian Studies'\n 'Jewish Studies Program' 'Journalism' 'Landscape Arch & Env Plan' 'Law'\n 'Linguistics' 'Materials Science & Eng' 'Mathematics'\n 'Mechanical Engineering' 'Medieval Studies Program'\n 'Military Affairs Program' 'Molecular & Cell Biology' 'Music'\n 'Nano Sci & Eng Grad Grp' 'Near Eastern Studies'\n 'Neuroscience Graduate Program' 'New Media Grad Grp'\n 'Nuclear Engineering' 'Nutritional Sciences & Tox' 'Optometry'\n 'Other Arts & Humanities Pgms' 'Other Bio Sciences Pgms'\n 'Other Clg of Natural Res Pgms' 'Other EVCP Programs' 'Philosophy'\n 'Physical Education' 'Physics' 'Plant & Microbial Biology'\n 'Political Science' 'Psychology' 'Public Health' 'Public Policy'\n 'Rhetoric' 'Scandinavian' 'Sci & Tech Stds Grad Grp'\n 'Science & Math Educ Grad Grp' 'Slavic Languages & Literatures'\n 'Social Welfare' 'Sociology' 'South & SE Asian Studies'\n 'Spanish & Portuguese' 'Statistics' 'Theater Dance & Perf Stds'\n 'UG Interdisciplinary Studies' 'Vision Science Grad Grp']\n"
     ]
    }
   ],
   "source": [
    "print(np.sort(student_courses['course.department'].unique()))"
   ]
  }
 ],
 "metadata": {
  "kernelspec": {
   "name": "python3",
   "display_name": "Python 3.8.2 64-bit",
   "metadata": {
    "interpreter": {
     "hash": "31f2aee4e71d21fbe5cf8b01ff0e069b9275f58929596ceb00d14d90e3e16cd6"
    }
   }
  },
  "language_info": {
   "codemirror_mode": {
    "name": "ipython",
    "version": 3
   },
   "file_extension": ".py",
   "mimetype": "text/x-python",
   "name": "python",
   "nbconvert_exporter": "python",
   "pygments_lexer": "ipython3",
   "version": "3.8.2-final"
  }
 },
 "nbformat": 4,
 "nbformat_minor": 2
}